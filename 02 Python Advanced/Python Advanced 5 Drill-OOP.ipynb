{
 "cells": [
  {
   "cell_type": "markdown",
   "metadata": {},
   "source": [
    "# Drill - OOP"
   ]
  },
  {
   "cell_type": "markdown",
   "metadata": {},
   "source": [
    "## Exercise 01 - Dog Inheritance\n",
    "Create a Pets class that holds instances of dogs; this class is completely separate from the Dog class. In other words, the Dog class does not inherit from the Pets class. Then assign three dog instances to an instance of the Pets class. Start with the following code below. Save the file as pets_class.py. Your output should look like this:\n",
    "````\n",
    "I have 3 dogs. \n",
    "Tom is 6. \n",
    "Fletcher is 7. \n",
    "Larry is 9. \n",
    "And they're all mammals, of course.\n",
    "````"
   ]
  },
  {
   "cell_type": "code",
   "execution_count": 3,
   "metadata": {},
   "outputs": [],
   "source": [
    "# Parent class\n",
    "class Dog:\n",
    "\n",
    "    # Class attribute\n",
    "    species = 'mammal'\n",
    "\n",
    "    # Initializer / Instance attributes\n",
    "    def __init__(self, name, age):\n",
    "        self.name = name\n",
    "        self.age = age\n",
    "\n",
    "    # instance method\n",
    "    def description(self):\n",
    "        return \"{} is {} years old\".format(self.name, self.age)\n",
    "\n",
    "    # instance method\n",
    "    def speak(self, sound):\n",
    "        return \"{} says {}\".format(self.name, sound)\n",
    "\n",
    "# Child class (inherits from Dog class)\n",
    "class RussellTerrier(Dog):\n",
    "    def run(self, speed):\n",
    "        return \"{} runs {}\".format(self.name, speed)\n",
    "\n",
    "# Child class (inherits from Dog class)\n",
    "class Bulldog(Dog):\n",
    "    def run(self, speed):\n",
    "        return \"{} runs {}\".format(self.name, speed)"
   ]
  },
  {
   "cell_type": "markdown",
   "metadata": {},
   "source": [
    "### Solution"
   ]
  },
  {
   "cell_type": "code",
   "execution_count": 2,
   "metadata": {},
   "outputs": [
    {
     "name": "stdout",
     "output_type": "stream",
     "text": [
      "I have 3 dogs.\n",
      "Tom is 6 years old\n",
      "Fletcher is 7 years old\n",
      "Larry is 9 years old\n",
      "They are all mammal\n"
     ]
    }
   ],
   "source": [
    "class Dog:\n",
    "\n",
    "    # Class attribute\n",
    "  species = 'mammal'\n",
    "\n",
    "    # Initializer / Instance attributes\n",
    "  def __init__(self, name, age):\n",
    "    self.name = name\n",
    "    self.age = age\n",
    "\n",
    "    # instance method\n",
    "  def description(self):\n",
    "    return \"{} is {} years old\".format(self.name, self.age)\n",
    "\n",
    "    # instance method\n",
    "  def speak(self, sound):\n",
    "    return \"{} says {}\".format(self.name, sound)\n",
    "\n",
    "class Pets():\n",
    "    # Class attribute\n",
    "  species = 'mammal'\n",
    "  #list = []\n",
    "\n",
    "    # Initializer / Instance attributes\n",
    "  def __init__(self, list):\n",
    "    self.list = list\n",
    "    \n",
    "    # instance method\n",
    "  def description(self):\n",
    "    print(\"I have \" + str(len(self.list)) + \" dogs.\")\n",
    "    for item in self.list:\n",
    "      print(item.description()) #refers to dog.description()\n",
    "    print(\"They are all \" + Pets.species)\n",
    "\n",
    "\n",
    "\n",
    "d1= Dog(\"Tom\",6)\n",
    "d2= Dog(\"Fletcher\",7)\n",
    "d3= Dog(\"Larry\",9)\n",
    "colPet = Pets([d1,d2,d3])\n",
    "colPet.description()"
   ]
  },
  {
   "cell_type": "markdown",
   "metadata": {},
   "source": [
    "## Exercise 02 - Hungry Dogs\n",
    "Using the same file, add an instance attribute of is_hungry = True to the Dog class. Then add a method called eat() which changes the value of is_hungry to False when called. Figure out the best way to feed each dog and then output “My dogs are hungry.” if all are hungry or “My dogs are not hungry.” if all are not hungry. The final output should look like this:\n",
    "````\n",
    "I have 3 dogs. \n",
    "Tom is 6. \n",
    "Fletcher is 7. \n",
    "Larry is 9. \n",
    "And they're all mammals, of course. \n",
    "My dogs are not hungry.\n",
    "````\n"
   ]
  },
  {
   "cell_type": "markdown",
   "metadata": {},
   "source": [
    "### Solution"
   ]
  },
  {
   "cell_type": "code",
   "execution_count": 4,
   "metadata": {},
   "outputs": [
    {
     "name": "stdout",
     "output_type": "stream",
     "text": [
      "I have 3 dogs.\n",
      "Tom is 6 years old\n",
      "Fletcher is 7 years old\n",
      "Larry is 9 years old\n",
      "They are all mammals, of course\n",
      "My dogs are not hungry\n"
     ]
    }
   ],
   "source": [
    "class Dog:\n",
    "\n",
    "    # Class attribute\n",
    "  species = 'mammal'\n",
    "  is_Hungry = True\n",
    "\n",
    "    # Initializer / Instance attributes\n",
    "  def __init__(self, name, age):\n",
    "    self.name = name\n",
    "    self.age = age\n",
    "\n",
    "    # instance method\n",
    "  def description(self): #added is_Hungry to dog.description() as well\n",
    "    #return \"{} is {} years old and hungry is {}\".format(self.name, self.age,self.is_Hungry)\n",
    "    return \"{} is {} years old\".format(self.name, self.age)\n",
    "\n",
    "    # instance method\n",
    "  def speak(self, sound):\n",
    "    return \"{} says {}\".format(self.name, sound)\n",
    "\n",
    "  def eat(self):\n",
    "    self.is_Hungry = False\n",
    "\n",
    "class Pets():#Dog between () ?\n",
    "    # Class attribute\n",
    "  species = 'mammal'\n",
    "  #list = []\n",
    "\n",
    "    # Initializer / Instance attributes\n",
    "  def __init__(self, list):\n",
    "    self.list = list\n",
    "    \n",
    "    # instance method: added the last conditional to see if they all hungry, not hungry or some are, some aren't\n",
    "  def description(self):\n",
    "    print(\"I have \" + str(len(self.list)) + \" dogs.\")\n",
    "    for item in self.list:\n",
    "      print(item.description())\n",
    "    print(\"They are all \" + Pets.species + \"s, of course\")\n",
    "    if all(item.is_Hungry==True for item in self.list):\n",
    "      print(\"My dogs are hungry\")\n",
    "    elif all(item.is_Hungry==False for item in self.list):\n",
    "      print(\"My dogs are not hungry\")\n",
    "    else :\n",
    "      print(\"Some of my dogs are and some are not hungry\")\n",
    "\n",
    "\n",
    "d1= Dog(\"Tom\",6)\n",
    "d2= Dog(\"Fletcher\",7)\n",
    "d3= Dog(\"Larry\",9)\n",
    "colPet = Pets([d1,d2,d3])\n",
    "d1.eat()\n",
    "d2.eat()\n",
    "d3.eat()\n",
    "colPet.description()"
   ]
  },
  {
   "cell_type": "markdown",
   "metadata": {},
   "source": [
    "## Exercise 03 - Dog Walking\n",
    "Next, add a walk() method to both the Pets and Dog classes so that when you call the method on the Pets class, each dog instance assigned to the Pets class will walk(). Save this as dog_walking.py. This is slightly more difficult.\n",
    "\n",
    "Start by implementing the method in the same manner as the speak() method. As for the method in the Pets class, you will need to iterate through the list of dogs, then call the method itself.\n",
    "\n",
    "The output should look like this:\n",
    "\n",
    "````\n",
    "Tom is walking!\n",
    "Fletcher is walking!\n",
    "Larry is walking!\n",
    "````"
   ]
  },
  {
   "cell_type": "markdown",
   "metadata": {},
   "source": [
    "### Solution"
   ]
  },
  {
   "cell_type": "code",
   "execution_count": 5,
   "metadata": {},
   "outputs": [
    {
     "name": "stdout",
     "output_type": "stream",
     "text": [
      "I have 3 dogs.\n",
      "Tom is 6 years old\n",
      "Fletcher is 7 years old\n",
      "Larry is 9 years old\n",
      "They are all mammals, of course\n",
      "Some of my dogs are and some are not hungry\n",
      "Tom is walking.\n",
      "Fletcher is walking.\n",
      "Larry is walking.\n"
     ]
    }
   ],
   "source": [
    "class Dog:\n",
    "\n",
    "    # Class attribute\n",
    "  species = 'mammal'\n",
    "  is_Hungry = True\n",
    "\n",
    "    # Initializer / Instance attributes\n",
    "  def __init__(self, name, age):\n",
    "    self.name = name\n",
    "    self.age = age\n",
    "\n",
    "    # instance method\n",
    "  def description(self): #added is_Hungry to dog.description() as well\n",
    "    #return \"{} is {} years old and hungry is {}\".format(self.name, self.age,self.is_Hungry)\n",
    "    return \"{} is {} years old\".format(self.name, self.age)\n",
    "\n",
    "    # instance method\n",
    "  def speak(self, sound):\n",
    "    return \"{} says {}\".format(self.name, sound)\n",
    "\n",
    "  def eat(self):\n",
    "    self.is_Hungry = False\n",
    "\n",
    "  def walk(self): #added walk for EX3\n",
    "    return \"{} is walking.\".format(self.name)\n",
    "\n",
    "class Pets():\n",
    "    # Class attribute\n",
    "  species = 'mammal'\n",
    "  #list = []\n",
    "\n",
    "    # Initializer / Instance attributes\n",
    "  def __init__(self, list):\n",
    "    self.list = list\n",
    "    \n",
    "    # instance method\n",
    "  def description(self):\n",
    "    print(\"I have \" + str(len(self.list)) + \" dogs.\")\n",
    "    for item in self.list:\n",
    "      print(item.description())\n",
    "    print(\"They are all \" + Pets.species + \"s, of course\")\n",
    "    if all(item.is_Hungry==True for item in self.list):\n",
    "      print(\"My dogs are hungry\")\n",
    "    elif all(item.is_Hungry==False for item in self.list):\n",
    "      print(\"My dogs are not hungry\")\n",
    "    else :\n",
    "      print(\"Some of my dogs are and some are not hungry\")\n",
    "  \n",
    "  def walk(self): # added EX3, now all dogs can walk, refers to dog.walk()\n",
    "    for item in self.list:\n",
    "      print(item.walk())\n",
    "\n",
    "\n",
    "d1= Dog(\"Tom\",6)\n",
    "d2= Dog(\"Fletcher\",7)\n",
    "d3= Dog(\"Larry\",9)\n",
    "colPet = Pets([d1,d2,d3])\n",
    "d3.eat()\n",
    "colPet.description()\n",
    "#print(d3.walk())\n",
    "colPet.walk()"
   ]
  },
  {
   "cell_type": "markdown",
   "metadata": {},
   "source": [
    "## Exercise 04 - Comprehension Check \n",
    "Answer the following questions about OOP to check your learning progress:\n",
    "\n",
    "1. What’s a class?\n",
    "1. What’s an instance?\n",
    "1. What’s the relationship between a class and an instance?\n",
    "1. What’s the Python syntax used for defining a new class?\n",
    "1. What’s the spelling convention for a class name?\n",
    "1. How do you instantiate, or create an instance of, a class?\n",
    "1. How do you access the attributes and behaviors of a class instance?\n",
    "1. What’s a method?\n",
    "1. What’s the purpose of self?\n",
    "1. What’s the purpose of the __init__ method?\n",
    "1. Describe how inheritance helps prevent code duplication.\n",
    "1. Can child classes override properties of their parents?"
   ]
  },
  {
   "cell_type": "markdown",
   "metadata": {},
   "source": [
    "#### Answers\n",
    "\n",
    "1. Objects belong to classes. Classes have methiods, spcecific class functions and attributes, specific class variables.\n",
    "2. An instance is an instance of class. Class : Car, redspider.Car(), redspider is an object of class Car.\n",
    "3. see above\n",
    "4 .Class 'Name':\n",
    "5. Capital first letter\n",
    "6. respider.car(red,fast) \n",
    "8. A function specific to a class\n",
    "9. In the class refer to attributes of the same class by using 'self'.\n",
    "10. Initialise a certain number of attributes\n",
    "11. ou can call on methods and objects, defined/coded/typed in parents, so less coding required.\n",
    "12. No"
   ]
  },
  {
   "cell_type": "code",
   "execution_count": null,
   "metadata": {},
   "outputs": [],
   "source": []
  }
 ],
 "metadata": {
  "kernelspec": {
   "display_name": "pybase",
   "language": "python",
   "name": "pybase"
  },
  "language_info": {
   "codemirror_mode": {
    "name": "ipython",
    "version": 3
   },
   "file_extension": ".py",
   "mimetype": "text/x-python",
   "name": "python",
   "nbconvert_exporter": "python",
   "pygments_lexer": "ipython3",
   "version": "3.8.5"
  }
 },
 "nbformat": 4,
 "nbformat_minor": 2
}
