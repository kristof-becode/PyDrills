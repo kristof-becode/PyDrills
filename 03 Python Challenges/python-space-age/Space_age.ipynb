{
 "cells": [
  {
   "cell_type": "markdown",
   "metadata": {},
   "source": [
    "##  Space age"
   ]
  },
  {
   "cell_type": "markdown",
   "metadata": {},
   "source": [
    "Given an age in seconds, calculate how old someone would be on:\n",
    "\n",
    "   - Earth: orbital period 365.25 Earth days, or 31557600 seconds\n",
    "   - Mercury: orbital period 0.2408467 Earth years\n",
    "   - Venus: orbital period 0.61519726 Earth years\n",
    "   - Mars: orbital period 1.8808158 Earth years\n",
    "   - Jupiter: orbital period 11.862615 Earth years\n",
    "   - Saturn: orbital period 29.447498 Earth years\n",
    "   - Uranus: orbital period 84.016846 Earth years\n",
    "   - Neptune: orbital period 164.79132 Earth years\n",
    "\n",
    "So if you were told someone were 1,000,000,000 seconds old, you should\n",
    "be able to say that they're 31 Earth-years old."
   ]
  },
  {
   "cell_type": "markdown",
   "metadata": {},
   "source": [
    "### Algorithm"
   ]
  },
  {
   "cell_type": "code",
   "execution_count": 13,
   "metadata": {},
   "outputs": [
    {
     "name": "stdout",
     "output_type": "stream",
     "text": [
      "You're 31.69 years old on earth.\n",
      "You're 131.57 years old on mercury.\n",
      "You're 9.78 years old on venus.\n",
      "You're 280.88 years old on mercury.\n",
      "You're 39.25 years old on mars.\n",
      "You're 3.23 years old on saturn.\n"
     ]
    }
   ],
   "source": [
    "def space(sec:int, plan:str)->float:\n",
    "    # dict with planet orbital periods in earth years \n",
    "    plan_year = {\n",
    "        'earth' : 1,\n",
    "        'mercury' : 0.2408467,\n",
    "        'venus'  : 0.61519726 ,\n",
    "        'mars' : 1.8808158,\n",
    "        'jupiter' : 11.862615,\n",
    "        'saturn' : 29.447498,\n",
    "        'uranus' : 84.016846,\n",
    "        'neptune' : 164.79132\n",
    "    }\n",
    "    # one earth year in seconds\n",
    "    sec_earthyear = 31557600\n",
    "    # divide number of earth years by planet orbit time in earth years to find age in years on that planet\n",
    "    p_y = (sec / sec_earthyear) / plan_year[plan]\n",
    "    print(f\"You're {round(p_y,2)} years old on {plan}.\")\n",
    " \n",
    "space(1000000000, 'earth') # 31\n",
    "space(1000000000, 'mercury') # ~31 * 4 or ~31 / (1/4) , you should be 4 times older on Mercury\n",
    "space(189839836, 'venus') # 9.78\n",
    "space(2134835688, 'mercury') # 280.88\n",
    "space(2329871239, 'mars') # 39.25\n",
    "space(3e9, 'saturn') # 3.23"
   ]
  }
 ],
 "metadata": {
  "kernelspec": {
   "display_name": "pybase",
   "language": "python",
   "name": "pybase"
  },
  "language_info": {
   "codemirror_mode": {
    "name": "ipython",
    "version": 3
   },
   "file_extension": ".py",
   "mimetype": "text/x-python",
   "name": "python",
   "nbconvert_exporter": "python",
   "pygments_lexer": "ipython3",
   "version": "3.8.5"
  }
 },
 "nbformat": 4,
 "nbformat_minor": 4
}
