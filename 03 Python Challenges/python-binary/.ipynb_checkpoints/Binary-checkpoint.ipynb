{
 "cells": [
  {
   "cell_type": "markdown",
   "metadata": {},
   "source": [
    "## Binary"
   ]
  },
  {
   "cell_type": "markdown",
   "metadata": {},
   "source": [
    "Write a program that will convert a binary number, represented as a\n",
    "string (e.g. '101010'), to its decimal equivalent using first principles"
   ]
  },
  {
   "cell_type": "markdown",
   "metadata": {},
   "source": [
    "### Algorithm"
   ]
  },
  {
   "cell_type": "code",
   "execution_count": 24,
   "metadata": {},
   "outputs": [
    {
     "name": "stdout",
     "output_type": "stream",
     "text": [
      "1128\n",
      "1\n",
      "That was not a valid binary number!\n",
      "That was not a valid binary number!\n",
      "That was not a valid binary number!\n",
      "865199\n"
     ]
    }
   ],
   "source": [
    "def binary(bi:str)->int:\n",
    "    try:\n",
    "        lst = [int(n) for n in bi][::-1] # string to list and reverse\n",
    "        if all(el in [0,1] for el in lst): # if all elements are 0 or 1\n",
    "            dec = 0\n",
    "            for i,ch in enumerate(lst):\n",
    "                dec += ch * (2**(i))\n",
    "            print(dec)\n",
    "        else: \n",
    "            raise ValueError\n",
    "            print(f\"That was not a valid binary number!\")\n",
    "    except ValueError:\n",
    "        print(f\"That was not a valid binary number!\")\n",
    "    \n",
    "binary(\"10001101000\")\n",
    "binary(\"1\")\n",
    "binary(\"carrot\")\n",
    "binary(\"10nope\")\n",
    "binary(\"102011\")\n",
    "binary(\"11010011001110101111\")"
   ]
  },
  {
   "cell_type": "markdown",
   "metadata": {},
   "source": [
    "### Experimentation"
   ]
  },
  {
   "cell_type": "code",
   "execution_count": 10,
   "metadata": {},
   "outputs": [],
   "source": [
    "bi = \"10001101000\"#\"100\""
   ]
  },
  {
   "cell_type": "code",
   "execution_count": 11,
   "metadata": {},
   "outputs": [
    {
     "name": "stdout",
     "output_type": "stream",
     "text": [
      "[1, 0, 0, 0, 1, 1, 0, 1, 0, 0, 0]\n"
     ]
    }
   ],
   "source": [
    "lst = [int(n) for n in bi]\n",
    "print(lst)"
   ]
  },
  {
   "cell_type": "code",
   "execution_count": 12,
   "metadata": {},
   "outputs": [
    {
     "name": "stdout",
     "output_type": "stream",
     "text": [
      "[0, 0, 0, 1, 0, 1, 1, 0, 0, 0, 1]\n"
     ]
    }
   ],
   "source": [
    "lst_r = lst[::-1]\n",
    "print(lst_r)"
   ]
  },
  {
   "cell_type": "code",
   "execution_count": 13,
   "metadata": {},
   "outputs": [
    {
     "name": "stdout",
     "output_type": "stream",
     "text": [
      "1128\n"
     ]
    }
   ],
   "source": [
    "dec = 0\n",
    "for i,ch in enumerate(lst_r):\n",
    "    dec += ch * (2**(i))\n",
    "print(dec)"
   ]
  },
  {
   "cell_type": "code",
   "execution_count": 14,
   "metadata": {},
   "outputs": [
    {
     "name": "stdout",
     "output_type": "stream",
     "text": [
      "[1, 0, 0, 0, 1, 1, 0, 1, 0, 0, 0]\n",
      "[0, 0, 0, 1, 0, 1, 1, 0, 0, 0, 1]\n"
     ]
    }
   ],
   "source": [
    "lst = [int(n) for n in bi]\n",
    "print(lst)\n",
    "lst = [int(n) for n in bi][::-1]\n",
    "print(lst)"
   ]
  }
 ],
 "metadata": {
  "kernelspec": {
   "display_name": "pybase",
   "language": "python",
   "name": "pybase"
  },
  "language_info": {
   "codemirror_mode": {
    "name": "ipython",
    "version": 3
   },
   "file_extension": ".py",
   "mimetype": "text/x-python",
   "name": "python",
   "nbconvert_exporter": "python",
   "pygments_lexer": "ipython3",
   "version": "3.8.5"
  }
 },
 "nbformat": 4,
 "nbformat_minor": 4
}
