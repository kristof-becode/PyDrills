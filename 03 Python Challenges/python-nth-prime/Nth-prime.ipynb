{
 "cells": [
  {
   "cell_type": "markdown",
   "metadata": {},
   "source": [
    "## Nth Prime"
   ]
  },
  {
   "cell_type": "markdown",
   "metadata": {},
   "source": [
    "Write a program that can tell you what the nth prime is.\n",
    "\n",
    "By listing the first six prime numbers: 2, 3, 5, 7, 11, and 13, we can see that\n",
    "the 6th prime is 13.\n",
    "\n",
    "If your language provides methods in the standard library to deal with prime\n",
    "numbers, pretend they don't exist and implement them yourself."
   ]
  },
  {
   "cell_type": "markdown",
   "metadata": {},
   "source": [
    "### NOTE"
   ]
  },
  {
   "cell_type": "markdown",
   "metadata": {},
   "source": [
    "See Challenge Prime_factors"
   ]
  },
  {
   "cell_type": "markdown",
   "metadata": {},
   "source": [
    "### Algorithm"
   ]
  },
  {
   "cell_type": "code",
   "execution_count": 7,
   "metadata": {},
   "outputs": [
    {
     "name": "stdout",
     "output_type": "stream",
     "text": [
      "13\n",
      "2\n",
      "104729\n"
     ]
    }
   ],
   "source": [
    "# this could be lot faster\n",
    "def n_prime(n:int)->int:\n",
    "    i = 2 # first prime is 2\n",
    "    prim = []\n",
    "    while len(prim) < n:\n",
    "        if (i%i == 0) and (i%1 ==0) and all(i%j !=0 for j in range(2,i)):\n",
    "            prim.append(i)\n",
    "        i += 1\n",
    "    else:\n",
    "        #return prim[-1]\n",
    "        print(prim[-1])\n",
    "        \n",
    "n_prime(6) # 13\n",
    "n_prime(1) # 2\n",
    "n_prime(10000) # 104729"
   ]
  },
  {
   "cell_type": "code",
   "execution_count": 10,
   "metadata": {},
   "outputs": [
    {
     "name": "stdout",
     "output_type": "stream",
     "text": [
      "2\n",
      "3\n",
      "5\n",
      "7\n",
      "11\n",
      "13\n",
      "17\n",
      "19\n",
      "23\n",
      "29\n",
      "31\n",
      "37\n",
      "41\n",
      "43\n",
      "47\n",
      "53\n",
      "59\n",
      "61\n",
      "67\n",
      "71\n"
     ]
    }
   ],
   "source": [
    "for i in range(1,21): # [2, 3, 5, 7, 11, 13, 17, 19, 23, 29, 31, 37, 41, 43, 47, 53, 59, 61, 67, 71]\n",
    "    n_prime(i)"
   ]
  },
  {
   "cell_type": "markdown",
   "metadata": {},
   "source": [
    "### Experimentation"
   ]
  },
  {
   "cell_type": "code",
   "execution_count": 6,
   "metadata": {
    "scrolled": false
   },
   "outputs": [
    {
     "name": "stdout",
     "output_type": "stream",
     "text": [
      "104729\n"
     ]
    }
   ],
   "source": [
    "n=10000\n",
    "i = 2\n",
    "prim = []\n",
    "while len(prim) < n:\n",
    "    if (i%i == 0) and (i%1 ==0) and all(i%j !=0 for j in range(2,i)):\n",
    "        #print(i, prim)\n",
    "        prim.append(i)\n",
    "    i += 1\n",
    "    #else:\n",
    "        #print(prim[-1])\n",
    "        #break\n",
    "else:\n",
    "    print(prim[-1])#, i)"
   ]
  }
 ],
 "metadata": {
  "kernelspec": {
   "display_name": "pybase",
   "language": "python",
   "name": "pybase"
  },
  "language_info": {
   "codemirror_mode": {
    "name": "ipython",
    "version": 3
   },
   "file_extension": ".py",
   "mimetype": "text/x-python",
   "name": "python",
   "nbconvert_exporter": "python",
   "pygments_lexer": "ipython3",
   "version": "3.8.5"
  }
 },
 "nbformat": 4,
 "nbformat_minor": 4
}
