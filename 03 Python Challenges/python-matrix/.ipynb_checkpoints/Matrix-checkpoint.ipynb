{
 "cells": [
  {
   "cell_type": "markdown",
   "metadata": {},
   "source": [
    "## Matrix"
   ]
  },
  {
   "cell_type": "markdown",
   "metadata": {},
   "source": [
    "Write a program that, given a string representing a matrix of numbers,\n",
    "can return the rows and columns of that matrix.\n",
    "\n",
    "So given a string with embedded newlines like:\n",
    "\n",
    " 9 8 7 \\n 5 3 2 \\n 6 6 7\n",
    "\n",
    "representing this matrix:\n",
    "\n",
    "```plain\n",
    "    0  1  2\n",
    "  |---------\n",
    "0 | 9  8  7\n",
    "1 | 5  3  2\n",
    "2 | 6  6  7\n",
    "```\n",
    "\n",
    "your code should be able to spit out:\n",
    "\n",
    "- A list of the rows, reading each row left-to-right while moving\n",
    "  top-to-bottom across the rows,\n",
    "- A list of the columns, reading each column top-to-bottom while moving\n",
    "  from left-to-right.\n",
    "\n",
    "The rows for our example matrix:\n",
    "\n",
    "- 9, 8, 7\n",
    "- 5, 3, 2\n",
    "- 6, 6, 7\n",
    "\n",
    "And its columns:\n",
    "\n",
    "- 9, 5, 6\n",
    "- 8, 3, 6\n",
    "- 7, 2, 7"
   ]
  },
  {
   "cell_type": "markdown",
   "metadata": {},
   "source": [
    "### Algorithm"
   ]
  },
  {
   "cell_type": "code",
   "execution_count": 72,
   "metadata": {},
   "outputs": [
    {
     "name": "stdout",
     "output_type": "stream",
     "text": [
      "Matrix: \n",
      "987\n",
      "532\n",
      "Rows:\n",
      "9,8,7\n",
      "5,3,2\n",
      "Columns:\n",
      "9,5\n",
      "8,3\n",
      "7,2\n",
      "\n",
      "\n",
      "Matrix: \n",
      "392\n",
      "524\n",
      "098\n",
      "237\n",
      "Rows:\n",
      "3,9,2\n",
      "5,2,4\n",
      "0,9,8\n",
      "2,3,7\n",
      "Columns:\n",
      "3,5,0,2\n",
      "9,2,9,3\n",
      "2,4,8,7\n",
      "\n",
      "\n",
      "! Invalid matrix \n",
      "\n",
      "Matrix: \n",
      "392237\n",
      "Rows:\n",
      "3,9,2,2,3,7\n",
      "Columns:\n",
      "3\n",
      "9\n",
      "2\n",
      "2\n",
      "3\n",
      "7\n",
      "\n",
      "\n"
     ]
    }
   ],
   "source": [
    "def matrix(mt:str)->str:\n",
    "    matrix = [list(ch) for ch in mt.split('\\n')] # create sublists of matrix rows\n",
    "    if all(len(m)==len(matrix[0]) for m in matrix) and type(mt)==str: # check if sublists of rows have equal len\n",
    "        print(f'Matrix: \\n{mt}')\n",
    "        print(f'Rows:')\n",
    "        for item in matrix: print(*item, sep = ',') # print row elements per row\n",
    "        print(f'Columns:')\n",
    "        # create sublists of columns\n",
    "        columns = []\n",
    "        for i in range(len(matrix[0])):\n",
    "            col = []\n",
    "            for j in range(len(matrix)):\n",
    "                col.append(matrix[j][i])\n",
    "            columns.append(col)\n",
    "        for c in columns: print(*c, sep = ',') # print column elements per column\n",
    "        print(f'\\n')\n",
    "    else:\n",
    "        print(f'! Invalid matrix \\n')\n",
    "\n",
    "        \n",
    "matrix('987\\n532')\n",
    "matrix('392\\n524\\n098\\n237')\n",
    "matrix('392\\n54\\n098\\n237') # invalid\n",
    "matrix('392237')"
   ]
  },
  {
   "cell_type": "markdown",
   "metadata": {},
   "source": [
    "### Experimentation"
   ]
  },
  {
   "cell_type": "code",
   "execution_count": 50,
   "metadata": {},
   "outputs": [
    {
     "name": "stdout",
     "output_type": "stream",
     "text": [
      "987\n",
      "532\n"
     ]
    }
   ],
   "source": [
    "s = '987\\n532'\n",
    "print(s)"
   ]
  },
  {
   "cell_type": "code",
   "execution_count": 51,
   "metadata": {},
   "outputs": [
    {
     "name": "stdout",
     "output_type": "stream",
     "text": [
      "['987', '532']\n"
     ]
    }
   ],
   "source": [
    "spl = s.split('\\n')\n",
    "print(spl)"
   ]
  },
  {
   "cell_type": "markdown",
   "metadata": {},
   "source": [
    "#### create matrix as list with row sublists"
   ]
  },
  {
   "cell_type": "code",
   "execution_count": 52,
   "metadata": {},
   "outputs": [
    {
     "name": "stdout",
     "output_type": "stream",
     "text": [
      "[['9', '8', '7'], ['5', '3', '2']]\n"
     ]
    }
   ],
   "source": [
    "# make sublists (per row as in numpy)\n",
    "mat = [list(ch) for ch in s.split('\\n')]\n",
    "print(mat)"
   ]
  },
  {
   "cell_type": "markdown",
   "metadata": {},
   "source": [
    "#### print rows"
   ]
  },
  {
   "cell_type": "code",
   "execution_count": 53,
   "metadata": {},
   "outputs": [
    {
     "name": "stdout",
     "output_type": "stream",
     "text": [
      "9,8,7\n",
      "5,3,2\n"
     ]
    }
   ],
   "source": [
    "# print rows with join\n",
    "for item in mat: print(','.join(item))"
   ]
  },
  {
   "cell_type": "code",
   "execution_count": 54,
   "metadata": {},
   "outputs": [
    {
     "name": "stdout",
     "output_type": "stream",
     "text": [
      "9,8,7\n",
      "5,3,2\n"
     ]
    }
   ],
   "source": [
    "# print row elements with * operator\n",
    "for item in mat: print(*item, sep = ',')"
   ]
  },
  {
   "cell_type": "markdown",
   "metadata": {},
   "source": [
    "#### print columns; first create column sublists"
   ]
  },
  {
   "cell_type": "code",
   "execution_count": 55,
   "metadata": {},
   "outputs": [
    {
     "name": "stdout",
     "output_type": "stream",
     "text": [
      "0 0\n",
      "1 0\n",
      "0 1\n",
      "1 1\n",
      "0 2\n",
      "1 2\n",
      "[['9', '5'], ['8', '3'], ['7', '2']]\n"
     ]
    }
   ],
   "source": [
    "# print columns\n",
    "c = []\n",
    "for i in range(len(mat[0])): # all sublists should have equal length for valid matrix so choose arbitrarily\n",
    "    t = []\n",
    "    for j in range(len(mat)):\n",
    "        print(j,i)\n",
    "        t.append(mat[j][i])\n",
    "    c.append(t)\n",
    "print(c)"
   ]
  },
  {
   "cell_type": "markdown",
   "metadata": {},
   "source": [
    "#### check input validity matrix =>  lens must be equal for all sublists "
   ]
  },
  {
   "cell_type": "code",
   "execution_count": 69,
   "metadata": {},
   "outputs": [
    {
     "name": "stdout",
     "output_type": "stream",
     "text": [
      "[['9', '8', '7'], ['5', '3', '2']]\n",
      "[3, 3]\n",
      "Valid matrix\n",
      "[['9', '8'], ['5', '3', '2']]\n",
      "[2, 3]\n",
      "Invalid matrix\n"
     ]
    }
   ],
   "source": [
    "# check that lens are equal for all sublists - using len of set of list of row sublist lengths\n",
    "\n",
    "sen = ['987\\n532', '98\\n532'] # [valid, invalid]\n",
    "for s in sen:\n",
    "    mat = [list(ch) for ch in s.split('\\n')]\n",
    "    print(mat)\n",
    "    print([len(m) for m in mat])\n",
    "    if len(set([len(m) for m in mat])) == 1: \n",
    "        print(f'Valid matrix')\n",
    "    else:\n",
    "        print(f'Invalid matrix')"
   ]
  },
  {
   "cell_type": "code",
   "execution_count": 71,
   "metadata": {},
   "outputs": [
    {
     "name": "stdout",
     "output_type": "stream",
     "text": [
      "[['9', '8', '7'], ['5', '3', '2']]\n",
      "[3, 3]\n",
      "Valid matrix\n",
      "[['9', '8'], ['5', '3', '2']]\n",
      "[2, 3]\n",
      "Invalid matrix\n"
     ]
    }
   ],
   "source": [
    "# check that lens are equal for all sublists - using all(); see if all len are equal to len of first sublist\n",
    "\n",
    "sen = ['987\\n532','98\\n532'] # [valid, invalid]\n",
    "for s in sen:\n",
    "    mat = [list(ch) for ch in s.split('\\n')]\n",
    "    print(mat)\n",
    "    print([len(m) for m in mat])\n",
    "    if all(len(m)==len(mat[0]) for m in mat): \n",
    "        print(f'Valid matrix')\n",
    "    else:\n",
    "        print(f'Invalid matrix')"
   ]
  },
  {
   "cell_type": "code",
   "execution_count": null,
   "metadata": {},
   "outputs": [],
   "source": []
  }
 ],
 "metadata": {
  "kernelspec": {
   "display_name": "pybase",
   "language": "python",
   "name": "pybase"
  },
  "language_info": {
   "codemirror_mode": {
    "name": "ipython",
    "version": 3
   },
   "file_extension": ".py",
   "mimetype": "text/x-python",
   "name": "python",
   "nbconvert_exporter": "python",
   "pygments_lexer": "ipython3",
   "version": "3.8.5"
  }
 },
 "nbformat": 4,
 "nbformat_minor": 4
}
