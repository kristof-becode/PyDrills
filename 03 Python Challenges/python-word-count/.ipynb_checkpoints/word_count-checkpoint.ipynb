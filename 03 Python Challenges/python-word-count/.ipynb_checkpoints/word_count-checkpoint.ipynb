{
 "cells": [
  {
   "cell_type": "markdown",
   "metadata": {},
   "source": [
    "## Word Count"
   ]
  },
  {
   "cell_type": "markdown",
   "metadata": {},
   "source": [
    "Write a program that given a phrase can count the occurrences of each\n",
    "word in that phrase.\n",
    "\n",
    "For example for the input `\"olly olly in come free\" :\n",
    "\n",
    "olly: 2\n",
    "in: 1\n",
    "come: 1\n",
    "free: 1\n"
   ]
  },
  {
   "cell_type": "markdown",
   "metadata": {},
   "source": [
    "### Algorithm"
   ]
  },
  {
   "cell_type": "code",
   "execution_count": 79,
   "metadata": {},
   "outputs": [
    {
     "name": "stdout",
     "output_type": "stream",
     "text": [
      "Word count for 'olly olly in come free':\n",
      "olly : 2\n",
      "in : 1\n",
      "come : 1\n",
      "free : 1\n",
      "Word count for 'wait for       it':\n",
      "wait : 1\n",
      "for : 1\n",
      "it : 1\n",
      "Word count for 'testing 1 2 testing':\n",
      "testing : 2\n",
      "1 : 1\n",
      "2 : 1\n",
      "Word count for 'rah rah ah ah ah\n",
      "roma roma ma\n",
      "ga ga oh la la\n",
      "want your bad romance':\n",
      "rah : 2\n",
      "ah : 3\n",
      "roma : 2\n",
      "ma : 1\n",
      "ga : 2\n",
      "oh : 1\n",
      "la : 2\n",
      "want : 1\n",
      "your : 1\n",
      "bad : 1\n",
      "romance : 1\n",
      "Word count for 'rah rah ah ah ah\troma roma ma\tga ga oh la la\twant your bad romance':\n",
      "rah : 2\n",
      "ah : 3\n",
      "roma : 2\n",
      "ma : 1\n",
      "ga : 2\n",
      "oh : 1\n",
      "la : 2\n",
      "want : 1\n",
      "your : 1\n",
      "bad : 1\n",
      "romance : 1\n",
      "Word count for 'hey, my spacebar is broken.':\n",
      "hey : 1\n",
      "my : 1\n",
      "spacebar : 1\n",
      "is : 1\n",
      "broken : 1\n"
     ]
    }
   ],
   "source": [
    "import string # import string module for punctuation characters\n",
    "\n",
    "def word_count(sent):\n",
    "    punct = [punct for punct in string.punctuation if punct != '-'] # create punctuation list, allow '-'\n",
    "    clean = [' ' if char in punct else char for char in sent] # replace only punctuation char with \" \"\n",
    "    sent_join = ''.join(clean) # join clean list back to string\n",
    "    occ = {word : sent_join.split().count(word) for word in sent_join.split()} # create word occurence dictionary\n",
    "    print(f\"Word count for '{sent}':\")\n",
    "    for k,v in occ.items(): # print ' word : number of occurences', keys-values in dictionaries\n",
    "        print(f\"{k} : {v}\")\n",
    "\n",
    "word_count('olly olly in come free')\n",
    "word_count('wait for       it')\n",
    "word_count(\"testing 1 2 testing\")\n",
    "word_count('rah rah ah ah ah\\nroma roma ma\\nga ga oh la la\\nwant your bad romance')\n",
    "word_count('rah rah ah ah ah\\troma roma ma\\tga ga oh la la\\twant your bad romance')\n",
    "word_count('hey, my spacebar is broken.')"
   ]
  },
  {
   "cell_type": "markdown",
   "metadata": {},
   "source": [
    "### Expermimentation"
   ]
  },
  {
   "cell_type": "code",
   "execution_count": 62,
   "metadata": {},
   "outputs": [
    {
     "name": "stdout",
     "output_type": "stream",
     "text": [
      "!\"#$%&'()*+,-./:;<=>?@[\\]^_`{|}~\n"
     ]
    }
   ],
   "source": [
    "import string\n",
    "print(string.punctuation)"
   ]
  },
  {
   "cell_type": "code",
   "execution_count": 82,
   "metadata": {},
   "outputs": [
    {
     "name": "stdout",
     "output_type": "stream",
     "text": [
      "['!', '\"', '#', '$', '%', '&', \"'\", '(', ')', '*', '+', ',', '.', '/', ':', ';', '<', '=', '>', '?', '@', '[', '\\\\', ']', '^', '_', '`', '{', '|', '}', '~']\n",
      "['o', 'l', 'l', 'y', ' ', 'o', 'l', 'l', 'y', ' ', 'i', 'n', ' ', 'c', 'o', 'm', 'e', ' ', 'f', 'r', 'e', 'e']\n",
      "olly olly in come free\n",
      "{'olly': 2, 'in': 1, 'come': 1, 'free': 1}\n",
      "olly : 2\n",
      "in : 1\n",
      "come : 1\n",
      "free : 1\n"
     ]
    }
   ],
   "source": [
    "sent = 'olly olly in come free'\n",
    "#sent = 'wait for       it'\n",
    "#sent = \"testing 1 2 testing\"\n",
    "#sent ='rah rah ah ah ah\\nroma roma ma\\nga ga oh la la\\nwant your bad romance'\n",
    "#sent = 'rah rah ah ah ah\\troma roma ma\\tga ga oh la la\\twant your bad romance'\n",
    "#sent = 'hey,my_spacebar_is_broken.'\n",
    "#sent = 'hey, my spacebar is broken.'\n",
    "\n",
    "punct = [punct for punct in string.punctuation if punct!= '-'] # punctuation list, allow '-'\n",
    "print(punct)\n",
    "\n",
    "clean = [' ' if char in punct else char for char in sent] # replace punctuation in sentence with ' '\n",
    "sent_join = ''.join(clean) # join list clean back to string\n",
    "\n",
    "print(clean)\n",
    "print(sent_join)\n",
    "\n",
    "# for better readability:\n",
    "# joined = sent_join.split()\n",
    "# occ = occ = {word : joined.count(word) for word in joined}\n",
    "\n",
    "occ = {word : sent_join.split().count(word) for word in sent_join.split()} # word count dictionary\n",
    "print(occ)\n",
    "for k,v in occ.items():\n",
    "    print(f\"{k} : {v}\")"
   ]
  },
  {
   "cell_type": "code",
   "execution_count": null,
   "metadata": {},
   "outputs": [],
   "source": []
  }
 ],
 "metadata": {
  "kernelspec": {
   "display_name": "pybase",
   "language": "python",
   "name": "pybase"
  },
  "language_info": {
   "codemirror_mode": {
    "name": "ipython",
    "version": 3
   },
   "file_extension": ".py",
   "mimetype": "text/x-python",
   "name": "python",
   "nbconvert_exporter": "python",
   "pygments_lexer": "ipython3",
   "version": "3.8.5"
  }
 },
 "nbformat": 4,
 "nbformat_minor": 4
}
