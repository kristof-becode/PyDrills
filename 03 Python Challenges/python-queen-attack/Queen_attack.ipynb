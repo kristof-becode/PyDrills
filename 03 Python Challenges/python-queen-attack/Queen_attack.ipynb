{
 "cells": [
  {
   "cell_type": "markdown",
   "metadata": {},
   "source": [
    "## Queen Attack"
   ]
  },
  {
   "cell_type": "markdown",
   "metadata": {},
   "source": [
    "Write a program that positions two queens on a chess board and indicates\n",
    "whether or not they are positioned so that they can attack each other.\n",
    "\n",
    "In the game of chess, a queen can attack pieces which are on the same\n",
    "row, column, or diagonal.\n",
    "\n",
    "A chessboard can be represented by an 8 by 8 array.\n",
    "\n",
    "So if you're told the white queen is at (2, 3) and the black queen at\n",
    "(5, 6), then you'd know you've got a set-up like so:\n",
    "\n",
    "```plain\n",
    "_ _ _ _ _ _ _ _\n",
    "_ _ _ _ _ _ _ _\n",
    "_ _ _ W _ _ _ _\n",
    "_ _ _ _ _ _ _ _\n",
    "_ _ _ _ _ _ _ _\n",
    "_ _ _ _ _ _ B _\n",
    "_ _ _ _ _ _ _ _\n",
    "_ _ _ _ _ _ _ _\n",
    "```\n",
    "\n",
    "You'd also be able to answer whether the queens can attack each other.\n",
    "In this case, that answer would be yes, they can, because both pieces\n",
    "share a diagonal.\n",
    "\n"
   ]
  },
  {
   "cell_type": "markdown",
   "metadata": {},
   "source": [
    "### Algorithm"
   ]
  },
  {
   "cell_type": "code",
   "execution_count": 22,
   "metadata": {},
   "outputs": [
    {
     "name": "stdout",
     "output_type": "stream",
     "text": [
      "- - - - - - - -\n",
      "- - - - - - - -\n",
      "- - - W - - - -\n",
      "- - - - - - - -\n",
      "- - - - - - - -\n",
      "- - - - - - B -\n",
      "- - - - - - - -\n",
      "- - - - - - - -\n",
      "\n",
      "=> Queens can attack!\n",
      "\n",
      "- - - - - - W -\n",
      "- - - - - - - B\n",
      "- - - - - - - -\n",
      "- - - - - - - -\n",
      "- - - - - - - -\n",
      "- - - - - - - -\n",
      "- - - - - - - -\n",
      "- - - - - - - -\n",
      "\n",
      "=> Queens can attack!\n",
      "\n",
      "- - - - - B - -\n",
      "- - - - - - - -\n",
      "- - - - - - - -\n",
      "- - - - - - - -\n",
      "- - W - - - - -\n",
      "- - - - - - - -\n",
      "- - - - - - - -\n",
      "- - - - - - - -\n",
      "\n",
      "=> Queens can NOT attack!\n",
      "\n",
      "- - - - - - - -\n",
      "- - - - - - - -\n",
      "- - - W - - - -\n",
      "- - - - - - - -\n",
      "- - - - - - - B\n",
      "- - - - - - - -\n",
      "- - - - - - - -\n",
      "- - - - - - - -\n",
      "\n",
      "=> Queens can NOT attack!\n",
      "\n",
      "(0, 0), (7, 8) : Invalid board positions!\n",
      "\n",
      "(2, 2), (2, 2) : Invalid board positions!\n",
      "\n"
     ]
    }
   ],
   "source": [
    "def queen(w:tuple,b:tuple)->str:\n",
    "    # check positions are != and if in range board\n",
    "    if w != b and all((p >= 0 and p<8) for p in [w[0],w[1],b[0],b[1]]): # valid positions\n",
    "        grid = [list('-'*8) for i in range(8)] # initialise board\n",
    "        grid[w[0]][w[1]] = 'W' # position white queen\n",
    "        grid[b[0]][b[1]] = 'B' # position black queen\n",
    "        for item in grid: print(*item) # print board with queen positions\n",
    "        if w[0] == b[0] or w[1] == b[1] or (abs(w[0] - b[0]) == abs( w[1] - b[1])): # can attack, sam row/column or diagonal\n",
    "            print(f\"\\n=> Queens can attack!\\n\")\n",
    "        else: # cannot attack\n",
    "            print(f\"\\n=> Queens can NOT attack!\\n\")\n",
    "    else: # invalid positions\n",
    "        print(f\"{w}, {b} : Invalid board positions!\\n\")\n",
    "\n",
    "queen((2, 3), (5, 6)) # true\n",
    "queen((0, 6), (1, 7)) # true\n",
    "queen((4, 2), (0, 5)) # false\n",
    "queen((2, 3), (4, 7)) # false\n",
    "queen((0, 0), (7, 8)) # invalid\n",
    "queen((2, 2), (2, 2)) # invalid"
   ]
  },
  {
   "cell_type": "markdown",
   "metadata": {},
   "source": [
    "### Experimentation"
   ]
  },
  {
   "cell_type": "code",
   "execution_count": 15,
   "metadata": {},
   "outputs": [],
   "source": [
    "w = (2,3)\n",
    "b = (5,6)"
   ]
  },
  {
   "cell_type": "code",
   "execution_count": 16,
   "metadata": {},
   "outputs": [
    {
     "name": "stdout",
     "output_type": "stream",
     "text": [
      "[['-', '-', '-', '-', '-', '-', '-', '-'], ['-', '-', '-', '-', '-', '-', '-', '-'], ['-', '-', '-', '-', '-', '-', '-', '-'], ['-', '-', '-', '-', '-', '-', '-', '-'], ['-', '-', '-', '-', '-', '-', '-', '-'], ['-', '-', '-', '-', '-', '-', '-', '-'], ['-', '-', '-', '-', '-', '-', '-', '-'], ['-', '-', '-', '-', '-', '-', '-', '-']]\n"
     ]
    }
   ],
   "source": [
    "# initialise board\n",
    "grid = [list('-'*8) for i in range(8)]\n",
    "print(grid)"
   ]
  },
  {
   "cell_type": "code",
   "execution_count": 17,
   "metadata": {},
   "outputs": [
    {
     "name": "stdout",
     "output_type": "stream",
     "text": [
      "- - - - - - - -\n",
      "- - - - - - - -\n",
      "- - - - - - - -\n",
      "- - - - - - - -\n",
      "- - - - - - - -\n",
      "- - - - - - - -\n",
      "- - - - - - - -\n",
      "- - - - - - - -\n"
     ]
    }
   ],
   "source": [
    "for item in grid: print(*item)"
   ]
  },
  {
   "cell_type": "code",
   "execution_count": 18,
   "metadata": {},
   "outputs": [
    {
     "name": "stdout",
     "output_type": "stream",
     "text": [
      "[['-', '-', '-', '-', '-', '-', '-', '-'], ['-', '-', '-', '-', '-', '-', '-', '-'], ['-', '-', '-', 'W', '-', '-', '-', '-'], ['-', '-', '-', '-', '-', '-', '-', '-'], ['-', '-', '-', '-', '-', '-', '-', '-'], ['-', '-', '-', '-', '-', '-', 'B', '-'], ['-', '-', '-', '-', '-', '-', '-', '-'], ['-', '-', '-', '-', '-', '-', '-', '-']]\n"
     ]
    }
   ],
   "source": [
    "# position queens\n",
    "grid[w[0]][w[1]] = 'W'\n",
    "grid[b[0]][b[1]] = 'B'\n",
    "print(grid)"
   ]
  },
  {
   "cell_type": "code",
   "execution_count": 19,
   "metadata": {},
   "outputs": [
    {
     "name": "stdout",
     "output_type": "stream",
     "text": [
      "- - - - - - - -\n",
      "- - - - - - - -\n",
      "- - - W - - - -\n",
      "- - - - - - - -\n",
      "- - - - - - - -\n",
      "- - - - - - B -\n",
      "- - - - - - - -\n",
      "- - - - - - - -\n"
     ]
    }
   ],
   "source": [
    "for item in grid: print(*item)"
   ]
  },
  {
   "cell_type": "code",
   "execution_count": 20,
   "metadata": {},
   "outputs": [
    {
     "name": "stdout",
     "output_type": "stream",
     "text": [
      "can attack\n"
     ]
    }
   ],
   "source": [
    "# check if queens can attack:\n",
    "if w[0] == b[0] or w[1] == b[1] or (abs(w[0] - b[0]) == abs( w[1] - b[1])):\n",
    "    print(f\"can attack\")"
   ]
  },
  {
   "cell_type": "code",
   "execution_count": null,
   "metadata": {},
   "outputs": [],
   "source": []
  }
 ],
 "metadata": {
  "kernelspec": {
   "display_name": "pybase",
   "language": "python",
   "name": "pybase"
  },
  "language_info": {
   "codemirror_mode": {
    "name": "ipython",
    "version": 3
   },
   "file_extension": ".py",
   "mimetype": "text/x-python",
   "name": "python",
   "nbconvert_exporter": "python",
   "pygments_lexer": "ipython3",
   "version": "3.8.5"
  }
 },
 "nbformat": 4,
 "nbformat_minor": 4
}
