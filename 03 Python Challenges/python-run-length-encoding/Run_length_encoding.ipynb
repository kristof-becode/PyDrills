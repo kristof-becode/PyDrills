{
 "cells": [
  {
   "cell_type": "markdown",
   "metadata": {},
   "source": [
    "### Run-length encoding\n",
    "\n",
    "Implement run-length encoding and decoding.\n",
    "\n",
    "Run-length encoding (RLE) is a simple form of data compression, where runs\n",
    "(consecutive data elements) are replaced by just one data value and count.\n",
    "\n",
    "For example we can represent the original 53 characters with only 13.\n",
    "\n",
    "```\n",
    "\"WWWWWWWWWWWWBWWWWWWWWWWWWBBBWWWWWWWWWWWWWWWWWWWWWWWWB\"  ->  \"12WB12W3B24WB\"\n",
    "```\n",
    "\n",
    "RLE allows the original data to be perfectly reconstructed from\n",
    "the compressed data, which makes it a lossless data compression.\n",
    "\n",
    "```\n",
    "\"AABCCCDEEEE\"  ->  \"2AB3CD4E\"  ->  \"AABCCCDEEEE\"\n",
    "```\n"
   ]
  },
  {
   "cell_type": "markdown",
   "metadata": {},
   "source": [
    "### Final algorithm"
   ]
  },
  {
   "cell_type": "code",
   "execution_count": null,
   "metadata": {},
   "outputs": [],
   "source": []
  },
  {
   "cell_type": "markdown",
   "metadata": {},
   "source": [
    "### Experimentation"
   ]
  },
  {
   "cell_type": "code",
   "execution_count": 20,
   "metadata": {},
   "outputs": [
    {
     "name": "stdout",
     "output_type": "stream",
     "text": [
      "['A', 'A', 'B', 'C', 'C', 'C', 'D', 'E', 'E', 'E', 'E']\n",
      "{'A': 2, 'B': 1, 'C': 3, 'D': 1, 'E': 4}\n",
      "[(0, 'A'), (1, 'A'), (2, 'B'), (3, 'C'), (4, 'C'), (5, 'C'), (6, 'D'), (7, ' '), (8, 'E'), (9, 'E'), (10, 'E'), (11, 'E')]\n",
      "{0: 'A', 1: 'A', 2: 'B', 3: 'C', 4: 'C', 5: 'C', 6: 'D', 7: ' ', 8: 'E', 9: 'E', 10: 'E', 11: 'E'}\n",
      "12\n",
      "['1A', '1B', '3C', '3D', '3 ']\n"
     ]
    }
   ],
   "source": [
    "sen = \"AABCCCD EEEE\"\n",
    "split = [letter for char in sen.split() for letter in char]\n",
    "print(split)\n",
    "occ = {letter : split.count(letter) for letter in split}\n",
    "print(occ)\n",
    "#enc = [letter, split.count(letter) for letter in split]\n",
    "#print(enc)\n",
    "# enumerate string:\n",
    "splat = [(i,letter) for i,letter in enumerate(sen)] # takes whitespace char as well !!!\n",
    "print(splat)\n",
    "acc = {i:letter for i,letter in enumerate(sen)}\n",
    "print(acc)\n",
    "rle = []\n",
    "i,j = 0,0\n",
    "letter = sen[0]\n",
    "print(len(sen))\n",
    "for i in range(len(sen)-1):\n",
    "    if sen[i+1] == sen[i]:\n",
    "        j += 1\n",
    "    else:\n",
    "        app= str(j) + sen[i]\n",
    "        rle.append(app)\n",
    "print(rle)"
   ]
  },
  {
   "cell_type": "code",
   "execution_count": null,
   "metadata": {},
   "outputs": [],
   "source": []
  }
 ],
 "metadata": {
  "kernelspec": {
   "display_name": "pybase",
   "language": "python",
   "name": "pybase"
  },
  "language_info": {
   "codemirror_mode": {
    "name": "ipython",
    "version": 3
   },
   "file_extension": ".py",
   "mimetype": "text/x-python",
   "name": "python",
   "nbconvert_exporter": "python",
   "pygments_lexer": "ipython3",
   "version": "3.8.5"
  }
 },
 "nbformat": 4,
 "nbformat_minor": 4
}
