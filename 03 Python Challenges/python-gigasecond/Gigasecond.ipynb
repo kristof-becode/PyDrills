{
 "cells": [
  {
   "cell_type": "markdown",
   "metadata": {},
   "source": [
    "## Gigasecond\n",
    "\n",
    "Write a program that will calculate the date that someone turned or will\n",
    "celebrate their 1 Gs anniversary.\n",
    "\n",
    "A gigasecond is one billion (10**9) seconds."
   ]
  },
  {
   "cell_type": "markdown",
   "metadata": {},
   "source": [
    "### Final algorithm"
   ]
  },
  {
   "cell_type": "code",
   "execution_count": 32,
   "metadata": {},
   "outputs": [
    {
     "name": "stdout",
     "output_type": "stream",
     "text": [
      "Your Gigasecond birthday will take place on 2043-01-01 01:46:40 !\n",
      "Your Gigasecond birthday ALREADY took place on 1991-03-27 01:46:40 !\n",
      "Your Gigasecond birthday will take place on 2046-10-02 23:46:40 !\n",
      "Your Gigasecond birthday will take place on 2033-05-18 03:33:20 !\n",
      "Your Gigasecond birthday ALREADY took place on 2001-09-09 01:46:40 !\n"
     ]
    }
   ],
   "source": [
    "import datetime\n",
    "def giga(y,mo,d,h=0,m=0,s=0)-> datetime.datetime: # set h,m,s 0 so you don't have to provide the argument\n",
    "    gig = 10**9 # seconds in a gigasecond\n",
    "    birth = datetime.datetime(y, mo, d, h, m, s) # datetime object for date of birth\n",
    "    to_gig = datetime.timedelta(seconds= gig) # timedelta object for gigasecond\n",
    "    giga_birthday = birth + to_gig # datetime object for giga birthday\n",
    "\n",
    "    if giga_birthday >= datetime.datetime.now():\n",
    "        print(f'Your Gigasecond birthday will take place on {giga_birthday} !')\n",
    "    else:\n",
    "        print(f'Your Gigasecond birthday ALREADY took place on {giga_birthday} !')\n",
    "    \n",
    "giga(2011, 4, 25)\n",
    "giga(1959, 7, 19)\n",
    "giga(2015, 1, 24, 22, 0, 0)\n",
    "giga(2001, 9, 9, 1, 46, 40)\n",
    "giga(1970, 1, 1)"
   ]
  },
  {
   "cell_type": "markdown",
   "metadata": {},
   "source": [
    "### Experimentation"
   ]
  },
  {
   "cell_type": "code",
   "execution_count": 31,
   "metadata": {},
   "outputs": [
    {
     "name": "stdout",
     "output_type": "stream",
     "text": [
      "2020-11-09\n",
      "2020-11-09 20:54:32.663112\n"
     ]
    }
   ],
   "source": [
    "import datetime\n",
    "print(datetime.date.today()) \n",
    "print(datetime.datetime.now())"
   ]
  },
  {
   "cell_type": "code",
   "execution_count": null,
   "metadata": {},
   "outputs": [],
   "source": []
  }
 ],
 "metadata": {
  "kernelspec": {
   "display_name": "pybase",
   "language": "python",
   "name": "pybase"
  },
  "language_info": {
   "codemirror_mode": {
    "name": "ipython",
    "version": 3
   },
   "file_extension": ".py",
   "mimetype": "text/x-python",
   "name": "python",
   "nbconvert_exporter": "python",
   "pygments_lexer": "ipython3",
   "version": "3.8.5"
  }
 },
 "nbformat": 4,
 "nbformat_minor": 4
}
