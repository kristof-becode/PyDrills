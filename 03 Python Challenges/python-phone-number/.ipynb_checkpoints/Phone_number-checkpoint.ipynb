{
 "cells": [
  {
   "cell_type": "markdown",
   "metadata": {},
   "source": [
    "## Phone number"
   ]
  },
  {
   "cell_type": "markdown",
   "metadata": {},
   "source": [
    "Write a program that cleans up user-entered phone numbers so that they\n",
    "can be sent SMS messages.\n",
    "\n",
    "The rules are as follows:\n",
    "\n",
    "- If the phone number is less than 10 digits assume that it is bad\n",
    "  number\n",
    "- If the phone number is 10 digits assume that it is good\n",
    "- If the phone number is 11 digits and the first number is 1, trim the 1\n",
    "  and use the last 10 digits\n",
    "- If the phone number is 11 digits and the first number is not 1, then\n",
    "  it is a bad number\n",
    "- If the phone number is more than 11 digits assume that it is a bad\n",
    "  number\n",
    "\n",
    "We've provided tests, now make them pass.\n",
    "\n",
    "Hint: Only make one test pass at a time. Disable the others, then flip\n",
    "each on in turn after you get the current failing one to pass.\n",
    "\n"
   ]
  },
  {
   "cell_type": "markdown",
   "metadata": {},
   "source": [
    "### Algorithm"
   ]
  },
  {
   "cell_type": "code",
   "execution_count": 21,
   "metadata": {},
   "outputs": [
    {
     "name": "stdout",
     "output_type": "stream",
     "text": [
      "1429481839\n",
      "1234567890\n",
      "1234567890\n",
      "Invalid phone number\n",
      "0000000000\n",
      "Invalid phone number\n",
      "0000000000\n"
     ]
    }
   ],
   "source": [
    "import string # import string module\n",
    "\n",
    "def phone(phone_number:str)->str:\n",
    "    lst = [n for n in phone_number if n in string.digits] # retrieve all digits from string phone number\n",
    "    if (len(lst) == 11 and lst[0] == '1'): # if len 11 and first digit 1, then delete first digit, 10 remain\n",
    "        lst.pop(0)\n",
    "        clean = ''.join(lst)\n",
    "    elif len(lst) == 10: # 10 digits, so ok\n",
    "        clean = ''.join(lst)\n",
    "    else: # any other case, invalid phone number\n",
    "        print(f\"Invalid phone number\")\n",
    "        clean = '0'*10\n",
    "    #return clean\n",
    "    print(clean)\n",
    "\n",
    "phone(\"(142) 948-1839\") # valid\n",
    "phone(\"123.456.7890\") # valid\n",
    "phone(\"11234567890\") # 11 digits but valid\n",
    "phone(\"21234567890\") # 11 digits with first not 1 so invalid\n",
    "phone(\"123456789\") # 9 digits, invalid"
   ]
  },
  {
   "cell_type": "markdown",
   "metadata": {},
   "source": [
    "### Experimentation"
   ]
  },
  {
   "cell_type": "code",
   "execution_count": 11,
   "metadata": {},
   "outputs": [],
   "source": [
    "phone = \"(142) 948-1839\""
   ]
  },
  {
   "cell_type": "code",
   "execution_count": 12,
   "metadata": {},
   "outputs": [
    {
     "name": "stdout",
     "output_type": "stream",
     "text": [
      "0123456789\n"
     ]
    }
   ],
   "source": [
    "import string\n",
    "print(string.digits)"
   ]
  },
  {
   "cell_type": "code",
   "execution_count": 13,
   "metadata": {},
   "outputs": [
    {
     "name": "stdout",
     "output_type": "stream",
     "text": [
      "['1', '4', '2', '9', '4', '8', '1', '8', '3', '9']\n"
     ]
    }
   ],
   "source": [
    "lst = [n for n in phone if n in string.digits]\n",
    "print(lst)"
   ]
  },
  {
   "cell_type": "code",
   "execution_count": 20,
   "metadata": {},
   "outputs": [
    {
     "name": "stdout",
     "output_type": "stream",
     "text": [
      "1429481839\n"
     ]
    }
   ],
   "source": [
    "if (len(lst) == 11 and lst[0] == '1'):\n",
    "    lst.pop(0)\n",
    "    clean = ''.join(lst.pop(0))\n",
    "    print(''.join(lst))\n",
    "elif len(lst) == 10:\n",
    "    print(''.join(lst))\n",
    "else:\n",
    "    print(f\"Invalid phone number\")"
   ]
  }
 ],
 "metadata": {
  "kernelspec": {
   "display_name": "pybase",
   "language": "python",
   "name": "pybase"
  },
  "language_info": {
   "codemirror_mode": {
    "name": "ipython",
    "version": 3
   },
   "file_extension": ".py",
   "mimetype": "text/x-python",
   "name": "python",
   "nbconvert_exporter": "python",
   "pygments_lexer": "ipython3",
   "version": "3.8.5"
  }
 },
 "nbformat": 4,
 "nbformat_minor": 4
}
