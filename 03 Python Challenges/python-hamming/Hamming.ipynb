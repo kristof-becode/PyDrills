{
 "cells": [
  {
   "cell_type": "markdown",
   "metadata": {},
   "source": [
    "## Hamming Distance"
   ]
  },
  {
   "cell_type": "markdown",
   "metadata": {},
   "source": [
    "\n",
    "By counting the number of differences between two homologous DNA strands\n",
    "taken from different genomes with a common ancestor, we get a measure of\n",
    "the minimum number of point mutations that could have occurred on the\n",
    "evolutionary path between the two strands.\n",
    "\n",
    "This is called the 'Hamming distance'.\n",
    "\n",
    "It is found by comparing two DNA strands and counting how many of the\n",
    "nucleotides are different from their equivalent in the other string.\n",
    "\n",
    "In information theory, the Hamming distance between two strings of equal length is the \n",
    "number of positions at which the corresponding symbols are different.\n",
    "\n",
    "The symbols may be letters, bits, or decimal digits, among other possibilities. \n",
    "For example, the Hamming distance between:\n",
    "\n",
    "    \"karolin\" and \"kathrin\" is 3.\n",
    "    \"karolin\" and \"kerstin\" is 3.\n",
    "    \"kathrin\" and \"kerstin\" is 4.\n",
    "    1011101 and 1001001 is 2.\n",
    "    2173896 and 2233796 is 3.\n"
   ]
  },
  {
   "cell_type": "markdown",
   "metadata": {},
   "source": [
    "### Algorithm"
   ]
  },
  {
   "cell_type": "code",
   "execution_count": 17,
   "metadata": {},
   "outputs": [
    {
     "name": "stdout",
     "output_type": "stream",
     "text": [
      "The hamming distance for \"GGACGGATTCTG\" and \"AGGACGGATTCT\" is 9\n",
      "The hamming distance for \"karolin\" and \"kathrin\" is 3\n",
      "These strings are not equal length!\n",
      "The hamming distance for \"GGACG\" and \"GGTCG\" is 1\n",
      "The hamming distance for \"1011101\" and \"1001001\" is 2\n"
     ]
    }
   ],
   "source": [
    "def hamming(str_a,str_b):\n",
    "    if len(str_a) == len(str_b): # hamming distance is calculated for strings with equal length\n",
    "        hamming = 0\n",
    "        for i in range(len(str_a)): # iterate over string a and count the positions with different values in a and b\n",
    "            if str_a[i] != str_b[i]:\n",
    "                hamming += 1\n",
    "        print(f'The hamming distance for \"{str_a}\" and \"{str_b}\" is {hamming}')\n",
    "    else:\n",
    "        print('These strings are not equal length!')\n",
    "        \n",
    "        \n",
    "hamming('GGACGGATTCTG', 'AGGACGGATTCT')\n",
    "hamming(\"karolin\",\"kathrin\")\n",
    "hamming('GGACGGATTC', 'AGGACGGATTCT') # unequal length\n",
    "hamming('GGACG', 'GGTCG')\n",
    "hamming('1011101','1001001')"
   ]
  },
  {
   "cell_type": "code",
   "execution_count": null,
   "metadata": {},
   "outputs": [],
   "source": []
  }
 ],
 "metadata": {
  "kernelspec": {
   "display_name": "pybase",
   "language": "python",
   "name": "pybase"
  },
  "language_info": {
   "codemirror_mode": {
    "name": "ipython",
    "version": 3
   },
   "file_extension": ".py",
   "mimetype": "text/x-python",
   "name": "python",
   "nbconvert_exporter": "python",
   "pygments_lexer": "ipython3",
   "version": "3.8.5"
  }
 },
 "nbformat": 4,
 "nbformat_minor": 4
}
