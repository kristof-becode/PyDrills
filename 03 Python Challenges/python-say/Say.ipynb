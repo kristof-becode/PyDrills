{
 "cells": [
  {
   "cell_type": "markdown",
   "metadata": {},
   "source": [
    "## Say"
   ]
  },
  {
   "cell_type": "markdown",
   "metadata": {},
   "source": [
    "Write a program that will take a number from 0 to 999,999,999,999 and\n",
    "spell out that number in English.\n",
    "\n",
    "#### Step 1\n",
    "\n",
    "Handle the basic case of 0 through 99.\n",
    "\n",
    "If the input to the program is `22`, then the output should be\n",
    "`'twenty-two'`.\n",
    "\n",
    "Your program should complain loudly if given a number outside the\n",
    "blessed range.\n",
    "\n",
    "Some good test cases for this program are:\n",
    "\n",
    "- 0\n",
    "- 14\n",
    "- 50\n",
    "- 98\n",
    "- -1\n",
    "- 100\n",
    "\n",
    "##### Extension\n",
    "\n",
    "If you're on a Mac, shell out to Mac OS X's `say` program to talk out\n",
    "loud.\n",
    "\n",
    "#### Step 2\n",
    "\n",
    "Implement breaking a number up into chunks of thousands.\n",
    "\n",
    "So `1234567890` should yield a list like 1, 234, 567, and 890, while the\n",
    "far simpler `1000` should yield just 1 and 0.\n",
    "\n",
    "The program must also report any values that are out of range.\n",
    "\n",
    "#### Step 3\n",
    "\n",
    "Now handle inserting the appropriate scale word between those chunks.\n",
    "\n",
    "So `1234567890` should yield `'1 billion 234 million 567 thousand 890'`\n",
    "\n",
    "The program must also report any values that are out of range.  It's\n",
    "fine to stop at \"trillion\".\n",
    "\n",
    "#### Step 4\n",
    "\n",
    "Put it all together to get nothing but plain English.\n",
    "\n",
    "`12345` should give `twelve thousand three hundred forty-five`.\n",
    "\n",
    "The program must also report any values that are out of range.\n",
    "\n",
    "##### Extensions\n",
    "\n",
    "Use _and_ (correctly) when spelling out the number in English:\n",
    "\n",
    "- 14 becomes \"fourteen\".\n",
    "- 100 becomes \"one hundred\".\n",
    "- 120 becomes \"one hundred and twenty\".\n",
    "- 1002 becomes \"one thousand and two\".\n",
    "- 1323 becomes \"one thousand three hundred and twenty-three\"."
   ]
  },
  {
   "cell_type": "markdown",
   "metadata": {},
   "source": [
    "### Algorithm"
   ]
  },
  {
   "cell_type": "code",
   "execution_count": 58,
   "metadata": {},
   "outputs": [
    {
     "name": "stdout",
     "output_type": "stream",
     "text": [
      "five hundred and ninety-six million one hundred and twenty-three thousand five hundred and ninety-four \n",
      "ten thousand two hundred and thirty-four \n",
      "one thousand two hundred and thirty-four \n",
      "one billion\n",
      "one hundred thousand\n",
      "twenty-two \n",
      "one hundred \n",
      "one hundred and two \n",
      "twenty thousand two hundred and two \n",
      "one million two thousand three hundred and forty-five \n",
      "Number out range; 0 - 1 trillion\n",
      "zero\n",
      "one million and two \n",
      "one \n",
      "five \n"
     ]
    }
   ],
   "source": [
    "def say(num:int)->str:\n",
    "    # dictionary with minimum building blocks\n",
    "    con = {\n",
    "        1 : 'one', 2 : 'two', 3 : 'three', 4 : 'four', 5 : 'five', 6 : 'six',\n",
    "        7 : 'seven', 8 : 'eight', 9 : 'nine', 10 : 'ten', 20 : 'twenty', \n",
    "        30 : 'thirty', 40 : 'forty', 50 : 'fifty', 60 : 'sixty',\n",
    "        70 : 'seventy', 80 : 'eighty', 90 : 'ninety', 10 : 'ten', 100 : 'hundred',\n",
    "        1000 : 'thousand', 1000000 : 'million', 1000000000 : 'billion'\n",
    "    }\n",
    "    # convert number to int to deal with floats\n",
    "    num = int(num)\n",
    "    # range 1 to 1 trillion, so break up number in thousandfolds from 1 up to 1 billion reversed\n",
    "    thousandfolds = [1000000000, 1000000, 1000, 1]\n",
    "    message = ''\n",
    "    # for a number in range; get all digits per thousandfold and add to string with help of dictionary above\n",
    "    if num > 0 and num < 1000000000000:\n",
    "        for th in thousandfolds:\n",
    "            #if num // item != 0:\n",
    "            while num // th != 0:\n",
    "                div = num // th \n",
    "                num -= div * th\n",
    "                h = div // 100\n",
    "                div -= h * 100\n",
    "                t = div // 10\n",
    "                div -= t * 10\n",
    "                o = div // 1\n",
    "                if (h != 0) and (t != 0) and (o != 0):\n",
    "                    message += ' ' + con[h] + ' ' + con[100] + ' and ' + con[t * 10] + '-' + con[o] + ' ' + con[th]\n",
    "                elif (h != 0) and (t != 0) and (o == 0):\n",
    "                    message += ' ' + con[h] + ' ' + con[100] + ' and ' + con[t * 10] + ' ' + con[th]\n",
    "                elif (h == 0) and (t != 0) and (o == 0):\n",
    "                    message += ' ' + con[t*10] + ' ' + con[th]\n",
    "                elif (h != 0) and (t == 0) and (o == 0):\n",
    "                    message += ' ' + con[h] + ' ' + con[100] + ' ' + con[th]\n",
    "                elif (h == 0) and (t != 0) and (o != 0):\n",
    "                    message += ' ' + con[t * 10] + '-' + con[o] + ' ' + con[th]\n",
    "                elif (h != 0) and (t == 0) and (o != 0):\n",
    "                    message += ' ' + con[h] + ' ' + con[100] + ' and ' + con[o] + ' ' + con[th]\n",
    "                elif (h == 0) and (t == 0) and (o != 0) and (th == 1):\n",
    "                    message +=  ' and ' + con[o] + ' ' + con[th]\n",
    "                # for a single digit number\n",
    "                elif (h == 0) and (t == 0) and (o != 0) and (th == 1) and message == '':\n",
    "                    message +=  ' ' + con[o] + ' ' + con[th]\n",
    "                # for a thousandfold\n",
    "                else: #(h == 0) and (t == 0) and (o != 0):\n",
    "                    message +=  ' ' + con[o] + ' ' + con[th]\n",
    "            #else:\n",
    "                #pass\n",
    "                    \n",
    "        if message[-3:] == 'one': # minus first space and 'one'(th)\n",
    "            message = message[1:-3]\n",
    "        else:\n",
    "            message = message[1:] # minus first space\n",
    "        print(message)\n",
    "        \n",
    "    elif num == 0:\n",
    "        print(f\"zero\")\n",
    "      \n",
    "    else:\n",
    "        print(f\"Number out range; 0 - 1 trillion\")\n",
    "                \n",
    "\n",
    "say(596123594)\n",
    "say(10234)\n",
    "say(1234)\n",
    "say(1000000000)\n",
    "say(100000)\n",
    "say(22)\n",
    "say(100)\n",
    "say(102)\n",
    "say(20202)\n",
    "say(1002345)\n",
    "say(-42)\n",
    "say(0)\n",
    "say(1000002)\n",
    "say(1)\n",
    "say(5)"
   ]
  },
  {
   "cell_type": "markdown",
   "metadata": {},
   "source": [
    "### Experimentation"
   ]
  },
  {
   "cell_type": "code",
   "execution_count": 52,
   "metadata": {},
   "outputs": [
    {
     "data": {
      "text/plain": [
       "345"
      ]
     },
     "execution_count": 52,
     "metadata": {},
     "output_type": "execute_result"
    }
   ],
   "source": [
    "345000000034 // 1000000000 "
   ]
  },
  {
   "cell_type": "code",
   "execution_count": 2,
   "metadata": {},
   "outputs": [
    {
     "data": {
      "text/plain": [
       "0"
      ]
     },
     "execution_count": 2,
     "metadata": {},
     "output_type": "execute_result"
    }
   ],
   "source": [
    "3450000 // 1000000000 "
   ]
  }
 ],
 "metadata": {
  "kernelspec": {
   "display_name": "pybase",
   "language": "python",
   "name": "pybase"
  },
  "language_info": {
   "codemirror_mode": {
    "name": "ipython",
    "version": 3
   },
   "file_extension": ".py",
   "mimetype": "text/x-python",
   "name": "python",
   "nbconvert_exporter": "python",
   "pygments_lexer": "ipython3",
   "version": "3.8.5"
  }
 },
 "nbformat": 4,
 "nbformat_minor": 4
}
