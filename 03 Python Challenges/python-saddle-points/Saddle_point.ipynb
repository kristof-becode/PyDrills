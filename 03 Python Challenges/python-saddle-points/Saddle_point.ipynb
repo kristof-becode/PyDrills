{
 "cells": [
  {
   "cell_type": "markdown",
   "metadata": {},
   "source": [
    "## Saddle Point"
   ]
  },
  {
   "cell_type": "markdown",
   "metadata": {},
   "source": [
    "Write a program that detects saddle points in a matrix.\n",
    "\n",
    "So say you have a matrix like so:\n",
    "\n",
    "```plain\n",
    "    0  1  2\n",
    "  |---------\n",
    "0 | 9  8  7\n",
    "1 | 5  3  2     <--- saddle point at (1,0)\n",
    "2 | 6  6  7\n",
    "```\n",
    "\n",
    "It has a saddle point at (1, 0).\n",
    "\n",
    "It's called a \"saddle point\" because it is greater than or equal to\n",
    "every element in its row and the less than or equal to every element in\n",
    "its column.\n",
    "\n",
    "A matrix may have zero or more saddle points.\n",
    "\n",
    "Your code should be able to provide the (possibly empty) list of all the\n",
    "saddle points for any given matrix.\n",
    "\n",
    "Note that you may find other definitions of matrix saddle points online,\n",
    "but the tests for this exercise follow the above unambiguous definition."
   ]
  },
  {
   "cell_type": "markdown",
   "metadata": {},
   "source": [
    "### Note"
   ]
  },
  {
   "cell_type": "markdown",
   "metadata": {},
   "source": [
    " I guess I need to get the index of row and column instead of the value, hence saddle point"
   ]
  },
  {
   "cell_type": "markdown",
   "metadata": {},
   "source": [
    "### Algorithm"
   ]
  },
  {
   "cell_type": "code",
   "execution_count": null,
   "metadata": {},
   "outputs": [],
   "source": [
    "def saddle(inp:list)->list:\n",
    "\n",
    "    \n",
    "saddle([[9, 8, 7], [5, 3, 2], [6, 7]])\n",
    "saddle([[9, 8, 7], [5, 3, 2], [6, 6, 7]])     \n",
    "saddle([[2, 1], [1, 2]])\n",
    "saddle([[5, 3, 5, 4], [6, 4, 7, 3], [5, 1, 5, 3]])"
   ]
  },
  {
   "cell_type": "markdown",
   "metadata": {},
   "source": [
    "### Experimentation"
   ]
  },
  {
   "cell_type": "code",
   "execution_count": 5,
   "metadata": {},
   "outputs": [],
   "source": [
    "inp = [[9, 8, 7], [5, 3, 2], [6, 7]]# [[9, 8, 7], [5, 3, 2], [6, 6, 7]]"
   ]
  },
  {
   "cell_type": "code",
   "execution_count": 6,
   "metadata": {},
   "outputs": [
    {
     "name": "stdout",
     "output_type": "stream",
     "text": [
      "Invalid or irregular matrix\n"
     ]
    }
   ],
   "source": [
    "if all(len(item)==len(inp[0]) for item in inp):\n",
    "    print(f\"Valid matrix\")\n",
    "else:\n",
    "    print(f\"Invalid or irregular matrix\")"
   ]
  },
  {
   "cell_type": "code",
   "execution_count": 8,
   "metadata": {},
   "outputs": [],
   "source": [
    "inp = [[9, 8, 7], [5, 3, 2], [6, 6, 7]]"
   ]
  },
  {
   "cell_type": "code",
   "execution_count": 10,
   "metadata": {},
   "outputs": [
    {
     "name": "stdout",
     "output_type": "stream",
     "text": [
      "[9, 8, 7, 5, 3, 2, 6, 6, 7]\n"
     ]
    }
   ],
   "source": [
    "a = [n for item in inp for n in item]\n",
    "print(a)"
   ]
  },
  {
   "cell_type": "code",
   "execution_count": null,
   "metadata": {},
   "outputs": [],
   "source": [
    "for i in a:\n",
    "    if (i >= ) and (i <= )\n",
    "    \n",
    "    # append (col, row) to a list"
   ]
  }
 ],
 "metadata": {
  "kernelspec": {
   "display_name": "pybase",
   "language": "python",
   "name": "pybase"
  },
  "language_info": {
   "codemirror_mode": {
    "name": "ipython",
    "version": 3
   },
   "file_extension": ".py",
   "mimetype": "text/x-python",
   "name": "python",
   "nbconvert_exporter": "python",
   "pygments_lexer": "ipython3",
   "version": "3.8.5"
  }
 },
 "nbformat": 4,
 "nbformat_minor": 4
}
