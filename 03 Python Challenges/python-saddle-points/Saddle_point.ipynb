{
 "cells": [
  {
   "cell_type": "markdown",
   "metadata": {},
   "source": [
    "## Saddle Point"
   ]
  },
  {
   "cell_type": "markdown",
   "metadata": {},
   "source": [
    "Write a program that detects saddle points in a matrix.\n",
    "\n",
    "So say you have a matrix like so:\n",
    "\n",
    "```plain\n",
    "    0  1  2\n",
    "  |---------\n",
    "0 | 9  8  7\n",
    "1 | 5  3  2     <--- saddle point at (1,0)\n",
    "2 | 6  6  7\n",
    "```\n",
    "\n",
    "It has a saddle point at (1, 0).\n",
    "\n",
    "It's called a \"saddle point\" because it is greater than or equal to\n",
    "every element in its row and the less than or equal to every element in\n",
    "its column.\n",
    "\n",
    "A matrix may have zero or more saddle points.\n",
    "\n",
    "Your code should be able to provide the (possibly empty) list of all the\n",
    "saddle points for any given matrix.\n",
    "\n",
    "Note that you may find other definitions of matrix saddle points online,\n",
    "but the tests for this exercise follow the above unambiguous definition."
   ]
  },
  {
   "cell_type": "markdown",
   "metadata": {},
   "source": [
    "### Note"
   ]
  },
  {
   "cell_type": "markdown",
   "metadata": {},
   "source": [
    "I need to get the index of row and column instead of the value, hence saddle point"
   ]
  },
  {
   "cell_type": "markdown",
   "metadata": {},
   "source": [
    "### Algorithm"
   ]
  },
  {
   "cell_type": "code",
   "execution_count": 28,
   "metadata": {},
   "outputs": [
    {
     "name": "stdout",
     "output_type": "stream",
     "text": [
      "Invalid or irregular matrix\n",
      "[(1, 0)]\n",
      "[]\n",
      "[(0, 0), (0, 2), (2, 0), (2, 2)]\n"
     ]
    }
   ],
   "source": [
    "def saddle(inp:list)->list:\n",
    "    # determine if valid matrix, if so check for saddle points\n",
    "    if all(len(item)==len(inp[0]) for item in inp): # Valid matrix if all sublists have equal length\n",
    "        sad = []\n",
    "        for item in inp: # find saddle points\n",
    "            for i,num in enumerate(item):\n",
    "                if all(num >= u for u in item if u != num) and all(num <= item[i] for item in inp):\n",
    "                    sad.append((inp.index(item),i)) # add tuple with element index: (row index, column index)\n",
    "                else:\n",
    "                    pass\n",
    "        print(sad)\n",
    "    else:  # Invalid matrix\n",
    "        print(f\"Invalid or irregular matrix\")\n",
    "    \n",
    "saddle([[9, 8, 7], [5, 3, 2], [6, 7]]) # Invalid\n",
    "saddle([[9, 8, 7], [5, 3, 2], [6, 6, 7]]) # [(1, 0)] \n",
    "saddle([[2, 1], [1, 2]]) # []\n",
    "saddle([[5, 3, 5, 4], [6, 4, 7, 3], [5, 1, 5, 3]]) # [(0, 0), (0, 2), (2, 0), (2, 2)]"
   ]
  },
  {
   "cell_type": "markdown",
   "metadata": {},
   "source": [
    "### Experimentation"
   ]
  },
  {
   "cell_type": "code",
   "execution_count": 17,
   "metadata": {},
   "outputs": [],
   "source": [
    "inp = [[9, 8, 7], [5, 3, 2], [6, 6, 7]]"
   ]
  },
  {
   "cell_type": "code",
   "execution_count": 18,
   "metadata": {},
   "outputs": [
    {
     "name": "stdout",
     "output_type": "stream",
     "text": [
      "9 8 7\n",
      "5 3 2\n",
      "6 6 7\n"
     ]
    }
   ],
   "source": [
    "# print matrix\n",
    "for item in inp: print(*item)"
   ]
  },
  {
   "cell_type": "code",
   "execution_count": 20,
   "metadata": {},
   "outputs": [],
   "source": [
    "inp = [[9, 8, 7], [5, 3, 2], [6, 7]] # invalid"
   ]
  },
  {
   "cell_type": "code",
   "execution_count": 21,
   "metadata": {},
   "outputs": [
    {
     "name": "stdout",
     "output_type": "stream",
     "text": [
      "Invalid or irregular matrix\n"
     ]
    }
   ],
   "source": [
    "# check valid matrix\n",
    "if all(len(item)==len(inp[0]) for item in inp):\n",
    "    print(f\"Valid matrix\")\n",
    "else:\n",
    "    print(f\"Invalid or irregular matrix\")"
   ]
  },
  {
   "cell_type": "code",
   "execution_count": 22,
   "metadata": {},
   "outputs": [],
   "source": [
    "inp = [[9, 8, 7], [5, 3, 2], [6, 6, 7]] # valid"
   ]
  },
  {
   "cell_type": "code",
   "execution_count": 23,
   "metadata": {},
   "outputs": [
    {
     "name": "stdout",
     "output_type": "stream",
     "text": [
      "9 at index (0, 0)\n",
      "8 at index (0, 1)\n",
      "7 at index (0, 2)\n",
      "5 at index (1, 0)\n",
      "3 at index (1, 1)\n",
      "2 at index (1, 2)\n",
      "6 at index (2, 0)\n",
      "6 at index (2, 1)\n",
      "7 at index (2, 2)\n"
     ]
    }
   ],
   "source": [
    "# print indices for all matrix elements\n",
    "for item in inp:\n",
    "    for i,num in enumerate(item):\n",
    "        print(f\"{num} at index {(inp.index(item),i)}\")"
   ]
  },
  {
   "cell_type": "code",
   "execution_count": 25,
   "metadata": {},
   "outputs": [
    {
     "name": "stdout",
     "output_type": "stream",
     "text": [
      "9 at index (0, 0)\n",
      "5 at index (1, 0)\n",
      "7 at index (2, 2)\n"
     ]
    }
   ],
   "source": [
    "# check item in row greater or equal to other row elements\n",
    "for item in inp:\n",
    "    for i,num in enumerate(item):\n",
    "        if all(num >= u for u in item if u != num ):\n",
    "            print(f\"{num} at index {(inp.index(item),i)}\")"
   ]
  },
  {
   "cell_type": "code",
   "execution_count": 26,
   "metadata": {},
   "outputs": [
    {
     "name": "stdout",
     "output_type": "stream",
     "text": [
      "5 at index (1, 0)\n",
      "[(1, 0)]\n"
     ]
    }
   ],
   "source": [
    "# add check for item <= all other colum elements => algorithm!!!\n",
    "sad = []\n",
    "for item in inp:\n",
    "    for i,num in enumerate(item):\n",
    "        if all(num >= u for u in item if u != num) and all(num <= item[i] for item in inp):\n",
    "            print(f\"{num} at index {(inp.index(item),i)}\")\n",
    "            sad.append((inp.index(item),i))\n",
    "        else:\n",
    "            pass\n",
    "print(sad)"
   ]
  },
  {
   "cell_type": "code",
   "execution_count": null,
   "metadata": {},
   "outputs": [],
   "source": []
  }
 ],
 "metadata": {
  "kernelspec": {
   "display_name": "pybase",
   "language": "python",
   "name": "pybase"
  },
  "language_info": {
   "codemirror_mode": {
    "name": "ipython",
    "version": 3
   },
   "file_extension": ".py",
   "mimetype": "text/x-python",
   "name": "python",
   "nbconvert_exporter": "python",
   "pygments_lexer": "ipython3",
   "version": "3.8.5"
  }
 },
 "nbformat": 4,
 "nbformat_minor": 4
}
