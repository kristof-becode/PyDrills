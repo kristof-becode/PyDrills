{
 "cells": [
  {
   "cell_type": "markdown",
   "metadata": {},
   "source": [
    "## Sieve of Erastothenes"
   ]
  },
  {
   "cell_type": "markdown",
   "metadata": {},
   "source": [
    "Write a program that uses the Sieve of Eratosthenes to find all the\n",
    "primes from 2 up to a given number.\n",
    "\n",
    "#### Intro\n",
    "In mathematics, the sieve of Eratosthenes is an ancient algorithm for finding all prime numbers up to any given limit.\n",
    "\n",
    "It does so by iteratively marking as composite (i.e., not prime) the multiples of each prime, starting with the first prime number, 2. The multiples of a given prime are generated as a sequence of numbers starting from that prime, with constant difference between them that is equal to that prime. This is the sieve's key distinction from using trial division to sequentially test each candidate number for divisibility by each prime. Once all the multiples of each discovered prime have been marked as composites, the remaining unmarked numbers are primes.\n",
    "\n",
    "One of a number of prime number sieves, it is one of the most efficient ways to find all of the smaller primes. It may be used to find primes in arithmetic progressions.\n",
    "\n",
    "#### How\n",
    "A prime number is a natural number that has exactly two distinct natural number divisors: the number 1 and itself.\n",
    "\n",
    "To find all the prime numbers less than or equal to a given integer n by Eratosthenes' method:\n",
    "\n",
    "```\n",
    "Sift the Two's and Sift the Three's,\n",
    "The Sieve of Eratosthenes.\n",
    "When the multiples sublime,\n",
    "The numbers that remain are Prime.\n",
    "```\n",
    "\n",
    "```\n",
    "1. Create a list of consecutive integers from 2 through n: (2, 3, 4, ..., n).\n",
    "2. Initially, let p equal 2, the smallest prime number.\n",
    "3. Enumerate the multiples of p by counting in increments of p from 2p to n, and mark them in the list (these will be 2p, 3p, 4p, ...; the p itself should not be marked).\n",
    "4. Find the smallest number in the list greater than p that is not marked. If there was no such number, stop. Otherwise, let p now equal this new number (which is the next prime), and repeat from step 3.\n",
    "5. When the algorithm terminates, the numbers remaining not marked in the list are all the primes below n.\n",
    "```\n",
    "The main idea here is that every value given to p will be prime, because if it were composite it would be marked as a multiple of some other, smaller prime. Note that some of the numbers may be marked more than once (e.g., 15 will be marked both for 3 and 5).\n",
    "\n",
    "As a refinement, it is sufficient to mark the numbers in step 3 starting from p2, as all the smaller multiples of p will have already been marked at that point. This means that the algorithm is allowed to terminate in step 4 when p2 is greater than n.\n",
    "\n",
    "Another refinement is to initially list odd numbers only, (3, 5, ..., n), and count in increments of 2p from p2 in step 3, thus marking only odd multiples of p. This actually appears in the original algorithm. This can be generalized with wheel factorization, forming the initial list only from numbers coprime with the first few primes and not just from odds (i.e., numbers coprime with 2), and counting in the correspondingly adjusted increments so that only such multiples of p are generated that are coprime with those small primes, in the first place\n",
    "\n",
    "#### Example\n",
    "\n",
    "To find all the prime numbers less than or equal to 30, proceed as follows.\n",
    "\n",
    "First, generate a list of integers from 2 to 30:\n",
    "\n",
    " 2  3  4  5  6  7  8  9  10 11 12 13 14 15 16 17 18 19 20 21 22 23 24 25 26 27 28 29 30\n",
    " \n",
    "The first number in the list is 2; cross out every 2nd number in the list after 2 by counting up from 2 in increments of 2 (these will be all the multiples of 2 in the list):\n",
    "\n",
    " 2  3  4  5  6  7  8  9  10 11 12 13 14 15 16 17 18 19 20 21 22 23 24 25 26 27 28 29 30\n",
    " \n",
    "The next number in the list after 2 is 3; cross out every 3rd number in the list after 3 by counting up from 3 in increments of 3 (these will be all the multiples of 3 in the list):\n",
    "\n",
    " 2  3  4  5  6  7  8  9  10 11 12 13 14 15 16 17 18 19 20 21 22 23 24 25 26 27 28 29 30\n",
    " \n",
    "The next number not yet crossed out in the list after 3 is 5; cross out every 5th number in the list after 5 by counting up from 5 in increments of 5 (i.e. all the multiples of 5):\n",
    "\n",
    " 2  3  4  5  6  7  8  9  10 11 12 13 14 15 16 17 18 19 20 21 22 23 24 25 26 27 28 29 30\n",
    " \n",
    "The next number not yet crossed out in the list after 5 is 7; the next step would be to cross out every 7th number in the list after 7, but they are all already crossed out at this point, as these numbers (14, 21, 28) are also multiples of smaller primes because 7 × 7 is greater than 30. The numbers not crossed out at this point in the list are all the prime numbers below 30:\n",
    "\n",
    " 2  3     5     7           11    13          17    19          23                29\n",
    " \n",
    " \n",
    "#### Segmented sieve\n",
    "\n",
    "As Sorenson notes, the problem with the sieve of Eratosthenes is not the number of operations it performs but rather its memory requirements. For large n, the range of primes may not fit in memory; worse, even for moderate n, its cache use is highly suboptimal. The algorithm walks through the entire array A, exhibiting almost no locality of reference.\n",
    "\n",
    "A solution to these problems is offered by segmented sieves, where only portions of the range are sieved at a time. These have been known since the 1970s, and work as follows:\n",
    "```\n",
    "1. Divide the range 2 through n into segments of some size Δ ≤ √n.\n",
    "2. Find the primes in the first (i.e. the lowest) segment, using the regular sieve.\n",
    "3. For each of the following segments, in increasing order, with m being the segment's topmost value, find the primes in it as follows:\n",
    "    1. Set up a Boolean array of size Δ, and\n",
    "    2. Mark as non-prime the positions in the array corresponding to the multiples of each prime p ≤ √m found so        far, by calculating the lowest multiple of p between m - Δ and m, and enumerating its multiples in steps          of p as usual. The remaining positions correspond to the primes in the segment, since the square of a            prime in the segment is not in the segment (for k ≥ 1, one has (k\\Delta +1)^{2}>(k+1)\\Delta }).\n",
    "\n",
    "{\\displaystyle (k\\Delta +1)^{2}>(k+1)\\Delta }).\n",
    "```\n",
    "If Δ is chosen to be √n, the space complexity of the algorithm is O(√n), while the time complexity is the same as that of the regular sieve.\n",
    "\n",
    "For ranges with upper limit n so large that the sieving primes below √n as required by the page segmented sieve of Eratosthenes cannot fit in memory, a slower but much more space-efficient sieve like the sieve of Sorenson can be used instead.\n",
    "\n",
    "#### Incremental sieve\n",
    "\n",
    "An incremental formulation of the sieve generates primes indefinitely (i.e., without an upper bound) by interleaving the generation of primes with the generation of their multiples (so that primes can be found in gaps between the multiples), where the multiples of each prime p are generated directly by counting up from the square of the prime in increments of p (or 2p for odd primes). The generation must be initiated only when the prime's square is reached, to avoid adverse effects on efficiency. It can be expressed symbolically under the dataflow paradigm as\n",
    "\n",
    "primes = [2, 3, ...] \\ [[p², p²+p, ...] for p in primes],\n",
    "using list comprehension notation with \\ denoting set subtraction of arithmetic progressions of numbers.\n",
    "\n",
    "Primes can also be produced by iteratively sieving out the composites through divisibility testing by sequential primes, one prime at a time. It is not the sieve of Eratosthenes but is often confused with it, even though the sieve of Eratosthenes directly generates the composites instead of testing for them. Trial division has worse theoretical complexity than that of the sieve of Eratosthenes in generating ranges of primes.\n",
    "\n",
    "When testing each prime, the optimal trial division algorithm uses all prime numbers not exceeding its square root, whereas the sieve of Eratosthenes produces each composite from its prime factors only, and gets the primes \"for free\", between the composites. The widely known 1975 functional sieve code by David Turner is often presented as an example of the sieve of Eratosthenes but is actually a sub-optimal trial division sieve."
   ]
  },
  {
   "cell_type": "markdown",
   "metadata": {},
   "source": [
    "### Algorithm"
   ]
  },
  {
   "cell_type": "code",
   "execution_count": null,
   "metadata": {},
   "outputs": [],
   "source": [
    "def erastothenes(n:int)->list:\n",
    "    \n",
    "\n",
    "erastothenes(n)\n",
    "erastothenes(n)\n",
    "erastothenes(n)\n",
    "erastothenes(n)"
   ]
  },
  {
   "cell_type": "markdown",
   "metadata": {},
   "source": [
    "### Experimentation"
   ]
  },
  {
   "cell_type": "code",
   "execution_count": null,
   "metadata": {},
   "outputs": [],
   "source": []
  }
 ],
 "metadata": {
  "kernelspec": {
   "display_name": "pybase",
   "language": "python",
   "name": "pybase"
  },
  "language_info": {
   "codemirror_mode": {
    "name": "ipython",
    "version": 3
   },
   "file_extension": ".py",
   "mimetype": "text/x-python",
   "name": "python",
   "nbconvert_exporter": "python",
   "pygments_lexer": "ipython3",
   "version": "3.8.5"
  }
 },
 "nbformat": 4,
 "nbformat_minor": 4
}
