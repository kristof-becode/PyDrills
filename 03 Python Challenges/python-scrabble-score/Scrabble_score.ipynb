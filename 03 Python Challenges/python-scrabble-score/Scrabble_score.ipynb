{
 "cells": [
  {
   "cell_type": "markdown",
   "metadata": {},
   "source": [
    "## Scrabble score"
   ]
  },
  {
   "cell_type": "markdown",
   "metadata": {},
   "source": [
    "Write a program that, given a word, computes the scrabble score for that\n",
    "word.\n",
    "\n",
    "#### Letter Values\n",
    "\n",
    "You'll need these:\n",
    "\n",
    "```plain\n",
    "Letter                           Value\n",
    "A, E, I, O, U, L, N, R, S, T       1\n",
    "D, G                               2\n",
    "B, C, M, P                         3\n",
    "F, H, V, W, Y                      4\n",
    "K                                  5\n",
    "J, X                               8\n",
    "Q, Z                               10\n",
    "```\n",
    "\n",
    "#### Examples\n",
    "\"cabbage\" should be scored as worth 14 points:\n",
    "\n",
    "- 3 points for C\n",
    "- 1 point for A, twice\n",
    "- 3 points for B, twice\n",
    "- 2 points for G\n",
    "- 1 point for E\n",
    "\n",
    "And to total:\n",
    "\n",
    "- `3 + 2*1 + 2*3 + 2 + 1`\n",
    "- = `3 + 2 + 6 + 3`\n",
    "- = `5 + 9`\n",
    "- = 14"
   ]
  },
  {
   "cell_type": "markdown",
   "metadata": {},
   "source": [
    "### NOTE"
   ]
  },
  {
   "cell_type": "markdown",
   "metadata": {},
   "source": [
    "See Challenge ETL"
   ]
  },
  {
   "cell_type": "markdown",
   "metadata": {},
   "source": [
    "### Algorithm"
   ]
  },
  {
   "cell_type": "code",
   "execution_count": 69,
   "metadata": {},
   "outputs": [
    {
     "name": "stdout",
     "output_type": "stream",
     "text": [
      "Invalid word!\n",
      "Invalid word!\n",
      "Score for street is 6\n",
      "Score for cabbage is 14\n",
      "Score for OxyphenButazone is 41\n",
      "Invalid word!\n"
     ]
    }
   ],
   "source": [
    "import string                                                                   # python string module\n",
    "\n",
    "def score(st:str)->int:\n",
    "    # letter scoring as given, 'old', and translated into workable dict below with score per letter,'new'\n",
    "    old = {\n",
    "    1 : [\"A\", \"E\", \"I\", \"O\", \"U\", \"L\", \"N\", \"R\", \"S\", \"T\"],\n",
    "    2 : [\"D\", \"G\"],\n",
    "    3 : [\"B\", \"C\", \"M\", \"P\"],\n",
    "    4 : [\"F\", \"H\", \"V\", \"W\", \"Y\"],\n",
    "    5 : [\"K\"],\n",
    "    8 : [\"J\", \"X\"],\n",
    "    10 : [\"Q\", \"Z\"]\n",
    "    }\n",
    "    # new scoring with letter:score pairs\n",
    "    new = {item.lower() : key for key,val in old.items() for item in val}\n",
    "    # make list with string elements all lower case\n",
    "    lst = [ch.lower() for ch in st]\n",
    "    # check if all characters in list are alphabet chars to make a valid word\n",
    "    if all(ch in string.ascii_lowercase for ch in lst): \n",
    "        # score all occuring characters and add to total word score\n",
    "        score = 0\n",
    "        for uni in set(lst):\n",
    "            score += lst.count(uni) * new[uni] # number of occurences * letter score\n",
    "        print(f\"Score for {st} is {score}\")\n",
    "    else:\n",
    "        print(f\"Invalid word!\")\n",
    "    \n",
    "    \n",
    "score('wo rd')\n",
    "score('house3')\n",
    "score('street')\n",
    "score('cabbage')\n",
    "score(\"OxyphenButazone\")\n",
    "score(' \\t\\n')"
   ]
  },
  {
   "cell_type": "markdown",
   "metadata": {},
   "source": [
    "### Experimentation"
   ]
  },
  {
   "cell_type": "code",
   "execution_count": 30,
   "metadata": {},
   "outputs": [],
   "source": [
    "old = {\n",
    "    1 : [\"A\", \"E\", \"I\", \"O\", \"U\", \"L\", \"N\", \"R\", \"S\", \"T\"],\n",
    "    2 : [\"D\", \"G\"],\n",
    "    3 : [\"B\", \"C\", \"M\", \"P\"],\n",
    "    4 : [\"F\", \"H\", \"V\", \"W\", \"Y\"],\n",
    "    5 : [\"K\"],\n",
    "    8 : [\"J\", \"X\"],\n",
    "    10 : [\"Q\", \"Z\"]\n",
    "}"
   ]
  },
  {
   "cell_type": "code",
   "execution_count": 33,
   "metadata": {},
   "outputs": [
    {
     "name": "stdout",
     "output_type": "stream",
     "text": [
      "{'a': 1, 'e': 1, 'i': 1, 'o': 1, 'u': 1, 'l': 1, 'n': 1, 'r': 1, 's': 1, 't': 1, 'd': 2, 'g': 2, 'b': 3, 'c': 3, 'm': 3, 'p': 3, 'f': 4, 'h': 4, 'v': 4, 'w': 4, 'y': 4, 'k': 5, 'j': 8, 'x': 8, 'q': 10, 'z': 10}\n"
     ]
    }
   ],
   "source": [
    "def etl(to_etl:dict)->dict:\n",
    "    new = {item.lower() : key for key,val in to_etl.items() for item in val}\n",
    "    return new\n",
    "\n",
    "new = etl(old)\n",
    "print(new)"
   ]
  },
  {
   "cell_type": "code",
   "execution_count": 59,
   "metadata": {},
   "outputs": [],
   "source": [
    "s = \"OxyphenButazone\"#'cabbage'#'street'#'house3' #'wo rd'\n",
    "v = 'house3'"
   ]
  },
  {
   "cell_type": "code",
   "execution_count": 60,
   "metadata": {},
   "outputs": [
    {
     "name": "stdout",
     "output_type": "stream",
     "text": [
      "['o', 'x', 'y', 'p', 'h', 'e', 'n', 'b', 'u', 't', 'a', 'z', 'o', 'n', 'e']\n"
     ]
    }
   ],
   "source": [
    "import string\n",
    "#l = s.lower()\n",
    "lst = [ch.lower() for ch in s]\n",
    "print(lst)"
   ]
  },
  {
   "cell_type": "code",
   "execution_count": 61,
   "metadata": {},
   "outputs": [
    {
     "name": "stdout",
     "output_type": "stream",
     "text": [
      "True\n"
     ]
    }
   ],
   "source": [
    "if all(ch in string.ascii_lowercase for ch in lst): \n",
    "    print(f\"True\")\n",
    "else:\n",
    "    print(f\"False\")"
   ]
  },
  {
   "cell_type": "code",
   "execution_count": 62,
   "metadata": {},
   "outputs": [
    {
     "name": "stdout",
     "output_type": "stream",
     "text": [
      "{'t', 'y', 'n', 'a', 'o', 'z', 'b', 'e', 'u', 'p', 'h', 'x'}\n"
     ]
    }
   ],
   "source": [
    "unique = set(lst)\n",
    "print(unique)"
   ]
  },
  {
   "cell_type": "code",
   "execution_count": 63,
   "metadata": {},
   "outputs": [
    {
     "name": "stdout",
     "output_type": "stream",
     "text": [
      "41\n"
     ]
    }
   ],
   "source": [
    "score = 0\n",
    "for uni in unique:\n",
    "    score+= lst.count(uni) * new[uni]\n",
    "print(score)"
   ]
  }
 ],
 "metadata": {
  "kernelspec": {
   "display_name": "pybase",
   "language": "python",
   "name": "pybase"
  },
  "language_info": {
   "codemirror_mode": {
    "name": "ipython",
    "version": 3
   },
   "file_extension": ".py",
   "mimetype": "text/x-python",
   "name": "python",
   "nbconvert_exporter": "python",
   "pygments_lexer": "ipython3",
   "version": "3.8.5"
  }
 },
 "nbformat": 4,
 "nbformat_minor": 4
}
