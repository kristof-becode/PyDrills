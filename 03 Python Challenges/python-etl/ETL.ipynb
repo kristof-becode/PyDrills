{
 "cells": [
  {
   "cell_type": "markdown",
   "metadata": {},
   "source": [
    "## ETL"
   ]
  },
  {
   "cell_type": "markdown",
   "metadata": {},
   "source": [
    "Extract-Transform-Load (ETL) is a fancy way of saying, \"We have some crufty, legacy data over in this system, and now we need it in this shiny new system over here, so\n",
    "we're going to migrate this.\"\n",
    "\n",
    "(Typically, this is followed by, \"We're only going to need to run this\n",
    "once.\" That's then typically followed by much forehead slapping and\n",
    "moaning about how stupid we could possibly be.)\n",
    "\n",
    "### The goal\n",
    "We're going to extract some scrabble scores from a legacy system.\n",
    "\n",
    "The old system stored a list of letters per score:\n",
    "\n",
    "- 1 point: \"A\", \"E\", \"I\", \"O\", \"U\", \"L\", \"N\", \"R\", \"S\", \"T\",\n",
    "- 2 points: \"D\", \"G\",\n",
    "- 3 points: \"B\", \"C\", \"M\", \"P\",\n",
    "- 4 points: \"F\", \"H\", \"V\", \"W\", \"Y\",\n",
    "- 5 points: \"K\",\n",
    "- 8 points: \"J\", \"X\",\n",
    "- 10 points: \"Q\", \"Z\",\n",
    "\n",
    "The shiny new scrabble system instead stores the score per letter, which\n",
    "makes it much faster and easier to calculate the score for a word. It\n",
    "also stores the letters in lower-case regardless of the case of the\n",
    "input letters:\n",
    "\n",
    "- \"a\" is worth 1 point.\n",
    "- \"b\" is worth 3 points.\n",
    "- \"c\" is worth 3 points.\n",
    "- \"d\" is worth 2 points.\n",
    "- Etc.\n",
    "\n",
    "Your mission, should you choose to accept it, is to write a program that\n",
    "transforms the legacy data format to the shiny new format.\n",
    "\n",
    "### Notes\n",
    "\n",
    "A final note about scoring, Scrabble is played around the world in a\n",
    "variety of languages, each with its own unique scoring table. For\n",
    "example, an \"A\" is scored at 14 in the Basque-language version of the\n",
    "game while being scored at 9 in the Latin-language version."
   ]
  },
  {
   "cell_type": "markdown",
   "metadata": {},
   "source": [
    "### Algorithm"
   ]
  },
  {
   "cell_type": "code",
   "execution_count": 36,
   "metadata": {},
   "outputs": [],
   "source": [
    "old = {\n",
    "    1 : [\"A\", \"E\", \"I\", \"O\", \"U\", \"L\", \"N\", \"R\", \"S\", \"T\"],\n",
    "    2 : [\"D\", \"G\"],\n",
    "    3 : [\"B\", \"C\", \"M\", \"P\"],\n",
    "    4 : [\"F\", \"H\", \"V\", \"W\", \"Y\"],\n",
    "    5 : [\"K\"],\n",
    "    8 : [\"J\", \"X\"],\n",
    "    10 : [\"Q\", \"Z\"]\n",
    "}"
   ]
  },
  {
   "cell_type": "code",
   "execution_count": 37,
   "metadata": {},
   "outputs": [
    {
     "data": {
      "text/plain": [
       "{'a': 1,\n",
       " 'e': 1,\n",
       " 'i': 1,\n",
       " 'o': 1,\n",
       " 'u': 1,\n",
       " 'l': 1,\n",
       " 'n': 1,\n",
       " 'r': 1,\n",
       " 's': 1,\n",
       " 't': 1,\n",
       " 'd': 2,\n",
       " 'g': 2,\n",
       " 'b': 3,\n",
       " 'c': 3,\n",
       " 'm': 3,\n",
       " 'p': 3,\n",
       " 'f': 4,\n",
       " 'h': 4,\n",
       " 'v': 4,\n",
       " 'w': 4,\n",
       " 'y': 4,\n",
       " 'k': 5,\n",
       " 'j': 8,\n",
       " 'x': 8,\n",
       " 'q': 10,\n",
       " 'z': 10}"
      ]
     },
     "execution_count": 37,
     "metadata": {},
     "output_type": "execute_result"
    }
   ],
   "source": [
    "def etl(to_etl:dict)->dict:\n",
    "    new = {item.lower() : key for key,val in to_etl.items() for item in val}\n",
    "    return new\n",
    "\n",
    "etl(old)"
   ]
  },
  {
   "cell_type": "markdown",
   "metadata": {},
   "source": [
    "### Experimentation"
   ]
  },
  {
   "cell_type": "code",
   "execution_count": 2,
   "metadata": {},
   "outputs": [],
   "source": [
    "old = {\n",
    "    1 : [\"A\", \"E\", \"I\", \"O\", \"U\", \"L\", \"N\", \"R\", \"S\", \"T\"],\n",
    "    2 : [\"D\", \"G\"],\n",
    "    3 : [\"B\", \"C\", \"M\", \"P\"],\n",
    "    4 : [\"F\", \"H\", \"V\", \"W\", \"Y\"],\n",
    "    5 : [\"K\"],\n",
    "    8 : [\"J\", \"X\"],\n",
    "    10 : [\"Q\", \"Z\"]\n",
    "}"
   ]
  },
  {
   "cell_type": "code",
   "execution_count": 32,
   "metadata": {},
   "outputs": [
    {
     "name": "stdout",
     "output_type": "stream",
     "text": [
      "{'a': 1, 'e': 1, 'i': 1, 'o': 1, 'u': 1, 'l': 1, 'n': 1, 'r': 1, 's': 1, 't': 1, 'd': 2, 'g': 2, 'b': 3, 'c': 3, 'm': 3, 'p': 3, 'f': 4, 'h': 4, 'v': 4, 'w': 4, 'y': 4, 'k': 5, 'j': 8, 'x': 8, 'q': 10, 'z': 10}\n"
     ]
    }
   ],
   "source": [
    "new = {item.lower() : key for key,val in old.items() for item in val}\n",
    "print(new)"
   ]
  },
  {
   "cell_type": "code",
   "execution_count": null,
   "metadata": {},
   "outputs": [],
   "source": []
  }
 ],
 "metadata": {
  "kernelspec": {
   "display_name": "pybase",
   "language": "python",
   "name": "pybase"
  },
  "language_info": {
   "codemirror_mode": {
    "name": "ipython",
    "version": 3
   },
   "file_extension": ".py",
   "mimetype": "text/x-python",
   "name": "python",
   "nbconvert_exporter": "python",
   "pygments_lexer": "ipython3",
   "version": "3.8.5"
  }
 },
 "nbformat": 4,
 "nbformat_minor": 4
}
