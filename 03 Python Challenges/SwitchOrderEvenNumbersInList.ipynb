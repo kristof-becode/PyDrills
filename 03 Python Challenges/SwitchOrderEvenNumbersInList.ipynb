{
 "cells": [
  {
   "cell_type": "markdown",
   "metadata": {},
   "source": [
    "## Make an algorithm that takes a list and switches the order of the even numbers in that list, first becomes last and vice versa"
   ]
  },
  {
   "cell_type": "markdown",
   "metadata": {},
   "source": [
    "### Experimentation, solution below"
   ]
  },
  {
   "cell_type": "code",
   "execution_count": 87,
   "metadata": {},
   "outputs": [],
   "source": [
    "import random\n",
    "random.seed = 1234"
   ]
  },
  {
   "cell_type": "code",
   "execution_count": 88,
   "metadata": {},
   "outputs": [
    {
     "name": "stdout",
     "output_type": "stream",
     "text": [
      "[32, 65, 99, 11, 42, 34, 38, 61, 57, 18, 78, 68, 88, 2, 100, 58, 57, 5, 94, 44] 20\n"
     ]
    }
   ],
   "source": [
    "lst = [random.randint(0,100) for i in range(random.randint(6,30))]\n",
    "print(lst, len(lst))"
   ]
  },
  {
   "cell_type": "code",
   "execution_count": 89,
   "metadata": {},
   "outputs": [
    {
     "name": "stdout",
     "output_type": "stream",
     "text": [
      "[32, 42, 34, 38, 18, 78, 68, 88, 2, 100, 58, 94, 44] 13\n"
     ]
    }
   ],
   "source": [
    "even = [x for x in lst if x%2== 0]\n",
    "print(even, len(even))"
   ]
  },
  {
   "cell_type": "code",
   "execution_count": 90,
   "metadata": {},
   "outputs": [
    {
     "name": "stdout",
     "output_type": "stream",
     "text": [
      "[0, 4, 5, 6, 9, 10, 11, 12, 13, 14, 15, 18, 19] 13\n"
     ]
    }
   ],
   "source": [
    "even_ind = [lst.index(x) for x in lst if x%2== 0]\n",
    "print(even_ind,len(even_ind))"
   ]
  },
  {
   "cell_type": "code",
   "execution_count": 39,
   "metadata": {},
   "outputs": [
    {
     "name": "stdout",
     "output_type": "stream",
     "text": [
      "[(0, 78), (2, 28), (3, 100), (5, 70), (7, 22), (8, 0), (9, 62)]\n"
     ]
    }
   ],
   "source": [
    "dic = zip(even_ind,even)\n",
    "print(list(dic))"
   ]
  },
  {
   "cell_type": "code",
   "execution_count": 40,
   "metadata": {},
   "outputs": [
    {
     "name": "stdout",
     "output_type": "stream",
     "text": [
      "78\n",
      "62\n",
      "[78, 95, 28, 100, 11, 70, 3, 22, 0, 62, 5]\n"
     ]
    }
   ],
   "source": [
    "print(lst[even_ind[0]])\n",
    "#print(even_ind[len(even_ind)-1])\n",
    "print(lst[even_ind[len(even_ind)-1]])\n",
    "#lst[even_ind[0]] = lst[even_ind[len(even_ind)-1]]\n",
    "print(lst)"
   ]
  },
  {
   "cell_type": "code",
   "execution_count": 91,
   "metadata": {},
   "outputs": [
    {
     "name": "stdout",
     "output_type": "stream",
     "text": [
      "13 6\n",
      "32\n",
      "44\n",
      "32\n",
      "[32, 65, 99, 11, 42, 34, 38, 61, 57, 18, 78, 68, 88, 2, 100, 58, 57, 5, 94, 44]\n",
      "[44, 65, 99, 11, 42, 34, 38, 61, 57, 18, 78, 68, 88, 2, 100, 58, 57, 5, 94, 32]\n",
      "42\n",
      "94\n",
      "32\n",
      "[32, 65, 99, 11, 42, 34, 38, 61, 57, 18, 78, 68, 88, 2, 100, 58, 57, 5, 94, 44]\n",
      "[44, 65, 99, 11, 94, 34, 38, 61, 57, 18, 78, 68, 88, 2, 100, 58, 57, 5, 42, 32]\n",
      "34\n",
      "58\n",
      "32\n",
      "[32, 65, 99, 11, 42, 34, 38, 61, 57, 18, 78, 68, 88, 2, 100, 58, 57, 5, 94, 44]\n",
      "[44, 65, 99, 11, 94, 58, 38, 61, 57, 18, 78, 68, 88, 2, 100, 34, 57, 5, 42, 32]\n",
      "38\n",
      "100\n",
      "32\n",
      "[32, 65, 99, 11, 42, 34, 38, 61, 57, 18, 78, 68, 88, 2, 100, 58, 57, 5, 94, 44]\n",
      "[44, 65, 99, 11, 94, 58, 100, 61, 57, 18, 78, 68, 88, 2, 38, 34, 57, 5, 42, 32]\n",
      "18\n",
      "2\n",
      "32\n",
      "[32, 65, 99, 11, 42, 34, 38, 61, 57, 18, 78, 68, 88, 2, 100, 58, 57, 5, 94, 44]\n",
      "[44, 65, 99, 11, 94, 58, 100, 61, 57, 2, 78, 68, 88, 18, 38, 34, 57, 5, 42, 32]\n",
      "78\n",
      "88\n",
      "32\n",
      "[32, 65, 99, 11, 42, 34, 38, 61, 57, 18, 78, 68, 88, 2, 100, 58, 57, 5, 94, 44]\n",
      "[44, 65, 99, 11, 94, 58, 100, 61, 57, 2, 88, 68, 78, 18, 38, 34, 57, 5, 42, 32]\n",
      "[32, 65, 99, 11, 42, 34, 38, 61, 57, 18, 78, 68, 88, 2, 100, 58, 57, 5, 94, 44]\n",
      "[44, 65, 99, 11, 94, 58, 100, 61, 57, 2, 88, 68, 78, 18, 38, 34, 57, 5, 42, 32]\n"
     ]
    }
   ],
   "source": [
    "copy = lst[:] # copy = list doesn't really copy 'cause changes in copy are applied to lst as well!\n",
    "print(len(even_ind), (len(even_ind)//2)) # if number of even numbers is even then you \n",
    "# need to flip the order of total even numbers/2 or half of the even numbers. \n",
    "# If total number of even numbers is odd then the middle even number can't be switched and needs to stay in place \n",
    "# so you want to swithc only 'len(even_ind)//2' times\n",
    "for i in range((len(even_ind)//2)):#enumerate(even_ind):\n",
    "    first = copy[even_ind[i]]\n",
    "    print(first)\n",
    "    copy[even_ind[i]] = copy[even_ind[len(even_ind)-(i+1)]]\n",
    "    print(copy[even_ind[len(even_ind)-(i+1)]])\n",
    "    copy[even_ind[len(even_ind)-(i+1)]] = first\n",
    "    print(copy[even_ind[len(even_ind)-1]])\n",
    "    print(lst)\n",
    "    print(copy)\n",
    "print(lst)\n",
    "print(copy)"
   ]
  },
  {
   "cell_type": "code",
   "execution_count": 80,
   "metadata": {},
   "outputs": [],
   "source": [
    "# testing with fixed list\n",
    "lst = [78, 95, 28, 100, 11, 70, 3, 22, 0, 62, 5]\n",
    "even = [78, 28, 100, 70, 22, 0, 62]\n",
    "even_ind = [0, 2, 3, 5, 7, 8, 9]"
   ]
  },
  {
   "cell_type": "code",
   "execution_count": 81,
   "metadata": {},
   "outputs": [
    {
     "name": "stdout",
     "output_type": "stream",
     "text": [
      "[78, 95, 28, 100, 11, 70, 3, 22, 0, 62, 5] 11\n",
      "[78, 28, 100, 70, 22, 0, 62] 7\n",
      "[0, 2, 3, 5, 7, 8, 9] 7\n"
     ]
    }
   ],
   "source": [
    "print(lst, len(lst))\n",
    "print(even, len(even))\n",
    "print(even_ind, len(even_ind))"
   ]
  },
  {
   "cell_type": "code",
   "execution_count": 86,
   "metadata": {},
   "outputs": [
    {
     "name": "stdout",
     "output_type": "stream",
     "text": [
      "7 3\n",
      "78\n",
      "62\n",
      "78\n",
      "[78, 95, 28, 100, 11, 70, 3, 22, 0, 62, 5]\n",
      "[62, 95, 28, 100, 11, 70, 3, 22, 0, 78, 5]\n",
      "28\n",
      "0\n",
      "78\n",
      "[78, 95, 28, 100, 11, 70, 3, 22, 0, 62, 5]\n",
      "[62, 95, 0, 100, 11, 70, 3, 22, 28, 78, 5]\n",
      "100\n",
      "22\n",
      "78\n",
      "[78, 95, 28, 100, 11, 70, 3, 22, 0, 62, 5]\n",
      "[62, 95, 0, 22, 11, 70, 3, 100, 28, 78, 5]\n"
     ]
    }
   ],
   "source": [
    "copy = lst[:] # copy = list doesn't really copy 'cause changes in copy are applied to lst as well!\n",
    "print(len(even_ind), (len(even_ind)//2)) # if number of even numbers is even then you \n",
    "# need to flip the order of total even numbers/2 or half of the even numbers. \n",
    "# If total number of even numbers is odd then the middle even number can't be switched and needs to stay in place \n",
    "# so you want to swithc only 'len(even_ind)//2' times\n",
    "for i in range((len(even_ind)//2)):#enumerate(even_ind):\n",
    "    first = copy[even_ind[i]]\n",
    "    print(first)\n",
    "    copy[even_ind[i]] = copy[even_ind[len(even_ind)-(i+1)]]\n",
    "    print(copy[even_ind[len(even_ind)-(i+1)]])\n",
    "    copy[even_ind[len(even_ind)-(i+1)]] = first\n",
    "    print(copy[even_ind[len(even_ind)-1]])\n",
    "    print(lst)\n",
    "    print(copy)\n",
    "print(lst)\n",
    "print(copy)"
   ]
  },
  {
   "cell_type": "code",
   "execution_count": 123,
   "metadata": {},
   "outputs": [],
   "source": [
    "lst = [78, 95, 28, 100, 11, 70, 3, 22, 0, 62, 5]\n",
    "# change 'even_ind = [lst.index(x) for x in lst if x%2== 0]' by : !!!!!!!!!!!!!!!!!!!!!!!!!!!!!!!!!!!!\n",
    "even_ind = [idx for idx, val in enumerate(lst) if val%2== 0]\n",
    "# otherwise he keeps the index for a duplicate value same as the first occurence"
   ]
  },
  {
   "cell_type": "code",
   "execution_count": 124,
   "metadata": {},
   "outputs": [
    {
     "name": "stdout",
     "output_type": "stream",
     "text": [
      "7 3\n",
      "78\n",
      "62\n",
      "78\n",
      "[78, 95, 28, 100, 11, 70, 3, 22, 0, 62, 5]\n",
      "[62, 95, 28, 100, 11, 70, 3, 22, 0, 78, 5]\n",
      "28\n",
      "0\n",
      "78\n",
      "[78, 95, 28, 100, 11, 70, 3, 22, 0, 62, 5]\n",
      "[62, 95, 0, 100, 11, 70, 3, 22, 28, 78, 5]\n",
      "100\n",
      "22\n",
      "78\n",
      "[78, 95, 28, 100, 11, 70, 3, 22, 0, 62, 5]\n",
      "[62, 95, 0, 22, 11, 70, 3, 100, 28, 78, 5]\n",
      "[78, 95, 28, 100, 11, 70, 3, 22, 0, 62, 5]\n"
     ]
    }
   ],
   "source": [
    "copy = lst[:] # copy = list doesn't really copy 'cause changes in copy are applied to lst as well, therefore this!\n",
    "print(len(even_ind), (len(even_ind)//2)) # if number of even numbers is even then you \n",
    "# need to flip the order of total even numbers/2 or half of the even numbers. \n",
    "# If total number of even numbers is odd then the middle even number can't be switched and needs to stay in place \n",
    "# so you want to swithc only 'len(even_ind)//2' times\n",
    "for i in range((len(even_ind)//2)):#enumerate(even_ind):\n",
    "    first = copy[even_ind[i]]\n",
    "    print(first)\n",
    "    copy[even_ind[i]] = copy[even_ind[len(even_ind)-(i+1)]]\n",
    "    print(copy[even_ind[len(even_ind)-(i+1)]])\n",
    "    copy[even_ind[len(even_ind)-(i+1)]] = first\n",
    "    print(copy[even_ind[len(even_ind)-1]])\n",
    "    print(lst)\n",
    "    print(copy)\n",
    "print(lst)"
   ]
  },
  {
   "cell_type": "markdown",
   "metadata": {},
   "source": [
    "## Final Algorithm"
   ]
  },
  {
   "cell_type": "code",
   "execution_count": 132,
   "metadata": {},
   "outputs": [],
   "source": [
    "import random # import random number generator to generate lists\n",
    "random.seed = 1234 # set random seed"
   ]
  },
  {
   "cell_type": "code",
   "execution_count": 133,
   "metadata": {},
   "outputs": [],
   "source": [
    "# Algorithm to switch order of even numbers in list\n",
    "\n",
    "# If number of even numbers is even then you \n",
    "# need to flip the order of total even numbers/2 or half of the even numbers. \n",
    "# If total number of even numbers is odd then the middle even number can't be switched and needs to stay in place \n",
    "# so you want to switch only 'len(even_ind)//2' times\n",
    "\n",
    "# Choose idx,val in enumerate(lst) to make sure you get the actual index of 'every' even number,\n",
    "# otherwise you get always the index of the first occurence of duplicate even number\n",
    "\n",
    "def switchEven(lst):\n",
    "    even = [x for x in lst if x%2== 0] # list of all even numbers in generated list\n",
    "    even_ind = [idx for idx, val in enumerate(lst) if val%2== 0]# list of indices of all! even numbers in generated list\n",
    "    for i in range((len(even_ind)//2)): # switch order of two even numbers in generated list\n",
    "        first = lst[even_ind[i]] # copy first even number\n",
    "        lst[even_ind[i]] = lst[even_ind[len(even_ind)-(i+1)]] # make value first occ, value last occ\n",
    "        lst[even_ind[len(even_ind)-(i+1)]] = first # make value last occ, value first occ\n",
    "    return lst"
   ]
  },
  {
   "cell_type": "code",
   "execution_count": 127,
   "metadata": {},
   "outputs": [
    {
     "name": "stdout",
     "output_type": "stream",
     "text": [
      "Original list: \n",
      " [79, 25, 31, 31, 77, 3, 0, 39, 84, 3, 37, 26, 14, 91, 22, 2, 34, 50, 38, 22, 78, 52, 71, 44, 1, 73, 97]\n",
      "Switched list: \n",
      " [79, 25, 31, 31, 77, 3, 44, 39, 52, 3, 37, 78, 22, 91, 38, 50, 34, 2, 22, 14, 26, 84, 71, 0, 1, 73, 97]\n",
      "Original list: \n",
      " [42, 33, 75, 30, 59, 6, 32, 7, 77, 89, 92, 68, 70, 15, 93, 46, 5, 34, 42]\n",
      "Switched list: \n",
      " [42, 33, 75, 34, 59, 46, 70, 7, 77, 89, 68, 92, 32, 15, 93, 6, 5, 30, 42]\n",
      "Original list: \n",
      " [61, 100, 64, 47, 64, 79]\n",
      "Switched list: \n",
      " [61, 64, 64, 47, 100, 79]\n",
      "Original list: \n",
      " [23, 19, 36, 48, 95, 95, 93, 3, 51, 91, 1, 11, 70]\n",
      "Switched list: \n",
      " [23, 19, 70, 48, 95, 95, 93, 3, 51, 91, 1, 11, 36]\n",
      "Original list: \n",
      " [71, 2, 75, 76, 39, 51, 23, 56]\n",
      "Switched list: \n",
      " [71, 56, 75, 76, 39, 51, 23, 2]\n",
      "Original list: \n",
      " [65, 9, 40, 80, 49, 17, 8]\n",
      "Switched list: \n",
      " [65, 9, 8, 80, 49, 17, 40]\n",
      "Original list: \n",
      " [21, 71, 55, 31, 97, 86, 4, 50, 23, 40, 60]\n",
      "Switched list: \n",
      " [21, 71, 55, 31, 97, 60, 40, 50, 23, 4, 86]\n",
      "Original list: \n",
      " [100, 0, 48, 89, 11, 88, 54, 25, 69, 74, 71, 64, 80, 92, 77, 69, 9, 69, 12]\n",
      "Switched list: \n",
      " [12, 92, 80, 89, 11, 64, 74, 25, 69, 54, 71, 88, 48, 0, 77, 69, 9, 69, 100]\n",
      "Original list: \n",
      " [93, 52, 5, 50, 65, 98]\n",
      "Switched list: \n",
      " [93, 98, 5, 50, 65, 52]\n",
      "Original list: \n",
      " [78, 70, 56, 38, 86, 14, 7, 90, 89, 20, 83, 47, 95, 100, 80, 45, 29, 50, 41, 73, 38]\n",
      "Switched list: \n",
      " [38, 50, 80, 100, 20, 90, 7, 14, 89, 86, 83, 47, 95, 38, 56, 45, 29, 70, 41, 73, 78]\n"
     ]
    }
   ],
   "source": [
    "# Generate 10 random lists and run algorithm\n",
    "for i in range(10):\n",
    "    lst = [random.randint(0,100) for i in range(random.randint(6,30))]\n",
    "    print(f\"Original list: \\n {lst}\") # print generated random list\n",
    "    print(f\"Switched list: \\n {switchEven(lst)}\") # print func output, switched list"
   ]
  },
  {
   "cell_type": "code",
   "execution_count": 128,
   "metadata": {},
   "outputs": [
    {
     "name": "stdout",
     "output_type": "stream",
     "text": [
      "Original list: \n",
      " [96, 43, -12, -72, -24, -34, -41]\n",
      "Switched list: \n",
      " [-34, 43, -24, -72, -12, 96, -41]\n",
      "Original list: \n",
      " [92, -16, -94, -19, -46, 59, -32, -51, 29, -76, -72, -86, -2, 80, -66]\n",
      "Switched list: \n",
      " [-66, 80, -2, -19, -86, 59, -72, -51, 29, -76, -32, -46, -94, -16, 92]\n",
      "Original list: \n",
      " [80, 53, 70, -95, 70, -74, -34, 70, -11, -70, 7, 47, 5, 96, 9, 24, -71, -79, -41, 92, 99, -72, -33, 16, 71, -63, -60, 54]\n",
      "Switched list: \n",
      " [54, 53, -60, -95, 16, -72, 92, 24, -11, 96, 7, 47, 5, -70, 9, 70, -71, -79, -41, -34, 99, -74, -33, 70, 71, -63, 70, 80]\n",
      "Original list: \n",
      " [67, -35, -17, -33, -45, -45, -71, -63, -13, -50, -87, 7, 92, -2, 88, 70, 60, -56, 51, 55]\n",
      "Switched list: \n",
      " [67, -35, -17, -33, -45, -45, -71, -63, -13, -56, -87, 7, 60, 70, 88, -2, 92, -50, 51, 55]\n",
      "Original list: \n",
      " [54, -5, -53, -79, 7, -89, -78, 86, 24, -34, 68, -15, -44, 15, 90, -20, 91, -55, 97, -19, -87, 62, -23, -88]\n",
      "Switched list: \n",
      " [-88, -5, -53, -79, 7, -89, 62, -20, 90, -44, 68, -15, -34, 15, 24, 86, 91, -55, 97, -19, -87, -78, -23, 54]\n",
      "Original list: \n",
      " [-98, -79, -62, 89, -15, -70, -34]\n",
      "Switched list: \n",
      " [-34, -79, -70, 89, -15, -62, -98]\n",
      "Original list: \n",
      " [-37, -35, 15, 52, -43, -74, -6, 96, 86, 79, -52, 20, 77, -39, 99, 57, -19, -80, -55, 10, -86, 90, 56, -24, -20, 64, 14, -75]\n",
      "Switched list: \n",
      " [-37, -35, 15, 14, -43, 64, -20, -24, 56, 79, 90, -86, 77, -39, 99, 57, -19, 10, -55, -80, 20, -52, 86, 96, -6, -74, 52, -75]\n",
      "Original list: \n",
      " [-5, 96, -26, -5, -64, 55, -44, -74, -35, 27, 20, -66, -83, -54, 24, -12, -69, 100, -18, 73, 5, 48, 47]\n",
      "Switched list: \n",
      " [-5, 48, -18, -5, 100, 55, -12, 24, -35, 27, -54, -66, -83, 20, -74, -44, -69, -64, -26, 73, 5, 96, 47]\n",
      "Original list: \n",
      " [-62, 10, -57, 36, 1, -6, 41, -3, -64, -6, 45, 98, -69, -74, -40, -75, 31, -2, 13, 16, -44, 45, -74, 60, 19, 38, -25, -48]\n",
      "Switched list: \n",
      " [-48, 38, -57, 60, 1, -74, 41, -3, -44, 16, 45, -2, -69, -40, -74, -75, 31, 98, 13, -6, -64, 45, -6, 36, 19, 10, -25, -62]\n",
      "Original list: \n",
      " [11, -41, -44, 34, -12, -98, 87, -32, -43, -90, -87, 10, 66, 38, 65, -87]\n",
      "Switched list: \n",
      " [11, -41, 38, 66, 10, -90, 87, -32, -43, -98, -87, -12, 34, -44, 65, -87]\n"
     ]
    }
   ],
   "source": [
    "# Generate 10 random lists and run algorithm\n",
    "for i in range(10):\n",
    "    lst = [random.randint(-100,100) for i in range(random.randint(6,30))]\n",
    "    print(f\"Original list: \\n {lst}\") # print generated random list\n",
    "    print(f\"Switched list: \\n {switchEven(lst)}\") # print func output, switched list"
   ]
  },
  {
   "cell_type": "code",
   "execution_count": 129,
   "metadata": {},
   "outputs": [
    {
     "name": "stdout",
     "output_type": "stream",
     "text": [
      "Original list: \n",
      " [1, 3, 4, 4, 3, 0, 1]\n",
      "Switched list: \n",
      " [1, 3, 0, 4, 3, 4, 1]\n",
      "Original list: \n",
      " [1, 4, 5, 1, 3, 3, 1, 4, 1, 1, 1, 4, 1, 5, 5, 4, 2, 4, 3, 2, 2, 0, 4]\n",
      "Switched list: \n",
      " [1, 4, 5, 1, 3, 3, 1, 0, 1, 1, 1, 2, 1, 5, 5, 2, 4, 2, 3, 4, 4, 4, 4]\n",
      "Original list: \n",
      " [4, 2, 0, 1, 4, 4, 4, 0, 4, 1, 1, 0, 2, 4, 3, 4, 5, 3, 3, 2, 2, 4, 3, 4, 4, 5, 2, 5, 4, 4]\n",
      "Switched list: \n",
      " [4, 4, 2, 1, 4, 4, 4, 2, 2, 1, 1, 4, 4, 2, 3, 0, 5, 3, 3, 4, 0, 4, 3, 4, 4, 5, 0, 5, 2, 4]\n",
      "Original list: \n",
      " [3, 3, 3, 3, 0, 2, 0, 0, 1, 3, 2, 2, 3, 4, 4, 0, 0, 0, 0, 3, 5]\n",
      "Switched list: \n",
      " [3, 3, 3, 3, 0, 0, 0, 0, 1, 3, 4, 4, 3, 2, 2, 0, 0, 2, 0, 3, 5]\n",
      "Original list: \n",
      " [2, 5, 2, 0, 1, 0, 1, 1, 0]\n",
      "Switched list: \n",
      " [0, 5, 0, 0, 1, 2, 1, 1, 2]\n",
      "Original list: \n",
      " [2, 1, 3, 3, 3, 4, 0, 3, 4, 4, 2, 4, 3, 1, 5, 1, 1, 0]\n",
      "Switched list: \n",
      " [0, 1, 3, 3, 3, 4, 2, 3, 4, 4, 0, 4, 3, 1, 5, 1, 1, 2]\n",
      "Original list: \n",
      " [2, 0, 2, 4, 4, 5, 5, 2, 5, 1, 4, 0, 2, 0, 0, 4, 2, 1, 4, 4, 3, 2, 1]\n",
      "Switched list: \n",
      " [2, 4, 4, 2, 4, 5, 5, 0, 5, 1, 0, 2, 0, 4, 2, 4, 4, 1, 2, 0, 3, 2, 1]\n",
      "Original list: \n",
      " [1, 5, 2, 2, 2, 5, 5, 0, 1, 0, 0, 5, 5, 3, 1, 4, 2, 0, 1, 0, 2]\n",
      "Switched list: \n",
      " [1, 5, 2, 0, 0, 5, 5, 2, 1, 4, 0, 5, 5, 3, 1, 0, 0, 2, 1, 2, 2]\n",
      "Original list: \n",
      " [5, 1, 2, 0, 5, 2, 5, 1, 5, 1, 3, 4, 3, 0, 5, 0, 1, 0, 4, 2, 0, 2, 5, 1, 4, 5]\n",
      "Switched list: \n",
      " [5, 1, 4, 2, 5, 0, 5, 1, 5, 1, 3, 2, 3, 4, 5, 0, 1, 0, 0, 4, 2, 0, 5, 1, 2, 5]\n",
      "Original list: \n",
      " [3, 3, 4, 2, 4, 5, 1, 5, 2, 0, 3, 0, 1, 2, 1, 2, 2, 5, 3]\n",
      "Switched list: \n",
      " [3, 3, 2, 2, 2, 5, 1, 5, 0, 0, 3, 2, 1, 4, 1, 2, 4, 5, 3]\n"
     ]
    }
   ],
   "source": [
    "# Generate 10 random lists and run algorithm\n",
    "for i in range(10):\n",
    "    lst = [random.randint(0,5) for i in range(random.randint(6,30))]\n",
    "    print(f\"Original list: \\n {lst}\") # print generated random list\n",
    "    print(f\"Switched list: \\n {switchEven(lst)}\") # print func output, switched list"
   ]
  },
  {
   "cell_type": "code",
   "execution_count": 131,
   "metadata": {},
   "outputs": [
    {
     "name": "stdout",
     "output_type": "stream",
     "text": [
      "Original list: \n",
      " [3]\n",
      "Switched list: \n",
      " [3]\n",
      "Original list: \n",
      " [5]\n",
      "Switched list: \n",
      " [5]\n",
      "Original list: \n",
      " [3, 5, 0, 0, 0]\n",
      "Switched list: \n",
      " [3, 5, 0, 0, 0]\n",
      "Original list: \n",
      " [3, 4, 5, 3, 2]\n",
      "Switched list: \n",
      " [3, 2, 5, 3, 4]\n",
      "Original list: \n",
      " [4, 4, 1]\n",
      "Switched list: \n",
      " [4, 4, 1]\n",
      "Original list: \n",
      " [4, 5, 1, 5]\n",
      "Switched list: \n",
      " [4, 5, 1, 5]\n",
      "Original list: \n",
      " [4, 2]\n",
      "Switched list: \n",
      " [2, 4]\n",
      "Original list: \n",
      " [2, 5]\n",
      "Switched list: \n",
      " [2, 5]\n",
      "Original list: \n",
      " [2, 3, 5]\n",
      "Switched list: \n",
      " [2, 3, 5]\n",
      "Original list: \n",
      " [2, 4]\n",
      "Switched list: \n",
      " [4, 2]\n"
     ]
    }
   ],
   "source": [
    "# Generate 10 random lists and run algorithm\n",
    "for i in range(10):\n",
    "    lst = [random.randint(0,5) for i in range(random.randint(1,5))]\n",
    "    print(f\"Original list: \\n {lst}\") # print generated random list\n",
    "    print(f\"Switched list: \\n {switchEven(lst)}\") # print func output, switched list"
   ]
  },
  {
   "cell_type": "code",
   "execution_count": null,
   "metadata": {},
   "outputs": [],
   "source": []
  }
 ],
 "metadata": {
  "kernelspec": {
   "display_name": "pybase",
   "language": "python",
   "name": "pybase"
  },
  "language_info": {
   "codemirror_mode": {
    "name": "ipython",
    "version": 3
   },
   "file_extension": ".py",
   "mimetype": "text/x-python",
   "name": "python",
   "nbconvert_exporter": "python",
   "pygments_lexer": "ipython3",
   "version": "3.8.5"
  }
 },
 "nbformat": 4,
 "nbformat_minor": 4
}
