{
 "cells": [
  {
   "cell_type": "markdown",
   "metadata": {},
   "source": [
    "## Bob\n",
    "\n",
    "Bob is a lackadaisical teenager. In conversation, his responses are very\n",
    "limited.\n",
    "\n",
    "Bob answers 'Sure.' if you ask him a question.\n",
    "\n",
    "He answers 'Whoa, chill out!' if you yell at him.\n",
    "\n",
    "He says 'Fine. Be that way!' if you address him without actually saying\n",
    "anything.\n",
    "\n",
    "He answers 'Whatever.' to anything else.\n",
    "\n",
    "#### Instructions\n",
    "\n",
    "Run the test file, and fix each of the errors in turn. When you get the\n",
    "first test to pass, go to the first pending or skipped test, and make\n",
    "that pass as well. When all of the tests are passing, feel free to\n",
    "submit.\n",
    "\n",
    "Remember that passing code is just the first step. The goal is to work\n",
    "towards a solution that is as readable and expressive as you can make\n",
    "it.\n",
    "\n",
    "Please make your solution as general as possible. Good code doesn't just\n",
    "pass the test suite, it works with any input that fits the\n",
    "specification.\n",
    "\n",
    "Have fun!"
   ]
  },
  {
   "cell_type": "markdown",
   "metadata": {},
   "source": [
    "### Final algorithm"
   ]
  },
  {
   "cell_type": "code",
   "execution_count": 34,
   "metadata": {},
   "outputs": [
    {
     "name": "stdout",
     "output_type": "stream",
     "text": [
      "'What if we end with whitespace?   ' -> Bob's reply: 'Sure'\n",
      "'Tom-ay-to, tom-aaaah-to.' -> Bob's reply: 'Whatever'\n",
      "'WATCH OUT!' -> Bob's reply: 'Whoa, chill out!'\n",
      "'Does this cryogenic chamber make me look fat?' -> Bob's reply: 'Sure'\n",
      "'You are, what, like 15?' -> Bob's reply: 'Sure'\n",
      "'Let's go make out behind the gym!' -> Bob's reply: 'Whatever'\n",
      "'It's OK if you don't want to go to the DMV.' -> Bob's reply: 'Whatever'\n",
      "'WHAT THE HELL WERE YOU THINKING?' -> Bob's reply: 'Sure'\n",
      "'1, 2, 3 GO!' -> Bob's reply: 'Whoa, chill out!'\n",
      "'1, 2, 3' -> Bob's reply: 'Whatever'\n",
      "'4?' -> Bob's reply: 'Sure'\n",
      "'ZOMG THE %^*@#$(*^ ZOMBIES ARE COMING!!11!!1!' -> Bob's reply: 'Whoa, chill out!'\n",
      "'ÜMLÄÜTS!' -> Bob's reply: 'Whoa, chill out!'\n",
      "'ÜMLäÜTS!' -> Bob's reply: 'Whoa, chill out!'\n",
      "'I HATE YOU' -> Bob's reply: 'Whoa, chill out!'\n",
      "'Ending with ? means a question.' -> Bob's reply: 'Whatever'\n",
      "'Wait! Hang on. Are you going to be OK?' -> Bob's reply: 'Sure'\n",
      "'' -> Bob's reply: 'Whatever'\n",
      "'    \t' -> Bob's reply: 'Whatever'\n",
      "'         hmmmmmmm...' -> Bob's reply: 'Whatever'\n",
      "'What if we end with whitespace?   ' -> Bob's reply: 'Sure'\n"
     ]
    }
   ],
   "source": [
    "# still need to fix the umlauts.......\n",
    "\n",
    "import string # import string module for punctuation and alphabet characters\n",
    "\n",
    "def bob(msg:str)-> str:\n",
    "    reply = '' # Bob's reply\n",
    "    \n",
    "    upper = [char for char in string.ascii_uppercase] # upper case letter alphabet list\n",
    "    punct = [char for char in string.punctuation if char != '?'] # punctuation list without '?'\n",
    "    \n",
    "    split = [char for word in msg.split() for char in word if char not in punct ] # remove punctuation, but not '?'\n",
    "    split_alpha = [letter for letter in split if letter in string.ascii_letters] # keep only letters\n",
    "    # print(split)\n",
    "    # print(split_alpha)\n",
    "    \n",
    "    if (not all(letter in upper for letter in split) and split[-1]) =='?':\n",
    "    # letters mostly lower case, numbers allowed , question mark after last char(besides whitespace\")\n",
    "        reply = 'Sure'\n",
    "    elif all(letter in upper for letter in split_alpha) and split_alpha != []: \n",
    "    # all letters need to be capital, other chars don't matter but make sure it's not empty list\n",
    "        reply = 'Whoa, chill out!'\n",
    "    elif split == '':\n",
    "    # empty sentence, split returns empty list\n",
    "        reply = 'Fine. Be that way!'\n",
    "    else:\n",
    "        reply = 'Whatever'\n",
    "    print(f\"'{msg}' -> Bob's reply: '{reply}'\")\n",
    "\n",
    "    \n",
    "# call function to test        \n",
    "bob('What if we end with whitespace?   ')\n",
    "bob('Tom-ay-to, tom-aaaah-to.')\n",
    "bob('WATCH OUT!')\n",
    "bob('Does this cryogenic chamber make me look fat?')\n",
    "bob('You are, what, like 15?')\n",
    "bob(\"Let's go make out behind the gym!\")\n",
    "bob(\"It's OK if you don't want to go to the DMV.\")\n",
    "bob('WHAT THE HELL WERE YOU THINKING?')\n",
    "bob('1, 2, 3 GO!')\n",
    "bob('1, 2, 3')\n",
    "bob('4?')\n",
    "bob('ZOMG THE %^*@#$(*^ ZOMBIES ARE COMING!!11!!1!')\n",
    "bob('ÜMLÄÜTS!')\n",
    "bob('ÜMLäÜTS!')\n",
    "bob('I HATE YOU')\n",
    "bob('Ending with ? means a question.')\n",
    "bob(\"Wait! Hang on. Are you going to be OK?\")\n",
    "bob('')\n",
    "bob('    \\t')\n",
    "bob('         hmmmmmmm...')\n",
    "bob('What if we end with whitespace?   ')"
   ]
  },
  {
   "cell_type": "markdown",
   "metadata": {},
   "source": [
    "### Experimentation"
   ]
  },
  {
   "cell_type": "code",
   "execution_count": 10,
   "metadata": {},
   "outputs": [
    {
     "name": "stdout",
     "output_type": "stream",
     "text": [
      "abcdefghijklmnopqrstuvwxyzABCDEFGHIJKLMNOPQRSTUVWXYZ\n",
      "['A', 'B', 'C', 'D', 'E', 'F', 'G', 'H', 'I', 'J', 'K', 'L', 'M', 'N', 'O', 'P', 'Q', 'R', 'S', 'T', 'U', 'V', 'W', 'X', 'Y', 'Z']\n",
      "ABCDEFGHIJKLMNOPQRSTUVWXYZ\n",
      "['\"', '#', '$', '%', '&', \"'\", '(', ')', '*', '+', ',', '-', '.', '/', ':', ';', '<', '=', '>', '@', '[', '\\\\', ']', '^', '_', '`', '{', '|', '}', '~']\n"
     ]
    }
   ],
   "source": [
    "import string\n",
    "print(string.ascii_letters)\n",
    "upper = [str for str in string.ascii_uppercase]\n",
    "print(upper)\n",
    "print(string.ascii_uppercase)\n",
    "punct = [char for char in string.punctuation if char != '?' and char != '!']\n",
    "print(punct)"
   ]
  },
  {
   "cell_type": "code",
   "execution_count": 13,
   "metadata": {},
   "outputs": [
    {
     "name": "stdout",
     "output_type": "stream",
     "text": [
      "['W', 'h', 'a', 't', 'i', 'f', 'w', 'e', 'e', 'n', 'd', 'w', 'i', 't', 'h', 'w', 'h', 'i', 't', 'e', 's', 'p', 'a', 'c', 'e', '?']\n",
      "?\n",
      "['W', 'h', 'a', 't', 'i', 'f', 'w', 'e', 'e', 'n', 'd', 'w', 'i', 't', 'h', 'w', 'h', 'i', 't', 'e', 's', 'p', 'a', 'c', 'e']\n",
      "['W']\n",
      "[True, False, False, False, False, False, False, False, False, False, False, False, False, False, False, False, False, False, False, False, False, False, False, False, False, False]\n"
     ]
    }
   ],
   "source": [
    "#msg = 'Tom-ay-to, tom-aaaah-to.'\n",
    "msg = 'What if we end with whitespace?   '\n",
    "split = [char for word in msg.split() for char in word if char not in punct]\n",
    "print(split)\n",
    "print(split[-1])\n",
    "# keep only alphabet letters \n",
    "split_alpha = [char for word in msg.split() for char in word if char in string.ascii_letters]\n",
    "print(split_alpha)\n",
    "\n",
    "\n",
    "check = [letter for letter in split if letter in upper] # uppercase characters in split for alphabet letters\n",
    "print(check)\n",
    "\n",
    "check =  [letter in upper for letter in split] # uppercase characters in split for alphabet letters\n",
    "print(check)  # results in BOOLEAN\n"
   ]
  },
  {
   "cell_type": "code",
   "execution_count": 25,
   "metadata": {},
   "outputs": [
    {
     "name": "stdout",
     "output_type": "stream",
     "text": [
      "['Ü', 'M', 'L', 'Ä', 'Ü', 'T', 'S']\n",
      "['M', 'L', 'T', 'S']\n",
      "'ÜMLÄÜTS!' -> Bob's reply: 'Whoa, chill out!'\n",
      "['Ü', 'M', 'L', 'ä', 'Ü', 'T', 'S']\n",
      "['M', 'L', 'T', 'S']\n",
      "'ÜMLäÜTS!' -> Bob's reply: 'Whoa, chill out!'\n"
     ]
    }
   ],
   "source": [
    "## UMLAUTS!!! NOT FIXED YET\n",
    "bob('ÜMLÄÜTS!')\n",
    "bob('ÜMLäÜTS!')"
   ]
  },
  {
   "cell_type": "code",
   "execution_count": null,
   "metadata": {},
   "outputs": [],
   "source": []
  }
 ],
 "metadata": {
  "kernelspec": {
   "display_name": "pybase",
   "language": "python",
   "name": "pybase"
  },
  "language_info": {
   "codemirror_mode": {
    "name": "ipython",
    "version": 3
   },
   "file_extension": ".py",
   "mimetype": "text/x-python",
   "name": "python",
   "nbconvert_exporter": "python",
   "pygments_lexer": "ipython3",
   "version": "3.8.5"
  }
 },
 "nbformat": 4,
 "nbformat_minor": 4
}
