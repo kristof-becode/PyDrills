{
 "cells": [
  {
   "cell_type": "markdown",
   "metadata": {},
   "source": [
    "## Sum of multiples"
   ]
  },
  {
   "cell_type": "markdown",
   "metadata": {},
   "source": [
    "If we list all the natural numbers up to but not including 20 that are\n",
    "multiples of either 3 or 5, we get 3, 5, 6 and 9, 10, 12, 15, and 18.\n",
    "\n",
    "The sum of these multiples is 78.\n",
    "\n",
    "Write a program that can find the sum of the multiples of a given set of\n",
    "numbers.\n",
    "\n",
    "This exercise is currently under revision.\n",
    "You are still free to do this exercise and submit solutions.\n",
    "Depending on whether this track has been updated recently,\n",
    "the tests may differ between this track and other tracks.\n",
    "\n",
    "In most tracks, the set of numbers must be explicitly provided.\n",
    "In some other tracks, if no set of numbers is given, it defaults to 3 and 5.\n",
    "We would like all tracks to require the set of numbers be explicit."
   ]
  },
  {
   "cell_type": "markdown",
   "metadata": {},
   "source": [
    "### Algorithm"
   ]
  },
  {
   "cell_type": "code",
   "execution_count": null,
   "metadata": {},
   "outputs": [],
   "source": []
  }
 ],
 "metadata": {
  "kernelspec": {
   "display_name": "pybase",
   "language": "python",
   "name": "pybase"
  },
  "language_info": {
   "codemirror_mode": {
    "name": "ipython",
    "version": 3
   },
   "file_extension": ".py",
   "mimetype": "text/x-python",
   "name": "python",
   "nbconvert_exporter": "python",
   "pygments_lexer": "ipython3",
   "version": "3.8.5"
  }
 },
 "nbformat": 4,
 "nbformat_minor": 4
}
