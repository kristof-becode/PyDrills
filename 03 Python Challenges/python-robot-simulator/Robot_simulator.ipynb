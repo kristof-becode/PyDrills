{
 "cells": [
  {
   "cell_type": "markdown",
   "metadata": {},
   "source": [
    "## Robot Simulator\n",
    "\n",
    "Write a robot simulator.\n",
    "\n",
    "A robot factory's test facility needs a program to verify robot movements.\n",
    "\n",
    "The robots have three possible movements:\n",
    "\n",
    "- turn right\n",
    "- turn left\n",
    "- advance\n",
    "\n",
    "Robots are placed on a hypothetical infinite grid, facing a particular\n",
    "direction (north, east, south, or west) at a set of {x,y} coordinates,\n",
    "e.g., {3,8}, with coordinates increasing to the north and east.\n",
    "\n",
    "The robot then receives a number of instructions, at which point the\n",
    "testing facility verifies the robot's new position, and in which\n",
    "direction it is pointing.\n",
    "\n",
    "- The letter-string \"RAALAL\" means:\n",
    "  - Turn right\n",
    "  - Advance twice\n",
    "  - Turn left\n",
    "  - Advance once\n",
    "  - Turn left yet again\n",
    "- Say a robot starts at {7, 3} facing north. Then running this stream\n",
    "  of instructions should leave it at {9, 4} facing west."
   ]
  },
  {
   "cell_type": "markdown",
   "metadata": {},
   "source": [
    "### Algorithm"
   ]
  },
  {
   "cell_type": "code",
   "execution_count": 37,
   "metadata": {},
   "outputs": [
    {
     "name": "stdout",
     "output_type": "stream",
     "text": [
      "[[9, 5], 'W']\n",
      "[[-4, -10], 'S']\n",
      "[[11, 5], 'N']\n"
     ]
    }
   ],
   "source": [
    "def robot(coo:list, di:str, inst:str):# ->tuple, str:\n",
    "    #lst = [coo, di]\n",
    "    if all(it in ['R','L','A'] for it in inst) and (di in ['N','W','E','S']): # verify instructions\n",
    "        for item in inst:\n",
    "            if item == 'A':\n",
    "                if di == 'N':\n",
    "                    coo[1] += 1\n",
    "                    di = 'N'\n",
    "                elif di == 'E':\n",
    "                    coo[0] += 1\n",
    "                    di = 'E'\n",
    "                elif di == 'W':\n",
    "                    coo[0] -= 1\n",
    "                    di = 'W'\n",
    "                else:\n",
    "                    coo[1] -= 1\n",
    "                    di = 'S'\n",
    "            elif item == 'L':\n",
    "                if di == 'N':\n",
    "                    coo[0] -= 1\n",
    "                    di = 'W'\n",
    "                elif di == 'E':\n",
    "                    coo[1] += 1\n",
    "                    di = 'N'\n",
    "                elif di == 'W':\n",
    "                    coo[1] -= 1\n",
    "                    di = 'S'\n",
    "                else:\n",
    "                    coo[0] += 1\n",
    "                    di = 'E'\n",
    "                \n",
    "            else: # item == 'R':\n",
    "                if di == 'N':\n",
    "                    coo[0] += 1\n",
    "                    di = 'E'\n",
    "                elif di == 'E':\n",
    "                    coo[1] -= 1\n",
    "                    di = 'S'\n",
    "                elif di == 'W':\n",
    "                    coo[1] += 1\n",
    "                    di = 'N'\n",
    "                else:\n",
    "                    coo[0] -= 1\n",
    "                    di = 'W'\n",
    "            #print([coo,di])\n",
    "        print([coo,di])\n",
    "    else:\n",
    "        print(f'Invalid instructions')\n",
    "    \n",
    "robot([7,3], 'N','RAALAL') # 9,4 , W these tests from test.py don't add up\n",
    "robot([2, -7], 'E',\"RRAAAAALA\") # -3, -8, S\n",
    "robot([8, 4], 'S', \"LAAARRRALLLL\") # 11, 5 , N"
   ]
  },
  {
   "cell_type": "code",
   "execution_count": null,
   "metadata": {},
   "outputs": [],
   "source": []
  }
 ],
 "metadata": {
  "kernelspec": {
   "display_name": "pybase",
   "language": "python",
   "name": "pybase"
  },
  "language_info": {
   "codemirror_mode": {
    "name": "ipython",
    "version": 3
   },
   "file_extension": ".py",
   "mimetype": "text/x-python",
   "name": "python",
   "nbconvert_exporter": "python",
   "pygments_lexer": "ipython3",
   "version": "3.8.5"
  }
 },
 "nbformat": 4,
 "nbformat_minor": 4
}
