{
 "cells": [
  {
   "cell_type": "markdown",
   "metadata": {},
   "source": [
    "## Wordy"
   ]
  },
  {
   "cell_type": "markdown",
   "metadata": {},
   "source": [
    "Write a program that takes a word problem and returns the answer as an\n",
    "integer.\n",
    "\n",
    "E.g.\n",
    "\n",
    "> What is 5 plus 13?\n",
    "\n",
    "The program should handle large numbers and negative numbers.\n",
    "\n",
    "Remember, that these are verbal word problems, not treated as you\n",
    "normally would treat a written problem.  This means that you calculate\n",
    "as you move forward each step.  In other words, you should ignore order\n",
    "of operations.  3 + 2 * 3 = 15, not 9.\n",
    "\n",
    "examples:\n",
    "    \n",
    "> What is 5 plus 13?\n",
    "\n",
    "> What is 7 minus 5?\n",
    "\n",
    "> What is 6 multiplied by 4?\n",
    "\n",
    "> What is 25 divided by 5?\n",
    "\n",
    "> What is 18 times 3 plus 16?\n",
    "\n",
    "> What is 4 times 3 divided by 6?\n",
    "\n",
    "> What is 4 plus 3 times 2?"
   ]
  },
  {
   "cell_type": "markdown",
   "metadata": {},
   "source": [
    "### Algorithm"
   ]
  },
  {
   "cell_type": "code",
   "execution_count": 197,
   "metadata": {},
   "outputs": [
    {
     "name": "stdout",
     "output_type": "stream",
     "text": [
      "18\n",
      "-8\n",
      "6\n",
      "-6\n",
      "21\n",
      "9\n",
      "45801\n",
      "-7\n",
      "-12\n",
      "-8\n",
      "16\n",
      "32\n",
      "Invalid assignment\n",
      "Invalid assignment\n",
      "Invalid assignment\n",
      "Invalid assignment\n"
     ]
    }
   ],
   "source": [
    "import string                                                          # python string module\n",
    "\n",
    "def wordy(sen:str)->int:\n",
    "    # dict with operators \n",
    "    conv = {\n",
    "        'plus' : '+', 'minus' : '-', 'multiplied' : '*','times' : '*','divided' : '/'\n",
    "    }\n",
    "    # punctuation list but keep minus sign!\n",
    "    punct = [ch for ch in string.punctuation if ch != '-']\n",
    "    # remove all punctuation from the string, not with list comprehension 'cause I want to keep intact for now\n",
    "    for el in sen:\n",
    "        if el in punct:\n",
    "            sen = sen.replace(el,'')\n",
    "    # remove not wanted words from assignment string\n",
    "    lst = [word for word in sen.split() if word not in ['What', 'is', 'by']]\n",
    "    # if all even words are digits and all uneven are in my dict as operators then translate operators and use eval\n",
    "    if all(lst[i].strip('-').isdigit() for i in range(0,len(lst),2)) and all(lst[i] in conv.keys() for i in range(1,len(lst),2)):\n",
    "        adj = [conv[item] if item in conv.keys() else item for item in lst]\n",
    "        # iterate over list in slics of two, every time an opeator and digit\n",
    "        res = adj[0] # needs to be initialised with first digit\n",
    "        for i in range(1,len(adj),2): # in slices of 2 we'll add an operator and digit to the previous result\n",
    "            res = int(eval(str(res) + ''.join(adj[i:i+2])))\n",
    "        print(res)\n",
    "    else:\n",
    "        print(f\"Invalid assignment\")\n",
    "    \n",
    "wordy(\"What is 5 plus 13?\") # 18\n",
    "wordy(\"What is 5 plus -13?\") # -8\n",
    "wordy(\"What is 103 minus 97?\") #6\n",
    "wordy(\"What is 97 minus 103?\") #-6\n",
    "wordy(\"What is 7 multiplied by 3?\") #21\n",
    "wordy(\"What is 45 divided by 5?\") #9\n",
    "wordy(\"What is 123 plus 45678?\") # 45801\n",
    "wordy(\"What is 20 minus 14 minus 13?\")# -7\n",
    "wordy(\"What is 2 multiplied by -2 multiplied by 3?\") # -12\n",
    "wordy(\"What is -3 plus 7 multiplied by -2?\") # -8\n",
    "wordy(\"What is -12000 divided by 25 divided by -30?\") # 16\n",
    "wordy(\"What is -12000 divided by 25 divided by -30 multiplied by 2?\") # 32\n",
    "wordy(\"What is 4 xor 7?\") # invalid\n",
    "wordy(\"What is 2 2 minus 3?\") # invalid\n",
    "wordy(\"What is 7 plus multiplied by -2?\") # invalid\n",
    "wordy(\"Which is greater, 3 or 2?\") # invalid"
   ]
  },
  {
   "cell_type": "markdown",
   "metadata": {},
   "source": [
    "### Experimentation"
   ]
  },
  {
   "cell_type": "code",
   "execution_count": 44,
   "metadata": {},
   "outputs": [],
   "source": [
    "op = ['plus', 'minus', 'multiplied','times','divided']"
   ]
  },
  {
   "cell_type": "code",
   "execution_count": 181,
   "metadata": {},
   "outputs": [],
   "source": [
    "sen = \"What is 5 plus 13?\"#'What is 4 times 3 divided by 6?'#\"What is -3 plus 7 multiplied by -2?\"#'What is 4 times 3 divided by 6?'"
   ]
  },
  {
   "cell_type": "code",
   "execution_count": 182,
   "metadata": {},
   "outputs": [
    {
     "name": "stdout",
     "output_type": "stream",
     "text": [
      "!\"#$%&'()*+,-./:;<=>?@[\\]^_`{|}~\n",
      "['!', '\"', '#', '$', '%', '&', \"'\", '(', ')', '*', '+', ',', '.', '/', ':', ';', '<', '=', '>', '?', '@', '[', '\\\\', ']', '^', '_', '`', '{', '|', '}', '~']\n",
      "What is 5 plus 13\n"
     ]
    }
   ],
   "source": [
    "import string\n",
    "print(string.punctuation)\n",
    "punct = [ch for ch in string.punctuation if ch != '-']\n",
    "print(punct)\n",
    "for el in sen:\n",
    "    if el in punct:\n",
    "        sen = sen.replace(el,'')\n",
    "print(sen)"
   ]
  },
  {
   "cell_type": "code",
   "execution_count": 183,
   "metadata": {},
   "outputs": [
    {
     "name": "stdout",
     "output_type": "stream",
     "text": [
      "['5', 'plus', '13']\n"
     ]
    }
   ],
   "source": [
    "import string\n",
    "\n",
    "lst = [word for word in sen.split() if word not in ['What', 'is', 'by']]\n",
    "#lst = [ch for word in sen.split() for ch in word if ch not in string.punctuation]\n",
    "print(lst)"
   ]
  },
  {
   "cell_type": "code",
   "execution_count": 78,
   "metadata": {},
   "outputs": [
    {
     "name": "stdout",
     "output_type": "stream",
     "text": [
      "['-3', 'plus', '7', 'multiplied', 'by', '-2']\n"
     ]
    }
   ],
   "source": [
    "del lst[0:2]\n",
    "print(lst)"
   ]
  },
  {
   "cell_type": "code",
   "execution_count": 79,
   "metadata": {},
   "outputs": [
    {
     "name": "stdout",
     "output_type": "stream",
     "text": [
      "['-3', 'plus', '7', 'multiplied', '-2']\n"
     ]
    }
   ],
   "source": [
    "lst.remove('by')\n",
    "print(lst)"
   ]
  },
  {
   "cell_type": "code",
   "execution_count": 184,
   "metadata": {},
   "outputs": [],
   "source": [
    "conv = {\n",
    "    'plus' : '+', 'minus' : '-', 'multiplied' : '*', 'times' : '*', 'divided' : '/'\n",
    "}"
   ]
  },
  {
   "cell_type": "code",
   "execution_count": 169,
   "metadata": {},
   "outputs": [
    {
     "name": "stdout",
     "output_type": "stream",
     "text": [
      "Invalid assignment\n"
     ]
    }
   ],
   "source": [
    "if all(lst[i].strip('-') in string.digits for i in range(0,len(lst),2)) and all(lst[i] in conv.keys() for i in range(1,len(lst),2)):\n",
    "    print(f\"True\")\n",
    "else:\n",
    "    print(f\"Invalid assignment\")\n",
    "# stripping '-' should be ok also when nothing to strip but the in string.digits is notworking..I would ubderstand\n",
    "# that if it was a 'double digit string' but not for a single digit one..anyhow I'll use string.isdigit()"
   ]
  },
  {
   "cell_type": "code",
   "execution_count": 160,
   "metadata": {},
   "outputs": [
    {
     "name": "stdout",
     "output_type": "stream",
     "text": [
      "[0, 2]\n",
      "[1]\n"
     ]
    }
   ],
   "source": [
    "p = [i for i in range(0,len(lst),2)] # even\n",
    "print(p)\n",
    "o = [i for i in range(1,len(lst),2)] # uneven\n",
    "print(o)"
   ]
  },
  {
   "cell_type": "code",
   "execution_count": 185,
   "metadata": {},
   "outputs": [
    {
     "name": "stdout",
     "output_type": "stream",
     "text": [
      "['5', '+', '13']\n"
     ]
    }
   ],
   "source": [
    "adj = [conv[item] if item in conv.keys() else item for item in lst]\n",
    "print(adj)"
   ]
  },
  {
   "cell_type": "code",
   "execution_count": 115,
   "metadata": {},
   "outputs": [
    {
     "name": "stdout",
     "output_type": "stream",
     "text": [
      "-17\n"
     ]
    }
   ],
   "source": [
    "res = int(eval(''.join(adj))) # this does work associatively, not the idea in this challenge!\n",
    "print(res)"
   ]
  },
  {
   "cell_type": "code",
   "execution_count": 123,
   "metadata": {},
   "outputs": [
    {
     "data": {
      "text/plain": [
       "'5'"
      ]
     },
     "execution_count": 123,
     "metadata": {},
     "output_type": "execute_result"
    }
   ],
   "source": [
    "t = '-5'\n",
    "t.strip('-')\n",
    "#print(t)"
   ]
  },
  {
   "cell_type": "code",
   "execution_count": 196,
   "metadata": {},
   "outputs": [
    {
     "name": "stdout",
     "output_type": "stream",
     "text": [
      "5\n",
      "1 ['+', '13']\n",
      "18\n"
     ]
    }
   ],
   "source": [
    "# I need to set res equal to the first digit in list and then work in slices of two, operator and digit\n",
    "res = adj[0] # needs to be empty string for start \n",
    "print(res)\n",
    "for i in range(1,len(adj),2):\n",
    "    print(i, adj[i:i+2])\n",
    "    res = int(eval(str(res) + ''.join(adj[i:i+2])))\n",
    "    #print(res)\n",
    "print(res)"
   ]
  },
  {
   "cell_type": "code",
   "execution_count": 129,
   "metadata": {},
   "outputs": [
    {
     "name": "stdout",
     "output_type": "stream",
     "text": [
      "-10\n"
     ]
    }
   ],
   "source": [
    "r = eval('5*-2')\n",
    "print(r)"
   ]
  }
 ],
 "metadata": {
  "kernelspec": {
   "display_name": "pybase",
   "language": "python",
   "name": "pybase"
  },
  "language_info": {
   "codemirror_mode": {
    "name": "ipython",
    "version": 3
   },
   "file_extension": ".py",
   "mimetype": "text/x-python",
   "name": "python",
   "nbconvert_exporter": "python",
   "pygments_lexer": "ipython3",
   "version": "3.8.5"
  }
 },
 "nbformat": 4,
 "nbformat_minor": 4
}
