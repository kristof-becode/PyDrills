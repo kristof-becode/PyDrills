{
 "cells": [
  {
   "cell_type": "markdown",
   "metadata": {},
   "source": [
    "## Leap Year"
   ]
  },
  {
   "cell_type": "markdown",
   "metadata": {},
   "source": [
    "Write a program that will take a year and report if it is a leap year.\n",
    "\n",
    "A year is a leap year on every year that is evenly divisible by 4\n",
    "  except every year that is evenly divisible by 100\n",
    "    unless the year is also evenly divisible by 400\n",
    "For example, 1997 is not a leap year, but 1996 is.  1900 is not a leap\n",
    "year, but 2000 is."
   ]
  },
  {
   "cell_type": "code",
   "execution_count": 2,
   "metadata": {},
   "outputs": [
    {
     "name": "stdout",
     "output_type": "stream",
     "text": [
      "Please enter a year to see if it is a leap year :1997\n",
      "1997 is not a leap year\n"
     ]
    }
   ],
   "source": [
    "def Leap():\n",
    "    year = int(input('Please enter a year to see if it is a leap year :'))\n",
    "    if year%4==0 and (not(year%100==0) or (year%100==0 and year%400==0)):\n",
    "\n",
    "        print(f\"{year} is a leap year\")\n",
    "\n",
    "    else:\n",
    "        print(f\"{year} is not a leap year\")\n",
    "\n",
    "Leap()"
   ]
  },
  {
   "cell_type": "code",
   "execution_count": 3,
   "metadata": {},
   "outputs": [
    {
     "name": "stdout",
     "output_type": "stream",
     "text": [
      "Please enter a year to see if it is a leap year :1996\n",
      "1996 is a leap year\n"
     ]
    }
   ],
   "source": [
    "Leap()"
   ]
  },
  {
   "cell_type": "code",
   "execution_count": 4,
   "metadata": {},
   "outputs": [
    {
     "name": "stdout",
     "output_type": "stream",
     "text": [
      "Please enter a year to see if it is a leap year :1900\n",
      "1900 is not a leap year\n"
     ]
    }
   ],
   "source": [
    "Leap()"
   ]
  },
  {
   "cell_type": "code",
   "execution_count": 5,
   "metadata": {},
   "outputs": [
    {
     "name": "stdout",
     "output_type": "stream",
     "text": [
      "Please enter a year to see if it is a leap year :2000\n",
      "2000 is a leap year\n"
     ]
    }
   ],
   "source": [
    "Leap()"
   ]
  },
  {
   "cell_type": "code",
   "execution_count": null,
   "metadata": {},
   "outputs": [],
   "source": []
  }
 ],
 "metadata": {
  "kernelspec": {
   "display_name": "pybase",
   "language": "python",
   "name": "pybase"
  },
  "language_info": {
   "codemirror_mode": {
    "name": "ipython",
    "version": 3
   },
   "file_extension": ".py",
   "mimetype": "text/x-python",
   "name": "python",
   "nbconvert_exporter": "python",
   "pygments_lexer": "ipython3",
   "version": "3.8.5"
  }
 },
 "nbformat": 4,
 "nbformat_minor": 4
}
