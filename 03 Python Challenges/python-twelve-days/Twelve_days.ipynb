{
 "cells": [
  {
   "cell_type": "markdown",
   "metadata": {},
   "source": [
    "## Twelve Days"
   ]
  },
  {
   "cell_type": "markdown",
   "metadata": {},
   "source": [
    "Write a program that outputs the lyrics to 'The Twelve Days of\n",
    "Christmas'\n",
    "\n",
    "```ruby\n",
    "On the first day of Christmas my true love gave to me, a Partridge in a Pear Tree.\n",
    "\n",
    "On the second day of Christmas my true love gave to me, two Turtle Doves, and a Partridge in a Pear Tree.\n",
    "\n",
    "On the third day of Christmas my true love gave to me, three French Hens, two Turtle Doves, and a Partridge in a Pear Tree.\n",
    "\n",
    "On the fourth day of Christmas my true love gave to me, four Calling Birds, three French Hens, two Turtle Doves, and a Partridge in a Pear Tree.\n",
    "\n",
    "On the fifth day of Christmas my true love gave to me, five Gold Rings, four Calling Birds, three French Hens, two Turtle Doves, and a Partridge in a Pear Tree.\n",
    "\n",
    "On the sixth day of Christmas my true love gave to me, six Geese-a-Laying, five Gold Rings, four Calling Birds, three French Hens, two Turtle Doves, and a Partridge in a Pear Tree.\n",
    "\n",
    "On the seventh day of Christmas my true love gave to me, seven Swans-a-Swimming, six Geese-a-Laying, five Gold Rings, four Calling Birds, three French Hens, two Turtle Doves, and a Partridge in a Pear Tree.\n",
    "\n",
    "On the eighth day of Christmas my true love gave to me, eight Maids-a-Milking, seven Swans-a-Swimming, six Geese-a-Laying, five Gold Rings, four Calling Birds, three French Hens, two Turtle Doves, and a Partridge in a Pear Tree.\n",
    "\n",
    "On the ninth day of Christmas my true love gave to me, nine Ladies Dancing, eight Maids-a-Milking, seven Swans-a-Swimming, six Geese-a-Laying, five Gold Rings, four Calling Birds, three French Hens, two Turtle Doves, and a Partridge in a Pear Tree.\n",
    "\n",
    "On the tenth day of Christmas my true love gave to me, ten Lords-a-Leaping, nine Ladies Dancing, eight Maids-a-Milking, seven Swans-a-Swimming, six Geese-a-Laying, five Gold Rings, four Calling Birds, three French Hens, two Turtle Doves, and a Partridge in a Pear Tree.\n",
    "\n",
    "On the eleventh day of Christmas my true love gave to me, eleven Pipers Piping, ten Lords-a-Leaping, nine Ladies Dancing, eight Maids-a-Milking, seven Swans-a-Swimming, six Geese-a-Laying, five Gold Rings, four Calling Birds, three French Hens, two Turtle Doves, and a Partridge in a Pear Tree.\n",
    "\n",
    "On the twelfth day of Christmas my true love gave to me, twelve Drummers Drumming, eleven Pipers Piping, ten Lords-a-Leaping, nine Ladies Dancing, eight Maids-a-Milking, seven Swans-a-Swimming, six Geese-a-Laying, five Gold Rings, four Calling Birds, three French Hens, two Turtle Doves, and a Partridge in a Pear Tree.\n",
    "```"
   ]
  },
  {
   "cell_type": "markdown",
   "metadata": {},
   "source": [
    "### Algorithm"
   ]
  },
  {
   "cell_type": "code",
   "execution_count": 79,
   "metadata": {},
   "outputs": [
    {
     "name": "stdout",
     "output_type": "stream",
     "text": [
      "On the first day of Christmas my true love gave to me, a Partridge in a Pear Tree,\n",
      "\n",
      "On the second day of Christmas my true love gave to me, two Turtle Doves, and a Partridge in a Pear Tree.\n",
      "\n",
      "On the third day of Christmas my true love gave to me, three French Hens, two Turtle Doves, and a Partridge in a Pear Tree.\n",
      "\n",
      "On the fourth day of Christmas my true love gave to me, four Calling Birds, three French Hens, two Turtle Doves, and a Partridge in a Pear Tree.\n",
      "\n",
      "On the fifth day of Christmas my true love gave to me, five Gold Rings, four Calling Birds, three French Hens, two Turtle Doves, and a Partridge in a Pear Tree.\n",
      "\n",
      "On the sixth day of Christmas my true love gave to me, six Geese-a-Laying, five Gold Rings, four Calling Birds, three French Hens, two Turtle Doves, and a Partridge in a Pear Tree.\n",
      "\n",
      "On the seventh day of Christmas my true love gave to me, seven Swans-a-Swimming, six Geese-a-Laying, five Gold Rings, four Calling Birds, three French Hens, two Turtle Doves, and a Partridge in a Pear Tree.\n",
      "\n",
      "On the eight day of Christmas my true love gave to me, eight Maids-a-Milking, seven Swans-a-Swimming, six Geese-a-Laying, five Gold Rings, four Calling Birds, three French Hens, two Turtle Doves, and a Partridge in a Pear Tree.\n",
      "\n",
      "On the ninth day of Christmas my true love gave to me, nine Ladies Dancing, eight Maids-a-Milking, seven Swans-a-Swimming, six Geese-a-Laying, five Gold Rings, four Calling Birds, three French Hens, two Turtle Doves, and a Partridge in a Pear Tree.\n",
      "\n",
      "On the tenth day of Christmas my true love gave to me, ten Lords-a-Leaping, nine Ladies Dancing, eight Maids-a-Milking, seven Swans-a-Swimming, six Geese-a-Laying, five Gold Rings, four Calling Birds, three French Hens, two Turtle Doves, and a Partridge in a Pear Tree.\n",
      "\n",
      "On the eleventh day of Christmas my true love gave to me, eleven Pipers Piping, ten Lords-a-Leaping, nine Ladies Dancing, eight Maids-a-Milking, seven Swans-a-Swimming, six Geese-a-Laying, five Gold Rings, four Calling Birds, three French Hens, two Turtle Doves, and a Partridge in a Pear Tree.\n",
      "\n",
      "On the twelfth day of Christmas my true love gave to me, twelve Drummers Drumming, eleven Pipers Piping, ten Lords-a-Leaping, nine Ladies Dancing, eight Maids-a-Milking, seven Swans-a-Swimming, six Geese-a-Laying, five Gold Rings, four Calling Birds, three French Hens, two Turtle Doves, and a Partridge in a Pear Tree.\n",
      "\n"
     ]
    }
   ],
   "source": [
    "def twelve()->str:\n",
    "    # dict with number references\n",
    "    numdict = {\n",
    "    1: ['a','first'], 2 : ['two', 'second'], 3 : ['three', 'third'], 4 : ['four', 'fourth'], 5 : ['five', 'fifth'],\n",
    "    6 : ['six', 'sixth'], 7 : ['seven', 'seventh'], 8 : ['eight', 'eight'], 9 : ['nine', 'ninth'],\n",
    "    10 : ['ten', 'tenth'], 11 : ['eleven', 'eleventh'], 12 : ['twelve', 'twelfth']\n",
    "    }\n",
    "    # list\n",
    "    lst = ['Partridge in a Pear Tree', 'Turtle Doves', 'French Hens', 'Calling Birds', 'Gold Rings',\n",
    "      'Geese-a-Laying', 'Swans-a-Swimming', 'Maids-a-Milking', 'Ladies Dancing', 'Lords-a-Leaping',\n",
    "      'Pipers Piping', 'Drummers Drumming']\n",
    "    # first part of every verse; insert number of verse\n",
    "    def first(n:int)->str:\n",
    "        f = ['On', 'the', 'day', 'of', 'Christmas', 'my', 'true', 'love', 'gave', 'to', 'me']\n",
    "        f.insert(2,numdict[i][1])\n",
    "        return (' '.join(f))\n",
    "    # second part of verse; add list items with numdict references\n",
    "    def second(n:int)->str:\n",
    "        two = lst[0:n][::-1] # take subset of list and reverse\n",
    "        m = ''\n",
    "        for j,ch in enumerate(two[0:n]):\n",
    "            if j == 0:\n",
    "                sep = d1[len(two)-j][0] + ' '\n",
    "                m += sep + ch + ','\n",
    "            elif j == n-1:\n",
    "                sep = ' and ' + d1[len(two)-j][0] + ' '\n",
    "                m += sep + ch + '.'\n",
    "            else:\n",
    "                sep = ' ' + d1[len(two)-j][0] + ' '\n",
    "                m += sep + ch + ','\n",
    "\n",
    "        return m\n",
    "    # add parts of verses together\n",
    "    for i in range(1,13): print(f\"{first(i)}, {second(i)}\\n\")\n",
    "\n",
    "\n",
    "twelve()"
   ]
  },
  {
   "cell_type": "markdown",
   "metadata": {},
   "source": [
    "### Experimentation"
   ]
  },
  {
   "cell_type": "code",
   "execution_count": 12,
   "metadata": {},
   "outputs": [],
   "source": [
    "p_one = 'On the first day of Christmas my true love gave to me,'\n",
    "lst = ['Partridge in a Pear Tree', 'Turtle Doves', 'French Hens', 'Calling Birds', 'Gold Rings',\n",
    "      'Geese-a-Laying', 'Swans-a-Swimming', 'Maids-a-Milking', 'Ladies Dancing', 'Lords-a-Leaping',\n",
    "      'Pipers Piping', 'Drummers Drumming']"
   ]
  },
  {
   "cell_type": "code",
   "execution_count": 3,
   "metadata": {},
   "outputs": [
    {
     "name": "stdout",
     "output_type": "stream",
     "text": [
      "['On', 'the', 'first', 'day', 'of', 'Christmas', 'my', 'true', 'love', 'gave', 'to', 'me,']\n"
     ]
    }
   ],
   "source": [
    "l = [char for char in p_one.split()]\n",
    "print(l)"
   ]
  },
  {
   "cell_type": "code",
   "execution_count": 6,
   "metadata": {},
   "outputs": [],
   "source": [
    "d1 = {\n",
    "    1: ['a','first'], 2 : ['two', 'second'], 3 : ['three', 'third'], 4 : ['four', 'fourth'], 5 : ['five', 'fifth'],\n",
    "    6 : ['six', 'sixth'], 7 : ['seven', 'seventh'], 8 : ['eight', 'eight'], 9 : ['nine', 'ninth'],\n",
    "    10 : ['ten', 'tenth'], 11 : ['eleven', 'eleventh'], 12 : ['twelve', 'twelfth']\n",
    "}"
   ]
  },
  {
   "cell_type": "code",
   "execution_count": 3,
   "metadata": {},
   "outputs": [],
   "source": [
    "def first(n:int)->str:\n",
    "    l = ['On', 'the', 'day', 'of', 'Christmas', 'my', 'true', 'love', 'gave', 'to', 'me']\n",
    "    l.insert(2,d1[i][1])\n",
    "    return (' '.join(l)) "
   ]
  },
  {
   "cell_type": "code",
   "execution_count": 20,
   "metadata": {},
   "outputs": [
    {
     "name": "stdout",
     "output_type": "stream",
     "text": [
      "On the first day of Christmas my true love gave to me,\n",
      "On the second day of Christmas my true love gave to me,\n",
      "On the third day of Christmas my true love gave to me,\n",
      "On the fourth day of Christmas my true love gave to me,\n",
      "On the fifth day of Christmas my true love gave to me,\n",
      "On the sixth day of Christmas my true love gave to me,\n",
      "On the seventh day of Christmas my true love gave to me,\n",
      "On the eight day of Christmas my true love gave to me,\n",
      "On the ninth day of Christmas my true love gave to me,\n",
      "On the tenth day of Christmas my true love gave to me,\n",
      "On the eleventh day of Christmas my true love gave to me,\n",
      "On the twelfth day of Christmas my true love gave to me,\n"
     ]
    }
   ],
   "source": [
    "for i in range(1,13): print(f\"{first(i)}, \")"
   ]
  },
  {
   "cell_type": "code",
   "execution_count": 74,
   "metadata": {},
   "outputs": [
    {
     "name": "stdout",
     "output_type": "stream",
     "text": [
      "On the first day of Christmas my true love gave to me, a Partridge in a Pear Tree,\n",
      "\n",
      "On the second day of Christmas my true love gave to me, two Turtle Doves, and a Partridge in a Pear Tree.\n",
      "\n",
      "On the third day of Christmas my true love gave to me, three French Hens, two Turtle Doves, and a Partridge in a Pear Tree.\n",
      "\n",
      "On the fourth day of Christmas my true love gave to me, four Calling Birds, three French Hens, two Turtle Doves, and a Partridge in a Pear Tree.\n",
      "\n",
      "On the fifth day of Christmas my true love gave to me, five Gold Rings, four Calling Birds, three French Hens, two Turtle Doves, and a Partridge in a Pear Tree.\n",
      "\n",
      "On the sixth day of Christmas my true love gave to me, six Geese-a-Laying, five Gold Rings, four Calling Birds, three French Hens, two Turtle Doves, and a Partridge in a Pear Tree.\n",
      "\n",
      "On the seventh day of Christmas my true love gave to me, seven Swans-a-Swimming, six Geese-a-Laying, five Gold Rings, four Calling Birds, three French Hens, two Turtle Doves, and a Partridge in a Pear Tree.\n",
      "\n",
      "On the eight day of Christmas my true love gave to me, eight Maids-a-Milking, seven Swans-a-Swimming, six Geese-a-Laying, five Gold Rings, four Calling Birds, three French Hens, two Turtle Doves, and a Partridge in a Pear Tree.\n",
      "\n",
      "On the ninth day of Christmas my true love gave to me, nine Ladies Dancing, eight Maids-a-Milking, seven Swans-a-Swimming, six Geese-a-Laying, five Gold Rings, four Calling Birds, three French Hens, two Turtle Doves, and a Partridge in a Pear Tree.\n",
      "\n",
      "On the tenth day of Christmas my true love gave to me, ten Lords-a-Leaping, nine Ladies Dancing, eight Maids-a-Milking, seven Swans-a-Swimming, six Geese-a-Laying, five Gold Rings, four Calling Birds, three French Hens, two Turtle Doves, and a Partridge in a Pear Tree.\n",
      "\n",
      "On the eleventh day of Christmas my true love gave to me, eleven Pipers Piping, ten Lords-a-Leaping, nine Ladies Dancing, eight Maids-a-Milking, seven Swans-a-Swimming, six Geese-a-Laying, five Gold Rings, four Calling Birds, three French Hens, two Turtle Doves, and a Partridge in a Pear Tree.\n",
      "\n",
      "On the twelfth day of Christmas my true love gave to me, twelve Drummers Drumming, eleven Pipers Piping, ten Lords-a-Leaping, nine Ladies Dancing, eight Maids-a-Milking, seven Swans-a-Swimming, six Geese-a-Laying, five Gold Rings, four Calling Birds, three French Hens, two Turtle Doves, and a Partridge in a Pear Tree.\n",
      "\n"
     ]
    }
   ],
   "source": [
    "def second(n:int)->str:\n",
    "    lst = ['Partridge in a Pear Tree', 'Turtle Doves', 'French Hens', 'Calling Birds', 'Gold Rings',\n",
    "      'Geese-a-Laying', 'Swans-a-Swimming', 'Maids-a-Milking', 'Ladies Dancing', 'Lords-a-Leaping',\n",
    "      'Pipers Piping', 'Drummers Drumming']\n",
    "    two = lst[0:n][::-1]\n",
    "    m = ''\n",
    "    for j,ch in enumerate(two[0:n]):\n",
    "        if j == 0:\n",
    "            sep = d1[len(two)-j][0] + ' '\n",
    "            m += sep + ch + ','\n",
    "        elif j == n-1:\n",
    "            sep = ' and ' + d1[len(two)-j][0] + ' '\n",
    "            m += sep + ch + '.'\n",
    "        else:\n",
    "            sep = ' ' + d1[len(two)-j][0] + ' '\n",
    "            m += sep + ch + ','\n",
    "\n",
    "    return m\n",
    "\n",
    "for i in range(1,13): print(f\"{first(i)}, {second(i)}\\n\")"
   ]
  },
  {
   "cell_type": "code",
   "execution_count": null,
   "metadata": {},
   "outputs": [],
   "source": []
  }
 ],
 "metadata": {
  "kernelspec": {
   "display_name": "pybase",
   "language": "python",
   "name": "pybase"
  },
  "language_info": {
   "codemirror_mode": {
    "name": "ipython",
    "version": 3
   },
   "file_extension": ".py",
   "mimetype": "text/x-python",
   "name": "python",
   "nbconvert_exporter": "python",
   "pygments_lexer": "ipython3",
   "version": "3.8.5"
  }
 },
 "nbformat": 4,
 "nbformat_minor": 4
}
