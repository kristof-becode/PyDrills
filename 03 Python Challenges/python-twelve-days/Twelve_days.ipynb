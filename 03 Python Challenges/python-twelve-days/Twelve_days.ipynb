{
 "cells": [
  {
   "cell_type": "markdown",
   "metadata": {},
   "source": [
    "## Twelve Days"
   ]
  },
  {
   "cell_type": "markdown",
   "metadata": {},
   "source": [
    "Write a program that outputs the lyrics to 'The Twelve Days of\n",
    "Christmas'\n",
    "\n",
    "```ruby\n",
    "On the first day of Christmas my true love gave to me, a Partridge in a Pear Tree.\n",
    "\n",
    "On the second day of Christmas my true love gave to me, two Turtle Doves, and a Partridge in a Pear Tree.\n",
    "\n",
    "On the third day of Christmas my true love gave to me, three French Hens, two Turtle Doves, and a Partridge in a Pear Tree.\n",
    "\n",
    "On the fourth day of Christmas my true love gave to me, four Calling Birds, three French Hens, two Turtle Doves, and a Partridge in a Pear Tree.\n",
    "\n",
    "On the fifth day of Christmas my true love gave to me, five Gold Rings, four Calling Birds, three French Hens, two Turtle Doves, and a Partridge in a Pear Tree.\n",
    "\n",
    "On the sixth day of Christmas my true love gave to me, six Geese-a-Laying, five Gold Rings, four Calling Birds, three French Hens, two Turtle Doves, and a Partridge in a Pear Tree.\n",
    "\n",
    "On the seventh day of Christmas my true love gave to me, seven Swans-a-Swimming, six Geese-a-Laying, five Gold Rings, four Calling Birds, three French Hens, two Turtle Doves, and a Partridge in a Pear Tree.\n",
    "\n",
    "On the eighth day of Christmas my true love gave to me, eight Maids-a-Milking, seven Swans-a-Swimming, six Geese-a-Laying, five Gold Rings, four Calling Birds, three French Hens, two Turtle Doves, and a Partridge in a Pear Tree.\n",
    "\n",
    "On the ninth day of Christmas my true love gave to me, nine Ladies Dancing, eight Maids-a-Milking, seven Swans-a-Swimming, six Geese-a-Laying, five Gold Rings, four Calling Birds, three French Hens, two Turtle Doves, and a Partridge in a Pear Tree.\n",
    "\n",
    "On the tenth day of Christmas my true love gave to me, ten Lords-a-Leaping, nine Ladies Dancing, eight Maids-a-Milking, seven Swans-a-Swimming, six Geese-a-Laying, five Gold Rings, four Calling Birds, three French Hens, two Turtle Doves, and a Partridge in a Pear Tree.\n",
    "\n",
    "On the eleventh day of Christmas my true love gave to me, eleven Pipers Piping, ten Lords-a-Leaping, nine Ladies Dancing, eight Maids-a-Milking, seven Swans-a-Swimming, six Geese-a-Laying, five Gold Rings, four Calling Birds, three French Hens, two Turtle Doves, and a Partridge in a Pear Tree.\n",
    "\n",
    "On the twelfth day of Christmas my true love gave to me, twelve Drummers Drumming, eleven Pipers Piping, ten Lords-a-Leaping, nine Ladies Dancing, eight Maids-a-Milking, seven Swans-a-Swimming, six Geese-a-Laying, five Gold Rings, four Calling Birds, three French Hens, two Turtle Doves, and a Partridge in a Pear Tree.\n",
    "```"
   ]
  },
  {
   "cell_type": "markdown",
   "metadata": {},
   "source": [
    "### Algorithm"
   ]
  },
  {
   "cell_type": "code",
   "execution_count": null,
   "metadata": {},
   "outputs": [],
   "source": []
  },
  {
   "cell_type": "markdown",
   "metadata": {},
   "source": [
    "### Experimentation"
   ]
  },
  {
   "cell_type": "code",
   "execution_count": 1,
   "metadata": {},
   "outputs": [],
   "source": [
    "p_one = 'On the first day of Christmas my true love gave to me,'\n",
    "lst = ['Partridge in a Pear Tree', 'Turtle Doves', 'French Hens', 'Calling Birds', 'Gold Rings',\n",
    "      'Geese-a-Laying', 'Swans-a-Swimming', 'Maids-a-Milking', 'Ladies Dancing', 'Lords-a-Leaping',\n",
    "      'Pipers Piping', 'Drummers Drumming']"
   ]
  },
  {
   "cell_type": "code",
   "execution_count": 3,
   "metadata": {},
   "outputs": [
    {
     "name": "stdout",
     "output_type": "stream",
     "text": [
      "['On', 'the', 'first', 'day', 'of', 'Christmas', 'my', 'true', 'love', 'gave', 'to', 'me,']\n"
     ]
    }
   ],
   "source": [
    "l = [char for char in p_one.split()]\n",
    "print(l)"
   ]
  },
  {
   "cell_type": "code",
   "execution_count": 27,
   "metadata": {},
   "outputs": [],
   "source": [
    "d1 = {\n",
    "    1: ['a','first'], 2 : ['two', 'second'], 3 : ['three', 'third'], 4 : ['four', 'fourth'], 5 : ['five', 'fifth'],\n",
    "    6 : ['six', 'sixth'], 7 : ['seven', 'seventh'], 8 : ['eight', 'eight'], 9 : ['nine', 'ninth'],\n",
    "    10 : ['ten', 'tenth'], 11 : ['eleven', 'eleventh'], 12 : ['twelve', 'twelfth']\n",
    "}"
   ]
  },
  {
   "cell_type": "code",
   "execution_count": 19,
   "metadata": {},
   "outputs": [],
   "source": [
    "def first(n:int)->str:\n",
    "    l = ['On', 'the', 'day', 'of', 'Christmas', 'my', 'true', 'love', 'gave', 'to', 'me']\n",
    "    l.insert(2,d1[i][1])\n",
    "    return (' '.join(l))\n",
    "    "
   ]
  },
  {
   "cell_type": "code",
   "execution_count": 20,
   "metadata": {},
   "outputs": [
    {
     "name": "stdout",
     "output_type": "stream",
     "text": [
      "On the first day of Christmas my true love gave to me,\n",
      "On the second day of Christmas my true love gave to me,\n",
      "On the third day of Christmas my true love gave to me,\n",
      "On the fourth day of Christmas my true love gave to me,\n",
      "On the fifth day of Christmas my true love gave to me,\n",
      "On the sixth day of Christmas my true love gave to me,\n",
      "On the seventh day of Christmas my true love gave to me,\n",
      "On the eight day of Christmas my true love gave to me,\n",
      "On the ninth day of Christmas my true love gave to me,\n",
      "On the tenth day of Christmas my true love gave to me,\n",
      "On the eleventh day of Christmas my true love gave to me,\n",
      "On the twelfth day of Christmas my true love gave to me,\n"
     ]
    }
   ],
   "source": [
    "for i in range(1,13): print(f\"{first(i)}, \")"
   ]
  },
  {
   "cell_type": "code",
   "execution_count": 35,
   "metadata": {},
   "outputs": [],
   "source": [
    "def second(n:int)->str:\n",
    "    lst = ['Partridge in a Pear Tree', 'Turtle Doves', 'French Hens', 'Calling Birds', 'Gold Rings',\n",
    "      'Geese-a-Laying', 'Swans-a-Swimming', 'Maids-a-Milking', 'Ladies Dancing', 'Lords-a-Leaping',\n",
    "      'Pipers Piping', 'Drummers Drumming']\n",
    "    two = lst[0:n]\n",
    "    sep = d1[i][0] + ' ,'\n",
    "    m = ''\n",
    "    for j in range(0,n):\n",
    "        m += sep.join(two)\n",
    "    return m#(sep.join(two))"
   ]
  },
  {
   "cell_type": "code",
   "execution_count": 29,
   "metadata": {},
   "outputs": [
    {
     "name": "stdout",
     "output_type": "stream",
     "text": [
      "On the first day of Christmas my true love gave to me, Partridge in a Pear Tree\n",
      "On the second day of Christmas my true love gave to me, Partridge in a Pear Treetwo Turtle Doves\n",
      "On the third day of Christmas my true love gave to me, Partridge in a Pear Treethree Turtle Dovesthree French Hens\n",
      "On the fourth day of Christmas my true love gave to me, Partridge in a Pear Treefour Turtle Dovesfour French Hensfour Calling Birds\n",
      "On the fifth day of Christmas my true love gave to me, Partridge in a Pear Treefive Turtle Dovesfive French Hensfive Calling Birdsfive Gold Rings\n",
      "On the sixth day of Christmas my true love gave to me, Partridge in a Pear Treesix Turtle Dovessix French Henssix Calling Birdssix Gold Ringssix Geese-a-Laying\n",
      "On the seventh day of Christmas my true love gave to me, Partridge in a Pear Treeseven Turtle Dovesseven French Hensseven Calling Birdsseven Gold Ringsseven Geese-a-Layingseven Swans-a-Swimming\n",
      "On the eight day of Christmas my true love gave to me, Partridge in a Pear Treeeight Turtle Doveseight French Henseight Calling Birdseight Gold Ringseight Geese-a-Layingeight Swans-a-Swimmingeight Maids-a-Milking\n",
      "On the ninth day of Christmas my true love gave to me, Partridge in a Pear Treenine Turtle Dovesnine French Hensnine Calling Birdsnine Gold Ringsnine Geese-a-Layingnine Swans-a-Swimmingnine Maids-a-Milkingnine Ladies Dancing\n",
      "On the tenth day of Christmas my true love gave to me, Partridge in a Pear Treeten Turtle Dovesten French Hensten Calling Birdsten Gold Ringsten Geese-a-Layingten Swans-a-Swimmingten Maids-a-Milkingten Ladies Dancingten Lords-a-Leaping\n",
      "On the eleventh day of Christmas my true love gave to me, Partridge in a Pear Treeeleven Turtle Doveseleven French Henseleven Calling Birdseleven Gold Ringseleven Geese-a-Layingeleven Swans-a-Swimmingeleven Maids-a-Milkingeleven Ladies Dancingeleven Lords-a-Leapingeleven Pipers Piping\n",
      "On the twelfth day of Christmas my true love gave to me, Partridge in a Pear Treetwelve Turtle Dovestwelve French Henstwelve Calling Birdstwelve Gold Ringstwelve Geese-a-Layingtwelve Swans-a-Swimmingtwelve Maids-a-Milkingtwelve Ladies Dancingtwelve Lords-a-Leapingtwelve Pipers Pipingtwelve Drummers Drumming\n"
     ]
    }
   ],
   "source": [
    "for i in range(1,13): print(f\"{first(i)}, {second(i)}\")"
   ]
  },
  {
   "cell_type": "code",
   "execution_count": 36,
   "metadata": {},
   "outputs": [
    {
     "name": "stdout",
     "output_type": "stream",
     "text": [
      "Partridge in a Pear Tree\n",
      "Partridge in a Pear Treetwo ,Turtle DovesPartridge in a Pear Treetwo ,Turtle Doves\n",
      "Partridge in a Pear Treethree ,Turtle Dovesthree ,French HensPartridge in a Pear Treethree ,Turtle Dovesthree ,French HensPartridge in a Pear Treethree ,Turtle Dovesthree ,French Hens\n",
      "Partridge in a Pear Treefour ,Turtle Dovesfour ,French Hensfour ,Calling BirdsPartridge in a Pear Treefour ,Turtle Dovesfour ,French Hensfour ,Calling BirdsPartridge in a Pear Treefour ,Turtle Dovesfour ,French Hensfour ,Calling BirdsPartridge in a Pear Treefour ,Turtle Dovesfour ,French Hensfour ,Calling Birds\n",
      "Partridge in a Pear Treefive ,Turtle Dovesfive ,French Hensfive ,Calling Birdsfive ,Gold RingsPartridge in a Pear Treefive ,Turtle Dovesfive ,French Hensfive ,Calling Birdsfive ,Gold RingsPartridge in a Pear Treefive ,Turtle Dovesfive ,French Hensfive ,Calling Birdsfive ,Gold RingsPartridge in a Pear Treefive ,Turtle Dovesfive ,French Hensfive ,Calling Birdsfive ,Gold RingsPartridge in a Pear Treefive ,Turtle Dovesfive ,French Hensfive ,Calling Birdsfive ,Gold Rings\n",
      "Partridge in a Pear Treesix ,Turtle Dovessix ,French Henssix ,Calling Birdssix ,Gold Ringssix ,Geese-a-LayingPartridge in a Pear Treesix ,Turtle Dovessix ,French Henssix ,Calling Birdssix ,Gold Ringssix ,Geese-a-LayingPartridge in a Pear Treesix ,Turtle Dovessix ,French Henssix ,Calling Birdssix ,Gold Ringssix ,Geese-a-LayingPartridge in a Pear Treesix ,Turtle Dovessix ,French Henssix ,Calling Birdssix ,Gold Ringssix ,Geese-a-LayingPartridge in a Pear Treesix ,Turtle Dovessix ,French Henssix ,Calling Birdssix ,Gold Ringssix ,Geese-a-LayingPartridge in a Pear Treesix ,Turtle Dovessix ,French Henssix ,Calling Birdssix ,Gold Ringssix ,Geese-a-Laying\n",
      "Partridge in a Pear Treeseven ,Turtle Dovesseven ,French Hensseven ,Calling Birdsseven ,Gold Ringsseven ,Geese-a-Layingseven ,Swans-a-SwimmingPartridge in a Pear Treeseven ,Turtle Dovesseven ,French Hensseven ,Calling Birdsseven ,Gold Ringsseven ,Geese-a-Layingseven ,Swans-a-SwimmingPartridge in a Pear Treeseven ,Turtle Dovesseven ,French Hensseven ,Calling Birdsseven ,Gold Ringsseven ,Geese-a-Layingseven ,Swans-a-SwimmingPartridge in a Pear Treeseven ,Turtle Dovesseven ,French Hensseven ,Calling Birdsseven ,Gold Ringsseven ,Geese-a-Layingseven ,Swans-a-SwimmingPartridge in a Pear Treeseven ,Turtle Dovesseven ,French Hensseven ,Calling Birdsseven ,Gold Ringsseven ,Geese-a-Layingseven ,Swans-a-SwimmingPartridge in a Pear Treeseven ,Turtle Dovesseven ,French Hensseven ,Calling Birdsseven ,Gold Ringsseven ,Geese-a-Layingseven ,Swans-a-SwimmingPartridge in a Pear Treeseven ,Turtle Dovesseven ,French Hensseven ,Calling Birdsseven ,Gold Ringsseven ,Geese-a-Layingseven ,Swans-a-Swimming\n",
      "Partridge in a Pear Treeeight ,Turtle Doveseight ,French Henseight ,Calling Birdseight ,Gold Ringseight ,Geese-a-Layingeight ,Swans-a-Swimmingeight ,Maids-a-MilkingPartridge in a Pear Treeeight ,Turtle Doveseight ,French Henseight ,Calling Birdseight ,Gold Ringseight ,Geese-a-Layingeight ,Swans-a-Swimmingeight ,Maids-a-MilkingPartridge in a Pear Treeeight ,Turtle Doveseight ,French Henseight ,Calling Birdseight ,Gold Ringseight ,Geese-a-Layingeight ,Swans-a-Swimmingeight ,Maids-a-MilkingPartridge in a Pear Treeeight ,Turtle Doveseight ,French Henseight ,Calling Birdseight ,Gold Ringseight ,Geese-a-Layingeight ,Swans-a-Swimmingeight ,Maids-a-MilkingPartridge in a Pear Treeeight ,Turtle Doveseight ,French Henseight ,Calling Birdseight ,Gold Ringseight ,Geese-a-Layingeight ,Swans-a-Swimmingeight ,Maids-a-MilkingPartridge in a Pear Treeeight ,Turtle Doveseight ,French Henseight ,Calling Birdseight ,Gold Ringseight ,Geese-a-Layingeight ,Swans-a-Swimmingeight ,Maids-a-MilkingPartridge in a Pear Treeeight ,Turtle Doveseight ,French Henseight ,Calling Birdseight ,Gold Ringseight ,Geese-a-Layingeight ,Swans-a-Swimmingeight ,Maids-a-MilkingPartridge in a Pear Treeeight ,Turtle Doveseight ,French Henseight ,Calling Birdseight ,Gold Ringseight ,Geese-a-Layingeight ,Swans-a-Swimmingeight ,Maids-a-Milking\n",
      "Partridge in a Pear Treenine ,Turtle Dovesnine ,French Hensnine ,Calling Birdsnine ,Gold Ringsnine ,Geese-a-Layingnine ,Swans-a-Swimmingnine ,Maids-a-Milkingnine ,Ladies DancingPartridge in a Pear Treenine ,Turtle Dovesnine ,French Hensnine ,Calling Birdsnine ,Gold Ringsnine ,Geese-a-Layingnine ,Swans-a-Swimmingnine ,Maids-a-Milkingnine ,Ladies DancingPartridge in a Pear Treenine ,Turtle Dovesnine ,French Hensnine ,Calling Birdsnine ,Gold Ringsnine ,Geese-a-Layingnine ,Swans-a-Swimmingnine ,Maids-a-Milkingnine ,Ladies DancingPartridge in a Pear Treenine ,Turtle Dovesnine ,French Hensnine ,Calling Birdsnine ,Gold Ringsnine ,Geese-a-Layingnine ,Swans-a-Swimmingnine ,Maids-a-Milkingnine ,Ladies DancingPartridge in a Pear Treenine ,Turtle Dovesnine ,French Hensnine ,Calling Birdsnine ,Gold Ringsnine ,Geese-a-Layingnine ,Swans-a-Swimmingnine ,Maids-a-Milkingnine ,Ladies DancingPartridge in a Pear Treenine ,Turtle Dovesnine ,French Hensnine ,Calling Birdsnine ,Gold Ringsnine ,Geese-a-Layingnine ,Swans-a-Swimmingnine ,Maids-a-Milkingnine ,Ladies DancingPartridge in a Pear Treenine ,Turtle Dovesnine ,French Hensnine ,Calling Birdsnine ,Gold Ringsnine ,Geese-a-Layingnine ,Swans-a-Swimmingnine ,Maids-a-Milkingnine ,Ladies DancingPartridge in a Pear Treenine ,Turtle Dovesnine ,French Hensnine ,Calling Birdsnine ,Gold Ringsnine ,Geese-a-Layingnine ,Swans-a-Swimmingnine ,Maids-a-Milkingnine ,Ladies DancingPartridge in a Pear Treenine ,Turtle Dovesnine ,French Hensnine ,Calling Birdsnine ,Gold Ringsnine ,Geese-a-Layingnine ,Swans-a-Swimmingnine ,Maids-a-Milkingnine ,Ladies Dancing\n",
      "Partridge in a Pear Treeten ,Turtle Dovesten ,French Hensten ,Calling Birdsten ,Gold Ringsten ,Geese-a-Layingten ,Swans-a-Swimmingten ,Maids-a-Milkingten ,Ladies Dancingten ,Lords-a-LeapingPartridge in a Pear Treeten ,Turtle Dovesten ,French Hensten ,Calling Birdsten ,Gold Ringsten ,Geese-a-Layingten ,Swans-a-Swimmingten ,Maids-a-Milkingten ,Ladies Dancingten ,Lords-a-LeapingPartridge in a Pear Treeten ,Turtle Dovesten ,French Hensten ,Calling Birdsten ,Gold Ringsten ,Geese-a-Layingten ,Swans-a-Swimmingten ,Maids-a-Milkingten ,Ladies Dancingten ,Lords-a-LeapingPartridge in a Pear Treeten ,Turtle Dovesten ,French Hensten ,Calling Birdsten ,Gold Ringsten ,Geese-a-Layingten ,Swans-a-Swimmingten ,Maids-a-Milkingten ,Ladies Dancingten ,Lords-a-LeapingPartridge in a Pear Treeten ,Turtle Dovesten ,French Hensten ,Calling Birdsten ,Gold Ringsten ,Geese-a-Layingten ,Swans-a-Swimmingten ,Maids-a-Milkingten ,Ladies Dancingten ,Lords-a-LeapingPartridge in a Pear Treeten ,Turtle Dovesten ,French Hensten ,Calling Birdsten ,Gold Ringsten ,Geese-a-Layingten ,Swans-a-Swimmingten ,Maids-a-Milkingten ,Ladies Dancingten ,Lords-a-LeapingPartridge in a Pear Treeten ,Turtle Dovesten ,French Hensten ,Calling Birdsten ,Gold Ringsten ,Geese-a-Layingten ,Swans-a-Swimmingten ,Maids-a-Milkingten ,Ladies Dancingten ,Lords-a-LeapingPartridge in a Pear Treeten ,Turtle Dovesten ,French Hensten ,Calling Birdsten ,Gold Ringsten ,Geese-a-Layingten ,Swans-a-Swimmingten ,Maids-a-Milkingten ,Ladies Dancingten ,Lords-a-LeapingPartridge in a Pear Treeten ,Turtle Dovesten ,French Hensten ,Calling Birdsten ,Gold Ringsten ,Geese-a-Layingten ,Swans-a-Swimmingten ,Maids-a-Milkingten ,Ladies Dancingten ,Lords-a-LeapingPartridge in a Pear Treeten ,Turtle Dovesten ,French Hensten ,Calling Birdsten ,Gold Ringsten ,Geese-a-Layingten ,Swans-a-Swimmingten ,Maids-a-Milkingten ,Ladies Dancingten ,Lords-a-Leaping\n",
      "Partridge in a Pear Treeeleven ,Turtle Doveseleven ,French Henseleven ,Calling Birdseleven ,Gold Ringseleven ,Geese-a-Layingeleven ,Swans-a-Swimmingeleven ,Maids-a-Milkingeleven ,Ladies Dancingeleven ,Lords-a-Leapingeleven ,Pipers PipingPartridge in a Pear Treeeleven ,Turtle Doveseleven ,French Henseleven ,Calling Birdseleven ,Gold Ringseleven ,Geese-a-Layingeleven ,Swans-a-Swimmingeleven ,Maids-a-Milkingeleven ,Ladies Dancingeleven ,Lords-a-Leapingeleven ,Pipers PipingPartridge in a Pear Treeeleven ,Turtle Doveseleven ,French Henseleven ,Calling Birdseleven ,Gold Ringseleven ,Geese-a-Layingeleven ,Swans-a-Swimmingeleven ,Maids-a-Milkingeleven ,Ladies Dancingeleven ,Lords-a-Leapingeleven ,Pipers PipingPartridge in a Pear Treeeleven ,Turtle Doveseleven ,French Henseleven ,Calling Birdseleven ,Gold Ringseleven ,Geese-a-Layingeleven ,Swans-a-Swimmingeleven ,Maids-a-Milkingeleven ,Ladies Dancingeleven ,Lords-a-Leapingeleven ,Pipers PipingPartridge in a Pear Treeeleven ,Turtle Doveseleven ,French Henseleven ,Calling Birdseleven ,Gold Ringseleven ,Geese-a-Layingeleven ,Swans-a-Swimmingeleven ,Maids-a-Milkingeleven ,Ladies Dancingeleven ,Lords-a-Leapingeleven ,Pipers PipingPartridge in a Pear Treeeleven ,Turtle Doveseleven ,French Henseleven ,Calling Birdseleven ,Gold Ringseleven ,Geese-a-Layingeleven ,Swans-a-Swimmingeleven ,Maids-a-Milkingeleven ,Ladies Dancingeleven ,Lords-a-Leapingeleven ,Pipers PipingPartridge in a Pear Treeeleven ,Turtle Doveseleven ,French Henseleven ,Calling Birdseleven ,Gold Ringseleven ,Geese-a-Layingeleven ,Swans-a-Swimmingeleven ,Maids-a-Milkingeleven ,Ladies Dancingeleven ,Lords-a-Leapingeleven ,Pipers PipingPartridge in a Pear Treeeleven ,Turtle Doveseleven ,French Henseleven ,Calling Birdseleven ,Gold Ringseleven ,Geese-a-Layingeleven ,Swans-a-Swimmingeleven ,Maids-a-Milkingeleven ,Ladies Dancingeleven ,Lords-a-Leapingeleven ,Pipers PipingPartridge in a Pear Treeeleven ,Turtle Doveseleven ,French Henseleven ,Calling Birdseleven ,Gold Ringseleven ,Geese-a-Layingeleven ,Swans-a-Swimmingeleven ,Maids-a-Milkingeleven ,Ladies Dancingeleven ,Lords-a-Leapingeleven ,Pipers PipingPartridge in a Pear Treeeleven ,Turtle Doveseleven ,French Henseleven ,Calling Birdseleven ,Gold Ringseleven ,Geese-a-Layingeleven ,Swans-a-Swimmingeleven ,Maids-a-Milkingeleven ,Ladies Dancingeleven ,Lords-a-Leapingeleven ,Pipers PipingPartridge in a Pear Treeeleven ,Turtle Doveseleven ,French Henseleven ,Calling Birdseleven ,Gold Ringseleven ,Geese-a-Layingeleven ,Swans-a-Swimmingeleven ,Maids-a-Milkingeleven ,Ladies Dancingeleven ,Lords-a-Leapingeleven ,Pipers Piping\n",
      "Partridge in a Pear Treetwelve ,Turtle Dovestwelve ,French Henstwelve ,Calling Birdstwelve ,Gold Ringstwelve ,Geese-a-Layingtwelve ,Swans-a-Swimmingtwelve ,Maids-a-Milkingtwelve ,Ladies Dancingtwelve ,Lords-a-Leapingtwelve ,Pipers Pipingtwelve ,Drummers DrummingPartridge in a Pear Treetwelve ,Turtle Dovestwelve ,French Henstwelve ,Calling Birdstwelve ,Gold Ringstwelve ,Geese-a-Layingtwelve ,Swans-a-Swimmingtwelve ,Maids-a-Milkingtwelve ,Ladies Dancingtwelve ,Lords-a-Leapingtwelve ,Pipers Pipingtwelve ,Drummers DrummingPartridge in a Pear Treetwelve ,Turtle Dovestwelve ,French Henstwelve ,Calling Birdstwelve ,Gold Ringstwelve ,Geese-a-Layingtwelve ,Swans-a-Swimmingtwelve ,Maids-a-Milkingtwelve ,Ladies Dancingtwelve ,Lords-a-Leapingtwelve ,Pipers Pipingtwelve ,Drummers DrummingPartridge in a Pear Treetwelve ,Turtle Dovestwelve ,French Henstwelve ,Calling Birdstwelve ,Gold Ringstwelve ,Geese-a-Layingtwelve ,Swans-a-Swimmingtwelve ,Maids-a-Milkingtwelve ,Ladies Dancingtwelve ,Lords-a-Leapingtwelve ,Pipers Pipingtwelve ,Drummers DrummingPartridge in a Pear Treetwelve ,Turtle Dovestwelve ,French Henstwelve ,Calling Birdstwelve ,Gold Ringstwelve ,Geese-a-Layingtwelve ,Swans-a-Swimmingtwelve ,Maids-a-Milkingtwelve ,Ladies Dancingtwelve ,Lords-a-Leapingtwelve ,Pipers Pipingtwelve ,Drummers DrummingPartridge in a Pear Treetwelve ,Turtle Dovestwelve ,French Henstwelve ,Calling Birdstwelve ,Gold Ringstwelve ,Geese-a-Layingtwelve ,Swans-a-Swimmingtwelve ,Maids-a-Milkingtwelve ,Ladies Dancingtwelve ,Lords-a-Leapingtwelve ,Pipers Pipingtwelve ,Drummers DrummingPartridge in a Pear Treetwelve ,Turtle Dovestwelve ,French Henstwelve ,Calling Birdstwelve ,Gold Ringstwelve ,Geese-a-Layingtwelve ,Swans-a-Swimmingtwelve ,Maids-a-Milkingtwelve ,Ladies Dancingtwelve ,Lords-a-Leapingtwelve ,Pipers Pipingtwelve ,Drummers DrummingPartridge in a Pear Treetwelve ,Turtle Dovestwelve ,French Henstwelve ,Calling Birdstwelve ,Gold Ringstwelve ,Geese-a-Layingtwelve ,Swans-a-Swimmingtwelve ,Maids-a-Milkingtwelve ,Ladies Dancingtwelve ,Lords-a-Leapingtwelve ,Pipers Pipingtwelve ,Drummers DrummingPartridge in a Pear Treetwelve ,Turtle Dovestwelve ,French Henstwelve ,Calling Birdstwelve ,Gold Ringstwelve ,Geese-a-Layingtwelve ,Swans-a-Swimmingtwelve ,Maids-a-Milkingtwelve ,Ladies Dancingtwelve ,Lords-a-Leapingtwelve ,Pipers Pipingtwelve ,Drummers DrummingPartridge in a Pear Treetwelve ,Turtle Dovestwelve ,French Henstwelve ,Calling Birdstwelve ,Gold Ringstwelve ,Geese-a-Layingtwelve ,Swans-a-Swimmingtwelve ,Maids-a-Milkingtwelve ,Ladies Dancingtwelve ,Lords-a-Leapingtwelve ,Pipers Pipingtwelve ,Drummers DrummingPartridge in a Pear Treetwelve ,Turtle Dovestwelve ,French Henstwelve ,Calling Birdstwelve ,Gold Ringstwelve ,Geese-a-Layingtwelve ,Swans-a-Swimmingtwelve ,Maids-a-Milkingtwelve ,Ladies Dancingtwelve ,Lords-a-Leapingtwelve ,Pipers Pipingtwelve ,Drummers DrummingPartridge in a Pear Treetwelve ,Turtle Dovestwelve ,French Henstwelve ,Calling Birdstwelve ,Gold Ringstwelve ,Geese-a-Layingtwelve ,Swans-a-Swimmingtwelve ,Maids-a-Milkingtwelve ,Ladies Dancingtwelve ,Lords-a-Leapingtwelve ,Pipers Pipingtwelve ,Drummers Drumming\n"
     ]
    }
   ],
   "source": [
    "for i in range(1,13): print(f\"{second(i)}\")"
   ]
  },
  {
   "cell_type": "code",
   "execution_count": null,
   "metadata": {},
   "outputs": [],
   "source": []
  }
 ],
 "metadata": {
  "kernelspec": {
   "display_name": "pybase",
   "language": "python",
   "name": "pybase"
  },
  "language_info": {
   "codemirror_mode": {
    "name": "ipython",
    "version": 3
   },
   "file_extension": ".py",
   "mimetype": "text/x-python",
   "name": "python",
   "nbconvert_exporter": "python",
   "pygments_lexer": "ipython3",
   "version": "3.8.5"
  }
 },
 "nbformat": 4,
 "nbformat_minor": 4
}
