{
 "cells": [
  {
   "cell_type": "markdown",
   "metadata": {},
   "source": [
    "## Triangle"
   ]
  },
  {
   "cell_type": "markdown",
   "metadata": {},
   "source": [
    "Write a program that can tell you if a triangle is equilateral,\n",
    "isosceles, or scalene.\n",
    "\n",
    "* Scalene (all sides are different)\n",
    "* Isosceles (two sides are equal)\n",
    "* Equilateral (all three sides are equal)\n",
    "\n",
    "The program should raise an error if the triangle cannot exist.\n",
    "\n",
    "#### Hint\n",
    "\n",
    "The sum of the lengths of any two sides of a triangle always exceeds the\n",
    "length of the third side, a principle known as the _triangle\n",
    "inequality_."
   ]
  },
  {
   "cell_type": "markdown",
   "metadata": {},
   "source": [
    "### Algorithm"
   ]
  },
  {
   "cell_type": "code",
   "execution_count": 17,
   "metadata": {},
   "outputs": [
    {
     "name": "stdout",
     "output_type": "stream",
     "text": [
      "Equilateral triangle\n",
      "Isosceles triangle\n",
      "Invalid triangle\n",
      "Invalid triangle\n",
      "Invalid triangle\n",
      "Scalene triangle\n",
      "Scalene triangle\n",
      "Invalid triangle\n",
      "Invalid input\n"
     ]
    }
   ],
   "source": [
    "def triangle(a:float,b:float,c:float)->str:\n",
    "    try:\n",
    "        if a+b > c and a+c > b and b+c > a and all(i>0 for i in [a,b,c]): # check valid and sides > 0\n",
    "            if len(set([a,b,c])) == 1:     # all sides same => 1 length\n",
    "                print(f\"Equilateral triangle\")\n",
    "            elif len(set([a,b,c])) == 2:   # 2 sides same\n",
    "                print(f\"Isosceles triangle\")\n",
    "            else:                           # all 3 sides different\n",
    "                print(f\"Scalene triangle\") \n",
    "        else: # not valid per triangle inequality\n",
    "            print(f\"Invalid triangle\")\n",
    "    except:\n",
    "        print(f\"Invalid input\")\n",
    "        \n",
    "triangle(2, 2, 2) # Equilateral\n",
    "triangle(10, 10, 2) # Isosceles\n",
    "triangle(0, 0, 0) # Invalid\n",
    "triangle(3, 4, -5) # Invalid\n",
    "triangle(7, 3, 2) # Invalid\n",
    "triangle(0.4, 0.6, 0.3) # Scalene\n",
    "triangle(5, 4, 2) # Scalene\n",
    "triangle(1, 1, 3) # Invalid      \n",
    "triangle('floq', 1, 3) # Invalid input  "
   ]
  },
  {
   "cell_type": "markdown",
   "metadata": {},
   "source": [
    "### Experimentation"
   ]
  },
  {
   "cell_type": "code",
   "execution_count": 16,
   "metadata": {},
   "outputs": [
    {
     "ename": "SyntaxError",
     "evalue": "invalid syntax (<ipython-input-16-b1ec01da0660>, line 3)",
     "output_type": "error",
     "traceback": [
      "\u001b[0;36m  File \u001b[0;32m\"<ipython-input-16-b1ec01da0660>\"\u001b[0;36m, line \u001b[0;32m3\u001b[0m\n\u001b[0;31m    if all(sum(lst.)>i for i in lst) # work in progress\u001b[0m\n\u001b[0m                   ^\u001b[0m\n\u001b[0;31mSyntaxError\u001b[0m\u001b[0;31m:\u001b[0m invalid syntax\n"
     ]
    }
   ],
   "source": [
    "# triangle inequality with list....not there yet so do without\n",
    "lst = [10, 10, 2]\n",
    "if all(sum(lst.)>i for i in lst) # work in progress"
   ]
  },
  {
   "cell_type": "code",
   "execution_count": 15,
   "metadata": {},
   "outputs": [
    {
     "name": "stdout",
     "output_type": "stream",
     "text": [
      "Invalid triangle\n"
     ]
    }
   ],
   "source": [
    "a = -3#10\n",
    "b = 4#10\n",
    "c = 5#2\n",
    "if a+b > c and a+c > b and b +c > a and all(i>0 for i in [a,b,c]):\n",
    "    if len(set([a,b,c]) ) == 1:\n",
    "        print(f\"Equilateral triangle\")\n",
    "    elif len(set([a,b,c]) ) == 2:\n",
    "        print(f\"Isosceles triangle\")\n",
    "    else:\n",
    "        print(f\"Scalene triangle\") \n",
    "else:\n",
    "    print(f\"Invalid triangle\")"
   ]
  },
  {
   "cell_type": "code",
   "execution_count": null,
   "metadata": {},
   "outputs": [],
   "source": []
  }
 ],
 "metadata": {
  "kernelspec": {
   "display_name": "pybase",
   "language": "python",
   "name": "pybase"
  },
  "language_info": {
   "codemirror_mode": {
    "name": "ipython",
    "version": 3
   },
   "file_extension": ".py",
   "mimetype": "text/x-python",
   "name": "python",
   "nbconvert_exporter": "python",
   "pygments_lexer": "ipython3",
   "version": "3.8.5"
  }
 },
 "nbformat": 4,
 "nbformat_minor": 4
}
