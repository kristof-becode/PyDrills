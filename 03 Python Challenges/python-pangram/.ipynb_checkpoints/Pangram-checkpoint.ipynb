{
 "cells": [
  {
   "cell_type": "markdown",
   "metadata": {},
   "source": [
    "## Pangram"
   ]
  },
  {
   "cell_type": "markdown",
   "metadata": {},
   "source": [
    "Determine if a sentence is a pangram.\n",
    "\n",
    "A pangram (Greek: παν γράμμα, pan gramma,\n",
    "\"every letter\") is a sentence using every letter of the alphabet at least once.\n",
    "The best known English pangram is \"The quick brown fox jumps over the lazy dog.\""
   ]
  },
  {
   "cell_type": "markdown",
   "metadata": {},
   "source": [
    "### Final algorithm"
   ]
  },
  {
   "cell_type": "code",
   "execution_count": 59,
   "metadata": {},
   "outputs": [
    {
     "name": "stdout",
     "output_type": "stream",
     "text": [
      "Please enter a sentence to check if it is a pangram: 'the quick brown fish jumps over the lazy dog'\n",
      "This sentence is not a pangram.\n",
      "Please enter a sentence to check if it is a pangram: 'The quick brown fox jumps over the lazy dog.'\n",
      "This sentence is a pangram!\n"
     ]
    }
   ],
   "source": [
    "import string\n",
    "def pangram():\n",
    "    sent = input('Please enter a sentence to check if it is a pangram: ')\n",
    "    letters = [letter.lower() for word in sent.split() for letter in word] # list comprehension for characters\n",
    "    punct = ['.',':','?','!', ';'] # list with punctuation\n",
    "    final = [letter for letter in letters if letter not in punct] # remove punctuation from sentence\n",
    "    if all(letter in final for letter in string.ascii_lowercase):\n",
    "        # if !all! letters are in a-z list from string module then every \n",
    "        # alphabet letter occurs at least once, hence pangram!\n",
    "        print(f\"This sentence is a pangram!\")\n",
    "    else:\n",
    "        print(f\"This sentence is not a pangram.\")\n",
    "        \n",
    "pangram()\n",
    "pangram()\n",
    "# 'the quick brown fish jumps over the lazy dog' # not pangram\n",
    "# 'The quick brown fox jumps over the lazy dog.' # pangram"
   ]
  },
  {
   "cell_type": "markdown",
   "metadata": {},
   "source": [
    "### Experimentation"
   ]
  },
  {
   "cell_type": "code",
   "execution_count": 62,
   "metadata": {},
   "outputs": [
    {
     "name": "stdout",
     "output_type": "stream",
     "text": [
      "abcdefghijklmnopqrstuvwxyz\n",
      "\n",
      "sentence: \n",
      " the quick brown fish jumps over the lazy dog.\n",
      "sentence split with str.split(): \n",
      " ['the', 'quick', 'brown', 'fish', 'jumps', 'over', 'the', 'lazy', 'dog.']\n",
      "letters using for loop in for loop: \n",
      " ['t', 'h', 'e', 'q', 'u', 'i', 'c', 'k', 'b', 'r', 'o', 'w', 'n', 'f', 'i', 's', 'h', 'j', 'u', 'm', 'p', 's', 'o', 'v', 'e', 'r', 't', 'h', 'e', 'l', 'a', 'z', 'y', 'd', 'o', 'g', '.']\n",
      "letters using list comprehension:\n",
      " ['t', 'h', 'e', 'q', 'u', 'i', 'c', 'k', 'b', 'r', 'o', 'w', 'n', 'f', 'i', 's', 'h', 'j', 'u', 'm', 'p', 's', 'o', 'v', 'e', 'r', 't', 'h', 'e', 'l', 'a', 'z', 'y', 'd', 'o', 'g', '.']\n",
      "letters with punctuation taken out: \n",
      " ['t', 'h', 'e', 'q', 'u', 'i', 'c', 'k', 'b', 'r', 'o', 'w', 'n', 'f', 'i', 's', 'h', 'j', 'u', 'm', 'p', 's', 'o', 'v', 'e', 'r', 't', 'h', 'e', 'l', 'a', 'z', 'y', 'd', 'o', 'g']\n",
      "letters sorted: \n",
      " ['a', 'b', 'c', 'd', 'e', 'e', 'e', 'f', 'g', 'h', 'h', 'h', 'i', 'i', 'j', 'k', 'l', 'm', 'n', 'o', 'o', 'o', 'p', 'q', 'r', 'r', 's', 's', 't', 't', 'u', 'u', 'v', 'w', 'y', 'z']\n",
      "list of letters in string.ascii_lowercase: \n",
      " ['a', 'b', 'c', 'd', 'e', 'f', 'g', 'h', 'i', 'j', 'k', 'l', 'm', 'n', 'o', 'p', 'q', 'r', 's', 't', 'u', 'v', 'w', 'x', 'y', 'z']\n",
      "true if letter from alphabet lowercase is in our sentence : \n",
      " [True, True, True, True, True, True, True, True, True, True, True, True, True, True, True, True, True, True, True, True, True, True, True, False, True, True]\n",
      "letter occurences: \n",
      " {'a': 1, 'b': 1, 'c': 1, 'd': 1, 'e': 3, 'f': 1, 'g': 1, 'h': 3, 'i': 2, 'j': 1, 'k': 1, 'l': 1, 'm': 1, 'n': 1, 'o': 3, 'p': 1, 'q': 1, 'r': 2, 's': 2, 't': 2, 'u': 2, 'v': 1, 'w': 1, 'y': 1, 'z': 1}\n"
     ]
    }
   ],
   "source": [
    "import string\n",
    "print(string.ascii_lowercase)\n",
    "\n",
    "\n",
    "#sent = 'The quick brown fox jumps over the lazy dog.'\n",
    "sent = 'the quick brown fish jumps over the lazy dog.'\n",
    "print(f\"\\nsentence: \\n {sent}\")\n",
    "print(f\"sentence split with str.split(): \\n {sent.split()}\")\n",
    "\n",
    "# words = [word for word in sent.split()] equals words = sent.split() # both give same result\n",
    "\n",
    "# traditional for loop for splitting sentence, then splitting the words and appending to list\n",
    "letterkes = []\n",
    "for word in sent.split():\n",
    "    for item in word:\n",
    "        letterkes.append(item.lower())\n",
    "print(f\"letters using for loop in for loop: \\n {letterkes}\")\n",
    "\n",
    "# using list comprehension to split sentence, split words into one list\n",
    "letters = [letter.lower() for word in sent.split() for letter in word] # this is counterintuitive at first!!!!\n",
    "print(f\"letters using list comprehension:\\n {letters}\")\n",
    "\n",
    "# taking out punctuation and sort list with string characters\n",
    "punct = ['.',':','?','!', ';']\n",
    "final = [letter for letter in letters if letter not in punct]\n",
    "print(f\"letters with punctuation taken out: \\n {final}\")\n",
    "final.sort(key=str.lower) # sort list alphabetically, assigning it returns 'None' !\n",
    "print(f\"letters sorted: \\n {final}\")\n",
    "\n",
    "# list of alphabet letters lowercase => just use string.ascci_lowercase !!\n",
    "alpha_lower = [str for str in string.ascii_lowercase]\n",
    "print(f'list of letters in string.ascii_lowercase: \\n {alpha_lower}')\n",
    "\n",
    "#check letter for letter in alpha_lower if it occurs in our sentence\n",
    "check = [letter in final for letter in alpha_lower]\n",
    "print(f'true if letter from alphabet lowercase is in our sentence : \\n {check}')\n",
    "\n",
    "if all(letter in final for letter in alpha_lower):\n",
    "    print(f\"This sentence is a pangram!\")\n",
    "\n",
    "# dictionary with letter occurences\n",
    "occ = {letter : final.count(letter) for letter in final}\n",
    "print(f\"letter occurences: \\n {occ}\")"
   ]
  },
  {
   "cell_type": "code",
   "execution_count": null,
   "metadata": {},
   "outputs": [],
   "source": []
  },
  {
   "cell_type": "code",
   "execution_count": null,
   "metadata": {},
   "outputs": [],
   "source": []
  }
 ],
 "metadata": {
  "kernelspec": {
   "display_name": "pybase",
   "language": "python",
   "name": "pybase"
  },
  "language_info": {
   "codemirror_mode": {
    "name": "ipython",
    "version": 3
   },
   "file_extension": ".py",
   "mimetype": "text/x-python",
   "name": "python",
   "nbconvert_exporter": "python",
   "pygments_lexer": "ipython3",
   "version": "3.8.5"
  }
 },
 "nbformat": 4,
 "nbformat_minor": 4
}
