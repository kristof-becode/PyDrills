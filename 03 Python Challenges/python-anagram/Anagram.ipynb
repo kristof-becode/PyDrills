{
 "cells": [
  {
   "cell_type": "markdown",
   "metadata": {},
   "source": [
    "## Anagram\n",
    "\n",
    "Write a program that, given a word and a list of possible anagrams,\n",
    "selects the correct sublist.\n",
    "\n",
    "Given `\"listen\"` and a list of candidates like `\"enlists\" \"google\"\n",
    "\"inlets\" \"banana\"` the program should return a list containing\n",
    "`\"inlets\"`.\n",
    "\n",
    "An anagram is a word or phrase formed by rearranging the letters of a different word or phrase, \n",
    "typically using all the original letters exactly once"
   ]
  },
  {
   "cell_type": "markdown",
   "metadata": {},
   "source": [
    "### Algorithm"
   ]
  },
  {
   "cell_type": "code",
   "execution_count": null,
   "metadata": {},
   "outputs": [],
   "source": [
    "def anagram(sentence:str)->str:\n",
    "    "
   ]
  },
  {
   "cell_type": "markdown",
   "metadata": {},
   "source": [
    "### Experimentation"
   ]
  },
  {
   "cell_type": "code",
   "execution_count": 7,
   "metadata": {},
   "outputs": [
    {
     "name": "stdout",
     "output_type": "stream",
     "text": [
      "['o', 'r', 'c', 'h', 'e', 's', 't', 'r', 'a']\n",
      "['cashregister', 'carthorse', 'radishes']\n"
     ]
    }
   ],
   "source": [
    "sen = 'cashregister Carthorse radishes'\n",
    "an = 'Orchestra'\n",
    "an_let = [letter.lower() for letter in an] # split anagram in lowercase letters\n",
    "print(an_let)\n",
    "split = sen.lower().split() # set sentence str.lowercase() and split in words\n",
    "print(split)\n",
    "for letter in an_let for word in split]"
   ]
  },
  {
   "cell_type": "code",
   "execution_count": null,
   "metadata": {},
   "outputs": [],
   "source": []
  }
 ],
 "metadata": {
  "kernelspec": {
   "display_name": "pybase",
   "language": "python",
   "name": "pybase"
  },
  "language_info": {
   "codemirror_mode": {
    "name": "ipython",
    "version": 3
   },
   "file_extension": ".py",
   "mimetype": "text/x-python",
   "name": "python",
   "nbconvert_exporter": "python",
   "pygments_lexer": "ipython3",
   "version": "3.8.5"
  }
 },
 "nbformat": 4,
 "nbformat_minor": 4
}
