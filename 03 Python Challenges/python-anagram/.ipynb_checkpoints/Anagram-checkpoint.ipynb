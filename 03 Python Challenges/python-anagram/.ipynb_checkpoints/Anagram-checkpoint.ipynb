{
 "cells": [
  {
   "cell_type": "markdown",
   "metadata": {},
   "source": [
    "## Anagram\n",
    "\n",
    "Write a program that, given a word and a list of possible anagrams,\n",
    "selects the correct sublist.\n",
    "\n",
    "Given `\"listen\"` and a list of candidates like `\"enlists\" \"google\"\n",
    "\"inlets\" \"banana\"` the program should return a list containing\n",
    "`\"inlets\"`.\n",
    "\n",
    "An anagram is a word or phrase formed by rearranging the letters of a different word or phrase, \n",
    "typically using all the original letters exactly once"
   ]
  },
  {
   "cell_type": "markdown",
   "metadata": {},
   "source": [
    "### Algorithm"
   ]
  },
  {
   "cell_type": "code",
   "execution_count": 68,
   "metadata": {},
   "outputs": [
    {
     "name": "stdout",
     "output_type": "stream",
     "text": [
      "['inlets']\n",
      "['stream', 'maters']\n",
      "[]\n"
     ]
    }
   ],
   "source": [
    "# from the test.py it is clear that I should only return anagram of exactly same letters but not a copy of the word \n",
    "def anagram(sen:str, anwrd:str)->list:\n",
    "    anwrd_let = [letter.lower() for letter in anwrd] # split anagram in lowercase letters\n",
    "    an = []\n",
    "    for word in sen.lower().split(): # iterate over sen\n",
    "        # all letters should occur in both words and occur same number of times\n",
    "        if all(letter in anwrd_let and word.count(letter)==anwrd_let.count(letter) for letter in word) and word != anwrd:\n",
    "            an.append(word)\n",
    "    print(an)\n",
    "    #return an\n",
    "    \n",
    "\n",
    "anagram(\"enlists google inlets banana\",  \"listen\")\n",
    "anagram('stream pigeon maters', 'master')\n",
    "anagram('banana', 'banana')"
   ]
  },
  {
   "cell_type": "markdown",
   "metadata": {},
   "source": [
    "### Experimentation"
   ]
  },
  {
   "cell_type": "code",
   "execution_count": 38,
   "metadata": {},
   "outputs": [
    {
     "name": "stdout",
     "output_type": "stream",
     "text": [
      "['carthorse']\n"
     ]
    }
   ],
   "source": [
    "sen = 'cashregister Carthorse radishes'\n",
    "an = 'Orchestra'\n",
    "an_let = [letter.lower() for letter in an] # split anagram in lowercase letters\n",
    "#print(an_let)\n",
    "split = sen.lower().split() # set sentence str.lowercase() and split in words\n",
    "#print(split)\n",
    "an = []\n",
    "\n",
    "l_split = [[letter for letter in word] for word in split] # list within mist comprehension\n",
    "\n",
    "for word in sen.lower().split(): # doesn't take multiple occurence of letters into account !!\n",
    "    if all(letter in an_let for letter in word) and word != an:\n",
    "        an.append(word)\n",
    "print(an)"
   ]
  }
 ],
 "metadata": {
  "kernelspec": {
   "display_name": "pybase",
   "language": "python",
   "name": "pybase"
  },
  "language_info": {
   "codemirror_mode": {
    "name": "ipython",
    "version": 3
   },
   "file_extension": ".py",
   "mimetype": "text/x-python",
   "name": "python",
   "nbconvert_exporter": "python",
   "pygments_lexer": "ipython3",
   "version": "3.8.5"
  }
 },
 "nbformat": 4,
 "nbformat_minor": 4
}
