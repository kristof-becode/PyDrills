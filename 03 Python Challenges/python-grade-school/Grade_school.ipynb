{
 "cells": [
  {
   "cell_type": "markdown",
   "metadata": {},
   "source": [
    "## Grade school"
   ]
  },
  {
   "cell_type": "markdown",
   "metadata": {},
   "source": [
    "Write a small archiving program that stores students' names along with\n",
    "the grade that they are in.\n",
    "\n",
    "In the end, you should be able to:\n",
    "\n",
    "- Add a student's name to the roster for a grade\n",
    "  - \"Add Jim to grade 2.\"\n",
    "  - \"OK.\"\n",
    "- Get a list of all students enrolled in a grade\n",
    "  - \"Which students are in grade 2?\"\n",
    "  - \"We've only got Jim just now.\"\n",
    "- Get a sorted list of all students in all grades.  Grades should sort\n",
    "  as 1, 2, 3, etc., and students within a grade should be sorted\n",
    "  alphabetically by name.\n",
    "  - \"Who all is enrolled in school right now?\"\n",
    "  - \"Grade 1: Anna, Barb, and Charlie. Grade 2: Alex, Peter, and Zoe.\n",
    "    Grade 3…\"\n",
    "\n",
    "Note that all our students only have one name.  (It's a small town, what\n",
    "do you want?)"
   ]
  },
  {
   "cell_type": "markdown",
   "metadata": {},
   "source": [
    "### Algorithm 1"
   ]
  },
  {
   "cell_type": "code",
   "execution_count": 132,
   "metadata": {},
   "outputs": [
    {
     "name": "stdout",
     "output_type": "stream",
     "text": [
      "Type: ap to add a student to a grade | sg to show pupils in a grade | ss to show all pupils in the schoolap\n",
      "Press q to quit\n",
      "type pupil name to addJohn\n",
      "type grade(1-6) to add {a} to1\n",
      "continue: y/n ?y\n",
      "type pupil name to addMaria\n",
      "type grade(1-6) to add {a} to2\n",
      "continue: y/n ?y\n",
      "type pupil name to addSean\n",
      "type grade(1-6) to add {a} to3\n",
      "continue: y/n ?Kunti\n",
      "Type: ap to add a student to a grade | sg to show pupils in a grade | ss to show all pupils in the schoolKunti\n",
      "Press q to quit\n",
      "Invalid instruction\n",
      "Type: ap to add a student to a grade | sg to show pupils in a grade | ss to show all pupils in the school1\n",
      "Press q to quit\n",
      "Invalid instruction\n",
      "Type: ap to add a student to a grade | sg to show pupils in a grade | ss to show all pupils in the schoolss\n",
      "Press q to quit\n",
      "Grade 1 : 1 pupil  : John\n",
      "Grade 2 : 1 pupil  : Maria\n",
      "Grade 3 : 1 pupil  : Sean\n",
      "Grade 4 : 0 pupils\n",
      "Grade 5 : 0 pupils\n",
      "Grade 6 : 0 pupils\n",
      "Total pupils : 3\n",
      "Type: ap to add a student to a grade | sg to show pupils in a grade | ss to show all pupils in the schoolq\n",
      "Press q to quit\n",
      "Thank you, bye.\n"
     ]
    }
   ],
   "source": [
    "school = {\n",
    "    1 : [], 2 : [], 3 : [], 4 : [], 5 : [], 6 : []\n",
    "}\n",
    "def add_grade(name:str, grade:int):\n",
    "    school[grade].append(name)\n",
    "    school[grade].sort()\n",
    "    return school\n",
    "\n",
    "def show_grade(grade:int):\n",
    "    print(f\"Grade {grade} : {', '.join(school[grade])}\")\n",
    "\n",
    "def show_school():\n",
    "    stud = 0\n",
    "    for (key,val) in school.items(): \n",
    "        stud += len(val)\n",
    "        if len(val) == 0:\n",
    "            print(f\"Grade {key} : 0 pupils\") \n",
    "        elif len(val) == 1:\n",
    "            print(f\"Grade {key} : {len(val)} pupil  : {val[0]}\")\n",
    "        else:\n",
    "            print(f\"Grade {key} : {len(val)} pupils : {', '.join(val[:-1])} and {val[-1]}\")\n",
    "    print(f\"Total pupils : {stud}\")\n",
    "\n",
    "def main():\n",
    "    ipt = 'yes'\n",
    "    while ipt != \"q\":\n",
    "        ipt = input(\"Type: ap to add a student to a grade | sg to show pupils \" +\n",
    "                        \"in a grade | ss to show all pupils in the school\")\n",
    "        print(f\"Press q to quit\")\n",
    "        if ipt == \"ap\":\n",
    "            ip = \"y\"\n",
    "            while ip == \"y\":\n",
    "                a = input(\"type pupil name to add\")\n",
    "                g = int(input(\"type grade(1-6) to add {a} to\"))\n",
    "                add_grade(a,g)\n",
    "                ip = input(\"continue: y/n ?\")\n",
    "        elif ipt == \"sg\":\n",
    "            g = int(input(\"type grade to show\"))\n",
    "            show_grade(g)\n",
    "        elif ipt == \"ss\":\n",
    "            show_school()\n",
    "        elif ipt == \"q\":\n",
    "            print(f\"Thank you, bye.\")\n",
    "        else:\n",
    "            print(f\"Invalid instruction\")\n",
    "\n",
    "\n",
    "main()"
   ]
  },
  {
   "cell_type": "markdown",
   "metadata": {},
   "source": [
    "### Exploration"
   ]
  },
  {
   "cell_type": "code",
   "execution_count": 107,
   "metadata": {},
   "outputs": [
    {
     "data": {
      "text/plain": [
       "{1: ['Seena'],\n",
       " 2: ['John', 'Nick'],\n",
       " 3: ['Anna', 'Miles', 'Pol'],\n",
       " 4: [],\n",
       " 5: [],\n",
       " 6: []}"
      ]
     },
     "execution_count": 107,
     "metadata": {},
     "output_type": "execute_result"
    }
   ],
   "source": [
    "add_grade('John',2)\n",
    "add_grade('Miles',3)\n",
    "add_grade('Nick',2)\n",
    "add_grade('Anna',3)\n",
    "add_grade('Pol',3)\n",
    "add_grade('Seena',1)"
   ]
  },
  {
   "cell_type": "code",
   "execution_count": 108,
   "metadata": {},
   "outputs": [
    {
     "name": "stdout",
     "output_type": "stream",
     "text": [
      "Grade 2 : John, Nick\n",
      "Grade 3 : Anna, Miles, Pol\n",
      "Grade 1 : Seena\n"
     ]
    }
   ],
   "source": [
    "show_grade(2)\n",
    "show_grade(3)\n",
    "show_grade(1)"
   ]
  },
  {
   "cell_type": "code",
   "execution_count": 109,
   "metadata": {},
   "outputs": [
    {
     "name": "stdout",
     "output_type": "stream",
     "text": [
      "Grade 1 : 1 pupil  : Seena\n",
      "Grade 2 : 2 pupils : John and Nick\n",
      "Grade 3 : 3 pupils : Anna, Miles and Pol\n",
      "Grade 4 : 0 pupils\n",
      "Grade 5 : 0 pupils\n",
      "Grade 6 : 0 pupils\n",
      "Total pupils : 6\n"
     ]
    }
   ],
   "source": [
    "show_school()"
   ]
  }
 ],
 "metadata": {
  "kernelspec": {
   "display_name": "pybase",
   "language": "python",
   "name": "pybase"
  },
  "language_info": {
   "codemirror_mode": {
    "name": "ipython",
    "version": 3
   },
   "file_extension": ".py",
   "mimetype": "text/x-python",
   "name": "python",
   "nbconvert_exporter": "python",
   "pygments_lexer": "ipython3",
   "version": "3.8.5"
  }
 },
 "nbformat": 4,
 "nbformat_minor": 4
}
