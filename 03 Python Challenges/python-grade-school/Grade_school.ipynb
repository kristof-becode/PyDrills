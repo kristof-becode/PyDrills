{
 "cells": [
  {
   "cell_type": "markdown",
   "metadata": {},
   "source": [
    "## Grade school"
   ]
  },
  {
   "cell_type": "markdown",
   "metadata": {},
   "source": [
    "Write a small archiving program that stores students' names along with\n",
    "the grade that they are in.\n",
    "\n",
    "In the end, you should be able to:\n",
    "\n",
    "- Add a student's name to the roster for a grade\n",
    "  - \"Add Jim to grade 2.\"\n",
    "  - \"OK.\"\n",
    "- Get a list of all students enrolled in a grade\n",
    "  - \"Which students are in grade 2?\"\n",
    "  - \"We've only got Jim just now.\"\n",
    "- Get a sorted list of all students in all grades.  Grades should sort\n",
    "  as 1, 2, 3, etc., and students within a grade should be sorted\n",
    "  alphabetically by name.\n",
    "  - \"Who all is enrolled in school right now?\"\n",
    "  - \"Grade 1: Anna, Barb, and Charlie. Grade 2: Alex, Peter, and Zoe.\n",
    "    Grade 3…\"\n",
    "\n",
    "Note that all our students only have one name.  (It's a small town, what\n",
    "do you want?)"
   ]
  },
  {
   "cell_type": "markdown",
   "metadata": {},
   "source": [
    "### Algorithm 1"
   ]
  },
  {
   "cell_type": "code",
   "execution_count": null,
   "metadata": {},
   "outputs": [],
   "source": []
  },
  {
   "cell_type": "markdown",
   "metadata": {},
   "source": [
    "### Algorithm 2 - OOP"
   ]
  },
  {
   "cell_type": "code",
   "execution_count": null,
   "metadata": {},
   "outputs": [],
   "source": []
  }
 ],
 "metadata": {
  "kernelspec": {
   "display_name": "pybase",
   "language": "python",
   "name": "pybase"
  },
  "language_info": {
   "codemirror_mode": {
    "name": "ipython",
    "version": 3
   },
   "file_extension": ".py",
   "mimetype": "text/x-python",
   "name": "python",
   "nbconvert_exporter": "python",
   "pygments_lexer": "ipython3",
   "version": "3.8.5"
  }
 },
 "nbformat": 4,
 "nbformat_minor": 4
}
