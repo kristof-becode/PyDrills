{
 "cells": [
  {
   "cell_type": "markdown",
   "metadata": {},
   "source": [
    "## House"
   ]
  },
  {
   "cell_type": "markdown",
   "metadata": {},
   "source": [
    "Write a program that outputs the nursery rhyme 'This is the House that\n",
    "Jack Built'.\n",
    "\n",
    "The nursery rhyme reads as follows:\n",
    "\n",
    "```plain\n",
    "This is the house that Jack built.\n",
    "\n",
    "This is the malt\n",
    "that lay in the house that Jack built.\n",
    "\n",
    "This is the rat\n",
    "that ate the malt\n",
    "that lay in the house that Jack built.\n",
    "\n",
    "This is the cat\n",
    "that killed the rat\n",
    "that ate the malt\n",
    "that lay in the house that Jack built.\n",
    "\n",
    "This is the dog\n",
    "that worried the cat\n",
    "that killed the rat\n",
    "that ate the malt\n",
    "that lay in the house that Jack built.\n",
    "\n",
    "This is the cow with the crumpled horn\n",
    "that tossed the dog\n",
    "that worried the cat\n",
    "that killed the rat\n",
    "that ate the malt\n",
    "that lay in the house that Jack built.\n",
    "\n",
    "This is the maiden all forlorn\n",
    "that milked the cow with the crumpled horn\n",
    "that tossed the dog\n",
    "that worried the cat\n",
    "that killed the rat\n",
    "that ate the malt\n",
    "that lay in the house that Jack built.\n",
    "\n",
    "This is the man all tattered and torn\n",
    "that kissed the maiden all forlorn\n",
    "that milked the cow with the crumpled horn\n",
    "that tossed the dog\n",
    "that worried the cat\n",
    "that killed the rat\n",
    "that ate the malt\n",
    "that lay in the house that Jack built.\n",
    "\n",
    "This is the priest all shaven and shorn\n",
    "that married the man all tattered and torn\n",
    "that kissed the maiden all forlorn\n",
    "that milked the cow with the crumpled horn\n",
    "that tossed the dog\n",
    "that worried the cat\n",
    "that killed the rat\n",
    "that ate the malt\n",
    "that lay in the house that Jack built.\n",
    "\n",
    "This is the rooster that crowed in the morn\n",
    "that woke the priest all shaven and shorn\n",
    "that married the man all tattered and torn\n",
    "that kissed the maiden all forlorn\n",
    "that milked the cow with the crumpled horn\n",
    "that tossed the dog\n",
    "that worried the cat\n",
    "that killed the rat\n",
    "that ate the malt\n",
    "that lay in the house that Jack built.\n",
    "\n",
    "This is the farmer sowing his corn\n",
    "that kept the rooster that crowed in the morn\n",
    "that woke the priest all shaven and shorn\n",
    "that married the man all tattered and torn\n",
    "that kissed the maiden all forlorn\n",
    "that milked the cow with the crumpled horn\n",
    "that tossed the dog\n",
    "that worried the cat\n",
    "that killed the rat\n",
    "that ate the malt\n",
    "that lay in the house that Jack built.\n",
    "\n",
    "This is the horse and the hound and the horn\n",
    "that belonged to the farmer sowing his corn\n",
    "that kept the rooster that crowed in the morn\n",
    "that woke the priest all shaven and shorn\n",
    "that married the man all tattered and torn\n",
    "that kissed the maiden all forlorn\n",
    "that milked the cow with the crumpled horn\n",
    "that tossed the dog\n",
    "that worried the cat\n",
    "that killed the rat\n",
    "that ate the malt\n",
    "that lay in the house that Jack built.\n",
    "```"
   ]
  },
  {
   "cell_type": "markdown",
   "metadata": {},
   "source": [
    "### Algorithm"
   ]
  },
  {
   "cell_type": "code",
   "execution_count": null,
   "metadata": {},
   "outputs": [],
   "source": []
  },
  {
   "cell_type": "markdown",
   "metadata": {},
   "source": [
    "### Experimentation"
   ]
  },
  {
   "cell_type": "code",
   "execution_count": null,
   "metadata": {},
   "outputs": [],
   "source": []
  }
 ],
 "metadata": {
  "kernelspec": {
   "display_name": "pybase",
   "language": "python",
   "name": "pybase"
  },
  "language_info": {
   "codemirror_mode": {
    "name": "ipython",
    "version": 3
   },
   "file_extension": ".py",
   "mimetype": "text/x-python",
   "name": "python",
   "nbconvert_exporter": "python",
   "pygments_lexer": "ipython3",
   "version": "3.8.5"
  }
 },
 "nbformat": 4,
 "nbformat_minor": 4
}
