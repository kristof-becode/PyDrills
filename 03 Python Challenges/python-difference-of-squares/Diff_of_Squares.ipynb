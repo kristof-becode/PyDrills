{
 "cells": [
  {
   "cell_type": "markdown",
   "metadata": {},
   "source": [
    "## Difference of squares\n",
    "\n",
    "Find the difference between the sum of the squares and the square of the\n",
    "sums of the first N natural numbers.\n",
    "\n",
    "The square of the sum of the first ten natural numbers is,\n",
    "\n",
    "    (1 + 2 + ... + 10)**2 = 55**2 = 3025\n",
    "\n",
    "The sum of the squares of the first ten natural numbers is,\n",
    "\n",
    "    1**2 + 2**2 + ... + 10**2 = 385\n",
    "\n",
    "Hence the difference between the square of the sum of the first\n",
    "ten natural numbers and the sum of the squares is 2640:\n",
    "\n",
    "    3025 - 385 = 2640"
   ]
  },
  {
   "cell_type": "markdown",
   "metadata": {},
   "source": [
    "### Algorithm"
   ]
  },
  {
   "cell_type": "code",
   "execution_count": 19,
   "metadata": {},
   "outputs": [
    {
     "name": "stdout",
     "output_type": "stream",
     "text": [
      "170\n",
      "25164150\n"
     ]
    }
   ],
   "source": [
    "def dif(n:int)->int:\n",
    "    sqsum =(sum(range(1,n+1)))**2 # square of sum\n",
    "    sumsq = 0\n",
    "    for i in range(1,n+1):        # sum of squares\n",
    "        sumsq += i*i\n",
    "    print(sqsum - sumsq)\n",
    "    #return sumsq - sumsq\n",
    "    \n",
    "dif(5)\n",
    "dif(100)"
   ]
  },
  {
   "cell_type": "markdown",
   "metadata": {},
   "source": [
    "### Experimentation"
   ]
  },
  {
   "cell_type": "code",
   "execution_count": 20,
   "metadata": {},
   "outputs": [
    {
     "name": "stdout",
     "output_type": "stream",
     "text": [
      "6\n",
      "4\n",
      "0\n",
      "1\n",
      "2\n",
      "3\n",
      "1\n",
      "2\n",
      "3\n",
      "4\n",
      "100\n",
      "30\n"
     ]
    }
   ],
   "source": [
    "ds = sum(range(4))\n",
    "print(ds)\n",
    "print(len(range(4)))\n",
    "for i in range(4):\n",
    "    print(i)\n",
    "for i in range(1,4+1):\n",
    "    print(i)\n",
    "n=4\n",
    "sqsum =(sum(range(1,n+1)))**2 #10**2\n",
    "print(sqsum)\n",
    "#sumsq = sum(range(1,n+1)**2) # doesn't work\n",
    "#sumsq = pow(range(1,n+1),2) # doesn't work\n",
    "#print(sumsq)\n",
    "sumsq = 0\n",
    "for i in range(1,n+1):\n",
    "    sumsq += i*i\n",
    "print(sumsq)"
   ]
  },
  {
   "cell_type": "code",
   "execution_count": null,
   "metadata": {},
   "outputs": [],
   "source": []
  }
 ],
 "metadata": {
  "kernelspec": {
   "display_name": "pybase",
   "language": "python",
   "name": "pybase"
  },
  "language_info": {
   "codemirror_mode": {
    "name": "ipython",
    "version": 3
   },
   "file_extension": ".py",
   "mimetype": "text/x-python",
   "name": "python",
   "nbconvert_exporter": "python",
   "pygments_lexer": "ipython3",
   "version": "3.8.5"
  }
 },
 "nbformat": 4,
 "nbformat_minor": 4
}
