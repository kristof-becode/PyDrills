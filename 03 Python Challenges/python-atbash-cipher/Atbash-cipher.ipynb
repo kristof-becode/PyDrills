{
 "cells": [
  {
   "cell_type": "markdown",
   "metadata": {},
   "source": [
    "## Atbash cipher"
   ]
  },
  {
   "cell_type": "markdown",
   "metadata": {},
   "source": [
    "The Atbash cipher is a simple substitution cipher that relies on\n",
    "transposing all the letters in the alphabet such that the resulting\n",
    "alphabet is backwards. The first letter is replaced with the last\n",
    "letter, the second with the second-last, and so on.\n",
    "\n",
    "An Atbash cipher for the Latin alphabet would be as follows:\n",
    "\n",
    "\n",
    "Plain:  abcdefghijklmnopqrstuvwxyz\n",
    "Cipher: zyxwvutsrqponmlkjihgfedcba\n",
    "\n",
    "\n",
    "It is a very weak cipher because it only has one possible key, and it is\n",
    "a simple monoalphabetic substitution cipher. However, this may not have\n",
    "been an issue in the cipher's time.\n",
    "\n",
    "Ciphertext is written out in groups of fixed length, the traditional group size\n",
    "being 5 letters, and punctuation is excluded. This is to make it harder to guess\n",
    "things based on word boundaries.\n",
    "\n",
    " Examples\n",
    "- Encoding `test` gives `gvhg`\n",
    "- Decoding `gvhg` gives `test`\n",
    "- Decoding `gsvjf rxpyi ldmul cqfnk hlevi gsvoz abwlt` gives `The quick brown fox jumps over the lazy dog.`\n"
   ]
  },
  {
   "cell_type": "markdown",
   "metadata": {},
   "source": [
    "### Algorithm"
   ]
  },
  {
   "cell_type": "code",
   "execution_count": 34,
   "metadata": {},
   "outputs": [
    {
     "name": "stdout",
     "output_type": "stream",
     "text": [
      "gvhg\n",
      "gsvjf rxpyi ldmul cqfnk hlevi gsvoz abwlt\n",
      "zmlyh gzxov rhlug vmzhg vkkrm thglm v\n",
      "gifgs rhurx grlm\n",
      "lnt\n"
     ]
    }
   ],
   "source": [
    "import string\n",
    "def atbash(to_cipher:str)->str:\n",
    "    ciph_lst = [char for char in string.ascii_lowercase][::-1] # reverse list of lowercase characters\n",
    "    # separate string to characters and strip punctuation\n",
    "    no_punct = [letter.lower() for word in to_cipher.split() for letter in word if letter not in string.punctuation]\n",
    "    # convert each character to its atbash cipher\n",
    "    cipher = [ciph_lst[string.ascii_lowercase.index(letter)] for letter in no_punct]\n",
    "    at = ''\n",
    "    for i in range(0,len(no_punct),5): # concatenate list to string in elements of len 5 and end with ' '\n",
    "        at += ''.join(cipher[i:i+5])\n",
    "        at += ' '\n",
    "    print(at[0:-1]) # leave out last ' ' but doesn't matter, 'cause in case of decoding you'll strip whitespace\n",
    "    \n",
    "atbash('test')\n",
    "atbash('The quick brown fox jumps over the lazy dog.')\n",
    "atbash('\"anobstacleisoftenasteppingstone\"')\n",
    "atbash('Truth is fiction.')\n",
    "atbash('O M G')"
   ]
  },
  {
   "cell_type": "code",
   "execution_count": null,
   "metadata": {},
   "outputs": [],
   "source": []
  }
 ],
 "metadata": {
  "kernelspec": {
   "display_name": "pybase",
   "language": "python",
   "name": "pybase"
  },
  "language_info": {
   "codemirror_mode": {
    "name": "ipython",
    "version": 3
   },
   "file_extension": ".py",
   "mimetype": "text/x-python",
   "name": "python",
   "nbconvert_exporter": "python",
   "pygments_lexer": "ipython3",
   "version": "3.8.5"
  }
 },
 "nbformat": 4,
 "nbformat_minor": 4
}
