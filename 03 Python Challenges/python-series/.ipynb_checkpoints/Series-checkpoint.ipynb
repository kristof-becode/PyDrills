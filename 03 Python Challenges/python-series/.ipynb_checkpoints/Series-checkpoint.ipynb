{
 "cells": [
  {
   "cell_type": "markdown",
   "metadata": {},
   "source": [
    "## Series\n",
    "\n",
    "Write a program that will take a string of digits and give you all the\n",
    "contiguous substrings of length \\`n\\` in that string.\n",
    "\n",
    "For example, the string \"49142\" has the following 3-digit series:\n",
    "\n",
    "- 491\n",
    "- 914\n",
    "- 142\n",
    "\n",
    "And the following 4-digit series:\n",
    "\n",
    "- 4914\n",
    "- 9142\n",
    "\n",
    "And if you ask for a 6-digit series from a 5-digit string, you deserve\n",
    "whatever you get.\n",
    "\n",
    "Note that these series are only required to occupy *adjacent positions*\n",
    "in the input; the digits need not be *numerically consecutive*."
   ]
  },
  {
   "cell_type": "code",
   "execution_count": null,
   "metadata": {},
   "outputs": [],
   "source": []
  }
 ],
 "metadata": {
  "kernelspec": {
   "display_name": "pybase",
   "language": "python",
   "name": "pybase"
  },
  "language_info": {
   "codemirror_mode": {
    "name": "ipython",
    "version": 3
   },
   "file_extension": ".py",
   "mimetype": "text/x-python",
   "name": "python",
   "nbconvert_exporter": "python",
   "pygments_lexer": "ipython3",
   "version": "3.8.5"
  }
 },
 "nbformat": 4,
 "nbformat_minor": 4
}
