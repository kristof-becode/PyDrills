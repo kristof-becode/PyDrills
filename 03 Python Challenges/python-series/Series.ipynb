{
 "cells": [
  {
   "cell_type": "markdown",
   "metadata": {},
   "source": [
    "## Series\n",
    "\n",
    "Write a program that will take a string of digits and give you all the\n",
    "contiguous substrings of length \\`n\\` in that string.\n",
    "\n",
    "For example, the string \"49142\" has the following 3-digit series:\n",
    "\n",
    "- 491\n",
    "- 914\n",
    "- 142\n",
    "\n",
    "And the following 4-digit series:\n",
    "\n",
    "- 4914\n",
    "- 9142\n",
    "\n",
    "And if you ask for a 6-digit series from a 5-digit string, you deserve\n",
    "whatever you get.\n",
    "\n",
    "Note that these series are only required to occupy *adjacent positions*\n",
    "in the input; the digits need not be *numerically consecutive*."
   ]
  },
  {
   "cell_type": "markdown",
   "metadata": {},
   "source": [
    "### Algorithm"
   ]
  },
  {
   "cell_type": "code",
   "execution_count": 11,
   "metadata": {},
   "outputs": [
    {
     "name": "stdout",
     "output_type": "stream",
     "text": [
      "['491', '914', '142']\n",
      "['0', '1', '2', '3', '4']\n",
      "['0123', '1234']\n",
      "Invalid request, n is greater then length of string or n equals zero\n",
      "['01234']\n",
      "['978', '786', '867', '675', '756', '564']\n",
      "['97', '78', '86', '67', '75', '56', '64']\n",
      "Invalid request, n is greater then length of string or n equals zero\n"
     ]
    },
    {
     "data": {
      "text/plain": [
       "[]"
      ]
     },
     "execution_count": 11,
     "metadata": {},
     "output_type": "execute_result"
    }
   ],
   "source": [
    "def series(string:str,n:int)->list:\n",
    "    series = []\n",
    "    if n>len(string) or n ==0:\n",
    "        print(f\"Invalid request, n is greater then length of string or n equals zero\")\n",
    "    else:\n",
    "        for i in range(len(string)):\n",
    "            if len(string[i:i+n]) == n:\n",
    "                series.append(string[i:i+n])\n",
    "        print(series)\n",
    "    return series\n",
    "    \n",
    "series(\"49142\",3)\n",
    "series(\"01234\", 1)\n",
    "series(\"01234\", 4)\n",
    "series(\"012\", 4)\n",
    "series(\"01234\", 5)\n",
    "series(\"97867564\", 3)\n",
    "series(\"97867564\", 2)\n",
    "series(\"01234\", 0)"
   ]
  },
  {
   "cell_type": "code",
   "execution_count": null,
   "metadata": {},
   "outputs": [],
   "source": []
  }
 ],
 "metadata": {
  "kernelspec": {
   "display_name": "pybase",
   "language": "python",
   "name": "pybase"
  },
  "language_info": {
   "codemirror_mode": {
    "name": "ipython",
    "version": 3
   },
   "file_extension": ".py",
   "mimetype": "text/x-python",
   "name": "python",
   "nbconvert_exporter": "python",
   "pygments_lexer": "ipython3",
   "version": "3.8.5"
  }
 },
 "nbformat": 4,
 "nbformat_minor": 4
}
