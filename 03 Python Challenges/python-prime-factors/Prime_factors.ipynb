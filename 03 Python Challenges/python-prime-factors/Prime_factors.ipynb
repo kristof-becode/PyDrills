{
 "cells": [
  {
   "cell_type": "markdown",
   "metadata": {},
   "source": [
    "## Prime factors"
   ]
  },
  {
   "cell_type": "markdown",
   "metadata": {},
   "source": [
    "A prime number is only evenly divisible by itself and 1.\n",
    "\n",
    "Note that 1 is not a prime number.\n",
    "\n",
    "#### Example\n",
    "\n",
    "What are the prime factors of 60?\n",
    "\n",
    "- Our first divisor is 2. 2 goes into 60, leaving 30.\n",
    "- 2 goes into 30, leaving 15.\n",
    "  - 2 doesn't go cleanly into 15. So let's move on to our next divisor, 3.\n",
    "- 3 goes cleanly into 15, leaving 5.\n",
    "  - 3 does not go cleanly into 5. The next possible factor is 4.\n",
    "  - 4 does not go cleanly into 5. The next possible factor is 5.\n",
    "- 5 does go cleanly into 5.\n",
    "- We're left only with 1, so now, we're done.\n",
    "\n",
    "Our successful divisors in that computation represent the list of prime\n",
    "factors of 60: 2, 2, 3, and 5.\n",
    "\n",
    "You can check this yourself:\n",
    "\n",
    "- 2 * 2 * 3 * 5\n",
    "- = 4 * 15\n",
    "- = 60\n",
    "- Success!"
   ]
  },
  {
   "cell_type": "markdown",
   "metadata": {},
   "source": [
    "#### From Wiki"
   ]
  },
  {
   "cell_type": "markdown",
   "metadata": {},
   "source": [
    "#### A prime number\n",
    "A prime number (or a prime) is a natural number greater than 1 that is not a product of two smaller natural numbers. A natural number greater than 1 that is not prime is called a composite number. For example, 5 is prime because the only ways of writing it as a product, 1 × 5 or 5 × 1, involve 5 itself. However, 4 is composite because it is a product (2 × 2) in which both numbers are smaller than 4. Primes are central in number theory because of the fundamental theorem of arithmetic: every natural number greater than 1 is either a prime itself or can be factorized as a product of primes that is unique up to their order.\n",
    "\n",
    "#### Definition\n",
    "A natural number (1, 2, 3, 4, 5, 6, etc.) is called a prime number (or a prime) if it is greater than 1 and cannot be written as the product of two smaller natural numbers. The numbers greater than 1 that are not prime are called composite numbers. In other words, \n",
    "n is prime if n items cannot be divided up into smaller equal-size groups of more than one item, or if it is not possible to arrange n dots into a rectangular grid that is more than one dot wide and more than one dot high.\n",
    "\n",
    "For example, among the numbers 1 through 6, the numbers 2, 3, and 5 are the prime numbers, as there are no other numbers that divide them evenly (without a remainder). 1 is not prime, as it is specifically excluded in the definition. 4 = 2 × 2 and 6 = 2 × 3 are both composite.\n",
    "\n",
    "The divisors of a natural number n are the natural numbers that divide n evenly. Every natural number has both 1 and itself as a divisor. If it has any other divisor, it cannot be prime. This idea leads to a different but equivalent definition of the primes: they are the numbers with exactly two positive divisors, 1 and the number itself. Yet another way to express the same thing is that a number n is prime if it is greater than one and if none of the numbers \n",
    "2, 3, …, n−1{\\displaystyle 2,3,\\dots ,n-1} divides n evenly.\n",
    "\n",
    "The first 25 prime numbers (all the prime numbers less than 100) are:\n",
    "\n",
    "2, 3, 5, 7, 11, 13, 17, 19, 23, 29, 31, 37, 41, 43, 47, 53, 59, 61, 67, 71, 73, 79, 83, 89, 97\n",
    "\n",
    "No even number n greater than 2 is prime because any such number can be expressed as the product 2×n/2\n",
    "{\\displaystyle 2\\times n/2}. Therefore, every prime number other than 2 is an odd number, and is called an odd prime. Similarly, when written in the usual decimal system, all prime numbers larger than 5 end in 1, 3, 7, or 9. The numbers that end with other digits are all composite: decimal numbers that end in 0, 2, 4, 6, or 8 are even, and decimal numbers that end in 0 or 5 are divisible by 5.\n",
    "\n",
    "#### Primality of one\n",
    "Most early Greeks did not even consider 1 to be a number so they could not consider its primality. A few mathematicians from this time also considered the prime numbers to be a subdivision of the odd numbers, so they also did not consider 2 to be prime. However, Euclid and a majority of the other Greek mathematicians considered 2 as prime. The medieval Islamic mathematicians largely followed the Greeks in viewing 1 as not being a number. By the Middle Ages and Renaissance mathematicians began treating 1 as a number, and some of them included it as the first prime number. In the mid-18th century Christian Goldbach listed 1 as prime in his correspondence with Leonhard Euler; however, Euler himself did not consider 1 to be prime. In the 19th century many mathematicians still considered 1 to be prime, and lists of primes that included 1 continued to be published as recently as 1956.\n",
    "\n",
    "#### Unique factorization\n",
    "\n",
    "Writing a number as a product of prime numbers is called a prime factorization of the number. For example:\n",
    "\n",
    "\\begin{aligned}34866&=2\\cdot 3\\cdot 3\\cdot 13\\cdot 149\\\\&=2\\cdot 3^{2}\\cdot 13\\cdot 149\\end{aligned}\n",
    "The terms in the product are called prime factors. The same prime factor may occur more than once; this example has two copies of the prime factor \n",
    "3.\n",
    "When a prime occurs multiple times, exponentiation can be used to group together multiple copies of the same prime number: \n",
    "for example, in the second way of writing the product above, 3^2 denotes the square or second power of \n",
    "3.\n"
   ]
  },
  {
   "cell_type": "markdown",
   "metadata": {},
   "source": [
    "### Algorithm"
   ]
  },
  {
   "cell_type": "code",
   "execution_count": 21,
   "metadata": {},
   "outputs": [
    {
     "name": "stdout",
     "output_type": "stream",
     "text": [
      "[5, 17, 23, 461]\n",
      "[3, 3]\n",
      "[2, 2, 2]\n",
      "[2, 3]\n"
     ]
    }
   ],
   "source": [
    "import math\n",
    "def primefactors(num:int)->list:\n",
    "    # get all primes up to number given to be able to determine prime factors of that number, exclude 1\n",
    "    primes = [i for i in range(2,int(math.ceil(math.sqrt(num))+1)) if (i%i == 0 and i%1 ==0 and all(i%j !=0 for j in range(2,i)))]\n",
    "    # divide number by primes in list and move to next one if not further evenly divisible\n",
    "    el_primes = [p for p in primes if num % p == 0]\n",
    "    prime_fac = []\n",
    "    for p in el_primes:\n",
    "        while  num % p == 0:\n",
    "            prime_fac.append(p)\n",
    "            num = num /p\n",
    "    print(prime_fac)\n",
    "    # return prime_fac\n",
    "    \n",
    "primefactors(901255) # 5, 17, 23, 461\n",
    "primefactors(9) # 3, 3\n",
    "primefactors(8) # 2, 2, 2\n",
    "\n",
    "primefactors(6) # 2, 3"
   ]
  },
  {
   "cell_type": "code",
   "execution_count": 22,
   "metadata": {},
   "outputs": [
    {
     "name": "stdout",
     "output_type": "stream",
     "text": [
      "[11, 9539]\n"
     ]
    }
   ],
   "source": [
    "primefactors(93819012551) # 11, 9539, 894119"
   ]
  },
  {
   "cell_type": "markdown",
   "metadata": {},
   "source": [
    "### Experimentation"
   ]
  },
  {
   "cell_type": "code",
   "execution_count": 36,
   "metadata": {},
   "outputs": [
    {
     "name": "stdout",
     "output_type": "stream",
     "text": [
      "[2, 3, 5, 7, 11, 13, 17, 19, 23, 29, 31, 37, 41, 43, 47, 53, 59, 61, 67, 71, 73, 79, 83, 89, 97]\n"
     ]
    }
   ],
   "source": [
    "n=100\n",
    "primes = [i for i in range(2,n+1) if (i%i == 0 and i%1 ==0 and all(i%j !=0 for j in range(2,i)))]\n",
    "print(primes)"
   ]
  },
  {
   "cell_type": "code",
   "execution_count": 44,
   "metadata": {},
   "outputs": [
    {
     "name": "stdout",
     "output_type": "stream",
     "text": [
      "[2, 3, 5, 7, 11, 13, 17, 19, 23, 29, 31, 37, 41, 43, 47, 53, 59]\n"
     ]
    }
   ],
   "source": [
    "n=60\n",
    "primes = [i for i in range(2,n+1) if (i%i == 0 and i%1 ==0 and all(i%j !=0 for j in range(2,i)))]\n",
    "print(primes)"
   ]
  },
  {
   "cell_type": "code",
   "execution_count": 45,
   "metadata": {},
   "outputs": [
    {
     "name": "stdout",
     "output_type": "stream",
     "text": [
      "2 30.0 [2]\n",
      "2 15.0 [2, 2]\n",
      "3 5.0 [2, 2, 3]\n",
      "5 1.0 [2, 2, 3, 5]\n"
     ]
    }
   ],
   "source": [
    "lst = []\n",
    "for p in primes:\n",
    "    while  n%p == 0:\n",
    "        lst.append(p)\n",
    "        n = n /p\n",
    "        print(p,n, lst)"
   ]
  },
  {
   "cell_type": "code",
   "execution_count": 2,
   "metadata": {},
   "outputs": [
    {
     "data": {
      "text/plain": [
       "2"
      ]
     },
     "execution_count": 2,
     "metadata": {},
     "output_type": "execute_result"
    }
   ],
   "source": [
    "int(math.sqrt(6+1))"
   ]
  },
  {
   "cell_type": "code",
   "execution_count": 4,
   "metadata": {},
   "outputs": [
    {
     "data": {
      "text/plain": [
       "2.449489742783178"
      ]
     },
     "execution_count": 4,
     "metadata": {},
     "output_type": "execute_result"
    }
   ],
   "source": [
    "math.sqrt(6)"
   ]
  },
  {
   "cell_type": "code",
   "execution_count": 8,
   "metadata": {},
   "outputs": [
    {
     "data": {
      "text/plain": [
       "4"
      ]
     },
     "execution_count": 8,
     "metadata": {},
     "output_type": "execute_result"
    }
   ],
   "source": [
    "int(math.ceil(math.sqrt(6))+1)"
   ]
  },
  {
   "cell_type": "code",
   "execution_count": 11,
   "metadata": {},
   "outputs": [
    {
     "data": {
      "text/plain": [
       "3.449489742783178"
      ]
     },
     "execution_count": 11,
     "metadata": {},
     "output_type": "execute_result"
    }
   ],
   "source": [
    "math.sqrt(6)+1"
   ]
  },
  {
   "cell_type": "code",
   "execution_count": 12,
   "metadata": {},
   "outputs": [
    {
     "data": {
      "text/plain": [
       "3"
      ]
     },
     "execution_count": 12,
     "metadata": {},
     "output_type": "execute_result"
    }
   ],
   "source": [
    "int(math.sqrt(6)+1)"
   ]
  },
  {
   "cell_type": "code",
   "execution_count": 17,
   "metadata": {},
   "outputs": [
    {
     "data": {
      "text/plain": [
       "306298.8941393684"
      ]
     },
     "execution_count": 17,
     "metadata": {},
     "output_type": "execute_result"
    }
   ],
   "source": [
    "math.sqrt(93819012551)"
   ]
  },
  {
   "cell_type": "code",
   "execution_count": 18,
   "metadata": {},
   "outputs": [
    {
     "data": {
      "text/plain": [
       "949.3445107019895"
      ]
     },
     "execution_count": 18,
     "metadata": {},
     "output_type": "execute_result"
    }
   ],
   "source": [
    "math.sqrt(901255)"
   ]
  },
  {
   "cell_type": "code",
   "execution_count": 20,
   "metadata": {},
   "outputs": [
    {
     "data": {
      "text/plain": [
       "104929.0"
      ]
     },
     "execution_count": 20,
     "metadata": {},
     "output_type": "execute_result"
    }
   ],
   "source": [
    "93819012551 / 894119"
   ]
  },
  {
   "cell_type": "code",
   "execution_count": null,
   "metadata": {},
   "outputs": [],
   "source": []
  }
 ],
 "metadata": {
  "kernelspec": {
   "display_name": "pybase",
   "language": "python",
   "name": "pybase"
  },
  "language_info": {
   "codemirror_mode": {
    "name": "ipython",
    "version": 3
   },
   "file_extension": ".py",
   "mimetype": "text/x-python",
   "name": "python",
   "nbconvert_exporter": "python",
   "pygments_lexer": "ipython3",
   "version": "3.8.5"
  }
 },
 "nbformat": 4,
 "nbformat_minor": 4
}
