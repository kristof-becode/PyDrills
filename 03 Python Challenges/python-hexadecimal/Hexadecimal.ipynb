{
 "cells": [
  {
   "cell_type": "markdown",
   "metadata": {},
   "source": [
    "## Hexadecimal"
   ]
  },
  {
   "cell_type": "markdown",
   "metadata": {},
   "source": [
    "Write a program that will convert a hexadecimal number, represented as a\n",
    "string (e.g. \"10af8c\"), to its decimal equivalent using first principles\n",
    "(i.e. no, you may not use built-in or external libraries to accomplish\n",
    "the conversion).\n",
    "\n",
    "On the web we use hexadecimal to represent colors, e.g. green: 008000,\n",
    "teal: 008080, navy: 000080).\n",
    "\n",
    "The program should handle invalid hexadecimal strings."
   ]
  },
  {
   "cell_type": "markdown",
   "metadata": {},
   "source": [
    "### Algorithm"
   ]
  },
  {
   "cell_type": "code",
   "execution_count": 49,
   "metadata": {},
   "outputs": [
    {
     "name": "stdout",
     "output_type": "stream",
     "text": [
      "1\n",
      "16\n",
      "12\n",
      "105166\n",
      "16776960\n",
      "That was not a valid hexadecimal number!\n",
      "256\n"
     ]
    }
   ],
   "source": [
    "import string                                          # python string module\n",
    "\n",
    "def hexadec(he:str)->int:\n",
    "    # dict to convert a to f to decimal numbers\n",
    "    conv = {\n",
    "        'a' : 10, 'b' : 11, 'c' : 12, 'd' : 13, 'e' : 14, 'f' : 15\n",
    "    }\n",
    "    try:\n",
    "        # string to list and reverse\n",
    "        lst_conv = [int(n) if n in string.digits else conv[n.lower()] for n in he][::-1] \n",
    "        if all(el in range(0,16) for el in lst_conv): # if all elements are between ) and 15\n",
    "            hexa = 0\n",
    "            for i,ch in enumerate(lst_conv):\n",
    "                hexa += ch * (16**(i))\n",
    "            print(hexa)\n",
    "        else: \n",
    "            print(f\"That was not a valid hexadecimal number!\")\n",
    "    except:\n",
    "        print(f\"That was not a valid hexadecimal number!\")\n",
    " \n",
    "\n",
    "hexadec('1') # 1\n",
    "hexadec('10') #16\n",
    "hexadec('c') # 12\n",
    "hexadec('19ACE') # 105166\n",
    "hexadec('ffff00') # 16776960\n",
    "hexadec('carrot') # invalid\n",
    "hexadec('100') # 256"
   ]
  },
  {
   "cell_type": "markdown",
   "metadata": {},
   "source": [
    "### Experimentation"
   ]
  },
  {
   "cell_type": "code",
   "execution_count": 36,
   "metadata": {},
   "outputs": [
    {
     "name": "stdout",
     "output_type": "stream",
     "text": [
      "['E', 'C', 'A', '9', '1']\n"
     ]
    }
   ],
   "source": [
    "he = '19ACE'\n",
    "lst = [n for n in he][::-1] # string to list and reverse\n",
    "print(lst)"
   ]
  },
  {
   "cell_type": "code",
   "execution_count": 37,
   "metadata": {},
   "outputs": [
    {
     "name": "stdout",
     "output_type": "stream",
     "text": [
      "[<class 'int'>, <class 'int'>, <class 'int'>, <class 'int'>, <class 'int'>, <class 'int'>]\n"
     ]
    }
   ],
   "source": [
    "conv = {\n",
    "    'a' : 10, 'b' : 11, 'c' : 12, 'd' : 13, 'e' : 14, 'f' : 15\n",
    "}\n",
    "print([type(val) for val in conv.values()])"
   ]
  },
  {
   "cell_type": "code",
   "execution_count": 38,
   "metadata": {},
   "outputs": [
    {
     "name": "stdout",
     "output_type": "stream",
     "text": [
      "[14, 12, 10, 9, 1]\n"
     ]
    }
   ],
   "source": [
    "import string\n",
    "lst_conv = [int(n) if n in string.digits else conv[n.lower()] for n in he][::-1]\n",
    "print(lst_conv)"
   ]
  },
  {
   "cell_type": "code",
   "execution_count": 40,
   "metadata": {},
   "outputs": [
    {
     "name": "stdout",
     "output_type": "stream",
     "text": [
      "105166\n"
     ]
    }
   ],
   "source": [
    "if all(el in range(0,16) for el in lst_conv): # if all elements are 0 or 1\n",
    "    hexa = 0\n",
    "    for i,ch in enumerate(lst_conv):\n",
    "        hexa += ch * (16**(i))\n",
    "    print(hexa)\n",
    "else:\n",
    "    print(f\"false\")"
   ]
  }
 ],
 "metadata": {
  "kernelspec": {
   "display_name": "pybase",
   "language": "python",
   "name": "pybase"
  },
  "language_info": {
   "codemirror_mode": {
    "name": "ipython",
    "version": 3
   },
   "file_extension": ".py",
   "mimetype": "text/x-python",
   "name": "python",
   "nbconvert_exporter": "python",
   "pygments_lexer": "ipython3",
   "version": "3.8.5"
  }
 },
 "nbformat": 4,
 "nbformat_minor": 4
}
