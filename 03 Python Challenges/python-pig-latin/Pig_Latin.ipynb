{
 "cells": [
  {
   "cell_type": "markdown",
   "metadata": {},
   "source": [
    "## Pig Latin"
   ]
  },
  {
   "cell_type": "markdown",
   "metadata": {},
   "source": [
    "Pig Latin is a made-up children's language that's intended to be\n",
    "confusing. It obeys a few simple rules (below), but when it's spoken\n",
    "quickly it's really difficult for non-children (and non-native speakers)\n",
    "to understand.\n",
    "\n",
    "- **Rule 1**: If a word begins with a vowel sound, add an \"ay\" sound to\n",
    "  the end of the word.\n",
    "- **Rule 2**: If a word begins with a consonant sound, move it to the\n",
    "  end of the word, and then add an \"ay\" sound to the end of the word.\n",
    "\n",
    "There are a few more rules for edge cases, and there are regional\n",
    "variants too.\n",
    "\n",
    "#### From wikipedia\n",
    "For words that begin with consonant sounds, all letters before the initial vowel are placed at the end of the word sequence. Then, \"ay\" is added, as in the following examples:\n",
    "\n",
    "\"pig\" = \"igpay\", \"latin\" = \"atinlay\"\n",
    "\n",
    "When words begin with consonant clusters (multiple consonants that form one sound), the whole sound is added to the end when speaking or writing.\n",
    "\n",
    "\"smile\" = \"ilesmay\", \"string\" = \"ingstray\"\n",
    "\n",
    "For words that begin with vowel sounds, the vowel is left alone, and most commonly 'yay' is added to the end. But in different parts of the world, there are different 'dialects' of sorts. Some people may add 'way' or 'hay' or other endings. Examples are:\n",
    "\n",
    "\"eat\" = \"eatyay\" or \"eatay\", \"omelet\" = \"omeletyay\" or \"omeletay\""
   ]
  },
  {
   "cell_type": "markdown",
   "metadata": {},
   "source": [
    "### Algorithm"
   ]
  },
  {
   "cell_type": "code",
   "execution_count": null,
   "metadata": {},
   "outputs": [],
   "source": [
    "def pig_latin():\n",
    "    \n",
    "    \n",
    "pig_latin()\n",
    "pig_latin()\n",
    "pig_latin()\n",
    "pig_latin()\n",
    "pig_latin()"
   ]
  },
  {
   "cell_type": "markdown",
   "metadata": {},
   "source": [
    "### Experimentation"
   ]
  },
  {
   "cell_type": "code",
   "execution_count": 69,
   "metadata": {},
   "outputs": [
    {
     "name": "stdout",
     "output_type": "stream",
     "text": [
      "abcdefghijklmnopqrstuvwxyz\n",
      "['a', 'e', 'i', 'o', 'u', 'y']\n",
      "['b', 'c', 'd', 'f', 'g', 'h', 'j', 'k', 'l', 'm', 'n', 'p', 'q', 'r', 's', 't', 'v', 'w', 'x', 'z']\n"
     ]
    }
   ],
   "source": [
    "import string\n",
    "print(string.ascii_lowercase)\n",
    "vowels = ['a','e','i','o','u','y']\n",
    "print(vowels)\n",
    "cons = [ch for ch in string.ascii_lowercase if ch not in vowels]\n",
    "print(cons)"
   ]
  },
  {
   "cell_type": "code",
   "execution_count": 75,
   "metadata": {},
   "outputs": [
    {
     "name": "stdout",
     "output_type": "stream",
     "text": [
      "['smile', 'pig', 'ear', 'apple']\n"
     ]
    }
   ],
   "source": [
    "#w = \"smile\"\n",
    "w = \"smile Pig ear Apple\"\n",
    "#splt = [word.lower() for word in w.split() if word not in string.punctuation] # for sentences..\n",
    "splt = [word.lower() for word in w.split()]\n",
    "print(splt)"
   ]
  },
  {
   "cell_type": "code",
   "execution_count": 98,
   "metadata": {},
   "outputs": [
    {
     "name": "stdout",
     "output_type": "stream",
     "text": [
      "['s', 'm', 'i', 'l', 'e']\n",
      "0\n",
      "true\n",
      "['s']\n",
      "['m', 'i', 'l', 'e']\n",
      "1\n",
      "true\n",
      "['s', 'm']\n",
      "['m', 'l', 'e']\n",
      "2\n",
      "['p', 'i', 'g']\n",
      "0\n",
      "true\n",
      "['p']\n",
      "['i', 'g']\n",
      "1\n",
      "['mlesmay', 'igpay', 'earay', 'appleay']\n"
     ]
    }
   ],
   "source": [
    "pig = []\n",
    "for word in splt:\n",
    "    if word[0] in vowels:\n",
    "        pig.append(word + \"ay\")\n",
    "    else:\n",
    "        new = []\n",
    "        pg = ''\n",
    "        t = [ch for ch in word]\n",
    "        print(t)\n",
    "        #while (word[i] in range(0,len(word))) in cons:\n",
    "        for i in range(0,len(word)):\n",
    "            print(i)\n",
    "        #for i,ch in enumerate(word):\n",
    "            if word[i] in cons:\n",
    "                print(f\"true\")\n",
    "                new.append(word[i])\n",
    "                t.pop(i)\n",
    "                print(new)\n",
    "                print(t)\n",
    "                \n",
    "            else:\n",
    "                break\n",
    "        \n",
    "        t += new\n",
    "        pg = ''.join(t) + 'ay'\n",
    "        pig.append(pg)\n",
    "print(pig)"
   ]
  },
  {
   "cell_type": "code",
   "execution_count": 38,
   "metadata": {},
   "outputs": [
    {
     "name": "stdout",
     "output_type": "stream",
     "text": [
      "['s', 'm', 'i', 'l', 'e']\n"
     ]
    }
   ],
   "source": [
    "r = [ch for i, ch in enumerate(word)]\n",
    "print(r)"
   ]
  },
  {
   "cell_type": "code",
   "execution_count": null,
   "metadata": {},
   "outputs": [],
   "source": [
    "      #for i,ch in enumerate(word):\n",
    "        while (ch in enumerate(t)) in cons:\n",
    "            #if ch in cons:\n",
    "            new.append(ch)\n",
    "            t.remove(ch)\n",
    "            print(new,t)\n",
    "\n",
    "        else:\n",
    "            break"
   ]
  }
 ],
 "metadata": {
  "kernelspec": {
   "display_name": "pybase",
   "language": "python",
   "name": "pybase"
  },
  "language_info": {
   "codemirror_mode": {
    "name": "ipython",
    "version": 3
   },
   "file_extension": ".py",
   "mimetype": "text/x-python",
   "name": "python",
   "nbconvert_exporter": "python",
   "pygments_lexer": "ipython3",
   "version": "3.8.5"
  }
 },
 "nbformat": 4,
 "nbformat_minor": 4
}
