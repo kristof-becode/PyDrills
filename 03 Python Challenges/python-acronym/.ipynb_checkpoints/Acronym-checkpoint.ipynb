{
 "cells": [
  {
   "cell_type": "markdown",
   "metadata": {},
   "source": [
    "## Acronym"
   ]
  },
  {
   "cell_type": "markdown",
   "metadata": {},
   "source": [
    "Techies love their TLA (Three Letter Acronyms)!\n",
    "\n",
    "Help generate some jargon by writing a program that converts a long name\n",
    "like Portable Network Graphics to its acronym (PNG)."
   ]
  },
  {
   "cell_type": "markdown",
   "metadata": {},
   "source": [
    "### Algorithm"
   ]
  },
  {
   "cell_type": "code",
   "execution_count": 7,
   "metadata": {},
   "outputs": [
    {
     "name": "stdout",
     "output_type": "stream",
     "text": [
      "PNG\n",
      "CMOS\n",
      "PHP\n",
      "Invalid or empty string\n"
     ]
    }
   ],
   "source": [
    "def acronym(words:str)-> str:\n",
    "    if type(words) is str and words != '':\n",
    "        acro = [subword[0].capitalize() for word in words.split() for subword in word.split('-')]\n",
    "        print(''.join(acro))\n",
    "    else:\n",
    "        print('Invalid or empty string')\n",
    "        \n",
    "        \n",
    "acronym('Portable Network Graphics')   \n",
    "acronym('Complementary metal-oxide semiconductor')\n",
    "acronym('PHP: Hypertext Preprocessor')\n",
    "acronym(457)"
   ]
  }
 ],
 "metadata": {
  "kernelspec": {
   "display_name": "pybase",
   "language": "python",
   "name": "pybase"
  },
  "language_info": {
   "codemirror_mode": {
    "name": "ipython",
    "version": 3
   },
   "file_extension": ".py",
   "mimetype": "text/x-python",
   "name": "python",
   "nbconvert_exporter": "python",
   "pygments_lexer": "ipython3",
   "version": "3.8.5"
  }
 },
 "nbformat": 4,
 "nbformat_minor": 4
}
