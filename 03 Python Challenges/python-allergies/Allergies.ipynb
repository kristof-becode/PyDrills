{
 "cells": [
  {
   "cell_type": "markdown",
   "metadata": {},
   "source": [
    "## Allergies\n",
    "\n",
    "Write a program that, given a person's allergy score, can tell them\n",
    "whether or not they're allergic to a given item, and their full list of\n",
    "allergies.\n",
    "\n",
    "An allergy test produces a single numeric score which contains the\n",
    "information about all the allergies the person has (that they were\n",
    "tested for).\n",
    "\n",
    "The list of items (and their value) that were tested are:\n",
    "\n",
    "* eggs (1)\n",
    "* peanuts (2)\n",
    "* shellfish (4)\n",
    "* strawberries (8)\n",
    "* tomatoes (16)\n",
    "* chocolate (32)\n",
    "* pollen (64)\n",
    "* cats (128)\n",
    "\n",
    "So if Tom is allergic to peanuts and chocolate, he gets a score of 34.\n",
    "\n",
    "Now, given just that score of 34, your program should be able to say:\n",
    "\n",
    "- Whether Tom is allergic to any one of those allergens listed above.\n",
    "- All the allergens Tom is allergic to."
   ]
  },
  {
   "cell_type": "markdown",
   "metadata": {},
   "source": [
    "### Algorithm"
   ]
  },
  {
   "cell_type": "code",
   "execution_count": 38,
   "metadata": {},
   "outputs": [
    {
     "name": "stdout",
     "output_type": "stream",
     "text": [
      "['peanuts', 'chocolate']\n",
      "You obviously have no allergies!\n",
      "['eggs']\n",
      "['eggs', 'shellfish']\n",
      "['eggs', 'peanuts', 'shellfish', 'strawberries', 'tomatoes', 'chocolate', 'pollen', 'cats']\n",
      "Invalid allergy score\n"
     ]
    }
   ],
   "source": [
    "def allergies(score:int)->list:\n",
    "    all_dict = {\n",
    "    'eggs' : 1,\n",
    "    'peanuts': 2,\n",
    "    'shellfish' : 4,\n",
    "    'strawberries' : 8,\n",
    "    'tomatoes' : 16,\n",
    "    'chocolate' : 32,\n",
    "    'pollen' : 64,\n",
    "    'cats': 128\n",
    "    }\n",
    "    vals = [value for value in all_dict.values() if value <= score] # list individual allergy scores\n",
    "    allergies = [] # list to append valid allergies to\n",
    "\n",
    "    if score > sum(vals): # if total score doens't make any sense\n",
    "        print(f\"Invalid allergy score\")\n",
    "    elif score == 0:      # if total score is 0\n",
    "        print(f\"You obviously have no allergies!\")\n",
    "    else:                 # in case of a valid composite allergy score\n",
    "        while score > 0: # loop substracts highest remaining individual allergy score until score becomes 0\n",
    "            score -= vals[-1] # update score \n",
    "            allergies.append(vals[-1]) # append a valid allergy to allergy list\n",
    "            vals = [number for number in vals if number <= score] # update vals <= adjusted score\n",
    "        else:\n",
    "            # select appropriate allergy names (keys) in dict and print\n",
    "            all_dict = [keys for keys,vals in all_dict.items() if vals in allergies]\n",
    "            print(all_dict)   \n",
    "        \n",
    "        \n",
    "allergies(34)\n",
    "allergies(0)\n",
    "allergies(1)\n",
    "allergies(5)\n",
    "allergies(255)\n",
    "allergies(257)"
   ]
  },
  {
   "cell_type": "code",
   "execution_count": null,
   "metadata": {},
   "outputs": [],
   "source": []
  },
  {
   "cell_type": "code",
   "execution_count": null,
   "metadata": {},
   "outputs": [],
   "source": []
  }
 ],
 "metadata": {
  "kernelspec": {
   "display_name": "pybase",
   "language": "python",
   "name": "pybase"
  },
  "language_info": {
   "codemirror_mode": {
    "name": "ipython",
    "version": 3
   },
   "file_extension": ".py",
   "mimetype": "text/x-python",
   "name": "python",
   "nbconvert_exporter": "python",
   "pygments_lexer": "ipython3",
   "version": "3.8.5"
  }
 },
 "nbformat": 4,
 "nbformat_minor": 4
}
