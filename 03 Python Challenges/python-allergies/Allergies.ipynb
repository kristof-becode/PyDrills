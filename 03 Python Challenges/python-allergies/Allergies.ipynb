{
 "cells": [
  {
   "cell_type": "markdown",
   "metadata": {},
   "source": [
    "## Allergies\n",
    "\n",
    "Write a program that, given a person's allergy score, can tell them\n",
    "whether or not they're allergic to a given item, and their full list of\n",
    "allergies.\n",
    "\n",
    "An allergy test produces a single numeric score which contains the\n",
    "information about all the allergies the person has (that they were\n",
    "tested for).\n",
    "\n",
    "The list of items (and their value) that were tested are:\n",
    "\n",
    "* eggs (1)\n",
    "* peanuts (2)\n",
    "* shellfish (4)\n",
    "* strawberries (8)\n",
    "* tomatoes (16)\n",
    "* chocolate (32)\n",
    "* pollen (64)\n",
    "* cats (128)\n",
    "\n",
    "So if Tom is allergic to peanuts and chocolate, he gets a score of 34.\n",
    "\n",
    "Now, given just that score of 34, your program should be able to say:\n",
    "\n",
    "- Whether Tom is allergic to any one of those allergens listed above.\n",
    "- All the allergens Tom is allergic to."
   ]
  },
  {
   "cell_type": "code",
   "execution_count": null,
   "metadata": {},
   "outputs": [],
   "source": []
  }
 ],
 "metadata": {
  "kernelspec": {
   "display_name": "pybase",
   "language": "python",
   "name": "pybase"
  },
  "language_info": {
   "codemirror_mode": {
    "name": "ipython",
    "version": 3
   },
   "file_extension": ".py",
   "mimetype": "text/x-python",
   "name": "python",
   "nbconvert_exporter": "python",
   "pygments_lexer": "ipython3",
   "version": "3.8.5"
  }
 },
 "nbformat": 4,
 "nbformat_minor": 4
}
