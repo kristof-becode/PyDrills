{
 "cells": [
  {
   "cell_type": "markdown",
   "metadata": {},
   "source": [
    "## Simple Cipher"
   ]
  },
  {
   "cell_type": "markdown",
   "metadata": {},
   "source": [
    "#### Step 1\n",
    "\n",
    "\"If he had anything confidential to say, he wrote it in cipher, that is,\n",
    "by so changing the order of the letters of the alphabet, that not a word\n",
    "could be made out. If anyone wishes to decipher these, and get at their\n",
    "meaning, he must substitute the fourth letter of the alphabet, namely D,\n",
    "for A, and so with the others.\"\n",
    "—Suetonius, Life of Julius Caesar\n",
    "\n",
    "Ciphers are very straight-forward algorithms that allow us to render\n",
    "text less readable while still allowing easy deciphering. They are\n",
    "vulnerable to many forms of cryptoanalysis, but we are lucky that\n",
    "generally our little sisters are not cryptoanalysts.\n",
    "\n",
    "The Caesar Cipher was used for some messages from Julius Caesar that\n",
    "were sent afield. Now Caesar knew that the cipher wasn't very good, but\n",
    "he had one ally in that respect: almost nobody could read well. So even\n",
    "being a couple letters off was sufficient so that people couldn't\n",
    "recognize the few words that they did know.\n",
    "\n",
    "Your task is to create a simple shift cipher like the Caesar Cipher.\n",
    "This image is a great example of the Caesar Cipher: ![Caesar Cipher][1]\n",
    "\n",
    "Here are some examples:\n",
    "\n",
    "    @cipher = Cipher.new\n",
    "    @cipher.encode(\"iamapandabear\") #=> \"ldpdsdqgdehdu\"\n",
    "    @cipher.decode(\"ldpdsdqgdehdu\") #=> \"iamapandabear\"\n",
    "\n",
    "#### Step 2\n",
    "\n",
    "Shift ciphers are no fun though when your kid sister figures it out. Try\n",
    "amending the code to allow us to specify a key and use that for the\n",
    "shift distance. This is called a substitution cipher.\n",
    "\n",
    "Here's an example:\n",
    "\n",
    "    @cipher = Cipher.new(\"aaaaaaaaaaaaaaaaaa\")\n",
    "    @cipher.encode(\"iamapandabear\") #=> \"iamapandabear\"\n",
    "    @cipher = Cipher.new(\"ddddddddddddddddd\")\n",
    "    @cipher.encode(\"imapandabear\") #=> \"lpdsdqgdehdu\"\n",
    "\n",
    "In the example above, we've set a = 0 for the key value. So when the\n",
    "plaintext is added to the key, we end up with the same message coming\n",
    "out. So \"aaaa\" is not an ideal key. But if we set the key to \"dddd\", we\n",
    "would get the same thing as the Caesar Cipher.\n",
    "\n",
    "#### Step 3\n",
    "\n",
    "The weakest link in any cipher is the human being. Let's make your\n",
    "substitution cipher a little more fault tolerant by providing a source\n",
    "of randomness and ensuring that they key is not composed of numbers or\n",
    "capital letters.\n",
    "\n",
    "If someone doesn't submit a key at all, generate a truly random key of\n",
    "at least 100 characters in length, accessible via Cipher#key (the #\n",
    "syntax means instance variable)\n",
    "\n",
    "If the key submitted has capital letters or numbers, throw an\n",
    "ArgumentError with a message to that effect.\n",
    "\n",
    "Some examples:\n",
    "    @cipher = Cipher.new\n",
    "    @cipher.key #=> \"duxrceqyaimciuucnelkeoxjhdyduucpmrxmaivacmybmsdrzwqxvbxsygzsabdjmdjabeorttiwinfrpmpogvabiofqexnohrqu\""
   ]
  },
  {
   "cell_type": "markdown",
   "metadata": {},
   "source": [
    "### Algorithm"
   ]
  },
  {
   "cell_type": "code",
   "execution_count": null,
   "metadata": {},
   "outputs": [],
   "source": []
  },
  {
   "cell_type": "code",
   "execution_count": null,
   "metadata": {},
   "outputs": [],
   "source": []
  },
  {
   "cell_type": "code",
   "execution_count": null,
   "metadata": {},
   "outputs": [],
   "source": [
    "# https://realpython.com/python-map-function/"
   ]
  },
  {
   "cell_type": "markdown",
   "metadata": {},
   "source": [
    "### Experimentation"
   ]
  },
  {
   "cell_type": "code",
   "execution_count": null,
   "metadata": {},
   "outputs": [],
   "source": []
  }
 ],
 "metadata": {
  "kernelspec": {
   "display_name": "pybase",
   "language": "python",
   "name": "pybase"
  },
  "language_info": {
   "codemirror_mode": {
    "name": "ipython",
    "version": 3
   },
   "file_extension": ".py",
   "mimetype": "text/x-python",
   "name": "python",
   "nbconvert_exporter": "python",
   "pygments_lexer": "ipython3",
   "version": "3.8.5"
  }
 },
 "nbformat": 4,
 "nbformat_minor": 4
}
