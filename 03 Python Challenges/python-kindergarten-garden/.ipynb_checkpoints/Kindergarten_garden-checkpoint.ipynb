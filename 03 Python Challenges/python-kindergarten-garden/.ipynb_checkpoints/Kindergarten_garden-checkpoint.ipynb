{
 "cells": [
  {
   "cell_type": "markdown",
   "metadata": {},
   "source": [
    "## Kindergarten garden"
   ]
  },
  {
   "cell_type": "markdown",
   "metadata": {},
   "source": [
    "The kindergarten class is learning about growing plants. The teachers\n",
    "thought it would be a good idea to give them actual seeds, plant them in\n",
    "actual dirt, and grow actual plants.\n",
    "\n",
    "They've chosen to grow grass, clover, radishes, and violets.\n",
    "\n",
    "To this end, they've put little styrofoam cups along the window sills,\n",
    "and planted one type of plant in each cup, choosing randomly from the\n",
    "available types of seeds.\n",
    "\n",
    "```plain\n",
    "[window][window][window]\n",
    "........................ # each dot represents a styrofoam cup\n",
    "........................\n",
    "```\n",
    "\n",
    "There are 12 children in the class:\n",
    "\n",
    "- Alice, Bob, Charlie, David,\n",
    "- Eve, Fred, Ginny, Harriet,\n",
    "- Ileana, Joseph, Kincaid, and Larry.\n",
    "\n",
    "Each child gets 4 cups, two on each row. The children are assigned to\n",
    "cups in alphabetical order.\n",
    "\n",
    "The following diagram represents Alice's plants:\n",
    "\n",
    "```plain\n",
    "[window][window][window]\n",
    "VR......................\n",
    "RG......................\n",
    "```\n",
    "\n",
    "So in the row nearest the window, she has a violet and a radish; in the\n",
    "row behind that, she has a radish and some grass.\n",
    "\n",
    "Your program will be given the plants from left-to-right starting with\n",
    "the row nearest the windows. From this, it should be able to determine\n",
    "which plants belong to which students.\n",
    "\n",
    "For example, if it's told that the garden looks like so:\n",
    "\n",
    "```plain\n",
    "[window][window][window]\n",
    "VRCGVVRVCGGCCGVRGCVCGCGV\n",
    "VRCCCGCRRGVCGCRVVCVGCGCV\n",
    "```\n",
    "\n",
    "Then if asked for Alice's plants, it should provide:\n",
    "\n",
    "- Violets, radishes, violets, radishes\n",
    "\n",
    "While asking for Bob's plants would yield:\n",
    "\n",
    "- Clover, grass, clover, clover"
   ]
  },
  {
   "cell_type": "markdown",
   "metadata": {},
   "source": [
    "### Algorithm"
   ]
  },
  {
   "cell_type": "code",
   "execution_count": 70,
   "metadata": {
    "scrolled": false
   },
   "outputs": [
    {
     "name": "stdout",
     "output_type": "stream",
     "text": [
      "Alice : radishes, clover, grass, grass\n",
      "\n",
      "\n",
      "Alice : violets, radishes, violets, radishes\n",
      "Bob : clover, grass, clover, clover\n",
      "\n",
      "\n",
      "Alice : violets, violets, violets, violets\n",
      "Bob : clover, clover, clover, clover\n",
      "Charlie : grass, grass, grass, grass\n",
      "\n",
      "\n",
      "Alice : violets, radishes, violets, radishes\n",
      "Bob : clover, grass, clover, clover\n",
      "Charlie : violets, violets, clover, grass\n",
      "David : radishes, violets, clover, radishes\n",
      "Eve : clover, grass, radishes, grass\n",
      "Fred : grass, clover, violets, clover\n",
      "Ginny : clover, grass, grass, clover\n",
      "Harriet : violets, radishes, radishes, violets\n",
      "Ileana : grass, clover, violets, clover\n",
      "Joseph : violets, clover, violets, grass\n",
      "Kincaid : grass, clover, clover, grass\n",
      "Larry : grass, violets, clover, violets\n",
      "\n",
      "\n"
     ]
    }
   ],
   "source": [
    "def kinder(gar:str)->str:\n",
    "    # dict with plants\n",
    "    plants = {\n",
    "    'G' : 'grass', 'C' : 'clover', 'R' : 'radishes', 'V' : 'violets'\n",
    "    }\n",
    "    # dict indices 0 to 47 in window sill per person; 0-23 first row, 24-47 second row\n",
    "    cups = {\n",
    "        'Alice' : [0,1,24,25],  'Bob' : [2,3,26,27], 'Charlie' : [4,5,28,29], 'David' : [6,7,30,31],\n",
    "        'Eve' : [8,9,32,33], 'Fred' : [10,11,34,35], 'Ginny' : [12,13,36,37], 'Harriet' : [14,15,38,39],\n",
    "        'Ileana' : [16,17,40,41], 'Joseph' : [18,19,42,43], 'Kincaid' : [20,21,44,45], 'Larry' : [22,23,46,47]\n",
    "    }\n",
    "    # fill list with Nones\n",
    "    gr = [None for i in range(0,48)]\n",
    "    # add plants in gar to list with Nones\n",
    "    j = 0\n",
    "    for item in gar.split('\\n'):\n",
    "        for i,ch in enumerate(item):\n",
    "            gr[i + j*24] = plants[ch]\n",
    "        j += 1\n",
    "    # fill dict with items in garden by index, beit a plant or None, and remove None \n",
    "    for key,val in cups.items():\n",
    "        cups[key] = [ch for i,ch in enumerate(gr) if i in val and gr[i] != None]\n",
    "    # print key and val if val not empty list\n",
    "    for key,val in cups.items():\n",
    "        if cups[key] != []:\n",
    "            print(f\"{key} : {', '.join(val)}\")\n",
    "    print(f\"\\n\")\n",
    "\n",
    "kinder(\"RC\\nGG\")\n",
    "kinder(\"VRCG\\nVRCC\")\n",
    "kinder(\"VVCCGG\\nVVCCGG\")\n",
    "kinder(\"VRCGVVRVCGGCCGVRGCVCGCGV\\nVRCCCGCRRGVCGCRVVCVGCGCV\")"
   ]
  },
  {
   "cell_type": "markdown",
   "metadata": {},
   "source": [
    "### Experimentation"
   ]
  },
  {
   "cell_type": "code",
   "execution_count": 79,
   "metadata": {},
   "outputs": [],
   "source": [
    "plants = {\n",
    "    'G' : 'grass', 'C' : 'clover', 'R' : 'radishes', 'V' : 'violets'\n",
    "}\n",
    "cups = {\n",
    "    'Alice' : [0,1],  'Bob' : [2,3], 'Charlie' : [4,5], 'David' : [6,7],\n",
    "    'Eve' : [8,9], 'Fred' : [10,11], 'Ginny' : [12,13], 'Harriet' : [14,15],\n",
    "    'Ileana' : [16,17], 'Joseph' : [18,19], 'Kincaid' : [20,21], 'Larry' : [22,23]\n",
    "}"
   ]
  },
  {
   "cell_type": "code",
   "execution_count": 80,
   "metadata": {},
   "outputs": [],
   "source": [
    "gar = \"VRCG\\nVRCC\"# \"VRCGVVRVCGGCCGVRGCVCGCGV\\nVRCCCGCRRGVCGCRVVCVGCGCV\""
   ]
  },
  {
   "cell_type": "code",
   "execution_count": 37,
   "metadata": {},
   "outputs": [
    {
     "name": "stdout",
     "output_type": "stream",
     "text": [
      "['V', 'R', 'C', 'G', 'V', 'R', 'C', 'C']\n",
      "8\n"
     ]
    }
   ],
   "source": [
    "#g = [p for p in gar]\n",
    "g = [p for sil in gar.split('\\n') for p in sil]\n",
    "print(g)\n",
    "print(len(g))"
   ]
  },
  {
   "cell_type": "code",
   "execution_count": 81,
   "metadata": {},
   "outputs": [
    {
     "name": "stdout",
     "output_type": "stream",
     "text": [
      "[None, None, None, None, None, None, None, None, None, None, None, None, None, None, None, None, None, None, None, None, None, None, None, None] 24\n"
     ]
    }
   ],
   "source": [
    "gr = [None for i in range(0,24)]\n",
    "print(gr,len(gr))"
   ]
  },
  {
   "cell_type": "code",
   "execution_count": 13,
   "metadata": {},
   "outputs": [
    {
     "name": "stdout",
     "output_type": "stream",
     "text": [
      "['V', None, None, None, None, None, None, None, None, None, None, None, None, None, None, None, None, None, None, None, None, None, None]\n"
     ]
    }
   ],
   "source": [
    "gr[0] = 'V'\n",
    "print(gr)"
   ]
  },
  {
   "cell_type": "code",
   "execution_count": 39,
   "metadata": {},
   "outputs": [
    {
     "name": "stdout",
     "output_type": "stream",
     "text": [
      "['VRCG', 'VRCC']\n"
     ]
    }
   ],
   "source": [
    "s = gar.split('\\n')\n",
    "print(s)"
   ]
  },
  {
   "cell_type": "code",
   "execution_count": 40,
   "metadata": {},
   "outputs": [
    {
     "name": "stdout",
     "output_type": "stream",
     "text": [
      "['V', 'R', 'C', 'G', 'V', 'R', 'C', 'C']\n"
     ]
    }
   ],
   "source": [
    "u = [p if g.index(p) < len(g) else None for g in gar.split('\\n') for p in g]\n",
    "print(u)"
   ]
  },
  {
   "cell_type": "code",
   "execution_count": 13,
   "metadata": {},
   "outputs": [
    {
     "name": "stdout",
     "output_type": "stream",
     "text": [
      "['V', 'R', 'C', 'C', None, None, None, None, None, None, None, None, None, None, None, None, None, None, None, None, None, None, None]\n"
     ]
    }
   ],
   "source": [
    "for item in gar.split('\\n'):\n",
    "    for i,ch in enumerate(item):\n",
    "        if i < 12:\n",
    "            gr[i] = ch\n",
    "        else:\n",
    "            gr[12+i] = ch\n",
    "print(gr)"
   ]
  },
  {
   "cell_type": "code",
   "execution_count": 82,
   "metadata": {},
   "outputs": [
    {
     "name": "stdout",
     "output_type": "stream",
     "text": [
      "['V', 'R', 'C', 'G', None, None, None, None, None, None, None, None, 'V', 'R', 'C', 'C', None, None, None, None, None, None, None, None]\n"
     ]
    }
   ],
   "source": [
    "j = 0\n",
    "for item in gar.split('\\n'):\n",
    "    for i,ch in enumerate(item):\n",
    "        gr[i + j*12] = ch\n",
    "    j += 1\n",
    "print(gr)"
   ]
  },
  {
   "cell_type": "code",
   "execution_count": 87,
   "metadata": {},
   "outputs": [
    {
     "name": "stdout",
     "output_type": "stream",
     "text": [
      "V <class 'str'> R <class 'str'>\n"
     ]
    },
    {
     "ename": "TypeError",
     "evalue": "can only concatenate str (not \"int\") to str",
     "output_type": "error",
     "traceback": [
      "\u001b[0;31m---------------------------------------------------------------------------\u001b[0m",
      "\u001b[0;31mTypeError\u001b[0m                                 Traceback (most recent call last)",
      "\u001b[0;32m<ipython-input-87-5701e4a8880c>\u001b[0m in \u001b[0;36m<module>\u001b[0;34m\u001b[0m\n\u001b[1;32m      2\u001b[0m     \u001b[0mb\u001b[0m\u001b[0;34m,\u001b[0m \u001b[0me\u001b[0m \u001b[0;34m=\u001b[0m \u001b[0mval\u001b[0m\u001b[0;34m[\u001b[0m\u001b[0;36m0\u001b[0m\u001b[0;34m]\u001b[0m\u001b[0;34m,\u001b[0m \u001b[0mval\u001b[0m\u001b[0;34m[\u001b[0m\u001b[0;36m1\u001b[0m\u001b[0;34m]\u001b[0m\u001b[0;34m\u001b[0m\u001b[0;34m\u001b[0m\u001b[0m\n\u001b[1;32m      3\u001b[0m     \u001b[0mprint\u001b[0m\u001b[0;34m(\u001b[0m\u001b[0mb\u001b[0m\u001b[0;34m,\u001b[0m \u001b[0mtype\u001b[0m\u001b[0;34m(\u001b[0m\u001b[0mb\u001b[0m\u001b[0;34m)\u001b[0m\u001b[0;34m,\u001b[0m\u001b[0me\u001b[0m\u001b[0;34m,\u001b[0m \u001b[0mtype\u001b[0m\u001b[0;34m(\u001b[0m\u001b[0me\u001b[0m\u001b[0;34m)\u001b[0m\u001b[0;34m)\u001b[0m\u001b[0;34m\u001b[0m\u001b[0;34m\u001b[0m\u001b[0m\n\u001b[0;32m----> 4\u001b[0;31m     \u001b[0mcups\u001b[0m\u001b[0;34m[\u001b[0m\u001b[0mkey\u001b[0m\u001b[0;34m]\u001b[0m \u001b[0;34m=\u001b[0m \u001b[0mgr\u001b[0m\u001b[0;34m[\u001b[0m\u001b[0mb\u001b[0m\u001b[0;34m:\u001b[0m\u001b[0me\u001b[0m\u001b[0;34m+\u001b[0m\u001b[0;36m1\u001b[0m\u001b[0;34m]\u001b[0m\u001b[0;34m\u001b[0m\u001b[0;34m\u001b[0m\u001b[0m\n\u001b[0m\u001b[1;32m      5\u001b[0m     \u001b[0;31m#if val is not None: print(key,val)\u001b[0m\u001b[0;34m\u001b[0m\u001b[0;34m\u001b[0m\u001b[0;34m\u001b[0m\u001b[0m\n\u001b[1;32m      6\u001b[0m \u001b[0mprint\u001b[0m\u001b[0;34m(\u001b[0m\u001b[0mcups\u001b[0m\u001b[0;34m)\u001b[0m\u001b[0;34m\u001b[0m\u001b[0;34m\u001b[0m\u001b[0m\n",
      "\u001b[0;31mTypeError\u001b[0m: can only concatenate str (not \"int\") to str"
     ]
    }
   ],
   "source": [
    "for key,val in cups.items():\n",
    "    b, e = val[0], val[1]\n",
    "    print(b, type(b),e, type(e))\n",
    "    cups[key] = gr[b:e+1]\n",
    "    #if val is not None: print(key,val)\n",
    "print(cups)"
   ]
  },
  {
   "cell_type": "code",
   "execution_count": 78,
   "metadata": {},
   "outputs": [
    {
     "name": "stdout",
     "output_type": "stream",
     "text": [
      "[0, 1]\n",
      "0 <class 'int'> 1 <class 'int'>\n",
      "V R\n",
      "[2, 3]\n",
      "2 <class 'int'> 3 <class 'int'>\n",
      "C G\n",
      "[4, 5]\n",
      "4 <class 'int'> 5 <class 'int'>\n",
      "None None\n",
      "[6, 7]\n",
      "6 <class 'int'> 7 <class 'int'>\n",
      "None None\n",
      "[8, 9]\n",
      "8 <class 'int'> 9 <class 'int'>\n",
      "None None\n",
      "[10, 11]\n",
      "10 <class 'int'> 11 <class 'int'>\n",
      "None None\n",
      "[12, 13]\n",
      "12 <class 'int'> 13 <class 'int'>\n",
      "V R\n",
      "[14, 15]\n",
      "14 <class 'int'> 15 <class 'int'>\n",
      "C C\n",
      "[16, 17]\n",
      "16 <class 'int'> 17 <class 'int'>\n",
      "None None\n",
      "[18, 19]\n",
      "18 <class 'int'> 19 <class 'int'>\n",
      "None None\n",
      "[20, 21]\n",
      "20 <class 'int'> 21 <class 'int'>\n",
      "None None\n",
      "[None, None]\n",
      "None <class 'NoneType'> None <class 'NoneType'>\n"
     ]
    },
    {
     "ename": "TypeError",
     "evalue": "list indices must be integers or slices, not NoneType",
     "output_type": "error",
     "traceback": [
      "\u001b[0;31m---------------------------------------------------------------------------\u001b[0m",
      "\u001b[0;31mTypeError\u001b[0m                                 Traceback (most recent call last)",
      "\u001b[0;32m<ipython-input-78-1c0e8fe2c980>\u001b[0m in \u001b[0;36m<module>\u001b[0;34m\u001b[0m\n\u001b[1;32m      4\u001b[0m     \u001b[0mprint\u001b[0m\u001b[0;34m(\u001b[0m\u001b[0mb\u001b[0m\u001b[0;34m,\u001b[0m \u001b[0mtype\u001b[0m\u001b[0;34m(\u001b[0m\u001b[0mb\u001b[0m\u001b[0;34m)\u001b[0m\u001b[0;34m,\u001b[0m\u001b[0me\u001b[0m\u001b[0;34m,\u001b[0m \u001b[0mtype\u001b[0m\u001b[0;34m(\u001b[0m\u001b[0me\u001b[0m\u001b[0;34m)\u001b[0m\u001b[0;34m)\u001b[0m\u001b[0;34m\u001b[0m\u001b[0;34m\u001b[0m\u001b[0m\n\u001b[1;32m      5\u001b[0m     \u001b[0;31m#print(gr[b:e+1])\u001b[0m\u001b[0;34m\u001b[0m\u001b[0;34m\u001b[0m\u001b[0;34m\u001b[0m\u001b[0m\n\u001b[0;32m----> 6\u001b[0;31m     \u001b[0mprint\u001b[0m\u001b[0;34m(\u001b[0m\u001b[0mgr\u001b[0m\u001b[0;34m[\u001b[0m\u001b[0mb\u001b[0m\u001b[0;34m]\u001b[0m\u001b[0;34m,\u001b[0m\u001b[0mgr\u001b[0m\u001b[0;34m[\u001b[0m\u001b[0me\u001b[0m\u001b[0;34m]\u001b[0m\u001b[0;34m)\u001b[0m\u001b[0;34m\u001b[0m\u001b[0;34m\u001b[0m\u001b[0m\n\u001b[0m\u001b[1;32m      7\u001b[0m     \u001b[0mcups\u001b[0m\u001b[0;34m[\u001b[0m\u001b[0mkey\u001b[0m\u001b[0;34m]\u001b[0m \u001b[0;34m=\u001b[0m \u001b[0;34m[\u001b[0m\u001b[0mgr\u001b[0m\u001b[0;34m[\u001b[0m\u001b[0mb\u001b[0m\u001b[0;34m]\u001b[0m\u001b[0;34m,\u001b[0m \u001b[0mgr\u001b[0m\u001b[0;34m[\u001b[0m\u001b[0me\u001b[0m\u001b[0;34m]\u001b[0m\u001b[0;34m]\u001b[0m\u001b[0;31m#gr[b:e+1]\u001b[0m\u001b[0;34m\u001b[0m\u001b[0;34m\u001b[0m\u001b[0m\n\u001b[1;32m      8\u001b[0m \u001b[0mprint\u001b[0m\u001b[0;34m(\u001b[0m\u001b[0mcups\u001b[0m\u001b[0;34m)\u001b[0m\u001b[0;34m\u001b[0m\u001b[0;34m\u001b[0m\u001b[0m\n",
      "\u001b[0;31mTypeError\u001b[0m: list indices must be integers or slices, not NoneType"
     ]
    }
   ],
   "source": [
    "for val in cups.values():\n",
    "    print(val)\n",
    "    b, e = val[0], val[1]\n",
    "    print(b, type(b),e, type(e))\n",
    "    #print(gr[b:e+1])\n",
    "    print(gr[b],gr[e])\n",
    "    cups[key] = [gr[b], gr[e]]#gr[b:e+1]\n",
    "print(cups)"
   ]
  },
  {
   "cell_type": "code",
   "execution_count": 32,
   "metadata": {},
   "outputs": [
    {
     "ename": "IndexError",
     "evalue": "list index out of range",
     "output_type": "error",
     "traceback": [
      "\u001b[0;31m---------------------------------------------------------------------------\u001b[0m",
      "\u001b[0;31mIndexError\u001b[0m                                Traceback (most recent call last)",
      "\u001b[0;32m<ipython-input-32-6b50eafbafb2>\u001b[0m in \u001b[0;36m<module>\u001b[0;34m\u001b[0m\n\u001b[1;32m      1\u001b[0m \u001b[0;32mfor\u001b[0m \u001b[0mkey\u001b[0m\u001b[0;34m,\u001b[0m\u001b[0mval\u001b[0m \u001b[0;32min\u001b[0m \u001b[0mcups\u001b[0m\u001b[0;34m.\u001b[0m\u001b[0mitems\u001b[0m\u001b[0;34m(\u001b[0m\u001b[0;34m)\u001b[0m\u001b[0;34m:\u001b[0m\u001b[0;34m\u001b[0m\u001b[0;34m\u001b[0m\u001b[0m\n\u001b[1;32m      2\u001b[0m     \u001b[0mval\u001b[0m\u001b[0;34m[\u001b[0m\u001b[0;36m0\u001b[0m\u001b[0;34m]\u001b[0m \u001b[0;34m=\u001b[0m \u001b[0mgr\u001b[0m\u001b[0;34m[\u001b[0m\u001b[0;34m(\u001b[0m\u001b[0mval\u001b[0m\u001b[0;34m[\u001b[0m\u001b[0;36m0\u001b[0m\u001b[0;34m]\u001b[0m\u001b[0;34m)\u001b[0m\u001b[0;34m]\u001b[0m\u001b[0;31m# gr[val.index(val[0])]\u001b[0m\u001b[0;34m\u001b[0m\u001b[0;34m\u001b[0m\u001b[0m\n\u001b[0;32m----> 3\u001b[0;31m     \u001b[0mval\u001b[0m\u001b[0;34m[\u001b[0m\u001b[0;36m1\u001b[0m\u001b[0;34m]\u001b[0m \u001b[0;34m=\u001b[0m \u001b[0mgr\u001b[0m\u001b[0;34m[\u001b[0m\u001b[0;34m(\u001b[0m\u001b[0mval\u001b[0m\u001b[0;34m[\u001b[0m\u001b[0;36m1\u001b[0m\u001b[0;34m]\u001b[0m\u001b[0;34m)\u001b[0m\u001b[0;34m]\u001b[0m\u001b[0;31m#gr[val.index(val[1])]\u001b[0m\u001b[0;34m\u001b[0m\u001b[0;34m\u001b[0m\u001b[0m\n\u001b[0m\u001b[1;32m      4\u001b[0m \u001b[0mprint\u001b[0m\u001b[0;34m(\u001b[0m\u001b[0mcups\u001b[0m\u001b[0;34m)\u001b[0m\u001b[0;34m\u001b[0m\u001b[0;34m\u001b[0m\u001b[0m\n",
      "\u001b[0;31mIndexError\u001b[0m: list index out of range"
     ]
    }
   ],
   "source": [
    "for key,val in cups.items():\n",
    "    val[0] = gr[(val[0])]# gr[val.index(val[0])]\n",
    "    val[1] = gr[(val[1])]#gr[val.index(val[1])]\n",
    "print(cups)"
   ]
  },
  {
   "cell_type": "code",
   "execution_count": null,
   "metadata": {},
   "outputs": [],
   "source": []
  },
  {
   "cell_type": "code",
   "execution_count": null,
   "metadata": {},
   "outputs": [],
   "source": []
  },
  {
   "cell_type": "code",
   "execution_count": null,
   "metadata": {},
   "outputs": [],
   "source": [
    "\"RC\\nGG\""
   ]
  },
  {
   "cell_type": "code",
   "execution_count": 6,
   "metadata": {},
   "outputs": [
    {
     "name": "stdout",
     "output_type": "stream",
     "text": [
      "[None, None, None, None, None, None, None, None, None, None, None, None, None, None, None, None, None, None, None, None, None, None, None, None] 24\n",
      "['violets', 'radishes', 'clover', 'grass', None, None, None, None, None, None, None, None, 'violets', 'radishes', 'clover', 'clover', None, None, None, None, None, None, None, None]\n"
     ]
    }
   ],
   "source": [
    "plants = {\n",
    "    'G' : 'grass', 'C' : 'clover', 'R' : 'radishes', 'V' : 'violets'\n",
    "}\n",
    "cups = {\n",
    "    'Alice' : [0,1],  'Bob' : [2,3], 'Charlie' : [4,5], 'David' : [6,7],\n",
    "    'Eve' : [8,9], 'Fred' : [10,11], 'Ginny' : [12,13], 'Harriet' : [14,15],\n",
    "    'Ileana' : [16,17], 'Joseph' : [18,19], 'Kincaid' : [20,21], 'Larry' : [22,23]\n",
    "}\n",
    "gar = \"VRCG\\nVRCC\"# \"VRCGVVRVCGGCCGVRGCVCGCGV\\nVRCCCGCRRGVCGCRVVCVGCGCV\"\n",
    "gr = [None for i in range(0,24)]\n",
    "print(gr,len(gr))\n",
    "j = 0\n",
    "for item in gar.split('\\n'):\n",
    "    for i,ch in enumerate(item):\n",
    "        gr[i + j*12] = plants[ch]\n",
    "    j += 1\n",
    "print(gr)"
   ]
  },
  {
   "cell_type": "code",
   "execution_count": 7,
   "metadata": {},
   "outputs": [
    {
     "name": "stdout",
     "output_type": "stream",
     "text": [
      "0 <class 'int'> 1 <class 'int'>\n",
      "2 <class 'int'> 3 <class 'int'>\n",
      "4 <class 'int'> 5 <class 'int'>\n",
      "6 <class 'int'> 7 <class 'int'>\n",
      "8 <class 'int'> 9 <class 'int'>\n",
      "10 <class 'int'> 11 <class 'int'>\n",
      "12 <class 'int'> 13 <class 'int'>\n",
      "14 <class 'int'> 15 <class 'int'>\n",
      "16 <class 'int'> 17 <class 'int'>\n",
      "18 <class 'int'> 19 <class 'int'>\n",
      "20 <class 'int'> 21 <class 'int'>\n",
      "22 <class 'int'> 23 <class 'int'>\n",
      "{'Alice': ['violets', 'radishes'], 'Bob': ['clover', 'grass'], 'Charlie': [None, None], 'David': [None, None], 'Eve': [None, None], 'Fred': [None, None], 'Ginny': ['violets', 'radishes'], 'Harriet': ['clover', 'clover'], 'Ileana': [None, None], 'Joseph': [None, None], 'Kincaid': [None, None], 'Larry': [None, None]}\n"
     ]
    }
   ],
   "source": [
    "for key,val in cups.items():\n",
    "    b, e = val[0], val[1]\n",
    "    print(b, type(b),e, type(e))\n",
    "    cups[key] = gr[b:e+1]\n",
    "print(cups)"
   ]
  },
  {
   "cell_type": "code",
   "execution_count": 8,
   "metadata": {},
   "outputs": [
    {
     "name": "stdout",
     "output_type": "stream",
     "text": [
      "['violets', 'radishes']\n",
      "['clover', 'grass']\n",
      "[None, None]\n",
      "[None, None]\n",
      "[None, None]\n",
      "[None, None]\n",
      "['violets', 'radishes']\n",
      "['clover', 'clover']\n",
      "[None, None]\n",
      "[None, None]\n",
      "[None, None]\n",
      "[None, None]\n",
      "['violets', 'radishes']\n",
      "['clover', 'grass']\n",
      "[None]\n",
      "[None]\n",
      "[None]\n",
      "[None]\n",
      "['violets', 'radishes']\n",
      "['clover', 'clover']\n",
      "[None]\n",
      "[None]\n",
      "[None]\n",
      "[None]\n"
     ]
    }
   ],
   "source": [
    "for val in cups.values():\n",
    "    print(val)\n",
    "\n",
    "for val in cups.values():\n",
    "    for v in val:\n",
    "        if v is None:\n",
    "            val.remove(v)\n",
    "    print(val)\n"
   ]
  },
  {
   "cell_type": "code",
   "execution_count": 120,
   "metadata": {},
   "outputs": [
    {
     "name": "stdout",
     "output_type": "stream",
     "text": [
      "{'Alice': ['violets', 'radishes'], 'Bob': ['clover', 'grass'], 'Charlie': [None], 'David': [None], 'Eve': [None], 'Fred': [None], 'Ginny': ['violets', 'radishes'], 'Harriet': ['clover', 'clover'], 'Ileana': [None], 'Joseph': [None], 'Kincaid': [None], 'Larry': [None]}\n"
     ]
    }
   ],
   "source": [
    "print(cups)"
   ]
  },
  {
   "cell_type": "code",
   "execution_count": 9,
   "metadata": {},
   "outputs": [
    {
     "name": "stdout",
     "output_type": "stream",
     "text": [
      "{'Alice': ['violets', 'radishes'], 'Bob': ['clover', 'grass'], 'Charlie': [None], 'David': [None], 'Eve': [None], 'Fred': [None], 'Ginny': ['violets', 'radishes'], 'Harriet': ['clover', 'clover'], 'Ileana': [None], 'Joseph': [None], 'Kincaid': [None], 'Larry': [None]}\n"
     ]
    }
   ],
   "source": [
    "upd = {key:val for key,val in cups.items() if val is not None}# for v in val}\n",
    "print(upd)"
   ]
  },
  {
   "cell_type": "code",
   "execution_count": 11,
   "metadata": {},
   "outputs": [
    {
     "name": "stdout",
     "output_type": "stream",
     "text": [
      "{'Alice': ['violets', 'radishes'], 'Bob': ['clover', 'grass'], 'Charlie': [], 'David': [], 'Eve': [], 'Fred': [], 'Ginny': ['violets', 'radishes'], 'Harriet': ['clover', 'clover'], 'Ileana': [], 'Joseph': [], 'Kincaid': [], 'Larry': []}\n"
     ]
    }
   ],
   "source": [
    "for key,val in cups.items():\n",
    "    for v in val:\n",
    "        if v is None: val.remove(v)\n",
    "print(cups)"
   ]
  },
  {
   "cell_type": "code",
   "execution_count": 14,
   "metadata": {},
   "outputs": [
    {
     "name": "stdout",
     "output_type": "stream",
     "text": [
      "Alice : violets,radishes\n",
      "Bob : clover,grass\n",
      "Ginny : violets,radishes\n",
      "Harriet : clover,clover\n"
     ]
    }
   ],
   "source": [
    "for key,val in cups.items():\n",
    "    if val != []:\n",
    "        print(f\"{key} : {','.join(val)}\")"
   ]
  },
  {
   "cell_type": "code",
   "execution_count": null,
   "metadata": {},
   "outputs": [],
   "source": []
  }
 ],
 "metadata": {
  "kernelspec": {
   "display_name": "pybase",
   "language": "python",
   "name": "pybase"
  },
  "language_info": {
   "codemirror_mode": {
    "name": "ipython",
    "version": 3
   },
   "file_extension": ".py",
   "mimetype": "text/x-python",
   "name": "python",
   "nbconvert_exporter": "python",
   "pygments_lexer": "ipython3",
   "version": "3.8.5"
  }
 },
 "nbformat": 4,
 "nbformat_minor": 4
}
