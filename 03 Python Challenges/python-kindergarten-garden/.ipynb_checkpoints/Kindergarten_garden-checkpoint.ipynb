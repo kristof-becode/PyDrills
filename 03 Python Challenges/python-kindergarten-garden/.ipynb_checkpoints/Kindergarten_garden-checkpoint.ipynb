{
 "cells": [
  {
   "cell_type": "markdown",
   "metadata": {},
   "source": [
    "## Kindergarten garden"
   ]
  },
  {
   "cell_type": "markdown",
   "metadata": {},
   "source": [
    "The kindergarten class is learning about growing plants. The teachers\n",
    "thought it would be a good idea to give them actual seeds, plant them in\n",
    "actual dirt, and grow actual plants.\n",
    "\n",
    "They've chosen to grow grass, clover, radishes, and violets.\n",
    "\n",
    "To this end, they've put little styrofoam cups along the window sills,\n",
    "and planted one type of plant in each cup, choosing randomly from the\n",
    "available types of seeds.\n",
    "\n",
    "```plain\n",
    "[window][window][window]\n",
    "........................ # each dot represents a styrofoam cup\n",
    "........................\n",
    "```\n",
    "\n",
    "There are 12 children in the class:\n",
    "\n",
    "- Alice, Bob, Charlie, David,\n",
    "- Eve, Fred, Ginny, Harriet,\n",
    "- Ileana, Joseph, Kincaid, and Larry.\n",
    "\n",
    "Each child gets 4 cups, two on each row. The children are assigned to\n",
    "cups in alphabetical order.\n",
    "\n",
    "The following diagram represents Alice's plants:\n",
    "\n",
    "```plain\n",
    "[window][window][window]\n",
    "VR......................\n",
    "RG......................\n",
    "```\n",
    "\n",
    "So in the row nearest the window, she has a violet and a radish; in the\n",
    "row behind that, she has a radish and some grass.\n",
    "\n",
    "Your program will be given the plants from left-to-right starting with\n",
    "the row nearest the windows. From this, it should be able to determine\n",
    "which plants belong to which students.\n",
    "\n",
    "For example, if it's told that the garden looks like so:\n",
    "\n",
    "```plain\n",
    "[window][window][window]\n",
    "VRCGVVRVCGGCCGVRGCVCGCGV\n",
    "VRCCCGCRRGVCGCRVVCVGCGCV\n",
    "```"
   ]
  },
  {
   "cell_type": "markdown",
   "metadata": {},
   "source": [
    "### Algorithm"
   ]
  },
  {
   "cell_type": "code",
   "execution_count": null,
   "metadata": {},
   "outputs": [],
   "source": []
  },
  {
   "cell_type": "markdown",
   "metadata": {},
   "source": [
    "### Experimentation"
   ]
  },
  {
   "cell_type": "code",
   "execution_count": 10,
   "metadata": {},
   "outputs": [],
   "source": [
    "plants = {\n",
    "    'G' : 'grass', 'C' : 'clover', 'R' : 'radishes', 'V' : 'violets'\n",
    "}\n",
    "cups = {\n",
    "    'Alice' : [0,1],  'Bob' : [2,3], 'Charlie' : [4,5], 'David' : [6,7],\n",
    "    'Eve' : [8,9], 'Fred' : [10,11], 'Ginny' : [12,13], 'Harriet' : [14,15],\n",
    "    'Ileana' : [16,17], 'Joseph' : [18,19], 'Kincaid' : [20,21], 'Larry' : [22,23]\n",
    "}"
   ]
  },
  {
   "cell_type": "code",
   "execution_count": 11,
   "metadata": {},
   "outputs": [],
   "source": [
    "gar = \"VRCG\\nVRCC\"# \"VRCGVVRVCGGCCGVRGCVCGCGV\\nVRCCCGCRRGVCGCRVVCVGCGCV\""
   ]
  },
  {
   "cell_type": "code",
   "execution_count": 37,
   "metadata": {},
   "outputs": [
    {
     "name": "stdout",
     "output_type": "stream",
     "text": [
      "['V', 'R', 'C', 'G', 'V', 'R', 'C', 'C']\n",
      "8\n"
     ]
    }
   ],
   "source": [
    "#g = [p for p in gar]\n",
    "g = [p for sil in gar.split('\\n') for p in sil]\n",
    "print(g)\n",
    "print(len(g))"
   ]
  },
  {
   "cell_type": "code",
   "execution_count": 12,
   "metadata": {},
   "outputs": [
    {
     "name": "stdout",
     "output_type": "stream",
     "text": [
      "[None, None, None, None, None, None, None, None, None, None, None, None, None, None, None, None, None, None, None, None, None, None, None]\n"
     ]
    }
   ],
   "source": [
    "gr = [None for i in range(0,23)]\n",
    "print(gr)"
   ]
  },
  {
   "cell_type": "code",
   "execution_count": 13,
   "metadata": {},
   "outputs": [
    {
     "name": "stdout",
     "output_type": "stream",
     "text": [
      "['V', None, None, None, None, None, None, None, None, None, None, None, None, None, None, None, None, None, None, None, None, None, None]\n"
     ]
    }
   ],
   "source": [
    "gr[0] = 'V'\n",
    "print(gr)"
   ]
  },
  {
   "cell_type": "code",
   "execution_count": 39,
   "metadata": {},
   "outputs": [
    {
     "name": "stdout",
     "output_type": "stream",
     "text": [
      "['VRCG', 'VRCC']\n"
     ]
    }
   ],
   "source": [
    "s = gar.split('\\n')\n",
    "print(s)"
   ]
  },
  {
   "cell_type": "code",
   "execution_count": 40,
   "metadata": {},
   "outputs": [
    {
     "name": "stdout",
     "output_type": "stream",
     "text": [
      "['V', 'R', 'C', 'G', 'V', 'R', 'C', 'C']\n"
     ]
    }
   ],
   "source": [
    "u = [p if g.index(p) < len(g) else None for g in gar.split('\\n') for p in g]\n",
    "print(u)"
   ]
  },
  {
   "cell_type": "code",
   "execution_count": 13,
   "metadata": {},
   "outputs": [
    {
     "name": "stdout",
     "output_type": "stream",
     "text": [
      "['V', 'R', 'C', 'C', None, None, None, None, None, None, None, None, None, None, None, None, None, None, None, None, None, None, None]\n"
     ]
    }
   ],
   "source": [
    "for item in gar.split('\\n'):\n",
    "    for i,ch in enumerate(item):\n",
    "        if i < 12:\n",
    "            gr[i] = ch\n",
    "        else:\n",
    "            gr[12+i] = ch\n",
    "print(gr)"
   ]
  },
  {
   "cell_type": "code",
   "execution_count": 14,
   "metadata": {},
   "outputs": [
    {
     "name": "stdout",
     "output_type": "stream",
     "text": [
      "['V', 'R', 'C', 'G', None, None, None, None, None, None, None, None, 'V', 'R', 'C', 'C', None, None, None, None, None, None, None]\n"
     ]
    }
   ],
   "source": [
    "j = 0\n",
    "for item in gar.split('\\n'):\n",
    "    for i,ch in enumerate(item):\n",
    "        gr[i + j*12] = ch\n",
    "    j += 1\n",
    "print(gr)"
   ]
  },
  {
   "cell_type": "code",
   "execution_count": 8,
   "metadata": {},
   "outputs": [
    {
     "name": "stdout",
     "output_type": "stream",
     "text": [
      "{'Alice': ['V', 'R'], 'Bob': ['V', 'R'], 'Charlie': ['V', 'R'], 'David': ['V', 'R'], 'Eve': ['V', 'R'], 'Fred': ['V', 'R'], 'Ginny': ['V', 'R'], 'Harriet': ['V', 'R'], 'Ileana': ['V', 'R'], 'Joseph': ['V', 'R'], 'Kincaid': ['V', 'R'], 'Larry': ['V', 'R']}\n"
     ]
    }
   ],
   "source": [
    "for key,val in cups.items():\n",
    "    val[0]= gr[val.index(val[0])]\n",
    "    val[1] = gr[val.index(val[1])]\n",
    "print(cups)"
   ]
  },
  {
   "cell_type": "code",
   "execution_count": 15,
   "metadata": {},
   "outputs": [
    {
     "name": "stdout",
     "output_type": "stream",
     "text": [
      "[0, 1]\n",
      "0 1\n",
      "[2, 3]\n",
      "2 3\n",
      "[4, 5]\n",
      "4 5\n",
      "[6, 7]\n",
      "6 7\n",
      "[8, 9]\n",
      "8 9\n",
      "[10, 11]\n",
      "10 11\n",
      "[12, 13]\n",
      "12 13\n",
      "[14, 15]\n",
      "14 15\n",
      "[16, 17]\n",
      "16 17\n",
      "[18, 19]\n",
      "18 19\n",
      "[20, 21]\n",
      "20 21\n",
      "[22, 23]\n",
      "22 23\n",
      "{'Alice': [0, 1], 'Bob': [2, 3], 'Charlie': [4, 5], 'David': [6, 7], 'Eve': [8, 9], 'Fred': [10, 11], 'Ginny': [12, 13], 'Harriet': [14, 15], 'Ileana': [16, 17], 'Joseph': [18, 19], 'Kincaid': [20, 21], 'Larry': [22, 23]}\n"
     ]
    }
   ],
   "source": [
    "for val in cups.values():\n",
    "    print(val)\n",
    "    print(val[0], val[1])\n",
    "    #val[0]= gr[val.index(val[0])]\n",
    "    #val[1] = gr[val.index(val[1])]\n",
    "print(cups)"
   ]
  },
  {
   "cell_type": "code",
   "execution_count": null,
   "metadata": {},
   "outputs": [],
   "source": [
    "\"RC\\nGG\""
   ]
  }
 ],
 "metadata": {
  "kernelspec": {
   "display_name": "pybase",
   "language": "python",
   "name": "pybase"
  },
  "language_info": {
   "codemirror_mode": {
    "name": "ipython",
    "version": 3
   },
   "file_extension": ".py",
   "mimetype": "text/x-python",
   "name": "python",
   "nbconvert_exporter": "python",
   "pygments_lexer": "ipython3",
   "version": "3.8.5"
  }
 },
 "nbformat": 4,
 "nbformat_minor": 4
}
