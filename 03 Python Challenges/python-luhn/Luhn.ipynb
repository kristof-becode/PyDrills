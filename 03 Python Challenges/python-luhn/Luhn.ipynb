{
 "cells": [
  {
   "cell_type": "markdown",
   "metadata": {},
   "source": [
    "## Luhn"
   ]
  },
  {
   "cell_type": "markdown",
   "metadata": {},
   "source": [
    "Write a program that can take a number and determine whether or not it\n",
    "is valid per the Luhn formula.\n",
    "\n",
    "The Luhn formula is a simple checksum formula used to validate a variety\n",
    "of identification numbers, such as credit card numbers and Canadian\n",
    "Social Insurance Numbers.\n",
    "\n",
    "The formula verifies a number against its included check digit, which is\n",
    "usually appended to a partial number to generate the full number. This\n",
    "number must pass the following test:\n",
    "\n",
    "- Counting from rightmost digit (which is the check digit) and moving\n",
    "  left, double the value of every second digit.\n",
    "- For any digits that thus become 10 or more, subtract 9 from the\n",
    "  result.\n",
    "  - 1111 becomes 2121.\n",
    "  - 8763 becomes 7733 (from 2×6=12 → 12-9=3 and 2×8=16 → 16-9=7).\n",
    "- Add all these digits together.\n",
    "  - 1111 becomes 2121 sums as 2+1+2+1 to give a check digit of 6.\n",
    "  - 8763 becomes 7733, and 7+7+3+3 is 20.\n",
    "\n",
    "If the total ends in 0 (put another way, if the total modulus 10 is\n",
    "congruent to 0), then the number is valid according to the Luhn formula;\n",
    "else it is not valid. So, 1111 is not valid (as shown above, it comes\n",
    "out to 6), while 8763 is valid (as shown above, it comes out to 20).\n",
    "\n",
    "Write a program that, given a number\n",
    "\n",
    "- Can check if it is valid per the Luhn formula. This should treat, for\n",
    "  example, \"2323 2005 7766 3554\" as valid.\n",
    "- Can return the checksum, or the remainder from using the Luhn method.\n",
    "- Can add a check digit to make the number valid per the Luhn formula and\n",
    "  return the original number plus that digit. This should give \"2323 2005 7766\n",
    "  3554\" in response to \"2323 2005 7766 355\"."
   ]
  },
  {
   "cell_type": "markdown",
   "metadata": {},
   "source": [
    "### Algorithm"
   ]
  },
  {
   "cell_type": "code",
   "execution_count": 30,
   "metadata": {},
   "outputs": [
    {
     "name": "stdout",
     "output_type": "stream",
     "text": [
      "2323200577663554 has checksum 60 and is a valid Luhn number\n",
      "232320057766355 has checksum 56 and is NOT a valid Luhn number\n",
      "-> 232320057766355 made valid with check digit 4, with checksum 60, gives 2323200577663554\n",
      "12121 has checksum 10 and is a valid Luhn number\n",
      "201773 has checksum 21 and is NOT a valid Luhn number\n",
      "-> 201773 made valid with check digit 9, with checksum 30, gives 2017739\n",
      "837263756 has checksum 36 and is NOT a valid Luhn number\n",
      "-> 837263756 made valid with check digit 4, with checksum 40, gives 8372637564\n"
     ]
    }
   ],
   "source": [
    "# checks if number is valid Luhn number and returns True/False, remainder\n",
    "def valid(num:int):\n",
    "    lst = [int(ch) for ch in str(num)]\n",
    "    lu = [ nu - 9 if nu >= 10 else nu for nu in[n* 2 if k % 2 == 0 else n for k,n in enumerate(lst)]]\n",
    "    if sum(lu) % 10 == 0:\n",
    "        return True, sum(lu)\n",
    "    else:\n",
    "        return False, sum(lu)\n",
    "\n",
    "def luhn(nmbr:int):\n",
    "    bol, sm = valid(nmbr)\n",
    "    if bol == True: # If valid Luhn number\n",
    "        print(f\"{nmbr} has checksum {sm} and is a valid Luhn number\") \n",
    "    else: # if not valid, find check digit to add\n",
    "        print(f\"{nmbr} has checksum {sm} and is NOT a valid Luhn number\")\n",
    "        # try check digits 0-9 to make valid Luhn number\n",
    "        for n in range(0,10):\n",
    "            nmbr_ = int(str(nmbr) + str(n))\n",
    "            bol,sm = valid(nmbr_)\n",
    "            if bol:\n",
    "                print(f\"-> {nmbr} made valid with check digit {n}, with checksum {sm}, gives {nmbr_}\")\n",
    "\n",
    "luhn(2323200577663554)\n",
    "luhn(232320057766355)\n",
    "luhn(12121)\n",
    "luhn(201773)\n",
    "luhn(837263756)"
   ]
  },
  {
   "cell_type": "markdown",
   "metadata": {},
   "source": [
    "### Experimentation"
   ]
  },
  {
   "cell_type": "markdown",
   "metadata": {},
   "source": [
    "Following doesn't work because working with list.index() returns index of first occurence => use enumerate!!!"
   ]
  },
  {
   "cell_type": "code",
   "execution_count": 25,
   "metadata": {},
   "outputs": [
    {
     "name": "stdout",
     "output_type": "stream",
     "text": [
      "[2, 3, 2, 3, 2, 0, 0, 5, 7, 7, 6, 6, 3, 5, 5, 4]\n",
      "[4, 3, 4, 3, 4, 0, 0, 5, 14, 14, 12, 12, 3, 5, 5, 4]\n",
      "[4, 3, 4, 3, 4, 0, 0, 5, 5, 5, 3, 3, 3, 5, 5, 4]\n",
      "56\n",
      "Not valid Luhn number\n"
     ]
    }
   ],
   "source": [
    "# Following doens't work because working with list.index() returns index first occurence => use enumerate!!!\n",
    "num = 2323200577663554 # valid\n",
    "lst = [int(ch) for ch in str(num)]\n",
    "print(lst)\n",
    "y = [n* 2 if lst.index(n) % 2 == 0 else n for n in lst]\n",
    "print(y)\n",
    "b = [ nu - 9 if nu >= 10 else nu for nu in [n* 2 if lst.index(n) % 2 == 0 else n for n in lst]]\n",
    "print(b)\n",
    "s = sum(b)\n",
    "print(s)\n",
    "if s % 10 == 0:\n",
    "    print(f\"Valid Luhn number\")\n",
    "else:\n",
    "    print(f\"Not valid Luhn number\")"
   ]
  },
  {
   "cell_type": "markdown",
   "metadata": {},
   "source": [
    "#### Using enumerate"
   ]
  },
  {
   "cell_type": "code",
   "execution_count": 26,
   "metadata": {},
   "outputs": [
    {
     "name": "stdout",
     "output_type": "stream",
     "text": [
      "[2, 3, 2, 3, 2, 0, 0, 5, 7, 7, 6, 6, 3, 5, 5]\n",
      "[4, 3, 4, 3, 4, 0, 0, 5, 14, 7, 12, 6, 6, 5, 10]\n",
      "[4, 3, 4, 3, 4, 0, 0, 5, 5, 7, 3, 6, 6, 5, 1]\n",
      "56\n",
      "Not valid Luhn number\n"
     ]
    }
   ],
   "source": [
    "# verify if valid Luhn number\n",
    "num = 232320057766355 # 2323200577663554 is valid, 232320057766355 not valid\n",
    "lst = [int(ch) for ch in str(num)]\n",
    "print(lst)\n",
    "y = [n* 2 if k % 2 == 0 else n for k,n in enumerate(lst)] # double all numbers in lst with even index\n",
    "print(y)\n",
    "b = [ nu - 9 if nu >= 10 else nu for nu in [n* 2 if k % 2 == 0 else n for k,n in enumerate(lst)]] # subtract 9 if grater then 10\n",
    "print(b)\n",
    "s = sum(b)\n",
    "print(s)\n",
    "if s % 10 == 0:\n",
    "    print(f\"Valid Luhn number\")\n",
    "else:\n",
    "    print(f\"Not valid Luhn number\")"
   ]
  },
  {
   "cell_type": "code",
   "execution_count": 62,
   "metadata": {},
   "outputs": [
    {
     "name": "stdout",
     "output_type": "stream",
     "text": [
      "[0, 1, 2, 3, 4, 5, 6, 7, 8, 9]\n"
     ]
    }
   ],
   "source": [
    "r = [n for n in range(0,10)]\n",
    "print(r)"
   ]
  },
  {
   "cell_type": "code",
   "execution_count": 27,
   "metadata": {},
   "outputs": [
    {
     "name": "stdout",
     "output_type": "stream",
     "text": [
      "2323200577663554\n"
     ]
    }
   ],
   "source": [
    "# Adding check digit to make a valid Luhn number\n",
    "for n in range(0,10):\n",
    "    lst.append(n)\n",
    "    b = [ nu - 9 if nu >= 10 else nu for nu in [n* 2 if k % 2 == 0 else n for k,n in enumerate(lst)]]\n",
    "    s = sum(b)\n",
    "    if s % 10 == 0:\n",
    "        nmbr = str(num) + str(n)\n",
    "        print(nmbr)\n",
    "        break\n",
    "    else:\n",
    "        lst.pop(-1) # remove incorrect check digit"
   ]
  },
  {
   "cell_type": "code",
   "execution_count": null,
   "metadata": {},
   "outputs": [],
   "source": []
  }
 ],
 "metadata": {
  "kernelspec": {
   "display_name": "pybase",
   "language": "python",
   "name": "pybase"
  },
  "language_info": {
   "codemirror_mode": {
    "name": "ipython",
    "version": 3
   },
   "file_extension": ".py",
   "mimetype": "text/x-python",
   "name": "python",
   "nbconvert_exporter": "python",
   "pygments_lexer": "ipython3",
   "version": "3.8.5"
  }
 },
 "nbformat": 4,
 "nbformat_minor": 4
}
