{
 "cells": [
  {
   "cell_type": "markdown",
   "metadata": {},
   "source": [
    "## Bracket Push"
   ]
  },
  {
   "cell_type": "markdown",
   "metadata": {},
   "source": [
    "Ensure that all the brackets and braces are matched correctly,\n",
    "and nested correctly.\n",
    "\n",
    "\"}{\" => False\n",
    "\n",
    "\"{[]([()])}\" => True"
   ]
  },
  {
   "cell_type": "markdown",
   "metadata": {},
   "source": [
    "### Algorithm"
   ]
  },
  {
   "cell_type": "code",
   "execution_count": null,
   "metadata": {},
   "outputs": [],
   "source": []
  },
  {
   "cell_type": "markdown",
   "metadata": {},
   "source": [
    "### Experimentation"
   ]
  },
  {
   "cell_type": "code",
   "execution_count": null,
   "metadata": {},
   "outputs": [],
   "source": []
  },
  {
   "cell_type": "code",
   "execution_count": 40,
   "metadata": {},
   "outputs": [
    {
     "name": "stdout",
     "output_type": "stream",
     "text": [
      "['{', '[', ']', '}']\n"
     ]
    }
   ],
   "source": [
    "s = \"{[]}\"\n",
    "spl = [ch for ch in s if ch in ['{','[',']','}','(',')']]\n",
    "print(spl)"
   ]
  },
  {
   "cell_type": "code",
   "execution_count": 41,
   "metadata": {},
   "outputs": [],
   "source": [
    "def equal(s1:str,s2:str):\n",
    "    if s1+s2 == \"{}\" or s1+s2 == \"[]\" or s1+s2 == \"()\":\n",
    "        return True\n",
    "    else:\n",
    "        return False"
   ]
  },
  {
   "cell_type": "code",
   "execution_count": 42,
   "metadata": {},
   "outputs": [
    {
     "name": "stdout",
     "output_type": "stream",
     "text": [
      "0\n",
      "1\n",
      "len : 2, spl: ['{', '}'], copy: []\n"
     ]
    }
   ],
   "source": [
    "copy = []\n",
    "for i, ch in enumerate(spl):\n",
    "    print(i)\n",
    "    if equal(spl[i],spl[i+1]) == True:\n",
    "        #copy.append(spl[i])\n",
    "        #copy.append(spl[i+1])\n",
    "        del spl[i:i+2]\n",
    "        #spl.remove(spl[i])\n",
    "        #spl.remove(spl[i+1])\n",
    "        print(f\"len : {len(spl)}, spl: {spl}, copy: {copy}\")\n",
    "    "
   ]
  },
  {
   "cell_type": "code",
   "execution_count": 19,
   "metadata": {},
   "outputs": [
    {
     "name": "stdout",
     "output_type": "stream",
     "text": [
      "0 1\n",
      "1 2\n",
      "2\n",
      "['{', ']']\n"
     ]
    }
   ],
   "source": [
    "# for i,ch in enumerate(spl):\n",
    "copy = spl.copy()\n",
    "#while len(copy) != 0:\n",
    "j = len(copy)\n",
    "for i in range(j-1):\n",
    "    print(i,i+1)\n",
    "    if equal(copy[i],copy[i+1]) == True:\n",
    "        copy.remove(copy[i])\n",
    "        copy.remove(copy[i+1])\n",
    "        print(len(copy))\n",
    "        break\n",
    "    \n",
    "        #else:\n",
    "         #   break\n",
    "            \n",
    "print(copy)"
   ]
  },
  {
   "cell_type": "code",
   "execution_count": 54,
   "metadata": {},
   "outputs": [
    {
     "name": "stdout",
     "output_type": "stream",
     "text": [
      "['{', '[', ']', '}']\n",
      "0\n",
      "1\n",
      "len : 2, spl: ['{', '}']\n",
      "2\n"
     ]
    },
    {
     "ename": "IndexError",
     "evalue": "list index out of range",
     "output_type": "error",
     "traceback": [
      "\u001b[0;31m---------------------------------------------------------------------------\u001b[0m",
      "\u001b[0;31mIndexError\u001b[0m                                Traceback (most recent call last)",
      "\u001b[0;32m<ipython-input-54-ca58cb8fd563>\u001b[0m in \u001b[0;36m<module>\u001b[0;34m\u001b[0m\n\u001b[1;32m     11\u001b[0m \u001b[0;32mfor\u001b[0m \u001b[0mi\u001b[0m \u001b[0;32min\u001b[0m \u001b[0mrange\u001b[0m\u001b[0;34m(\u001b[0m\u001b[0mlen\u001b[0m\u001b[0;34m(\u001b[0m\u001b[0mspl\u001b[0m\u001b[0;34m)\u001b[0m\u001b[0;34m-\u001b[0m\u001b[0;36m1\u001b[0m\u001b[0;34m)\u001b[0m\u001b[0;34m:\u001b[0m\u001b[0;34m\u001b[0m\u001b[0;34m\u001b[0m\u001b[0m\n\u001b[1;32m     12\u001b[0m     \u001b[0mprint\u001b[0m\u001b[0;34m(\u001b[0m\u001b[0mi\u001b[0m\u001b[0;34m)\u001b[0m\u001b[0;34m\u001b[0m\u001b[0;34m\u001b[0m\u001b[0m\n\u001b[0;32m---> 13\u001b[0;31m     \u001b[0;32mif\u001b[0m \u001b[0mequal\u001b[0m\u001b[0;34m(\u001b[0m\u001b[0mspl\u001b[0m\u001b[0;34m[\u001b[0m\u001b[0mi\u001b[0m\u001b[0;34m]\u001b[0m\u001b[0;34m,\u001b[0m\u001b[0mspl\u001b[0m\u001b[0;34m[\u001b[0m\u001b[0mi\u001b[0m\u001b[0;34m+\u001b[0m\u001b[0;36m1\u001b[0m\u001b[0;34m]\u001b[0m\u001b[0;34m)\u001b[0m \u001b[0;34m==\u001b[0m \u001b[0;32mTrue\u001b[0m\u001b[0;34m:\u001b[0m\u001b[0;34m\u001b[0m\u001b[0;34m\u001b[0m\u001b[0m\n\u001b[0m\u001b[1;32m     14\u001b[0m         \u001b[0;31m#copy.append(spl[i])\u001b[0m\u001b[0;34m\u001b[0m\u001b[0;34m\u001b[0m\u001b[0;34m\u001b[0m\u001b[0m\n\u001b[1;32m     15\u001b[0m         \u001b[0;31m#copy.append(spl[i+1])\u001b[0m\u001b[0;34m\u001b[0m\u001b[0;34m\u001b[0m\u001b[0;34m\u001b[0m\u001b[0m\n",
      "\u001b[0;31mIndexError\u001b[0m: list index out of range"
     ]
    }
   ],
   "source": [
    "s = \"{[]}\"\n",
    "spl = [ch for ch in s if ch in ['{','[',']','}','(',')']]\n",
    "print(spl)\n",
    "def equal(s1:str,s2:str):\n",
    "    if s1+s2 == \"{}\" or s1+s2 == \"[]\" or s1+s2 == \"()\":\n",
    "        return True\n",
    "    else:\n",
    "        return False\n",
    "\n",
    "copy = spl.copy()#[]\n",
    "for i in range(len(spl)-1):\n",
    "    print(i)\n",
    "    if equal(spl[i],spl[i+1]) == True:\n",
    "        #copy.append(spl[i])\n",
    "        #copy.append(spl[i+1])\n",
    "        #del copy[i:i+2]\n",
    "        del spl[i:i+2]\n",
    "        #spl.remove(spl[i])\n",
    "        #spl.remove(spl[i+1])\n",
    "        print(f\"len : {len(spl)}, spl: {spl}\") #, copy: {copy}\")\n",
    "    else:\n",
    "        pass\n",
    "print(copy)"
   ]
  },
  {
   "cell_type": "code",
   "execution_count": 47,
   "metadata": {},
   "outputs": [
    {
     "name": "stdout",
     "output_type": "stream",
     "text": [
      "[]\n"
     ]
    }
   ],
   "source": [
    "r = ['{', '}']\n",
    "del r[0:2]\n",
    "print(r)"
   ]
  },
  {
   "cell_type": "code",
   "execution_count": null,
   "metadata": {},
   "outputs": [],
   "source": []
  }
 ],
 "metadata": {
  "kernelspec": {
   "display_name": "pybase",
   "language": "python",
   "name": "pybase"
  },
  "language_info": {
   "codemirror_mode": {
    "name": "ipython",
    "version": 3
   },
   "file_extension": ".py",
   "mimetype": "text/x-python",
   "name": "python",
   "nbconvert_exporter": "python",
   "pygments_lexer": "ipython3",
   "version": "3.8.5"
  }
 },
 "nbformat": 4,
 "nbformat_minor": 4
}
