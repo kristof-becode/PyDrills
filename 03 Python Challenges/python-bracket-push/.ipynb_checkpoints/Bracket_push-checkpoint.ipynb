{
 "cells": [
  {
   "cell_type": "markdown",
   "metadata": {},
   "source": [
    "## Bracket Push"
   ]
  },
  {
   "cell_type": "markdown",
   "metadata": {},
   "source": [
    "Ensure that all the brackets and braces are matched correctly,\n",
    "and nested correctly.\n",
    "\n",
    "\"}{\" => False\n",
    "\n",
    "\"{[]([()])}\" => True"
   ]
  },
  {
   "cell_type": "markdown",
   "metadata": {},
   "source": [
    "### Algorithm"
   ]
  },
  {
   "cell_type": "code",
   "execution_count": 42,
   "metadata": {},
   "outputs": [
    {
     "name": "stdout",
     "output_type": "stream",
     "text": [
      "}{ : All the brackets and braces are NOT matched and nested correctly.\n",
      "{[]([()])} : All the brackets and braces are matched and nested correctly.\n",
      "{[)][]} : All the brackets and braces are NOT matched and nested correctly.\n",
      "{[]} : All the brackets and braces are matched and nested correctly.\n",
      "{{ : All the brackets and braces are NOT matched and nested correctly.\n",
      " : All the brackets and braces are matched and nested correctly.\n",
      "{}[] : All the brackets and braces are matched and nested correctly.\n"
     ]
    }
   ],
   "source": [
    "def bracket(s:str)->str:\n",
    "    # retain all brackets in string\n",
    "    spl = [ch for ch in s if ch in ['{','[',']','}','(',')']]\n",
    "    \n",
    "    # function to check if two adjacent chars cancel out, is necessary for all brackets to cancel out\n",
    "    def equal(s1:str,s2:str):\n",
    "        if s1+s2 == \"{}\" or s1+s2 == \"[]\" or s1+s2 == \"()\":\n",
    "            return True\n",
    "        else:\n",
    "            return False\n",
    "        \n",
    "    # try and cancel out all brackets\n",
    "    while len(spl) != 0:\n",
    "        lst = [i for i in range(len(spl)-1) if equal(spl[i],spl[i+1])]\n",
    "        if lst != []: # delete two adjacent brackets that cancel out from list\n",
    "            del spl[lst[0]:lst[0]+2]\n",
    "        else: # break whenever no more brackets next to each other cancel out\n",
    "            print(f\"{s} : All the brackets and braces are NOT matched and nested correctly.\")\n",
    "            break       \n",
    "    else: # lst = []; in this case all brackets cancelled out\n",
    "        print(f\"{s} : All the brackets and braces are matched and nested correctly.\")\n",
    "\n",
    "bracket(\"}{\") # false\n",
    "bracket(\"{[]([()])}\") # true\n",
    "bracket(\"{[)][]}\") # false\n",
    "bracket(\"{[]}\") # true\n",
    "bracket(\"{{\") # false\n",
    "bracket(\"\") #true\n",
    "bracket(\"{}[]\") # true\n"
   ]
  },
  {
   "cell_type": "markdown",
   "metadata": {},
   "source": [
    "### Experimentation"
   ]
  },
  {
   "cell_type": "code",
   "execution_count": 18,
   "metadata": {},
   "outputs": [
    {
     "name": "stdout",
     "output_type": "stream",
     "text": [
      "['{', '[', ']', '}']\n"
     ]
    }
   ],
   "source": [
    "s = \"{[]}\"\n",
    "spl = [ch for ch in s if ch in ['{','[',']','}','(',')']]\n",
    "print(spl)"
   ]
  },
  {
   "cell_type": "code",
   "execution_count": 2,
   "metadata": {},
   "outputs": [],
   "source": [
    "def equal(s1:str,s2:str):\n",
    "    if s1+s2 == \"{}\" or s1+s2 == \"[]\" or s1+s2 == \"()\":\n",
    "        return True\n",
    "    else:\n",
    "        return False"
   ]
  },
  {
   "cell_type": "code",
   "execution_count": 47,
   "metadata": {},
   "outputs": [
    {
     "name": "stdout",
     "output_type": "stream",
     "text": [
      "[]\n"
     ]
    }
   ],
   "source": [
    "r = ['{', '}']\n",
    "del r[0:2]\n",
    "print(r)"
   ]
  },
  {
   "cell_type": "code",
   "execution_count": 35,
   "metadata": {},
   "outputs": [
    {
     "name": "stdout",
     "output_type": "stream",
     "text": [
      "['{', '[', '{', ']', '}']\n",
      "[]\n",
      "All the brackets and braces are matched and nested correctly.\n",
      "final: ['{', '[', '{', ']', '}']\n"
     ]
    }
   ],
   "source": [
    "s = \"{[{]}\"\n",
    "spl = [ch for ch in s if ch in ['{','[',']','}','(',')']]\n",
    "print(spl)\n",
    "def equal(s1:str,s2:str):\n",
    "    if s1+s2 == \"{}\" or s1+s2 == \"[]\" or s1+s2 == \"()\":\n",
    "        return True\n",
    "    else:\n",
    "        return False\n",
    "\n",
    "while len(spl) != 0:\n",
    "    lst = [i for i in range(len(spl)-1) if equal(spl[i],spl[i+1])]\n",
    "    print(lst)\n",
    "    if lst != []:\n",
    "        del spl[lst[0]:lst[0]+2]\n",
    "    else:\n",
    "        break\n",
    "        print(f\"All the brackets and braces are NOT matched and nested correctly.\")\n",
    "if lst == []:\n",
    "    print(f\"All the brackets and braces are matched and nested correctly.\")\n",
    "print(f\"final: {spl}\")\n"
   ]
  },
  {
   "cell_type": "code",
   "execution_count": null,
   "metadata": {},
   "outputs": [],
   "source": []
  }
 ],
 "metadata": {
  "kernelspec": {
   "display_name": "pybase",
   "language": "python",
   "name": "pybase"
  },
  "language_info": {
   "codemirror_mode": {
    "name": "ipython",
    "version": 3
   },
   "file_extension": ".py",
   "mimetype": "text/x-python",
   "name": "python",
   "nbconvert_exporter": "python",
   "pygments_lexer": "ipython3",
   "version": "3.8.5"
  }
 },
 "nbformat": 4,
 "nbformat_minor": 4
}
