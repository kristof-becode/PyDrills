{
 "cells": [
  {
   "cell_type": "markdown",
   "metadata": {},
   "source": [
    "## OCR"
   ]
  },
  {
   "cell_type": "markdown",
   "metadata": {},
   "source": [
    "#### Step 1\n",
    "\n",
    "A simple binary font has been constructed using only pipes and\n",
    "underscores.\n",
    "\n",
    "The number is four rows high, three columns wide:\n",
    "\n",
    "     _   #\n",
    "    | |  # zero.\n",
    "    |_|  #\n",
    "         # the fourth row is always blank\n",
    "\n",
    "         #\n",
    "      |  # one.\n",
    "      |  #\n",
    "         # (blank fourth row)\n",
    "\n",
    "Write a program that, given a 3 x 4 grid of pipes, underscores, and\n",
    "spaces, can determine whether the the grid represents a zero, a one, or\n",
    "garble.\n",
    "\n",
    "Anything else is considered garble, and can be represented with a '?'\n",
    "\n",
    "#### Step 2\n",
    "\n",
    "A simple numeric font has been constructed using only pipes and\n",
    "underscores.\n",
    "\n",
    "The number consists of four rows high, three columns wide:\n",
    "\n",
    "      _  _     _  _  _  _  _  _  #\n",
    "    | _| _||_||_ |_   ||_||_|| | # decimal numbers.\n",
    "    ||_  _|  | _||_|  ||_| _||_| #\n",
    "                                 # fourth line is always blank\n",
    "\n",
    "There may be several numbers in the input text, one per line."
   ]
  },
  {
   "cell_type": "markdown",
   "metadata": {},
   "source": [
    "### Algorithm"
   ]
  },
  {
   "cell_type": "code",
   "execution_count": null,
   "metadata": {},
   "outputs": [],
   "source": []
  },
  {
   "cell_type": "markdown",
   "metadata": {},
   "source": [
    "### Experimentation"
   ]
  },
  {
   "cell_type": "code",
   "execution_count": 1,
   "metadata": {},
   "outputs": [
    {
     "data": {
      "text/plain": [
       "'               '"
      ]
     },
     "execution_count": 1,
     "metadata": {},
     "output_type": "execute_result"
    }
   ],
   "source": [
    "\"    _  _     _ \",\n",
    "\"  | _| _||_||_ \",\n",
    "\"  ||_  _|  | _|\",\n",
    "\"               \""
   ]
  },
  {
   "cell_type": "code",
   "execution_count": 2,
   "metadata": {},
   "outputs": [],
   "source": [
    "inp = [\"    _  _     _ \", \"  | _| _||_||_ \", \"  ||_  _|  | _|\",  \"               \"]"
   ]
  },
  {
   "cell_type": "markdown",
   "metadata": {},
   "source": [
    "#### check valid input"
   ]
  },
  {
   "cell_type": "code",
   "execution_count": 3,
   "metadata": {},
   "outputs": [],
   "source": [
    "# check valid input\n",
    "#len list el are equal\n",
    "#only - and |\n",
    "# last list el = 8*' '\n",
    "# len list ele is multiple of 3\n",
    "# first ele = only -\n",
    "# and only valid numbers found in grid => correction print not correct character as '?'"
   ]
  },
  {
   "cell_type": "code",
   "execution_count": 4,
   "metadata": {},
   "outputs": [
    {
     "name": "stdout",
     "output_type": "stream",
     "text": [
      "Valid input\n"
     ]
    }
   ],
   "source": [
    "if len(inp) == 4 and len(set([len(item) for item in inp]))==1 \\\n",
    "and list(set([len(item) for item in inp]))[0] % 3 == 0 and set(inp[0]) in [{'_'},{' '},{' ', '_'},{'_',' '}] \\\n",
    "and set(inp[-1])=={' '}:\n",
    "    print(f\"Valid input\")"
   ]
  },
  {
   "cell_type": "code",
   "execution_count": 5,
   "metadata": {},
   "outputs": [
    {
     "name": "stdout",
     "output_type": "stream",
     "text": [
      "{15}\n"
     ]
    }
   ],
   "source": [
    "print(set([len(item) for item in inp]))"
   ]
  },
  {
   "cell_type": "code",
   "execution_count": 6,
   "metadata": {},
   "outputs": [
    {
     "ename": "TypeError",
     "evalue": "'set' object is not subscriptable",
     "output_type": "error",
     "traceback": [
      "\u001b[0;31m---------------------------------------------------------------------------\u001b[0m",
      "\u001b[0;31mTypeError\u001b[0m                                 Traceback (most recent call last)",
      "\u001b[0;32m<ipython-input-6-bfb88b6602ce>\u001b[0m in \u001b[0;36m<module>\u001b[0;34m\u001b[0m\n\u001b[1;32m      1\u001b[0m \u001b[0mu\u001b[0m \u001b[0;34m=\u001b[0m \u001b[0mset\u001b[0m\u001b[0;34m(\u001b[0m\u001b[0;34m[\u001b[0m\u001b[0mlen\u001b[0m\u001b[0;34m(\u001b[0m\u001b[0mitem\u001b[0m\u001b[0;34m)\u001b[0m \u001b[0;32mfor\u001b[0m \u001b[0mitem\u001b[0m \u001b[0;32min\u001b[0m \u001b[0minp\u001b[0m\u001b[0;34m]\u001b[0m\u001b[0;34m)\u001b[0m\u001b[0;34m\u001b[0m\u001b[0;34m\u001b[0m\u001b[0m\n\u001b[0;32m----> 2\u001b[0;31m \u001b[0mprint\u001b[0m\u001b[0;34m(\u001b[0m\u001b[0mu\u001b[0m\u001b[0;34m[\u001b[0m\u001b[0;36m0\u001b[0m\u001b[0;34m]\u001b[0m\u001b[0;34m)\u001b[0m\u001b[0;34m\u001b[0m\u001b[0;34m\u001b[0m\u001b[0m\n\u001b[0m\u001b[1;32m      3\u001b[0m \u001b[0;31m# make set into list instead (contains one element)\u001b[0m\u001b[0;34m\u001b[0m\u001b[0;34m\u001b[0m\u001b[0;34m\u001b[0m\u001b[0m\n",
      "\u001b[0;31mTypeError\u001b[0m: 'set' object is not subscriptable"
     ]
    }
   ],
   "source": [
    "u = set([len(item) for item in inp])\n",
    "print(u[0])\n",
    "# make set into list instead (contains one element)"
   ]
  },
  {
   "cell_type": "markdown",
   "metadata": {},
   "source": [
    "#### Create digit sublists; 4 sublists for every line of length 3 stands for one digit => see how many of these you have"
   ]
  },
  {
   "cell_type": "code",
   "execution_count": 7,
   "metadata": {},
   "outputs": [
    {
     "name": "stdout",
     "output_type": "stream",
     "text": [
      "5\n"
     ]
    }
   ],
   "source": [
    "# amount of multiples of 3 equals number of digits\n",
    "num = int(list(set([len(item) for item in inp]))[0] / 3)\n",
    "print(num)"
   ]
  },
  {
   "cell_type": "code",
   "execution_count": 8,
   "metadata": {},
   "outputs": [
    {
     "name": "stdout",
     "output_type": "stream",
     "text": [
      "15\n"
     ]
    }
   ],
   "source": [
    "l = int(list(set([len(item) for item in inp]))[0])\n",
    "print(l)"
   ]
  },
  {
   "cell_type": "code",
   "execution_count": 32,
   "metadata": {},
   "outputs": [
    {
     "name": "stdout",
     "output_type": "stream",
     "text": [
      "   \n",
      "  |\n",
      "  |\n",
      "   \n",
      " _ \n",
      " _|\n",
      "|_ \n",
      "   \n",
      " _ \n",
      " _|\n",
      " _|\n",
      "   \n",
      "   \n",
      "|_|\n",
      "  |\n",
      "   \n",
      " _ \n",
      "|_ \n",
      " _|\n",
      "   \n",
      "[['   ', '  |', '  |', '   '], [' _ ', ' _|', '|_ ', '   '], [' _ ', ' _|', ' _|', '   '], ['   ', '|_|', '  |', '   '], [' _ ', '|_ ', ' _|', '   ']]\n"
     ]
    }
   ],
   "source": [
    "ocr = []\n",
    "d = []\n",
    "for i in range(num):\n",
    "    for item in inp:\n",
    "        #ocr[i] = item[i*3:3+i*3]\n",
    "        d.append(item[i*3:3+i*3])\n",
    "        print(item[i*3:3+i*3])\n",
    "    ocr.append(d)\n",
    "    d = []\n",
    "print(ocr)"
   ]
  },
  {
   "cell_type": "code",
   "execution_count": 10,
   "metadata": {},
   "outputs": [
    {
     "name": "stdout",
     "output_type": "stream",
     "text": [
      "   \n",
      "  |\n",
      "  |\n",
      "   \n",
      " _ \n",
      " _|\n",
      "|_ \n",
      "   \n",
      " _ \n",
      " _|\n",
      " _|\n",
      "   \n",
      "   \n",
      "|_|\n",
      "  |\n",
      "   \n",
      " _ \n",
      "|_ \n",
      " _|\n",
      "   \n"
     ]
    }
   ],
   "source": [
    "for item in ocr: \n",
    "    for i in item:\n",
    "        print(i)"
   ]
  },
  {
   "cell_type": "markdown",
   "metadata": {},
   "source": [
    "#### Conditionals to select digits"
   ]
  },
  {
   "cell_type": "code",
   "execution_count": 35,
   "metadata": {},
   "outputs": [
    {
     "name": "stdout",
     "output_type": "stream",
     "text": [
      " _ \n",
      " _|\n",
      "|_ \n",
      "   \n",
      " _ \n",
      " _|\n",
      " _|\n",
      "   \n",
      " _ \n",
      "|_ \n",
      " _|\n",
      "   \n"
     ]
    }
   ],
   "source": [
    "# with all horizontal -\n",
    "for item in ocr:\n",
    "    if all(i[1] == '_' for i in item[:3]):\n",
    "        for i in item:\n",
    "            print(i)"
   ]
  },
  {
   "cell_type": "code",
   "execution_count": 56,
   "metadata": {},
   "outputs": [
    {
     "name": "stdout",
     "output_type": "stream",
     "text": [
      "1\n",
      "2\n",
      "3\n",
      "1\n",
      "5\n"
     ]
    }
   ],
   "source": [
    "# with all horizontal - : 2,3,5,6,8,9\n",
    "for item in ocr:\n",
    "    if all(i[1] == '_' for i in item[:3]):\n",
    "        if all(i[0] == '|' and i[2] == '|' for i in item[1:3]): # 8\n",
    "            n = 8\n",
    "        elif (item[1][2] == '|' and item[2][0] == '|'): # 2\n",
    "            n = 2\n",
    "        elif (item[1][0] == '|' and item[2][2] == '|'): # 5\n",
    "            n = 5\n",
    "        elif all(i[0] == '|' for i in item[1:3]) and (item[2][2] == '|'): # 6\n",
    "            n = 6\n",
    "        elif all(i[2] == '|' for i in item[1:3]): # 3\n",
    "            n = 3\n",
    "        #elif all(i[0] == '|' for i in item[1:3]) and (item[2][2] == '|'): # 9\n",
    "            \n",
    "        else: # 9 \n",
    "            n = 9\n",
    "    elif all(i[0] == '|' and i[2] == '|' for i in item[1:3]) and item[0][1] == '_' and item[2][1] == '_' : # 0\n",
    "        n = 0\n",
    "    elif item[1][2] == '|' and item[2][2] == '|': # 1\n",
    "        n = 1\n",
    "    elif (item[1][2] == '|' and item[2][2] == '|' and item[0][1] == '_'):   # 7\n",
    "        n = 7\n",
    "    elif (item[1][2] == '|' and item[2][2] == '|' and item[1][0] == '|' and item[1][1] == '_' ):       # 4\n",
    "        n = 4\n",
    "        #for i in item:\n",
    "            #print(i)\n",
    "    else:\n",
    "          n = '?'\n",
    "    print(n)"
   ]
  },
  {
   "cell_type": "markdown",
   "metadata": {},
   "source": [
    "#### check for all digits"
   ]
  },
  {
   "cell_type": "code",
   "execution_count": 64,
   "metadata": {},
   "outputs": [],
   "source": [
    "digi = [\" _     _  _  _     _  _  _  _ \",\n",
    "        \" _|  ||_||_ |_ |_|  | _||_|| |\",\n",
    "        \" _|  ||_||_| _|  |  ||_  _||_|\",\n",
    "        \"                              \"]"
   ]
  },
  {
   "cell_type": "code",
   "execution_count": 61,
   "metadata": {},
   "outputs": [
    {
     "name": "stdout",
     "output_type": "stream",
     "text": [
      "10\n"
     ]
    }
   ],
   "source": [
    "# amount of multiples of 3 equals number of digits\n",
    "num = int(list(set([len(item) for item in digi]))[0] / 3)\n",
    "print(num)"
   ]
  },
  {
   "cell_type": "code",
   "execution_count": 62,
   "metadata": {},
   "outputs": [
    {
     "name": "stdout",
     "output_type": "stream",
     "text": [
      " _ \n",
      " _|\n",
      " _|\n",
      "   \n",
      "   \n",
      "  |\n",
      "  |\n",
      "   \n",
      " _ \n",
      "|_|\n",
      "|_|\n",
      "   \n",
      " _ \n",
      "|_ \n",
      "|_|\n",
      "   \n",
      " _ \n",
      "|_ \n",
      " _|\n",
      "   \n",
      "   \n",
      "|_|\n",
      "  |\n",
      "   \n",
      " _ \n",
      "  |\n",
      "  |\n",
      "   \n",
      " _ \n",
      " _|\n",
      "|_ \n",
      "   \n",
      " _ \n",
      "|_|\n",
      " _|\n",
      "   \n",
      " _ \n",
      "| |\n",
      "|_|\n",
      "   \n",
      "[[' _ ', ' _|', ' _|', '   '], ['   ', '  |', '  |', '   '], [' _ ', '|_|', '|_|', '   '], [' _ ', '|_ ', '|_|', '   '], [' _ ', '|_ ', ' _|', '   '], ['   ', '|_|', '  |', '   '], [' _ ', '  |', '  |', '   '], [' _ ', ' _|', '|_ ', '   '], [' _ ', '|_|', ' _|', '   '], [' _ ', '| |', '|_|', '   ']]\n"
     ]
    }
   ],
   "source": [
    "ocr = []\n",
    "d = []\n",
    "for i in range(num):\n",
    "    for item in digi:\n",
    "        d.append(item[i*3:3+i*3])\n",
    "        print(item[i*3:3+i*3])\n",
    "    ocr.append(d)\n",
    "    d = []\n",
    "print(ocr)"
   ]
  },
  {
   "cell_type": "code",
   "execution_count": 65,
   "metadata": {},
   "outputs": [
    {
     "name": "stdout",
     "output_type": "stream",
     "text": [
      "3\n",
      "1\n",
      "8\n",
      "5\n",
      "5\n",
      "4\n",
      "7\n",
      "2\n",
      "5\n",
      "0\n"
     ]
    }
   ],
   "source": [
    "for item in ocr:\n",
    "    if all(i[1] == '_' for i in item[:3]):\n",
    "        if all(i[0] == '|' and i[2] == '|' for i in item[1:3]): # 8\n",
    "            n = 8\n",
    "        elif (item[1][2] == '|' and item[2][0] == '|'): # 2\n",
    "            n = 2\n",
    "        elif (item[1][0] == '|' and item[2][2] == '|'): # 5\n",
    "            n = 5\n",
    "        elif all(i[0] == '|' for i in item[1:3]) and (item[2][2] == '|'): # 6\n",
    "            n = 6\n",
    "        elif all(i[2] == '|' for i in item[1:3]): # 3\n",
    "            n = 3\n",
    "        #elif all(i[0] == '|' for i in item[1:3]) and (item[2][2] == '|'): # 9\n",
    "            \n",
    "        else: # 9 \n",
    "            n = 9\n",
    "    elif all(i[0] == '|' and i[2] == '|' for i in item[1:3]) and item[0][1] == '_' and item[2][1] == '_' : # 0\n",
    "        n = 0\n",
    "    elif (item[1][2] == '|' and item[2][2] == '|' and item[0][1] == '_'):   # 7\n",
    "        n = 7\n",
    "    elif (item[1][2] == '|' and item[2][2] == '|' and item[1][0] == '|' and item[1][1] == '_' ):       # 4\n",
    "        n = 4\n",
    "        #for i in item:\n",
    "            #print(i)\n",
    "    elif item[1][2] == '|' and item[2][2] == '|': # 1\n",
    "        n = 1\n",
    "    else:\n",
    "          n = '?'\n",
    "    print(n)"
   ]
  },
  {
   "cell_type": "code",
   "execution_count": null,
   "metadata": {},
   "outputs": [],
   "source": []
  }
 ],
 "metadata": {
  "kernelspec": {
   "display_name": "pybase",
   "language": "python",
   "name": "pybase"
  },
  "language_info": {
   "codemirror_mode": {
    "name": "ipython",
    "version": 3
   },
   "file_extension": ".py",
   "mimetype": "text/x-python",
   "name": "python",
   "nbconvert_exporter": "python",
   "pygments_lexer": "ipython3",
   "version": "3.8.5"
  }
 },
 "nbformat": 4,
 "nbformat_minor": 4
}
