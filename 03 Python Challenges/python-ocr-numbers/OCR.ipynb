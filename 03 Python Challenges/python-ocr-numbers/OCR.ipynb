{
 "cells": [
  {
   "cell_type": "markdown",
   "metadata": {},
   "source": [
    "## OCR"
   ]
  },
  {
   "cell_type": "markdown",
   "metadata": {},
   "source": [
    "#### Step 1\n",
    "\n",
    "A simple binary font has been constructed using only pipes and\n",
    "underscores.\n",
    "\n",
    "The number is four rows high, three columns wide:\n",
    "\n",
    "     _   #\n",
    "    | |  # zero.\n",
    "    |_|  #\n",
    "         # the fourth row is always blank\n",
    "\n",
    "         #\n",
    "      |  # one.\n",
    "      |  #\n",
    "         # (blank fourth row)\n",
    "\n",
    "Write a program that, given a 3 x 4 grid of pipes, underscores, and\n",
    "spaces, can determine whether the the grid represents a zero, a one, or\n",
    "garble.\n",
    "\n",
    "Anything else is considered garble, and can be represented with a '?'\n",
    "\n",
    "#### Step 2\n",
    "\n",
    "A simple numeric font has been constructed using only pipes and\n",
    "underscores.\n",
    "\n",
    "The number consists of four rows high, three columns wide:\n",
    "\n",
    "      _  _     _  _  _  _  _  _  #\n",
    "    | _| _||_||_ |_   ||_||_|| | # decimal numbers.\n",
    "    ||_  _|  | _||_|  ||_| _||_| #\n",
    "                                 # fourth line is always blank\n",
    "\n",
    "There may be several numbers in the input text, one per line."
   ]
  },
  {
   "cell_type": "markdown",
   "metadata": {},
   "source": [
    "### Algorithm"
   ]
  },
  {
   "cell_type": "code",
   "execution_count": 25,
   "metadata": {},
   "outputs": [
    {
     "name": "stdout",
     "output_type": "stream",
     "text": [
      "0\n",
      "0010110\n",
      "4815162342\n",
      "3186547290\n",
      "12?45\n",
      "Invalid input\n",
      "Invalid input\n",
      "?\n",
      "????162342\n"
     ]
    }
   ],
   "source": [
    "def ocr(inp:list)->str:\n",
    "    # create variables to simplify input validity conditional\n",
    "    same_length = len(set([len(item) for item in inp])) # lengths of input items, should be all same, hence 1\n",
    "    length = list(set([len(item) for item in inp]))[0] # the length of items, there should be only one length\n",
    "    \n",
    "    # check validity input: there should be 4 items, of equal length, that length should be a multiple of 3\n",
    "    # and the first item can only contain whitespace or \"_\" and last item only whitespace\n",
    "    if len(inp) == 4 and same_length == 1 and length % 3 == 0 and all(i in [' ', '_' ] for i in inp[0]) \\\n",
    "    and set(inp[-1])=={' '}:\n",
    "        # amount of multiples of 3 equals number of digits\n",
    "        num = int(length / 3)\n",
    "        # create list ocr with seperated digits\n",
    "        ocr = []\n",
    "        d = []\n",
    "        for i in range(num):\n",
    "            for item in inp:\n",
    "                d.append(item[i*3:3+i*3])\n",
    "            ocr.append(d)\n",
    "            d = []\n",
    "        # conditionals to recognize digits 0-9\n",
    "        digits = ''\n",
    "        for item in ocr:\n",
    "            if item[0] == ' _ ' and item[1] == '| |' and item[2] =='|_|':\n",
    "                n = '0'\n",
    "            elif item[0] == '   ' and item[1] == '  |' and item[2] == '  |' :\n",
    "                n = '1'\n",
    "            elif item[0] == ' _ ' and item[1] == ' _|' and item[2] == '|_ ' :\n",
    "                n = '2'\n",
    "            elif item[0] == ' _ ' and item[1] == ' _|' and item[2] == ' _|' :\n",
    "                n = '3'\n",
    "            elif item[0] == '   ' and item[1] == '|_|' and item[2] == '  |' :\n",
    "                n = '4'\n",
    "            elif item[0] == ' _ ' and item[1] == '|_ ' and item[2] == ' _|' :\n",
    "                n = '5'\n",
    "            elif item[0] == ' _ ' and item[1] == '|_ ' and item[2] == '|_|' :\n",
    "                n = '6'\n",
    "            elif item[0] == ' _ ' and item[1] == '  |' and item[2] == '  |' :\n",
    "                n = '7'\n",
    "            elif item[0] == ' _ ' and item[1] == '|_|' and item[2] == '|_|' :\n",
    "                n = '8'\n",
    "            elif item[0] == ' _ ' and item[1] == '|_|' and item[2] == ' _|' :\n",
    "                n = '9'\n",
    "            else:\n",
    "                  n = '?'\n",
    "            digits += n\n",
    "        print(digits)\n",
    "    else:\n",
    "        print(f\"Invalid input\")\n",
    "    \n",
    "ocr([\" _ \",\n",
    "     \"| |\",\n",
    "     \"|_|\",\n",
    "     \"   \"])\n",
    "ocr([\" _  _     _        _ \",\n",
    "     \"| || |  || |  |  || |\",\n",
    "     \"|_||_|  ||_|  |  ||_|\",\n",
    "     \"                     \"])\n",
    "ocr([\"    _     _     _  _  _     _ \",\n",
    "     \"|_||_|  ||_   ||_  _| _||_| _|\",\n",
    "     \"  ||_|  | _|  ||_||_  _|  ||_ \",\n",
    "     \"                              \"])\n",
    "ocr([\" _     _  _  _     _  _  _  _ \",\n",
    "     \" _|  ||_||_ |_ |_|  | _||_|| |\",\n",
    "     \" _|  ||_||_| _|  |  ||_  _||_|\",\n",
    "     \"                              \"])\n",
    "ocr([\"    _  _     _ \",\n",
    "     \"  | _|  ||_||_ \",\n",
    "     \"  ||_  _|  | _|\",\n",
    "     \"               \"])\n",
    "ocr([\"   \",\n",
    "     \" _|\",\n",
    "     \" X|\"])\n",
    "ocr([\"   \",\n",
    "     \"  |\",\n",
    "     \"  |\",\n",
    "     \"| |\"])\n",
    "ocr([\" _ \",\n",
    "     \" _|\",\n",
    "     \"  |\",\n",
    "     \"   \"])\n",
    "ocr([\"    _     _     _  _  _     _ \",\n",
    "     \"| ||_|  ||    ||_  _| _||_| _|\",\n",
    "     \"  || |    _|  ||_||_  _|  ||_ \",\n",
    "     \"                              \"])"
   ]
  },
  {
   "cell_type": "markdown",
   "metadata": {},
   "source": [
    "### Experimentation"
   ]
  },
  {
   "cell_type": "code",
   "execution_count": 6,
   "metadata": {},
   "outputs": [
    {
     "data": {
      "text/plain": [
       "'               '"
      ]
     },
     "execution_count": 6,
     "metadata": {},
     "output_type": "execute_result"
    }
   ],
   "source": [
    "\"    _  _     _ \",\n",
    "\"  | _| _||_||_ \",\n",
    "\"  ||_  _|  | _|\",\n",
    "\"               \""
   ]
  },
  {
   "cell_type": "code",
   "execution_count": 7,
   "metadata": {},
   "outputs": [],
   "source": [
    "inp = [\"    _  _     _ \", \"  | _| _||_||_ \", \"  ||_  _|  | _|\",  \"               \"]"
   ]
  },
  {
   "cell_type": "markdown",
   "metadata": {},
   "source": [
    "#### check valid input"
   ]
  },
  {
   "cell_type": "code",
   "execution_count": 3,
   "metadata": {},
   "outputs": [],
   "source": [
    "# check valid input\n",
    "#len list el are equal\n",
    "#only - and |\n",
    "# last list el = 8*' '\n",
    "# len list ele is multiple of 3\n",
    "# first ele = only -\n",
    "# and only valid numbers found in grid => correction print not correct character as '?'"
   ]
  },
  {
   "cell_type": "code",
   "execution_count": 8,
   "metadata": {},
   "outputs": [
    {
     "name": "stdout",
     "output_type": "stream",
     "text": [
      "Valid input\n"
     ]
    }
   ],
   "source": [
    "if len(inp) == 4 and len(set([len(item) for item in inp]))==1 \\\n",
    "and list(set([len(item) for item in inp]))[0] % 3 == 0 and set(inp[0]) in [{'_'},{' '},{' ', '_'},{'_',' '}] \\\n",
    "and set(inp[-1])=={' '}:\n",
    "    print(f\"Valid input\")"
   ]
  },
  {
   "cell_type": "code",
   "execution_count": 9,
   "metadata": {},
   "outputs": [
    {
     "name": "stdout",
     "output_type": "stream",
     "text": [
      "{15}\n"
     ]
    }
   ],
   "source": [
    "print(set([len(item) for item in inp]))"
   ]
  },
  {
   "cell_type": "markdown",
   "metadata": {},
   "source": [
    "#### Create digit sublists; 4 sublists for every line of length 3 stands for one digit => see how many of these you have"
   ]
  },
  {
   "cell_type": "code",
   "execution_count": 11,
   "metadata": {},
   "outputs": [
    {
     "name": "stdout",
     "output_type": "stream",
     "text": [
      "5\n"
     ]
    }
   ],
   "source": [
    "# amount of multiples of 3 equals number of digits\n",
    "num = int(list(set([len(item) for item in inp]))[0] / 3)\n",
    "print(num)"
   ]
  },
  {
   "cell_type": "code",
   "execution_count": 12,
   "metadata": {},
   "outputs": [
    {
     "name": "stdout",
     "output_type": "stream",
     "text": [
      "15\n"
     ]
    }
   ],
   "source": [
    "l = int(list(set([len(item) for item in inp]))[0])\n",
    "print(l)"
   ]
  },
  {
   "cell_type": "code",
   "execution_count": 13,
   "metadata": {},
   "outputs": [
    {
     "name": "stdout",
     "output_type": "stream",
     "text": [
      "   \n",
      "  |\n",
      "  |\n",
      "   \n",
      " _ \n",
      " _|\n",
      "|_ \n",
      "   \n",
      " _ \n",
      " _|\n",
      " _|\n",
      "   \n",
      "   \n",
      "|_|\n",
      "  |\n",
      "   \n",
      " _ \n",
      "|_ \n",
      " _|\n",
      "   \n",
      "[['   ', '  |', '  |', '   '], [' _ ', ' _|', '|_ ', '   '], [' _ ', ' _|', ' _|', '   '], ['   ', '|_|', '  |', '   '], [' _ ', '|_ ', ' _|', '   ']]\n"
     ]
    }
   ],
   "source": [
    "ocr = []\n",
    "d = []\n",
    "for i in range(num):\n",
    "    for item in inp:\n",
    "        #ocr[i] = item[i*3:3+i*3]\n",
    "        d.append(item[i*3:3+i*3])\n",
    "        print(item[i*3:3+i*3])\n",
    "    ocr.append(d)\n",
    "    d = []\n",
    "print(ocr)"
   ]
  },
  {
   "cell_type": "code",
   "execution_count": 14,
   "metadata": {},
   "outputs": [
    {
     "name": "stdout",
     "output_type": "stream",
     "text": [
      "   \n",
      "  |\n",
      "  |\n",
      "   \n",
      " _ \n",
      " _|\n",
      "|_ \n",
      "   \n",
      " _ \n",
      " _|\n",
      " _|\n",
      "   \n",
      "   \n",
      "|_|\n",
      "  |\n",
      "   \n",
      " _ \n",
      "|_ \n",
      " _|\n",
      "   \n"
     ]
    }
   ],
   "source": [
    "for item in ocr: \n",
    "    for i in item:\n",
    "        print(i)"
   ]
  },
  {
   "cell_type": "markdown",
   "metadata": {},
   "source": [
    "#### Conditionals to select digits"
   ]
  },
  {
   "cell_type": "code",
   "execution_count": 15,
   "metadata": {},
   "outputs": [
    {
     "name": "stdout",
     "output_type": "stream",
     "text": [
      " _ \n",
      " _|\n",
      "|_ \n",
      "   \n",
      " _ \n",
      " _|\n",
      " _|\n",
      "   \n",
      " _ \n",
      "|_ \n",
      " _|\n",
      "   \n"
     ]
    }
   ],
   "source": [
    "# digits with all horizontal -\n",
    "for item in ocr:\n",
    "    if all(i[1] == '_' for i in item[:3]):\n",
    "        for i in item:\n",
    "            print(i)"
   ]
  },
  {
   "cell_type": "code",
   "execution_count": 17,
   "metadata": {},
   "outputs": [],
   "source": [
    "digi = [\" _     _  _  _     _  _  _  _ \",\n",
    "        \" _|  ||_||_ |_ |_|  | _||_|| |\",\n",
    "        \" _|  ||_||_| _|  |  ||_  _||_|\",\n",
    "        \"                              \"]"
   ]
  },
  {
   "cell_type": "code",
   "execution_count": 18,
   "metadata": {},
   "outputs": [
    {
     "name": "stdout",
     "output_type": "stream",
     "text": [
      "10\n"
     ]
    }
   ],
   "source": [
    "# amount of multiples of 3 equals number of digits\n",
    "num = int(list(set([len(item) for item in digi]))[0] / 3)\n",
    "print(num)"
   ]
  },
  {
   "cell_type": "code",
   "execution_count": 19,
   "metadata": {},
   "outputs": [
    {
     "name": "stdout",
     "output_type": "stream",
     "text": [
      " _ \n",
      " _|\n",
      " _|\n",
      "   \n",
      "   \n",
      "  |\n",
      "  |\n",
      "   \n",
      " _ \n",
      "|_|\n",
      "|_|\n",
      "   \n",
      " _ \n",
      "|_ \n",
      "|_|\n",
      "   \n",
      " _ \n",
      "|_ \n",
      " _|\n",
      "   \n",
      "   \n",
      "|_|\n",
      "  |\n",
      "   \n",
      " _ \n",
      "  |\n",
      "  |\n",
      "   \n",
      " _ \n",
      " _|\n",
      "|_ \n",
      "   \n",
      " _ \n",
      "|_|\n",
      " _|\n",
      "   \n",
      " _ \n",
      "| |\n",
      "|_|\n",
      "   \n",
      "[[' _ ', ' _|', ' _|', '   '], ['   ', '  |', '  |', '   '], [' _ ', '|_|', '|_|', '   '], [' _ ', '|_ ', '|_|', '   '], [' _ ', '|_ ', ' _|', '   '], ['   ', '|_|', '  |', '   '], [' _ ', '  |', '  |', '   '], [' _ ', ' _|', '|_ ', '   '], [' _ ', '|_|', ' _|', '   '], [' _ ', '| |', '|_|', '   ']]\n"
     ]
    }
   ],
   "source": [
    "ocr = []\n",
    "d = []\n",
    "for i in range(num):\n",
    "    for item in digi:\n",
    "        d.append(item[i*3:3+i*3])\n",
    "        print(item[i*3:3+i*3])\n",
    "    ocr.append(d)\n",
    "    d = []\n",
    "print(ocr)"
   ]
  },
  {
   "cell_type": "code",
   "execution_count": 20,
   "metadata": {},
   "outputs": [
    {
     "name": "stdout",
     "output_type": "stream",
     "text": [
      "3\n",
      "1\n",
      "8\n",
      "5\n",
      "5\n",
      "4\n",
      "7\n",
      "2\n",
      "5\n",
      "0\n"
     ]
    }
   ],
   "source": [
    "for item in ocr:\n",
    "    if all(i[1] == '_' for i in item[:3]):\n",
    "        if all(i[0] == '|' and i[2] == '|' for i in item[1:3]): # 8\n",
    "            n = 8\n",
    "        elif (item[1][2] == '|' and item[2][0] == '|'): # 2\n",
    "            n = 2\n",
    "        elif (item[1][0] == '|' and item[2][2] == '|'): # 5\n",
    "            n = 5\n",
    "        elif all(i[0] == '|' for i in item[1:3]) and (item[2][2] == '|'): # 6\n",
    "            n = 6\n",
    "        elif all(i[2] == '|' for i in item[1:3]): # 3\n",
    "            n = 3\n",
    "        #elif all(i[0] == '|' for i in item[1:3]) and (item[2][2] == '|'): # 9\n",
    "            \n",
    "        else: # 9 \n",
    "            n = 9\n",
    "    elif all(i[0] == '|' and i[2] == '|' for i in item[1:3]) and item[0][1] == '_' and item[2][1] == '_' : # 0\n",
    "        n = 0\n",
    "    elif (item[1][2] == '|' and item[2][2] == '|' and item[0][1] == '_'):   # 7\n",
    "        n = 7\n",
    "    elif (item[1][2] == '|' and item[2][2] == '|' and item[1][0] == '|' and item[1][1] == '_' ):       # 4\n",
    "        n = 4\n",
    "        #for i in item:\n",
    "            #print(i)\n",
    "    elif item[1][2] == '|' and item[2][2] == '|': # 1\n",
    "        n = 1\n",
    "    else:\n",
    "          n = '?'\n",
    "    print(n)"
   ]
  },
  {
   "cell_type": "code",
   "execution_count": 21,
   "metadata": {},
   "outputs": [
    {
     "name": "stdout",
     "output_type": "stream",
     "text": [
      "3\n",
      "1\n",
      "8\n",
      "6\n",
      "5\n",
      "4\n",
      "7\n",
      "2\n",
      "9\n",
      "0\n"
     ]
    }
   ],
   "source": [
    "# better, from less to more specific conditions\n",
    "for item in ocr:\n",
    "    if all(i[1] == '_' for i in item[:3]):\n",
    "        if all(i[2] == '|' for i in item[1:3]): # 3\n",
    "            n = 3\n",
    "        if (item[1][2] == '|' and item[2][0] == '|'): # 2\n",
    "            n = 2\n",
    "        if (item[1][0] == '|' and item[2][2] == '|'): # 5\n",
    "            n = 5\n",
    "        if all(i[0] == '|' for i in item[1:3]) and (item[2][2] == '|'): # 6\n",
    "            n = 6\n",
    "        if all(i[2] == '|' for i in item[1:3]) and (item[1][0] == '|'): # 9\n",
    "            n = 9\n",
    "        if all(i[0] == '|' and i[2] == '|' for i in item[1:3]): # 8\n",
    "            n = 8\n",
    "    elif all(i[0] == '|' and i[2] == '|' for i in item[1:3]) and item[0][1] == '_' and item[2][1] == '_' : # 0\n",
    "        n = 0\n",
    "    elif (item[1][2] == '|' and item[2][2] == '|' and item[0][1] == '_'):   # 7\n",
    "        n = 7\n",
    "    elif (item[1][2] == '|' and item[2][2] == '|' and item[1][0] == '|' and item[1][1] == '_' ):       # 4\n",
    "        n = 4\n",
    "        #for i in item:\n",
    "            #print(i)\n",
    "    elif item[1][2] == '|' and item[2][2] == '|': # 1\n",
    "        n = 1\n",
    "    else:\n",
    "          n = '?'\n",
    "    print(n)"
   ]
  },
  {
   "cell_type": "markdown",
   "metadata": {},
   "source": [
    "#### Best to explicitly do it like this, this is unique and does return '?' when the character is flawed"
   ]
  },
  {
   "cell_type": "code",
   "execution_count": 23,
   "metadata": {},
   "outputs": [
    {
     "name": "stdout",
     "output_type": "stream",
     "text": [
      "3\n",
      "1\n",
      "8\n",
      "6\n",
      "5\n",
      "4\n",
      "7\n",
      "2\n",
      "9\n",
      "0\n"
     ]
    }
   ],
   "source": [
    "# To be precise I should specify which certain parts of the strings should be whitespace \n",
    "# but then I can also just do the following and specify the strings in the list for a digit explicitly\n",
    "digits = ''\n",
    "for item in ocr:\n",
    "    if item[0] == ' _ ' and item[1] == '| |' and item[2] =='|_|':\n",
    "        n = '0'\n",
    "    elif item[0] == '   ' and item[1] == '  |' and item[2] == '  |' :\n",
    "        n = '1'\n",
    "    elif item[0] == ' _ ' and item[1] == ' _|' and item[2] == '|_ ' :\n",
    "        n = '2'\n",
    "    elif item[0] == ' _ ' and item[1] == ' _|' and item[2] == ' _|' :\n",
    "        n = '3'\n",
    "    elif item[0] == '   ' and item[1] == '|_|' and item[2] == '  |' :\n",
    "        n = '4'\n",
    "    elif item[0] == ' _ ' and item[1] == '|_ ' and item[2] == ' _|' :\n",
    "        n = '5'\n",
    "    elif item[0] == ' _ ' and item[1] == '|_ ' and item[2] == '|_|' :\n",
    "        n = '6'\n",
    "    elif item[0] == ' _ ' and item[1] == '  |' and item[2] == '  |' :\n",
    "        n = '7'\n",
    "    elif item[0] == ' _ ' and item[1] == '|_|' and item[2] == '|_|' :\n",
    "        n = '8'\n",
    "    elif item[0] == ' _ ' and item[1] == '|_|' and item[2] == ' _|' :\n",
    "        n = '9'\n",
    "    else:\n",
    "        n = '?'\n",
    "    print(n)"
   ]
  },
  {
   "cell_type": "code",
   "execution_count": null,
   "metadata": {},
   "outputs": [],
   "source": []
  }
 ],
 "metadata": {
  "kernelspec": {
   "display_name": "pybase",
   "language": "python",
   "name": "pybase"
  },
  "language_info": {
   "codemirror_mode": {
    "name": "ipython",
    "version": 3
   },
   "file_extension": ".py",
   "mimetype": "text/x-python",
   "name": "python",
   "nbconvert_exporter": "python",
   "pygments_lexer": "ipython3",
   "version": "3.8.5"
  }
 },
 "nbformat": 4,
 "nbformat_minor": 4
}
