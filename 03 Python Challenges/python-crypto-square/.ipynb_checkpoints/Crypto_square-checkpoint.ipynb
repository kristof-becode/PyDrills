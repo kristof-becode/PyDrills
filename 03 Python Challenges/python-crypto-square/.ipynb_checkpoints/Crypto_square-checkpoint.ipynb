{
 "cells": [
  {
   "cell_type": "markdown",
   "metadata": {},
   "source": [
    "## Crypto Square"
   ]
  },
  {
   "cell_type": "markdown",
   "metadata": {},
   "source": [
    "Write a program that, given an English text, outputs the encoded version\n",
    "of that text.\n",
    "\n",
    "First, the input is normalized: the spaces and punctuation are removed\n",
    "from the English text and the message is downcased.\n",
    "\n",
    "Then, the normalized characters are broken into rows.  These rows can be\n",
    "regarded as forming a rectangle when printed with intervening newlines.\n",
    "\n",
    "For example, the sentence\n",
    "\n",
    "> If man was meant to stay on the ground, god would have given us roots.\n",
    "\n",
    "is normalized to:\n",
    "\n",
    "> ifmanwasmeanttostayonthegroundgodwouldhavegivenusroots\n",
    "\n",
    "The plaintext should be organized in to a rectangle.  The size of the\n",
    "rectangle (`r x c`) should be decided by the length of the message,\n",
    "such that `c >= r` and `c - r <= 1`, where `c` is the number of columns\n",
    "and `r` is the number of rows.\n",
    "\n",
    "Our normalized text is 54 characters long, dictating a rectangle with\n",
    "`c = 8` and `r = 7`:\n",
    "\n",
    "```plain\n",
    "ifmanwas\n",
    "meanttos\n",
    "tayonthe\n",
    "groundgo\n",
    "dwouldha\n",
    "vegivenu\n",
    "sroots\n",
    "```\n",
    "\n",
    "The coded message is obtained by reading down the columns going left to\n",
    "right.\n",
    "\n",
    "The message above is coded as:\n",
    "\n",
    "```plain\n",
    "imtgdvsfearwermayoogoanouuiontnnlvtwttddesaohghnsseoau\n",
    "```\n",
    "\n",
    "Output the encoded text in chunks.  Phrases that fill perfect squares\n",
    "`(r X r)` should be output in `r`-length chunks separated by spaces.\n",
    "Imperfect squares will have `n` empty spaces.  Those spaces should be distributed evenly across the last `n` rows.\n",
    "\n",
    "```plain\n",
    "imtgdvs fearwer mayoogo anouuio ntnnlvt wttddes aohghn sseoau\n",
    "```\n",
    "\n",
    "Notice that were we to stack these, we could visually decode the\n",
    "cyphertext back in to the original message:\n",
    "\n",
    "```plain\n",
    "imtgdvs\n",
    "fearwer\n",
    "mayoogo\n",
    "anouuio\n",
    "ntnnlvt\n",
    "wttddes\n",
    "aohghn\n",
    "sseoau\n",
    "```"
   ]
  },
  {
   "cell_type": "markdown",
   "metadata": {},
   "source": [
    "### Algorithm"
   ]
  },
  {
   "cell_type": "code",
   "execution_count": null,
   "metadata": {},
   "outputs": [],
   "source": []
  },
  {
   "cell_type": "markdown",
   "metadata": {},
   "source": [
    "### Experimentation"
   ]
  },
  {
   "cell_type": "code",
   "execution_count": 2,
   "metadata": {},
   "outputs": [],
   "source": [
    "sen = 'If man was meant to stay on the ground, god would have given us roots.'"
   ]
  },
  {
   "cell_type": "code",
   "execution_count": 3,
   "metadata": {},
   "outputs": [
    {
     "name": "stdout",
     "output_type": "stream",
     "text": [
      "['I', 'f', 'm', 'a', 'n', 'w', 'a', 's', 'm', 'e', 'a', 'n', 't', 't', 'o', 's', 't', 'a', 'y', 'o', 'n', 't', 'h', 'e', 'g', 'r', 'o', 'u', 'n', 'd', 'g', 'o', 'd', 'w', 'o', 'u', 'l', 'd', 'h', 'a', 'v', 'e', 'g', 'i', 'v', 'e', 'n', 'u', 's', 'r', 'o', 'o', 't', 's']\n"
     ]
    }
   ],
   "source": [
    "import string\n",
    "splt = [ch for word in sen.split() for ch in word if ch not in string.punctuation]\n",
    "print(splt)"
   ]
  },
  {
   "cell_type": "markdown",
   "metadata": {},
   "source": [
    "#### My own way of finding rectangle r,c; not sure if this works actually on other strings than this example"
   ]
  },
  {
   "cell_type": "code",
   "execution_count": 4,
   "metadata": {},
   "outputs": [
    {
     "name": "stdout",
     "output_type": "stream",
     "text": [
      "54\n"
     ]
    }
   ],
   "source": [
    "l = len(splt)\n",
    "print(l)"
   ]
  },
  {
   "cell_type": "code",
   "execution_count": 5,
   "metadata": {},
   "outputs": [
    {
     "name": "stdout",
     "output_type": "stream",
     "text": [
      "8\n"
     ]
    }
   ],
   "source": [
    "import math\n",
    "c = math.ceil(math.sqrt(54))\n",
    "print(c)"
   ]
  },
  {
   "cell_type": "code",
   "execution_count": 6,
   "metadata": {},
   "outputs": [
    {
     "name": "stdout",
     "output_type": "stream",
     "text": [
      "7\n"
     ]
    }
   ],
   "source": [
    "r = math.ceil(l / c)\n",
    "print(r)"
   ]
  },
  {
   "cell_type": "code",
   "execution_count": 34,
   "metadata": {},
   "outputs": [
    {
     "name": "stdout",
     "output_type": "stream",
     "text": [
      "['I', 'f', 'm', 'a', 'n', 'w', 'a', 's', 'm', 'e', 'a', 'n', 't', 't', 'o', 's', 't', 'a', 'y', 'o', 'n', 't', 'h', 'e', 'g', 'r', 'o', 'u', 'n', 'd', 'g', 'o', 'd', 'w', 'o', 'u', 'l', 'd', 'h', 'a', 'v', 'e', 'g', 'i', 'v', 'e', 'n', 'u', 's', 'r', 'o', 'o', 't', 's']\n",
      "8\n",
      "8\n",
      "8\n",
      "8\n",
      "8\n",
      "8\n",
      "8\n",
      "[['I', 'f', 'm', 'a', 'n', 'w', 'a', 's'], ['m', 'e', 'a', 'n', 't', 't', 'o', 's'], ['t', 'a', 'y', 'o', 'n', 't', 'h', 'e'], ['g', 'r', 'o', 'u', 'n', 'd', 'g', 'o'], ['d', 'w', 'o', 'u', 'l', 'd', 'h', 'a'], ['v', 'e', 'g', 'i', 'v', 'e', 'n', 'u'], ['s', 'r', 'o', 'o', 't', 's', ' ', ' ']]\n"
     ]
    }
   ],
   "source": [
    "\n",
    "d = (c*r) - len(splt)\n",
    "\n",
    "print(splt)\n",
    "n = []\n",
    "for i in range(0,(c*r),c):\n",
    "    sub = splt[i:i+c]\n",
    "    dif = c - len(sub)\n",
    "    if dif != 0:\n",
    "        for i in range(0,dif):\n",
    "            sub.append(' ')\n",
    "    n.append(sub)\n",
    "for item in n:\n",
    "    print(len(item))\n",
    "print(n)\n"
   ]
  },
  {
   "cell_type": "code",
   "execution_count": 8,
   "metadata": {},
   "outputs": [
    {
     "name": "stdout",
     "output_type": "stream",
     "text": [
      "Ifmanwasmeanttostayonthegroundgodwouldhavegivenusroots  \n"
     ]
    }
   ],
   "source": [
    "print(('').join([i for item in n for i in item]))"
   ]
  },
  {
   "cell_type": "code",
   "execution_count": 16,
   "metadata": {},
   "outputs": [
    {
     "name": "stdout",
     "output_type": "stream",
     "text": [
      "0\n",
      "1\n",
      "2\n",
      "3\n",
      "4\n",
      "5\n",
      "6\n",
      "7\n",
      "8\n"
     ]
    }
   ],
   "source": [
    "for i in range(len(n[0])+1):\n",
    "    print(i)\n",
    "    for item in n:\n",
    "        a"
   ]
  },
  {
   "cell_type": "code",
   "execution_count": 35,
   "metadata": {},
   "outputs": [
    {
     "name": "stdout",
     "output_type": "stream",
     "text": [
      "0\n",
      "1\n",
      "2\n",
      "3\n",
      "4\n",
      "5\n",
      "6\n",
      "7\n",
      "[['I', 'm', 't', 'g', 'd', 'v', 's'], ['f', 'e', 'a', 'r', 'w', 'e', 'r'], ['m', 'a', 'y', 'o', 'o', 'g', 'o'], ['a', 'n', 'o', 'u', 'u', 'i', 'o'], ['n', 't', 'n', 'n', 'l', 'v', 't'], ['w', 't', 't', 'd', 'd', 'e', 's'], ['a', 'o', 'h', 'g', 'h', 'n', ' '], ['s', 's', 'e', 'o', 'a', 'u', ' ']]\n",
      "I m t g d v s\n",
      "f e a r w e r\n",
      "m a y o o g o\n",
      "a n o u u i o\n",
      "n t n n l v t\n",
      "w t t d d e s\n",
      "a o h g h n  \n",
      "s s e o a u  \n"
     ]
    }
   ],
   "source": [
    "# make crypto square\n",
    "lst = []\n",
    "a = []\n",
    "for i in range(len(n[0])):\n",
    "    print(i)\n",
    "    for item in n:\n",
    "        lst.append(item[i])\n",
    "        #print(lst)\n",
    "    a.append(lst)\n",
    "    lst = []\n",
    "print(a)\n",
    "for item in a: print(*item)"
   ]
  },
  {
   "cell_type": "code",
   "execution_count": 33,
   "metadata": {},
   "outputs": [
    {
     "name": "stdout",
     "output_type": "stream",
     "text": [
      "Imtgdvs fearwer mayoogo anouuio ntnnlvt wttddes aohghn  sseoau \n"
     ]
    }
   ],
   "source": [
    "# print crypto square as string\n",
    "m = ''\n",
    "for i,item in enumerate(a):\n",
    "    if i == len(a)-1: # last item without whitespace at the end\n",
    "        m += ''.join(item)\n",
    "    else:\n",
    "        m += ''.join(item) + ' '\n",
    "print(m)"
   ]
  },
  {
   "cell_type": "markdown",
   "metadata": {},
   "source": [
    "#### Finding r,c in a different way"
   ]
  },
  {
   "cell_type": "code",
   "execution_count": null,
   "metadata": {},
   "outputs": [],
   "source": []
  }
 ],
 "metadata": {
  "kernelspec": {
   "display_name": "pybase",
   "language": "python",
   "name": "pybase"
  },
  "language_info": {
   "codemirror_mode": {
    "name": "ipython",
    "version": 3
   },
   "file_extension": ".py",
   "mimetype": "text/x-python",
   "name": "python",
   "nbconvert_exporter": "python",
   "pygments_lexer": "ipython3",
   "version": "3.8.5"
  }
 },
 "nbformat": 4,
 "nbformat_minor": 4
}
