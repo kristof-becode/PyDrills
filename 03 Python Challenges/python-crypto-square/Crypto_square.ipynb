{
 "cells": [
  {
   "cell_type": "markdown",
   "metadata": {},
   "source": [
    "## Crypto Square"
   ]
  },
  {
   "cell_type": "markdown",
   "metadata": {},
   "source": [
    "Write a program that, given an English text, outputs the encoded version\n",
    "of that text.\n",
    "\n",
    "First, the input is normalized: the spaces and punctuation are removed\n",
    "from the English text and the message is downcased.\n",
    "\n",
    "Then, the normalized characters are broken into rows.  These rows can be\n",
    "regarded as forming a rectangle when printed with intervening newlines.\n",
    "\n",
    "For example, the sentence\n",
    "\n",
    "> If man was meant to stay on the ground, god would have given us roots.\n",
    "\n",
    "is normalized to:\n",
    "\n",
    "> ifmanwasmeanttostayonthegroundgodwouldhavegivenusroots\n",
    "\n",
    "The plaintext should be organized in to a rectangle.  The size of the\n",
    "rectangle (`r x c`) should be decided by the length of the message,\n",
    "such that `c >= r` and `c - r <= 1`, where `c` is the number of columns\n",
    "and `r` is the number of rows.\n",
    "\n",
    "Our normalized text is 54 characters long, dictating a rectangle with\n",
    "`c = 8` and `r = 7`:\n",
    "\n",
    "```plain\n",
    "ifmanwas\n",
    "meanttos\n",
    "tayonthe\n",
    "groundgo\n",
    "dwouldha\n",
    "vegivenu\n",
    "sroots\n",
    "```\n",
    "\n",
    "The coded message is obtained by reading down the columns going left to\n",
    "right.\n",
    "\n",
    "The message above is coded as:\n",
    "\n",
    "```plain\n",
    "imtgdvsfearwermayoogoanouuiontnnlvtwttddesaohghnsseoau\n",
    "```\n",
    "\n",
    "Output the encoded text in chunks.  Phrases that fill perfect squares\n",
    "`(r X r)` should be output in `r`-length chunks separated by spaces.\n",
    "Imperfect squares will have `n` empty spaces.  Those spaces should be distributed evenly across the last `n` rows.\n",
    "\n",
    "```plain\n",
    "imtgdvs fearwer mayoogo anouuio ntnnlvt wttddes aohghn sseoau\n",
    "```\n",
    "\n",
    "Notice that were we to stack these, we could visually decode the\n",
    "cyphertext back in to the original message:\n",
    "\n",
    "```plain\n",
    "imtgdvs\n",
    "fearwer\n",
    "mayoogo\n",
    "anouuio\n",
    "ntnnlvt\n",
    "wttddes\n",
    "aohghn\n",
    "sseoau\n",
    "```"
   ]
  },
  {
   "cell_type": "markdown",
   "metadata": {},
   "source": [
    "### Algorithm"
   ]
  },
  {
   "cell_type": "code",
   "execution_count": null,
   "metadata": {},
   "outputs": [],
   "source": []
  },
  {
   "cell_type": "markdown",
   "metadata": {},
   "source": [
    "### Experimentation"
   ]
  },
  {
   "cell_type": "code",
   "execution_count": 2,
   "metadata": {},
   "outputs": [],
   "source": [
    "sen = 'If man was meant to stay on the ground, god would have given us roots.'"
   ]
  },
  {
   "cell_type": "code",
   "execution_count": 4,
   "metadata": {},
   "outputs": [
    {
     "name": "stdout",
     "output_type": "stream",
     "text": [
      "['I', 'f', 'm', 'a', 'n', 'w', 'a', 's', 'm', 'e', 'a', 'n', 't', 't', 'o', 's', 't', 'a', 'y', 'o', 'n', 't', 'h', 'e', 'g', 'r', 'o', 'u', 'n', 'd', 'g', 'o', 'd', 'w', 'o', 'u', 'l', 'd', 'h', 'a', 'v', 'e', 'g', 'i', 'v', 'e', 'n', 'u', 's', 'r', 'o', 'o', 't', 's']\n"
     ]
    }
   ],
   "source": [
    "import string\n",
    "splt = [ch for word in sen.split() for ch in word if ch not in string.punctuation]\n",
    "print(splt)"
   ]
  },
  {
   "cell_type": "code",
   "execution_count": 5,
   "metadata": {},
   "outputs": [
    {
     "name": "stdout",
     "output_type": "stream",
     "text": [
      "54\n"
     ]
    }
   ],
   "source": [
    "l = len(splt)\n",
    "print(l)"
   ]
  },
  {
   "cell_type": "code",
   "execution_count": 7,
   "metadata": {},
   "outputs": [
    {
     "name": "stdout",
     "output_type": "stream",
     "text": [
      "8\n"
     ]
    }
   ],
   "source": [
    "import math\n",
    "s = math.ceil(math.sqrt(54))\n",
    "print(s)"
   ]
  },
  {
   "cell_type": "code",
   "execution_count": 11,
   "metadata": {},
   "outputs": [
    {
     "name": "stdout",
     "output_type": "stream",
     "text": [
      "7\n"
     ]
    }
   ],
   "source": [
    "o = math.ceil(l / s)\n",
    "print(o)"
   ]
  },
  {
   "cell_type": "code",
   "execution_count": null,
   "metadata": {},
   "outputs": [],
   "source": []
  }
 ],
 "metadata": {
  "kernelspec": {
   "display_name": "pybase",
   "language": "python",
   "name": "pybase"
  },
  "language_info": {
   "codemirror_mode": {
    "name": "ipython",
    "version": 3
   },
   "file_extension": ".py",
   "mimetype": "text/x-python",
   "name": "python",
   "nbconvert_exporter": "python",
   "pygments_lexer": "ipython3",
   "version": "3.8.5"
  }
 },
 "nbformat": 4,
 "nbformat_minor": 4
}
