{
 "cells": [
  {
   "cell_type": "markdown",
   "metadata": {},
   "source": [
    "# Drill : Basics python syntax\n"
   ]
  },
  {
   "cell_type": "markdown",
   "metadata": {},
   "source": [
    "In some of these exercises, you will have to use methods that you have not seen yet. In this case, search on google for an example of use. Take the right habits to avoid being blocked"
   ]
  },
  {
   "cell_type": "markdown",
   "metadata": {},
   "source": [
    "Run all cells before starting the tests."
   ]
  },
  {
   "cell_type": "markdown",
   "metadata": {},
   "source": [
    "**1. Create a variable ``age`` that contains value 42**"
   ]
  },
  {
   "cell_type": "code",
   "execution_count": 23,
   "metadata": {},
   "outputs": [],
   "source": [
    "age = 42"
   ]
  },
  {
   "cell_type": "markdown",
   "metadata": {},
   "source": [
    "**2. Adds 10 to variable ``age``**"
   ]
  },
  {
   "cell_type": "code",
   "execution_count": 24,
   "metadata": {},
   "outputs": [
    {
     "data": {
      "text/plain": [
       "52"
      ]
     },
     "execution_count": 24,
     "metadata": {},
     "output_type": "execute_result"
    }
   ],
   "source": [
    "age += 10\n",
    "age"
   ]
  },
  {
   "cell_type": "markdown",
   "metadata": {},
   "source": [
    "**3. Create a variable ``divAge`` and assign it the value of the age divided by 7**  \n",
    "- ❗ Be careful, it must be an integer."
   ]
  },
  {
   "cell_type": "code",
   "execution_count": 25,
   "metadata": {},
   "outputs": [
    {
     "data": {
      "text/plain": [
       "7.428571428571429"
      ]
     },
     "execution_count": 25,
     "metadata": {},
     "output_type": "execute_result"
    }
   ],
   "source": [
    "divAge = age / 7\n",
    "divAge"
   ]
  },
  {
   "cell_type": "markdown",
   "metadata": {},
   "source": [
    "**4. Create a variable ``textDiv`` that contains the character string \"42 divided by 7 is equal 7\".**  \n",
    "THIS DOESN'T MAKE ANY SENSE? MATH SKILLS ANYONE?? => I guess they mean 52\n",
    "- You must use the ``age`` and ``divAge`` variables"
   ]
  },
  {
   "cell_type": "code",
   "execution_count": 27,
   "metadata": {},
   "outputs": [
    {
     "data": {
      "text/plain": [
       "'52 divided by 7 is equal to 7'"
      ]
     },
     "execution_count": 27,
     "metadata": {},
     "output_type": "execute_result"
    }
   ],
   "source": [
    "textDiv = str(age) +\" divided by 7 is equal to \" + str(int(divAge))\n",
    "textDiv"
   ]
  },
  {
   "cell_type": "markdown",
   "metadata": {},
   "source": [
    "**5. Create a variable ``restDiv`` that contains the rest of the variable ``age`` divided by 7**"
   ]
  },
  {
   "cell_type": "code",
   "execution_count": 28,
   "metadata": {},
   "outputs": [
    {
     "data": {
      "text/plain": [
       "3"
      ]
     },
     "execution_count": 28,
     "metadata": {},
     "output_type": "execute_result"
    }
   ],
   "source": [
    "restDiv = age % 7\n",
    "restDiv"
   ]
  },
  {
   "cell_type": "markdown",
   "metadata": {},
   "source": [
    "**6. Create a variable ``expDiv`` that contains the value of ``restDiv`` exponent 3**"
   ]
  },
  {
   "cell_type": "code",
   "execution_count": 29,
   "metadata": {},
   "outputs": [
    {
     "data": {
      "text/plain": [
       "27"
      ]
     },
     "execution_count": 29,
     "metadata": {},
     "output_type": "execute_result"
    }
   ],
   "source": [
    "expDiv = restDiv **3\n",
    "expDiv"
   ]
  },
  {
   "cell_type": "markdown",
   "metadata": {},
   "source": [
    "**7. Write a program that enters an integer and then displays the value entered and its type.**"
   ]
  },
  {
   "cell_type": "code",
   "execution_count": 30,
   "metadata": {},
   "outputs": [
    {
     "name": "stdout",
     "output_type": "stream",
     "text": [
      "Please enter an integer number: 56\n",
      "56 <class 'int'>\n"
     ]
    }
   ],
   "source": [
    "def main():\n",
    "    num = int(input('Please enter an integer number: '))\n",
    "    print(num, type(num))\n",
    "\n",
    "main()"
   ]
  },
  {
   "cell_type": "markdown",
   "metadata": {},
   "source": [
    "**8. Use variables to represent the price of materials.**  \n",
    "- 2 bottles of milk at €0.45 each\n",
    "- 3 bottles of raw cider at €3.85 each\n",
    "- 1 bag of flour at 0.9 €\n",
    "- 1 packet of butter at €0.77\n",
    "- 1 jar of nutella at €1.87  \n",
    "\n",
    "**Calculate the sum of all items and store it in a ``orderPrice`` variable**"
   ]
  },
  {
   "cell_type": "code",
   "execution_count": 31,
   "metadata": {},
   "outputs": [
    {
     "data": {
      "text/plain": [
       "15.900000000000002"
      ]
     },
     "execution_count": 31,
     "metadata": {},
     "output_type": "execute_result"
    }
   ],
   "source": [
    "# prices\n",
    "p_milk = 0.45\n",
    "p_cider = 3.85\n",
    "p_flour = 0.9\n",
    "p_butter = 0.77\n",
    "p_nutella = 1.87\n",
    "# quantities\n",
    "n_milk = 2\n",
    "n_cider = 3\n",
    "n_flour = 0.9\n",
    "n_butter = 1\n",
    "n_nutella = 1\n",
    "# orderPrice\n",
    "orderPrice = p_milk * n_milk + p_cider * n_cider + p_flour * n_flour + p_butter * n_butter + p_nutella *n_nutella\n",
    "orderPrice"
   ]
  },
  {
   "cell_type": "markdown",
   "metadata": {},
   "source": [
    "**Create a variable ``allowanceMoney`` which has a value of 20 and then create an algorithm that calculates the available money by subtracting the price of the order.**\n",
    "\n",
    "If there is enough money, record the following sentence in the variable ``message`` and subtract the expense from ``allowanceMoney`` : \n",
    "- message = \"You have spent\" + ``orderPrice`` + \"you have left\" + ``allowanceMoney`` \n",
    "\n",
    "If there is not enough money, record the following sentence in the ``message`` variable: \n",
    "- message= \"Sorry you're missing *amountMissing* euros\" \n",
    "\n",
    "If there is 0 left, record the following sentence in the ``message`` variable: \n",
    "- message = \"You are broke!\"\n"
   ]
  },
  {
   "cell_type": "code",
   "execution_count": 38,
   "metadata": {},
   "outputs": [
    {
     "name": "stdout",
     "output_type": "stream",
     "text": [
      "Sorry you're missing 6 euros.\n"
     ]
    }
   ],
   "source": [
    "def shoptill(allowanceMoney = 15, orderPrice = 21):\n",
    "    allowanceMoney -= orderPrice\n",
    "    if allowanceMoney >0 :\n",
    "        message = \"You have spent \" + str(round(orderPrice,3)) + \", you have \" + str(round(allowanceMoney,3)) + \" left.\"\n",
    "    elif allowanceMoney < 0 :\n",
    "        message = \"Sorry you're missing \" + str(round(abs(allowanceMoney),3)) + \" euros.\" \n",
    "    else :\n",
    "        message = \"You are broke!\"\n",
    "    print(message)\n",
    "    \n",
    "shoptill()"
   ]
  },
  {
   "cell_type": "markdown",
   "metadata": {},
   "source": [
    "**9. Write a program that asks you to enter 2 values and displays the smallest of the 2 values**"
   ]
  },
  {
   "cell_type": "code",
   "execution_count": 46,
   "metadata": {},
   "outputs": [
    {
     "name": "stdout",
     "output_type": "stream",
     "text": [
      "Please enter a first number: 7\n",
      "Please enter a second number: 98\n",
      "The smallest number you entered is: 7\n"
     ]
    }
   ],
   "source": [
    "def val_compare():\n",
    "    first = int(input('Please enter a first number: '))\n",
    "    second = int(input('Please enter a second number: '))\n",
    "    print(f\"The smallest number you entered is: {min(first,second)}\")\n",
    " \n",
    "val_compare()"
   ]
  },
  {
   "cell_type": "markdown",
   "metadata": {},
   "source": [
    "**10. Write a script that asks you to enter 2 strings and displays the largest of the 2 strings (the one with the most characters).**"
   ]
  },
  {
   "cell_type": "code",
   "execution_count": 54,
   "metadata": {},
   "outputs": [
    {
     "name": "stdout",
     "output_type": "stream",
     "text": [
      "Please enter a first string: The apple is red.\n",
      "Please enter a second string: Is an avocado  a fruit ?\n",
      "The largest string you entered is: Is an avocado  a fruit ?\n"
     ]
    }
   ],
   "source": [
    "def string_compare():\n",
    "    first = input('Please enter a first string: ')\n",
    "    second = input('Please enter a second string: ')\n",
    "    if len(first) > len(second):\n",
    "        print(f\"The largest string you entered is: {first}\")\n",
    "    elif len(first) < len(second):\n",
    "        print(f\"The largest string you entered is: {second}\")\n",
    "    else :\n",
    "        print(f\"Both strings have the same length\")\n",
    "    \n",
    "    #print(f\"The largest string you entered is: {max(len(first),len(second))}\") # returns max len\n",
    " \n",
    "string_compare()"
   ]
  },
  {
   "cell_type": "markdown",
   "metadata": {},
   "source": [
    "**11. Write a script that converts euros into dollars.**\n",
    "- The program will start by asking the user to indicate with a character 'E' or '$' depending on the currency of the amount they are entering.\n",
    "- Then the program will ask you to enter the amount and display the conversion."
   ]
  },
  {
   "cell_type": "code",
   "execution_count": 53,
   "metadata": {},
   "outputs": [
    {
     "name": "stdout",
     "output_type": "stream",
     "text": [
      "Please enter \"E\" or \"$\" for currency you will be converting: E\n",
      "Please enter the amount to convert : 1\n",
      "1.0 E equals 0.8433 $\n",
      "Please enter \"E\" or \"$\" for currency you will be converting: $\n",
      "Please enter the amount to convert : 0.8433\n",
      "0.8433 $ equals 1.0 E\n"
     ]
    }
   ],
   "source": [
    "def converter():\n",
    "    curr = input('Please enter \"E\" or \"$\" for currency you will be converting: ')\n",
    "    amount = float(input('Please enter the amount to convert : '))\n",
    "    e_for_d = 0.8433\n",
    "    if curr == \"E\":\n",
    "        o_curr = \"$\"\n",
    "        conv = amount * e_for_d\n",
    "    else:\n",
    "        o_curr = \"E\"\n",
    "        conv = amount / e_for_d \n",
    "    print(f\"{amount} {curr} equals {conv} {o_curr}\")\n",
    " \n",
    "converter()\n",
    "converter()"
   ]
  },
  {
   "cell_type": "markdown",
   "metadata": {},
   "source": [
    "**12. Check if the variable ``name`` is in the ``studentsTuring`` list. (Without making a loop)** \n",
    "* If the name is in the list, display \"You are at the turing's\".\n",
    "* Otherwise display: \"You are not part of the turing's\""
   ]
  },
  {
   "cell_type": "code",
   "execution_count": 50,
   "metadata": {},
   "outputs": [],
   "source": [
    "studentsTuring = [\"Redouane\", \"Justine\", \"Ruben\", \"Edouard\"]\n",
    "name = \"Julie\""
   ]
  },
  {
   "cell_type": "code",
   "execution_count": 52,
   "metadata": {},
   "outputs": [
    {
     "name": "stdout",
     "output_type": "stream",
     "text": [
      "You're NOT in the list\n",
      "You're in the list\n",
      "You're NOT in the list\n"
     ]
    }
   ],
   "source": [
    "def inlist(name='Julie'):\n",
    "    studentsTuring = [\"Redouane\", \"Justine\", \"Ruben\", \"Edouard\"]\n",
    "    if name in studentsTuring:\n",
    "        print(f\"You're in the list\")\n",
    "    else:\n",
    "        print(f\"You're NOT in the list\")\n",
    "\n",
    "inlist()\n",
    "inlist(\"Redouane\")\n",
    "inlist('Mark')"
   ]
  },
  {
   "cell_type": "markdown",
   "metadata": {},
   "source": [
    "**13. Calculate the volume of a sphere using the formula *(4π/3) x R³*. The radius is 10.**  \n",
    "- Save the result in a \"volume\" variable.\n"
   ]
  },
  {
   "cell_type": "code",
   "execution_count": 49,
   "metadata": {},
   "outputs": [
    {
     "data": {
      "text/plain": [
       "4188.790204786391"
      ]
     },
     "execution_count": 49,
     "metadata": {},
     "output_type": "execute_result"
    }
   ],
   "source": [
    "import math\n",
    "radius = 10\n",
    "volume = (4*math.pi/3)* radius**3\n",
    "volume"
   ]
  }
 ],
 "metadata": {
  "kernelspec": {
   "display_name": "pybase",
   "language": "python",
   "name": "pybase"
  },
  "language_info": {
   "codemirror_mode": {
    "name": "ipython",
    "version": 3
   },
   "file_extension": ".py",
   "mimetype": "text/x-python",
   "name": "python",
   "nbconvert_exporter": "python",
   "pygments_lexer": "ipython3",
   "version": "3.8.5"
  }
 },
 "nbformat": 4,
 "nbformat_minor": 2
}
