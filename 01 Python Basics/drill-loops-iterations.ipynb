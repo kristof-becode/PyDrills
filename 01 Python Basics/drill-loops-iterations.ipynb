{
 "cells": [
  {
   "cell_type": "markdown",
   "metadata": {},
   "source": [
    "# Drill loops and iterations"
   ]
  },
  {
   "cell_type": "markdown",
   "metadata": {},
   "source": [
    "### 1. Display all students in the \"students\" list in alphabetical order"
   ]
  },
  {
   "cell_type": "code",
   "execution_count": 1,
   "metadata": {},
   "outputs": [],
   "source": [
    "students =  [\"Merouane\", \"Baptiste\", \"Caroline\", \"Joe\", \"Sophie\", \"Nathan\", \"Raphaël\", \"Axel\", \"Mathieu\", \"Adrien\"]"
   ]
  },
  {
   "cell_type": "code",
   "execution_count": 10,
   "metadata": {},
   "outputs": [
    {
     "name": "stdout",
     "output_type": "stream",
     "text": [
      "Adrien\n",
      "Axel\n",
      "Baptiste\n",
      "Caroline\n",
      "Joe\n",
      "Mathieu\n",
      "Merouane\n",
      "Nathan\n",
      "Raphaël\n",
      "Sophie\n"
     ]
    }
   ],
   "source": [
    "students.sort()\n",
    "for name in students: print(name)"
   ]
  },
  {
   "cell_type": "markdown",
   "metadata": {},
   "source": [
    "### 2. Display only those whose first name begins with the letter M"
   ]
  },
  {
   "cell_type": "code",
   "execution_count": 13,
   "metadata": {},
   "outputs": [
    {
     "name": "stdout",
     "output_type": "stream",
     "text": [
      "Mathieu\n",
      "Merouane\n"
     ]
    }
   ],
   "source": [
    "for name in students: \n",
    "    if name[0] == 'M' :\n",
    "        print(name)"
   ]
  },
  {
   "cell_type": "markdown",
   "metadata": {},
   "source": [
    "### 3. Display integers from 0 to 15 not included, using a \"for\"loop and the range() instruction."
   ]
  },
  {
   "cell_type": "code",
   "execution_count": 14,
   "metadata": {},
   "outputs": [
    {
     "name": "stdout",
     "output_type": "stream",
     "text": [
      "0\n",
      "1\n",
      "2\n",
      "3\n",
      "4\n",
      "5\n",
      "6\n",
      "7\n",
      "8\n",
      "9\n",
      "10\n",
      "11\n",
      "12\n",
      "13\n",
      "14\n"
     ]
    }
   ],
   "source": [
    "for i in range(0,15): print(i)"
   ]
  },
  {
   "cell_type": "markdown",
   "metadata": {},
   "source": [
    "### 4. Use the \"break\" instruction to interrupt a \"for\" loop to display integers from 1 to 10 included, when the loop variable is 5"
   ]
  },
  {
   "cell_type": "code",
   "execution_count": 15,
   "metadata": {},
   "outputs": [
    {
     "name": "stdout",
     "output_type": "stream",
     "text": [
      "0\n",
      "1\n",
      "2\n",
      "3\n",
      "4\n",
      "5\n"
     ]
    }
   ],
   "source": [
    "for i in range(0,11):\n",
    "    print(i)\n",
    "    if i == 5:\n",
    "        break"
   ]
  },
  {
   "cell_type": "markdown",
   "metadata": {},
   "source": [
    "### 5. Use the \"continue\" instruction to modify  a \"for\" loop to display intergers from 1 to 10 included,  when the loop variable is 5"
   ]
  },
  {
   "cell_type": "code",
   "execution_count": 29,
   "metadata": {},
   "outputs": [
    {
     "name": "stdout",
     "output_type": "stream",
     "text": [
      "0\n",
      "1\n",
      "2\n",
      "3\n",
      "4\n",
      "6\n",
      "7\n",
      "8\n",
      "9\n",
      "10\n"
     ]
    }
   ],
   "source": [
    "for i in range(0,11): # prints all but 5\n",
    "    if i == 5:\n",
    "        continue\n",
    "    print(i)"
   ]
  },
  {
   "cell_type": "markdown",
   "metadata": {},
   "source": [
    "### 6. Follow the instructions :"
   ]
  },
  {
   "cell_type": "markdown",
   "metadata": {},
   "source": [
    "- sort and display the list;\n",
    "- add item 12 to the list and display the list;\n",
    "- reverse and display the list;\n",
    "- display the index of element 17;\n",
    "- remove item 38 and display the list;\n",
    "- display the sub-list of the 2nd to 3rd element;\n",
    "- display the sub-list from the beginning to the 2nd element;\n",
    "- display the sub-list of the 3rd element at the end of the list;\n",
    "- display the complete sub-list of the list;\n",
    "- display the last element using a negative indication."
   ]
  },
  {
   "cell_type": "code",
   "execution_count": 52,
   "metadata": {},
   "outputs": [],
   "source": [
    "listOfnum = [17, 38, 10, 25, 72]"
   ]
  },
  {
   "cell_type": "markdown",
   "metadata": {},
   "source": [
    "Note that some list methods do not return anything."
   ]
  },
  {
   "cell_type": "code",
   "execution_count": 53,
   "metadata": {},
   "outputs": [
    {
     "data": {
      "text/plain": [
       "[10, 17, 25, 38, 72]"
      ]
     },
     "execution_count": 53,
     "metadata": {},
     "output_type": "execute_result"
    }
   ],
   "source": [
    "listOfnum.sort() # returns None\n",
    "listOfnum"
   ]
  },
  {
   "cell_type": "code",
   "execution_count": 54,
   "metadata": {},
   "outputs": [
    {
     "data": {
      "text/plain": [
       "[10, 17, 25, 38, 72, 12]"
      ]
     },
     "execution_count": 54,
     "metadata": {},
     "output_type": "execute_result"
    }
   ],
   "source": [
    "listOfnum.append(12)\n",
    "listOfnum"
   ]
  },
  {
   "cell_type": "code",
   "execution_count": 55,
   "metadata": {},
   "outputs": [
    {
     "data": {
      "text/plain": [
       "[12, 72, 38, 25, 17, 10]"
      ]
     },
     "execution_count": 55,
     "metadata": {},
     "output_type": "execute_result"
    }
   ],
   "source": [
    "listOfnum[::-1]"
   ]
  },
  {
   "cell_type": "code",
   "execution_count": 56,
   "metadata": {},
   "outputs": [
    {
     "data": {
      "text/plain": [
       "1"
      ]
     },
     "execution_count": 56,
     "metadata": {},
     "output_type": "execute_result"
    }
   ],
   "source": [
    "listOfnum.index(17)"
   ]
  },
  {
   "cell_type": "code",
   "execution_count": 57,
   "metadata": {},
   "outputs": [
    {
     "data": {
      "text/plain": [
       "[10, 17, 25, 72, 12]"
      ]
     },
     "execution_count": 57,
     "metadata": {},
     "output_type": "execute_result"
    }
   ],
   "source": [
    "listOfnum.remove(38) # returns nothing\n",
    "listOfnum"
   ]
  },
  {
   "cell_type": "code",
   "execution_count": 59,
   "metadata": {},
   "outputs": [
    {
     "data": {
      "text/plain": [
       "[17, 25]"
      ]
     },
     "execution_count": 59,
     "metadata": {},
     "output_type": "execute_result"
    }
   ],
   "source": [
    "listOfnum[1:3]"
   ]
  },
  {
   "cell_type": "code",
   "execution_count": 61,
   "metadata": {},
   "outputs": [
    {
     "data": {
      "text/plain": [
       "[10, 17]"
      ]
     },
     "execution_count": 61,
     "metadata": {},
     "output_type": "execute_result"
    }
   ],
   "source": [
    "listOfnum[:2]"
   ]
  },
  {
   "cell_type": "code",
   "execution_count": 62,
   "metadata": {},
   "outputs": [
    {
     "data": {
      "text/plain": [
       "25"
      ]
     },
     "execution_count": 62,
     "metadata": {},
     "output_type": "execute_result"
    }
   ],
   "source": [
    "listOfnum[-3]"
   ]
  },
  {
   "cell_type": "code",
   "execution_count": 64,
   "metadata": {},
   "outputs": [
    {
     "data": {
      "text/plain": [
       "[10, 17, 25, 72, 12]"
      ]
     },
     "execution_count": 64,
     "metadata": {},
     "output_type": "execute_result"
    }
   ],
   "source": [
    "listOfnum[:]"
   ]
  },
  {
   "cell_type": "code",
   "execution_count": 63,
   "metadata": {},
   "outputs": [
    {
     "data": {
      "text/plain": [
       "12"
      ]
     },
     "execution_count": 63,
     "metadata": {},
     "output_type": "execute_result"
    }
   ],
   "source": [
    "listOfnum[-1]"
   ]
  },
  {
   "cell_type": "markdown",
   "metadata": {},
   "source": [
    "### 7. Write an algorithm that asks the user to enter a number. Then make sure that your program displays all the numbers up to 0, for example, if the user enters the number 3, then your program will display something like this: 3,2,1,0"
   ]
  },
  {
   "cell_type": "code",
   "execution_count": 77,
   "metadata": {},
   "outputs": [
    {
     "name": "stdout",
     "output_type": "stream",
     "text": [
      "Please enter an integer number: 3\n",
      "3 2 1 0 \n"
     ]
    }
   ],
   "source": [
    "num = int(input('Please enter an integer number: '))\n",
    "ran = list(range(0,num+1))\n",
    "string = ''\n",
    "for num in ran[::-1]: \n",
    "    string += str(num)+ ' '\n",
    "print(string)"
   ]
  },
  {
   "cell_type": "markdown",
   "metadata": {},
   "source": [
    "### 8.The price is right ! Create a variable that will contain the number to be found. Then create an algorithm that will ask the user to find this price. If the user enters a number that is too high, he will have the sentence: \"It's less\". If he enters a number that is too low, he will have the sentence: \"It's more\". If the user finds the right price he will have the sentence: \"Well done, you won\"."
   ]
  },
  {
   "cell_type": "code",
   "execution_count": 80,
   "metadata": {},
   "outputs": [
    {
     "data": {
      "text/plain": [
       "55"
      ]
     },
     "execution_count": 80,
     "metadata": {},
     "output_type": "execute_result"
    }
   ],
   "source": [
    "import random\n",
    "num = random.randint(0,100)\n",
    "num"
   ]
  },
  {
   "cell_type": "code",
   "execution_count": 84,
   "metadata": {},
   "outputs": [
    {
     "name": "stdout",
     "output_type": "stream",
     "text": [
      "Can you guess a number between 0 and 100? Try!: 4\n",
      "It's more. Try again!: 66\n",
      "It's less. Try again!: 55\n",
      "Well done, you have won!\n"
     ]
    }
   ],
   "source": [
    "guess = int(input('Can you guess a number between 0 and 100? Try!: '))\n",
    "while guess != num:\n",
    "    if guess > num: \n",
    "        guess = int(input(\"It's less. Try again!: \"))\n",
    "    else:\n",
    "        guess = int(input(\"It's more. Try again!: \"))\n",
    "print(f\"Well done, you have won!\")"
   ]
  },
  {
   "cell_type": "markdown",
   "metadata": {},
   "source": [
    "### 9. Display all students with the sentence \"NAME is a alumni. \""
   ]
  },
  {
   "cell_type": "code",
   "execution_count": 85,
   "metadata": {},
   "outputs": [],
   "source": [
    "allStudents =  [[\"David\", \"Justine\", \"Valentin\",\"Axel\", \"Redouane\"], [\"Julie\", \"Stéphane\", \"Mostapha\", \"Claudiu\", \"Son\"]]"
   ]
  },
  {
   "cell_type": "code",
   "execution_count": 88,
   "metadata": {},
   "outputs": [
    {
     "name": "stdout",
     "output_type": "stream",
     "text": [
      "David is an alumni.\n",
      "Justine is an alumni.\n",
      "Valentin is an alumni.\n",
      "Axel is an alumni.\n",
      "Redouane is an alumni.\n",
      "Julie is an alumni.\n",
      "Stéphane is an alumni.\n",
      "Mostapha is an alumni.\n",
      "Claudiu is an alumni.\n",
      "Son is an alumni.\n"
     ]
    }
   ],
   "source": [
    "for sublist in allStudents:\n",
    "    for name in sublist : print(f\"{name} is an alumni.\")"
   ]
  },
  {
   "cell_type": "markdown",
   "metadata": {},
   "source": [
    "### 10. Display all elements. If the element is part of the first table display - \"*PHP* is a backend language\" - and if the element is part of the second language, display - \"*HTML* is a Frontend language\" ... "
   ]
  },
  {
   "cell_type": "code",
   "execution_count": 89,
   "metadata": {},
   "outputs": [],
   "source": [
    "languages = [[\"PHP\", \"Java\", \"C#\"], [\"HTML\", \"CSS\", \"Javascript\"]]"
   ]
  },
  {
   "cell_type": "code",
   "execution_count": 94,
   "metadata": {},
   "outputs": [
    {
     "name": "stdout",
     "output_type": "stream",
     "text": [
      "PHP is a backend language.\n",
      "Java is a backend language.\n",
      "C# is a backend language.\n",
      "HTML is a frontend language.\n",
      "CSS is a frontend language.\n",
      "Javascript is a frontend language.\n"
     ]
    }
   ],
   "source": [
    "for sub in languages:\n",
    "    for lang in sub:\n",
    "        if lang in languages[0] : print(f\"{lang} is a backend language.\")\n",
    "        else: print(f\"{lang} is a frontend language.\")"
   ]
  }
 ],
 "metadata": {
  "kernelspec": {
   "display_name": "pybase",
   "language": "python",
   "name": "pybase"
  },
  "language_info": {
   "codemirror_mode": {
    "name": "ipython",
    "version": 3
   },
   "file_extension": ".py",
   "mimetype": "text/x-python",
   "name": "python",
   "nbconvert_exporter": "python",
   "pygments_lexer": "ipython3",
   "version": "3.8.5"
  }
 },
 "nbformat": 4,
 "nbformat_minor": 2
}
