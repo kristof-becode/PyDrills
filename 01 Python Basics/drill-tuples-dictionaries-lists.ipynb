{
 "cells": [
  {
   "cell_type": "markdown",
   "metadata": {},
   "source": [
    "# Drill : Lists, Tuples, Dictionaries"
   ]
  },
  {
   "cell_type": "markdown",
   "metadata": {},
   "source": [
    "### 1. Choose 5 words from the English language and create  dictionaries that associates each of these words with its French translation."
   ]
  },
  {
   "cell_type": "code",
   "execution_count": 22,
   "metadata": {},
   "outputs": [],
   "source": [
    "dic = {\"mother\":\"mère\", \"father\":\"père\", \"brother\":\"frère\", \"sister\":\"soeur\", \"uncle\":\"oncle\"}"
   ]
  },
  {
   "cell_type": "markdown",
   "metadata": {},
   "source": [
    "### 2. Add an entry to the dictionary of the previous question (a new word and its definition)"
   ]
  },
  {
   "cell_type": "code",
   "execution_count": 23,
   "metadata": {},
   "outputs": [
    {
     "data": {
      "text/plain": [
       "{'mother': 'mère',\n",
       " 'father': 'père',\n",
       " 'brother': 'frère',\n",
       " 'sister': 'soeur',\n",
       " 'uncle': 'oncle',\n",
       " 'nephew': 'cousin'}"
      ]
     },
     "execution_count": 23,
     "metadata": {},
     "output_type": "execute_result"
    }
   ],
   "source": [
    "dic[\"nephew\"] = \"cousin\"\n",
    "dic"
   ]
  },
  {
   "cell_type": "markdown",
   "metadata": {},
   "source": [
    "### 3. How would you cut the following string at each space and put it in a list: "
   ]
  },
  {
   "cell_type": "code",
   "execution_count": 1,
   "metadata": {},
   "outputs": [],
   "source": [
    "sentence = \"I am the master of the world\""
   ]
  },
  {
   "cell_type": "code",
   "execution_count": 2,
   "metadata": {},
   "outputs": [
    {
     "data": {
      "text/plain": [
       "['I', 'am', 'the', 'master', 'of', 'the', 'world']"
      ]
     },
     "execution_count": 2,
     "metadata": {},
     "output_type": "execute_result"
    }
   ],
   "source": [
    "split = sentence.split()\n",
    "split"
   ]
  },
  {
   "cell_type": "markdown",
   "metadata": {},
   "source": [
    "### 4. Transform this string \"The_universal_number_is_42\" by removing the underscores: \"The universal number is 42\""
   ]
  },
  {
   "cell_type": "code",
   "execution_count": 3,
   "metadata": {},
   "outputs": [],
   "source": [
    "universalNumber =  \"The_universal_number_is_42\" "
   ]
  },
  {
   "cell_type": "code",
   "execution_count": 9,
   "metadata": {},
   "outputs": [
    {
     "data": {
      "text/plain": [
       "'The universal number is 42'"
      ]
     },
     "execution_count": 9,
     "metadata": {},
     "output_type": "execute_result"
    }
   ],
   "source": [
    "trans = universalNumber.split('_')\n",
    "\" \".join(trans)"
   ]
  },
  {
   "cell_type": "markdown",
   "metadata": {},
   "source": [
    "### 5. Display only values of this dictionary."
   ]
  },
  {
   "cell_type": "code",
   "execution_count": 15,
   "metadata": {},
   "outputs": [],
   "source": [
    "heroes = {\"Superman\" : \"Clark kent\", \"Batman\" : \"Bruce Wayne\", \"Spiderman\" : \"Tony Parker\"}"
   ]
  },
  {
   "cell_type": "code",
   "execution_count": 16,
   "metadata": {},
   "outputs": [
    {
     "name": "stdout",
     "output_type": "stream",
     "text": [
      "dict_values(['Clark kent', 'Bruce Wayne', 'Tony Parker'])\n",
      "Clark kent\n",
      "Bruce Wayne\n",
      "Tony Parker\n"
     ]
    }
   ],
   "source": [
    "print(heroes.values())\n",
    "for val in heroes.values(): print(val)"
   ]
  },
  {
   "cell_type": "markdown",
   "metadata": {},
   "source": [
    "### 6. Display only keys of this dictionary."
   ]
  },
  {
   "cell_type": "code",
   "execution_count": 17,
   "metadata": {},
   "outputs": [],
   "source": [
    "heroes = {\"Superman\" : \"Clark kent\", \"Batman\" : \"Bruce Wayne\", \"Spiderman\" : \"Tony Parker\"}"
   ]
  },
  {
   "cell_type": "code",
   "execution_count": 18,
   "metadata": {},
   "outputs": [
    {
     "name": "stdout",
     "output_type": "stream",
     "text": [
      "Superman\n",
      "Batman\n",
      "Spiderman\n"
     ]
    }
   ],
   "source": [
    "for key in heroes.keys(): print(key)"
   ]
  },
  {
   "cell_type": "markdown",
   "metadata": {},
   "source": [
    "### 7. Replace the value of \"Spiderman\" by \"Peter Parker\"."
   ]
  },
  {
   "cell_type": "code",
   "execution_count": 19,
   "metadata": {},
   "outputs": [],
   "source": [
    "heroes = {\"Superman\" : \"Clark kent\", \"Batman\" : \"Bruce Wayne\", \"Spiderman\" : \"Tony Parker\"}"
   ]
  },
  {
   "cell_type": "code",
   "execution_count": 21,
   "metadata": {},
   "outputs": [
    {
     "data": {
      "text/plain": [
       "{'Superman': 'Clark kent',\n",
       " 'Batman': 'Bruce Wayne',\n",
       " 'Spiderman': 'Peter Parker'}"
      ]
     },
     "execution_count": 21,
     "metadata": {},
     "output_type": "execute_result"
    }
   ],
   "source": [
    "heroes['Spiderman'] = \"Peter Parker\"\n",
    "heroes"
   ]
  },
  {
   "cell_type": "markdown",
   "metadata": {},
   "source": [
    "### 8. Create a dictionary to build the price base of the products corresponding to the following table:\n",
    "\n",
    "    Laser sword // 229.0\n",
    "    Mitendo DX // 127.30\n",
    "    Linux cushion // 74.50\n",
    "    Goldorak briefs // 29.90\n",
    "    Nextpresso station // 184.60"
   ]
  },
  {
   "cell_type": "code",
   "execution_count": 25,
   "metadata": {},
   "outputs": [
    {
     "data": {
      "text/plain": [
       "{'Laser sword': 229.0,\n",
       " 'Mitendo DX': 127.3,\n",
       " 'Linux cushion': 74.5,\n",
       " 'Goldorak briefs': 29.9,\n",
       " 'Nextpresso station': 184.6}"
      ]
     },
     "execution_count": 25,
     "metadata": {},
     "output_type": "execute_result"
    }
   ],
   "source": [
    "tab = {\n",
    "    'Laser sword': 229.0, 'Mitendo DX' : 127.30, 'Linux cushion' : 74.50, 'Goldorak briefs':29.90,\n",
    "      'Nextpresso station' : 184.60\n",
    "}\n",
    "tab"
   ]
  },
  {
   "cell_type": "markdown",
   "metadata": {},
   "source": [
    "### 9. Calculate the total price of the items of the dictionary"
   ]
  },
  {
   "cell_type": "code",
   "execution_count": 27,
   "metadata": {},
   "outputs": [
    {
     "name": "stdout",
     "output_type": "stream",
     "text": [
      "645.3\n"
     ]
    }
   ],
   "source": [
    "print(sum(tab.values()))"
   ]
  },
  {
   "cell_type": "markdown",
   "metadata": {},
   "source": [
    "### 10. Remove one of the articles from the dictionary"
   ]
  },
  {
   "cell_type": "code",
   "execution_count": 28,
   "metadata": {},
   "outputs": [
    {
     "data": {
      "text/plain": [
       "{'Laser sword': 229.0,\n",
       " 'Linux cushion': 74.5,\n",
       " 'Goldorak briefs': 29.9,\n",
       " 'Nextpresso station': 184.6}"
      ]
     },
     "execution_count": 28,
     "metadata": {},
     "output_type": "execute_result"
    }
   ],
   "source": [
    "del tab['Mitendo DX']\n",
    "tab"
   ]
  },
  {
   "cell_type": "code",
   "execution_count": 29,
   "metadata": {},
   "outputs": [
    {
     "data": {
      "text/plain": [
       "{'Laser sword': 229.0, 'Linux cushion': 74.5, 'Nextpresso station': 184.6}"
      ]
     },
     "execution_count": 29,
     "metadata": {},
     "output_type": "execute_result"
    }
   ],
   "source": [
    "tab.pop('Goldorak briefs')\n",
    "tab"
   ]
  }
 ],
 "metadata": {
  "kernelspec": {
   "display_name": "pybase",
   "language": "python",
   "name": "pybase"
  },
  "language_info": {
   "codemirror_mode": {
    "name": "ipython",
    "version": 3
   },
   "file_extension": ".py",
   "mimetype": "text/x-python",
   "name": "python",
   "nbconvert_exporter": "python",
   "pygments_lexer": "ipython3",
   "version": "3.8.5"
  }
 },
 "nbformat": 4,
 "nbformat_minor": 2
}
